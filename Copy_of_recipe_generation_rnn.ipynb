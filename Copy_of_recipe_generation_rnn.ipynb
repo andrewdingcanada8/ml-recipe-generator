{
  "cells": [
    {
      "cell_type": "markdown",
      "metadata": {
        "id": "RXmkmYf6zn_u"
      },
      "source": [
        "# Recipe Generation using Recurrent Neural Network (RNN)"
      ]
    },
    {
      "cell_type": "markdown",
      "metadata": {
        "id": "djpA7GmdBwIW"
      },
      "source": [
        "> - 🤖 See [full list of Machine Learning Experiments](https://github.com/trekhleb/machine-learning-experiments) on **GitHub**<br/><br/>\n",
        "> - ▶️ **Interactive Demo**: [try this model and other machine learning experiments in action](https://trekhleb.github.io/machine-learning-experiments/)"
      ]
    },
    {
      "cell_type": "markdown",
      "metadata": {
        "id": "dwEfGi3mB2vM"
      },
      "source": [
        "## Experiment overview\n",
        "\n",
        "In this experiment we will use character-based [Recurrent Neural Network](https://en.wikipedia.org/wiki/Recurrent_neural_network) (RNN) to generate cooking recipes. We will try to teach our RNN to generate recipe _name_, _ingredients_ and _cooking instructions_ for us.\n",
        "\n",
        "I don't expect the RNN to do a strong connection between list of ingredients and cooking instructions but I do expect RNN to learn English grammar and punctuation in couple of hours and to generate some meaningful recipe names along with real food ingredients and cooking instructions.\n",
        "\n",
        "For this experiment we will use [Tensorflow v2](https://www.tensorflow.org/) with its [Keras API](https://www.tensorflow.org/guide/keras).\n",
        "\n",
        "⚠️ _The recipes in this notebook are generated just for fun and for learning purposes. The recipes are **not** for actual cooking!_\n",
        "\n",
        "![recipe_generation_rnn.jpg](https://github.com/trekhleb/machine-learning-experiments/blob/master/demos/src/images/recipe_generation_rnn.jpg?raw=1)"
      ]
    },
    {
      "cell_type": "markdown",
      "metadata": {
        "id": "pmmItplHNkwB"
      },
      "source": [
        "Photo source: 🥦[home_full_of_recipes](https://www.instagram.com/home_full_of_recipes/)"
      ]
    },
    {
      "cell_type": "markdown",
      "metadata": {
        "id": "94dQZx62zn_v"
      },
      "source": [
        "## Importing dependencies"
      ]
    },
    {
      "cell_type": "code",
      "execution_count": 1,
      "metadata": {
        "colab": {
          "base_uri": "https://localhost:8080/"
        },
        "id": "aSXRhOp1zn_v",
        "outputId": "ae40f519-ba30-4948-dde2-ee11c385a985"
      },
      "outputs": [
        {
          "name": "stdout",
          "output_type": "stream",
          "text": [
            "Python version: 3.7.4\n",
            "Tensorflow version: 2.3.0\n",
            "Keras version: 2.4.0\n"
          ]
        }
      ],
      "source": [
        "import tensorflow as tf\n",
        "import matplotlib.pyplot as plt\n",
        "import numpy as np\n",
        "import platform\n",
        "import time\n",
        "import pathlib\n",
        "import os\n",
        "import json\n",
        "import zipfile\n",
        "\n",
        "# from google.colab import files\n",
        "\n",
        "print('Python version:', platform.python_version())\n",
        "print('Tensorflow version:', tf.__version__)\n",
        "print('Keras version:', tf.keras.__version__)"
      ]
    },
    {
      "cell_type": "markdown",
      "metadata": {
        "id": "xRuJU_duzn_1"
      },
      "source": [
        "## Exploring datasets\n",
        "\n",
        "Let's go through several available dataset and explore their pros and cons. One of the requirement I want the dataset to meet is that it should have not only a list of ingredients but also a cooking instructions. I also want it to have a measures and quantities of each ingredient.\n",
        "\n",
        "- 🤷 [Recipe Ingredients Dataset](https://www.kaggle.com/kaggle/recipe-ingredients-dataset/home) _(doesn't have ingredients proportions)_\n",
        "- 🤷 [Recipe1M+](http://pic2recipe.csail.mit.edu/) _(requires registration to download)_\n",
        "- 🤷 [Epicurious - Recipes with Rating and Nutrition](https://www.kaggle.com/hugodarwood/epirecipes?select=full_format_recipes.json) _(~20k recipes only, it would be nice to find more)_\n",
        "- 👍🏻 [**Recipe box**](https://eightportions.com/datasets/Recipes/) _(~125,000 recipes with ingredients proportions, good)_"
      ]
    },
    {
      "cell_type": "markdown",
      "metadata": {
        "id": "AeWNECYszn_1"
      },
      "source": [
        "## Loading the dataset"
      ]
    },
    {
      "cell_type": "markdown",
      "metadata": {
        "id": "lbRAAso-NkwL"
      },
      "source": [
        "Let's load the dataset using [tf.keras.utils.get_file](https://www.tensorflow.org/api_docs/python/tf/keras/utils/get_file). Using `get_file()` utility is convenient because it handles caching for you out of the box. It means that you will download the dataset files only once and then even if you launch the same code block once again it will use cache and the download code will be executed faster."
      ]
    },
    {
      "cell_type": "code",
      "execution_count": 2,
      "metadata": {
        "id": "7ahpGfPXKcoh"
      },
      "outputs": [],
      "source": [
        "DEBUG = False\n",
        "DEBUG_EXAMPLES = 10"
      ]
    },
    {
      "cell_type": "code",
      "execution_count": 3,
      "metadata": {
        "id": "csOAhA7gzn_2"
      },
      "outputs": [],
      "source": [
        "# Create cache folder.\n",
        "cache_dir = './tmp'\n",
        "pathlib.Path(cache_dir).mkdir(exist_ok=True)"
      ]
    },
    {
      "cell_type": "code",
      "execution_count": 4,
      "metadata": {
        "colab": {
          "base_uri": "https://localhost:8080/"
        },
        "id": "IcF4OJL6zn_4",
        "outputId": "21786492-3cea-45cb-817b-37440bf51d41"
      },
      "outputs": [
        {
          "name": "stdout",
          "output_type": "stream",
          "text": [
            "./tmp/datasets/recipes_raw.zip\n"
          ]
        }
      ],
      "source": [
        "# Download and unpack the dataset.\n",
        "dataset_file_name = 'recipes_raw.zip'\n",
        "dataset_file_origin = 'https://storage.googleapis.com/recipe-box/recipes_raw.zip'\n",
        "\n",
        "dataset_file_path = tf.keras.utils.get_file(\n",
        "    fname=dataset_file_name,\n",
        "    origin=dataset_file_origin,\n",
        "    cache_dir=cache_dir,\n",
        "    extract=True,\n",
        "    archive_format='zip'\n",
        ")\n",
        "\n",
        "print(dataset_file_path)"
      ]
    },
    {
      "cell_type": "markdown",
      "metadata": {
        "id": "W2B-X5kgNkwP"
      },
      "source": [
        "As you may see, the dataset consists of 3 files. We need to merge information from those 3 files into one dataset later."
      ]
    },
    {
      "cell_type": "code",
      "execution_count": 5,
      "metadata": {
        "colab": {
          "base_uri": "https://localhost:8080/"
        },
        "id": "cwNvb-BAzn_7",
        "outputId": "138c464d-c234-4aba-f73e-62eaf29f869f"
      },
      "outputs": [
        {
          "name": "stdout",
          "output_type": "stream",
          "text": [
            "total 520384\n",
            "drwxr-xr-x  7 Andrew  staff       224 Dec  6 16:04 \u001b[34m.\u001b[m\u001b[m\n",
            "drwxr-xr-x  4 Andrew  staff       128 Dec  6 16:06 \u001b[34m..\u001b[m\u001b[m\n",
            "-rw-r--r--  1 Andrew  staff     20437 Dec  7 12:20 LICENSE\n",
            "-rw-r--r--  1 Andrew  staff  53355492 Dec  6 16:04 recipes_raw.zip\n",
            "-rw-r--r--  1 Andrew  staff  49784325 Dec  7 12:20 recipes_raw_nosource_ar.json\n",
            "-rw-r--r--  1 Andrew  staff  61133971 Dec  7 12:20 recipes_raw_nosource_epi.json\n",
            "-rw-r--r--  1 Andrew  staff  93702755 Dec  7 12:20 recipes_raw_nosource_fn.json\n"
          ]
        }
      ],
      "source": [
        "!ls -la ./tmp/datasets/"
      ]
    },
    {
      "cell_type": "code",
      "execution_count": 6,
      "metadata": {
        "id": "TvD1n4vzzn_-"
      },
      "outputs": [],
      "source": [
        "def load_dataset(silent=False):\n",
        "    dataset_file_names = [\n",
        "        'recipes_raw_nosource_ar.json',\n",
        "        'recipes_raw_nosource_epi.json',\n",
        "        'recipes_raw_nosource_fn.json',\n",
        "    ]\n",
        "    \n",
        "    dataset = []\n",
        "\n",
        "    for dataset_file_name in dataset_file_names:\n",
        "        dataset_file_path = f'{cache_dir}/datasets/{dataset_file_name}'\n",
        "\n",
        "        with open(dataset_file_path) as dataset_file:\n",
        "            json_data_dict = json.load(dataset_file)\n",
        "            json_data_list = list(json_data_dict.values())\n",
        "            dict_keys = [key for key in json_data_list[0]]\n",
        "            dict_keys.sort()\n",
        "            dataset += json_data_list\n",
        "\n",
        "            if silent == False:\n",
        "                print(dataset_file_path)\n",
        "                print('===========================================')\n",
        "                print('Number of examples: ', len(json_data_list), '\\n')\n",
        "                print('Example object keys:\\n', dict_keys, '\\n')\n",
        "                print('Example object:\\n', json_data_list[0], '\\n')\n",
        "                print('Required keys:\\n')\n",
        "                print('  title: ', json_data_list[0]['title'], '\\n')\n",
        "                print('  ingredients: ', json_data_list[0]['ingredients'], '\\n')\n",
        "                print('  instructions: ', json_data_list[0]['instructions'])\n",
        "                print('\\n\\n')\n",
        "\n",
        "    return dataset  "
      ]
    },
    {
      "cell_type": "markdown",
      "metadata": {
        "id": "8sxMdDlxNkwQ"
      },
      "source": [
        "Let's download a datasets and preview examples from them."
      ]
    },
    {
      "cell_type": "code",
      "execution_count": 7,
      "metadata": {
        "colab": {
          "base_uri": "https://localhost:8080/"
        },
        "id": "sFyy_tRDzoAA",
        "outputId": "f7859dbd-9538-4119-9538-7184bfb0cafc"
      },
      "outputs": [
        {
          "name": "stdout",
          "output_type": "stream",
          "text": [
            "./tmp/datasets/recipes_raw_nosource_ar.json\n",
            "===========================================\n",
            "Number of examples:  39802 \n",
            "\n",
            "Example object keys:\n",
            " ['ingredients', 'instructions', 'picture_link', 'title'] \n",
            "\n",
            "Example object:\n",
            " {'title': 'Slow Cooker Chicken and Dumplings', 'ingredients': ['4 skinless, boneless chicken breast halves ADVERTISEMENT', '2 tablespoons butter ADVERTISEMENT', '2 (10.75 ounce) cans condensed cream of chicken soup ADVERTISEMENT', '1 onion, finely diced ADVERTISEMENT', '2 (10 ounce) packages refrigerated biscuit dough, torn into pieces ADVERTISEMENT', 'ADVERTISEMENT'], 'instructions': 'Place the chicken, butter, soup, and onion in a slow cooker, and fill with enough water to cover.\\nCover, and cook for 5 to 6 hours on High. About 30 minutes before serving, place the torn biscuit dough in the slow cooker. Cook until the dough is no longer raw in the center.\\n', 'picture_link': '55lznCYBbs2mT8BTx6BTkLhynGHzM.S'} \n",
            "\n",
            "Required keys:\n",
            "\n",
            "  title:  Slow Cooker Chicken and Dumplings \n",
            "\n",
            "  ingredients:  ['4 skinless, boneless chicken breast halves ADVERTISEMENT', '2 tablespoons butter ADVERTISEMENT', '2 (10.75 ounce) cans condensed cream of chicken soup ADVERTISEMENT', '1 onion, finely diced ADVERTISEMENT', '2 (10 ounce) packages refrigerated biscuit dough, torn into pieces ADVERTISEMENT', 'ADVERTISEMENT'] \n",
            "\n",
            "  instructions:  Place the chicken, butter, soup, and onion in a slow cooker, and fill with enough water to cover.\n",
            "Cover, and cook for 5 to 6 hours on High. About 30 minutes before serving, place the torn biscuit dough in the slow cooker. Cook until the dough is no longer raw in the center.\n",
            "\n",
            "\n",
            "\n",
            "\n",
            "./tmp/datasets/recipes_raw_nosource_epi.json\n",
            "===========================================\n",
            "Number of examples:  25323 \n",
            "\n",
            "Example object keys:\n",
            " ['ingredients', 'instructions', 'picture_link', 'title'] \n",
            "\n",
            "Example object:\n",
            " {'ingredients': ['12 egg whites', '12 egg yolks', '1 1/2 cups sugar', '3/4 cup rye whiskey', '12 egg whites', '3/4 cup brandy', '1/2 cup rum', '1 to 2 cups heavy cream, lightly whipped', 'Garnish: ground nutmeg'], 'picture_link': None, 'instructions': 'Beat the egg whites until stiff, gradually adding in 3/4 cup sugar. Set aside. Beat the egg yolks until they are thick and pale and add the other 3/4 cup sugar and stir in rye whiskey. Blend well. Fold the egg white mixture into the yolk mixture and add the brandy and the rum. Beat the mixture well. To serve, fold the lightly whipped heavy cream into the eggnog. (If a thinner mixture is desired, add the heavy cream unwhipped.) Sprinkle the top of the eggnog with the nutmeg to taste.\\nBeat the egg whites until stiff, gradually adding in 3/4 cup sugar. Set aside. Beat the egg yolks until they are thick and pale and add the other 3/4 cup sugar and stir in rye whiskey. Blend well. Fold the egg white mixture into the yolk mixture and add the brandy and the rum. Beat the mixture well. To serve, fold the lightly whipped heavy cream into the eggnog. (If a thinner mixture is desired, add the heavy cream unwhipped.) Sprinkle the top of the eggnog with the nutmeg to taste.', 'title': 'Christmas Eggnog '} \n",
            "\n",
            "Required keys:\n",
            "\n",
            "  title:  Christmas Eggnog  \n",
            "\n",
            "  ingredients:  ['12 egg whites', '12 egg yolks', '1 1/2 cups sugar', '3/4 cup rye whiskey', '12 egg whites', '3/4 cup brandy', '1/2 cup rum', '1 to 2 cups heavy cream, lightly whipped', 'Garnish: ground nutmeg'] \n",
            "\n",
            "  instructions:  Beat the egg whites until stiff, gradually adding in 3/4 cup sugar. Set aside. Beat the egg yolks until they are thick and pale and add the other 3/4 cup sugar and stir in rye whiskey. Blend well. Fold the egg white mixture into the yolk mixture and add the brandy and the rum. Beat the mixture well. To serve, fold the lightly whipped heavy cream into the eggnog. (If a thinner mixture is desired, add the heavy cream unwhipped.) Sprinkle the top of the eggnog with the nutmeg to taste.\n",
            "Beat the egg whites until stiff, gradually adding in 3/4 cup sugar. Set aside. Beat the egg yolks until they are thick and pale and add the other 3/4 cup sugar and stir in rye whiskey. Blend well. Fold the egg white mixture into the yolk mixture and add the brandy and the rum. Beat the mixture well. To serve, fold the lightly whipped heavy cream into the eggnog. (If a thinner mixture is desired, add the heavy cream unwhipped.) Sprinkle the top of the eggnog with the nutmeg to taste.\n",
            "\n",
            "\n",
            "\n",
            "./tmp/datasets/recipes_raw_nosource_fn.json\n",
            "===========================================\n",
            "Number of examples:  60039 \n",
            "\n",
            "Example object keys:\n",
            " ['ingredients', 'instructions', 'picture_link', 'title'] \n",
            "\n",
            "Example object:\n",
            " {'instructions': 'Toss ingredients lightly and spoon into a buttered baking dish. Top with additional crushed cracker crumbs, and brush with melted butter. Bake in a preheated at 350 degrees oven for 25 to 30 minutes or until delicately browned.', 'ingredients': ['1/2 cup celery, finely chopped', '1 small green pepper finely chopped', '1/2 cup finely sliced green onions', '1/4 cup chopped parsley', '1 pound crabmeat', '1 1/4 cups coarsely crushed cracker crumbs', '1/2 teaspoon salt', '3/4 teaspoons dry mustard', 'Dash hot sauce', '1/4 cup heavy cream', '1/2 cup melted butter'], 'title': \"Grammie Hamblet's Deviled Crab\", 'picture_link': None} \n",
            "\n",
            "Required keys:\n",
            "\n",
            "  title:  Grammie Hamblet's Deviled Crab \n",
            "\n",
            "  ingredients:  ['1/2 cup celery, finely chopped', '1 small green pepper finely chopped', '1/2 cup finely sliced green onions', '1/4 cup chopped parsley', '1 pound crabmeat', '1 1/4 cups coarsely crushed cracker crumbs', '1/2 teaspoon salt', '3/4 teaspoons dry mustard', 'Dash hot sauce', '1/4 cup heavy cream', '1/2 cup melted butter'] \n",
            "\n",
            "  instructions:  Toss ingredients lightly and spoon into a buttered baking dish. Top with additional crushed cracker crumbs, and brush with melted butter. Bake in a preheated at 350 degrees oven for 25 to 30 minutes or until delicately browned.\n",
            "\n",
            "\n",
            "\n"
          ]
        }
      ],
      "source": [
        "dataset_raw = load_dataset()  "
      ]
    },
    {
      "cell_type": "code",
      "execution_count": 8,
      "metadata": {
        "colab": {
          "base_uri": "https://localhost:8080/"
        },
        "id": "k33eFMSszoAD",
        "outputId": "5c838b5e-152c-46ea-a756-a2e5bff8802c"
      },
      "outputs": [
        {
          "name": "stdout",
          "output_type": "stream",
          "text": [
            "Total number of raw examples:  125164\n"
          ]
        }
      ],
      "source": [
        "print('Total number of raw examples: ', len(dataset_raw))"
      ]
    },
    {
      "cell_type": "markdown",
      "metadata": {
        "id": "bADjU5RFzoAG"
      },
      "source": [
        "## Preprocessing the dataset"
      ]
    },
    {
      "cell_type": "markdown",
      "metadata": {
        "id": "2lbyio6J4iyh"
      },
      "source": [
        "### Filtering out incomplete examples"
      ]
    },
    {
      "cell_type": "code",
      "execution_count": 9,
      "metadata": {
        "id": "fCAT0GXBzoAJ"
      },
      "outputs": [],
      "source": [
        "# Filters out recipes which don't have either title or ingredients or instructions.\n",
        "def recipe_validate_required_fields(recipe):\n",
        "    required_keys = ['title', 'ingredients', 'instructions']\n",
        "    \n",
        "    if not recipe:\n",
        "        return False\n",
        "    \n",
        "    for required_key in required_keys:\n",
        "        if not recipe[required_key]:\n",
        "            return False\n",
        "        \n",
        "        if type(recipe[required_key]) == list and len(recipe[required_key]) == 0:\n",
        "            return False\n",
        "    \n",
        "    return True"
      ]
    },
    {
      "cell_type": "code",
      "execution_count": 10,
      "metadata": {
        "colab": {
          "base_uri": "https://localhost:8080/"
        },
        "id": "DoQ7_isjzoAP",
        "outputId": "b78aa117-523b-44c1-f2f4-9411464bc201"
      },
      "outputs": [
        {
          "name": "stdout",
          "output_type": "stream",
          "text": [
            "Dataset size BEFORE validation 125164\n",
            "Dataset size AFTER validation 122938\n",
            "Number of invalide recipes 2226\n"
          ]
        }
      ],
      "source": [
        "dataset_validated = [recipe for recipe in dataset_raw if recipe_validate_required_fields(recipe)]\n",
        "\n",
        "print('Dataset size BEFORE validation', len(dataset_raw))\n",
        "print('Dataset size AFTER validation', len(dataset_validated))\n",
        "print('Number of invalide recipes', len(dataset_raw) - len(dataset_validated))"
      ]
    },
    {
      "cell_type": "markdown",
      "metadata": {
        "id": "VtIobQaKzoAG"
      },
      "source": [
        "### Converting recipes objects into strings"
      ]
    },
    {
      "cell_type": "markdown",
      "metadata": {
        "id": "cVWqy3mcNkwT"
      },
      "source": [
        "To help our RNN learn the structure of the text let's add 3 \"landmarks\" to it. We will use these unique \"title\", \"ingredients\" and \"instruction\" landmarks to separate a logic sections of each recipe."
      ]
    },
    {
      "cell_type": "code",
      "execution_count": 11,
      "metadata": {
        "id": "U9jp2srl_R_Q"
      },
      "outputs": [],
      "source": [
        "STOP_WORD_TITLE = '📗 '\n",
        "STOP_WORD_INGREDIENTS = '\\n🥕\\n\\n'\n",
        "STOP_WORD_INSTRUCTIONS = '\\n📝\\n\\n'"
      ]
    },
    {
      "cell_type": "code",
      "execution_count": 12,
      "metadata": {
        "id": "PWzarwn7zoAM"
      },
      "outputs": [],
      "source": [
        "# Converts recipe object to string (sequence of characters) for later usage in RNN input.\n",
        "def recipe_to_string(recipe):\n",
        "    # This string is presented as a part of recipes so we need to clean it up.\n",
        "    noize_string = 'ADVERTISEMENT'\n",
        "    \n",
        "    title = recipe['title']\n",
        "    ingredients = recipe['ingredients']\n",
        "    instructions = recipe['instructions'].split('\\n')\n",
        "    \n",
        "    ingredients_string = ''\n",
        "    for ingredient in ingredients:\n",
        "        ingredient = ingredient.replace(noize_string, '')\n",
        "        if ingredient:\n",
        "            ingredients_string += f'• {ingredient}\\n'\n",
        "    \n",
        "    instructions_string = ''\n",
        "    for instruction in instructions:\n",
        "        instruction = instruction.replace(noize_string, '')\n",
        "        if instruction:\n",
        "            instructions_string += f'▪︎ {instruction}\\n'\n",
        "    \n",
        "    return f'{STOP_WORD_TITLE}{title}\\n{STOP_WORD_INGREDIENTS}{ingredients_string}{STOP_WORD_INSTRUCTIONS}{instructions_string}'"
      ]
    },
    {
      "cell_type": "code",
      "execution_count": 13,
      "metadata": {
        "colab": {
          "base_uri": "https://localhost:8080/"
        },
        "id": "WQvmIJxtzoAT",
        "outputId": "bf8878a9-1e48-4999-f703-0342fd7addd9"
      },
      "outputs": [
        {
          "name": "stdout",
          "output_type": "stream",
          "text": [
            "Stringified dataset size:  122938\n"
          ]
        }
      ],
      "source": [
        "dataset_stringified = [recipe_to_string(recipe) for recipe in dataset_validated]\n",
        "\n",
        "print('Stringified dataset size: ', len(dataset_stringified))"
      ]
    },
    {
      "cell_type": "code",
      "execution_count": 14,
      "metadata": {
        "colab": {
          "base_uri": "https://localhost:8080/"
        },
        "id": "7u9Ggok4zoAW",
        "outputId": "1ac3a0bc-2949-4f53-8efb-5b365ae8cc25"
      },
      "outputs": [
        {
          "name": "stdout",
          "output_type": "stream",
          "text": [
            "Recipe #1\n",
            "---------\n",
            "📗 Slow Cooker Chicken and Dumplings\n",
            "\n",
            "🥕\n",
            "\n",
            "• 4 skinless, boneless chicken breast halves \n",
            "• 2 tablespoons butter \n",
            "• 2 (10.75 ounce) cans condensed cream of chicken soup \n",
            "• 1 onion, finely diced \n",
            "• 2 (10 ounce) packages refrigerated biscuit dough, torn into pieces \n",
            "\n",
            "📝\n",
            "\n",
            "▪︎ Place the chicken, butter, soup, and onion in a slow cooker, and fill with enough water to cover.\n",
            "▪︎ Cover, and cook for 5 to 6 hours on High. About 30 minutes before serving, place the torn biscuit dough in the slow cooker. Cook until the dough is no longer raw in the center.\n",
            "\n",
            "\n",
            "\n",
            "Recipe #2\n",
            "---------\n",
            "📗 Awesome Slow Cooker Pot Roast\n",
            "\n",
            "🥕\n",
            "\n",
            "• 2 (10.75 ounce) cans condensed cream of mushroom soup \n",
            "• 1 (1 ounce) package dry onion soup mix \n",
            "• 1 1/4 cups water \n",
            "• 5 1/2 pounds pot roast \n",
            "\n",
            "📝\n",
            "\n",
            "▪︎ In a slow cooker, mix cream of mushroom soup, dry onion soup mix and water. Place pot roast in slow cooker and coat with soup mixture.\n",
            "▪︎ Cook on High setting for 3 to 4 hours, or on Low setting for 8 to 9 hours.\n",
            "\n",
            "\n",
            "\n",
            "Recipe #3\n",
            "---------\n",
            "📗 Brown Sugar Meatloaf\n",
            "\n",
            "🥕\n",
            "\n",
            "• 1/2 cup packed brown sugar \n",
            "• 1/2 cup ketchup \n",
            "• 1 1/2 pounds lean ground beef \n",
            "• 3/4 cup milk \n",
            "• 2 eggs \n",
            "• 1 1/2 teaspoons salt \n",
            "• 1/4 teaspoon ground black pepper \n",
            "• 1 small onion, chopped \n",
            "• 1/4 teaspoon ground ginger \n",
            "• 3/4 cup finely crushed saltine cracker crumbs \n",
            "\n",
            "📝\n",
            "\n",
            "▪︎ Preheat oven to 350 degrees F (175 degrees C). Lightly grease a 5x9 inch loaf pan.\n",
            "▪︎ Press the brown sugar in the bottom of the prepared loaf pan and spread the ketchup over the sugar.\n",
            "▪︎ In a mixing bowl, mix thoroughly all remaining ingredients and shape into a loaf. Place on top of the ketchup.\n",
            "▪︎ Bake in preheated oven for 1 hour or until juices are clear.\n",
            "\n",
            "\n",
            "\n",
            "Recipe #4\n",
            "---------\n",
            "📗 Best Chocolate Chip Cookies\n",
            "\n",
            "🥕\n",
            "\n",
            "• 1 cup butter, softened \n",
            "• 1 cup white sugar \n",
            "• 1 cup packed brown sugar \n",
            "• 2 eggs \n",
            "• 2 teaspoons vanilla extract \n",
            "• 3 cups all-purpose flour \n",
            "• 1 teaspoon baking soda \n",
            "• 2 teaspoons hot water \n",
            "• 1/2 teaspoon salt \n",
            "• 2 cups semisweet chocolate chips \n",
            "• 1 cup chopped walnuts \n",
            "\n",
            "📝\n",
            "\n",
            "▪︎ Preheat oven to 350 degrees F (175 degrees C).\n",
            "▪︎ Cream together the butter, white sugar, and brown sugar until smooth. Beat in the eggs one at a time, then stir in the vanilla. Dissolve baking soda in hot water. Add to batter along with salt. Stir in flour, chocolate chips, and nuts. Drop by large spoonfuls onto ungreased pans.\n",
            "▪︎ Bake for about 10 minutes in the preheated oven, or until edges are nicely browned.\n",
            "\n",
            "\n",
            "\n",
            "Recipe #5\n",
            "---------\n",
            "📗 Homemade Mac and Cheese Casserole\n",
            "\n",
            "🥕\n",
            "\n",
            "• 8 ounces whole wheat rotini pasta \n",
            "• 3 cups fresh broccoli florets \n",
            "• 1 medium onion, chopped \n",
            "• 3 cloves garlic, minced \n",
            "• 4 tablespoons butter, divided \n",
            "• 2 tablespoons all-purpose flour \n",
            "• 1/4 teaspoon salt \n",
            "• 1/8 teaspoon ground black pepper \n",
            "• 2 1/2 cups milk \n",
            "• 8 ounces Cheddar cheese, shredded \n",
            "• 4 ounces reduced-fat cream cheese, cubed and softened \n",
            "• 1/2 cup fine dry Italian-seasoned bread crumbs \n",
            "• Reynolds Wrap® Non Stick Aluminum Foil \n",
            "\n",
            "📝\n",
            "\n",
            "▪︎ Preheat oven to 350 degrees F. Line a 2-quart casserole dish with Reynolds Wrap(R) Pan Lining Paper, parchment side up. No need to grease dish.\n",
            "▪︎ Cook the pasta in a large saucepan according to the package directions, adding the broccoli for the last 3 minutes of cooking. Drain. Return to the saucepan and set aside.\n",
            "▪︎ Cook the onion and garlic in 2 tablespoons hot butter in a large skillet 5 to 7 minutes or until tender. Stir in flour, salt, and black pepper. Add the milk all at once. Cook and stir over medium heat until slightly thickened and bubbly. Add cheddar cheese and cream cheese, stirring until melted. Pour cheese sauce over the pasta and broccoli and stir until well combined.\n",
            "▪︎ Melt the remaining 2 tablespoons butter and mix with the bread crumbs in a small bowl. Transfer the pasta mixture to the prepared casserole dish. Top with the buttery bread crumbs.\n",
            "▪︎ Bake, uncovered, about 25 minutes or until bubbly and internal temperature is 165 degrees F. Let stand for 10 minutes before serving.\n",
            "\n",
            "\n",
            "\n",
            "Recipe #6\n",
            "---------\n",
            "📗 Banana Banana Bread\n",
            "\n",
            "🥕\n",
            "\n",
            "• 2 cups all-purpose flour \n",
            "• 1 teaspoon baking soda \n",
            "• 1/4 teaspoon salt \n",
            "• 1/2 cup butter \n",
            "• 3/4 cup brown sugar \n",
            "• 2 eggs, beaten \n",
            "• 2 1/3 cups mashed overripe bananas \n",
            "\n",
            "📝\n",
            "\n",
            "▪︎ Preheat oven to 350 degrees F (175 degrees C). Lightly grease a 9x5 inch loaf pan.\n",
            "▪︎ In a large bowl, combine flour, baking soda and salt. In a separate bowl, cream together butter and brown sugar. Stir in eggs and mashed bananas until well blended. Stir banana mixture into flour mixture; stir just to moisten. Pour batter into prepared loaf pan.\n",
            "▪︎ Bake in preheated oven for 60 to 65 minutes, until a toothpick inserted into center of the loaf comes out clean. Let bread cool in pan for 10 minutes, then turn out onto a wire rack.\n",
            "\n",
            "\n",
            "\n",
            "Recipe #7\n",
            "---------\n",
            "📗 Chef John's Fisherman's Pie\n",
            "\n",
            "🥕\n",
            "\n",
            "• For potato crust: \n",
            "• 3 russet potatoes, peeled and cut into chunks \n",
            "• 3 tablespoons butter \n",
            "• 1 pinch freshly grated nutmeg \n",
            "• salt and ground black pepper to taste \n",
            "• 1 pinch cayenne pepper, or to taste \n",
            "• 1/2 cup milk \n",
            "• For the spinach: \n",
            "• 2 teaspoons olive oil \n",
            "• 12 ounces baby spinach leaves \n",
            "• For the sauce: \n",
            "• 3 tablespoons butter \n",
            "• 3 tablespoons all-purpose flour \n",
            "• 2 cloves garlic, minced \n",
            "• 2 cups cold milk, divided \n",
            "• 2 teaspoons lemon zest \n",
            "• For the rest: \n",
            "• 1 tablespoon butter \n",
            "• salt and ground black pepper to taste \n",
            "• 1 pinch cayenne pepper, or to taste \n",
            "• 2 pounds boneless cod fillets \n",
            "• 1/2 lemon, juiced \n",
            "• 1 tablespoon chopped fresh chives for garnish \n",
            "\n",
            "📝\n",
            "\n",
            "▪︎ Bring a large saucepan of salted water and to a boil; add russet potatoes to boiling water and cook until very tender, about 20 minutes. Drain well. Mash in 3 tablespoons butter until thoroughly combined. Season with nutmeg, salt, black pepper, and cayenne pepper to taste. Mash 1/2 cup milk into potato mixture until smooth.\n",
            "▪︎ Drizzle olive oil in a large Dutch oven over medium-high heat, add spinach, and season with a big pinch of salt. Cook, stirring occasionally, until spinach has wilted, about 1 minute. Transfer to a bowl lined with paper towels to wick away excess moisture.\n",
            "▪︎ Heat 3 tablespoons butter and flour in a saucepan over medium heat; whisk mixture to a smooth paste. Cook, stirring constantly, until mixture has a nutty smell and is slightly browned, about 2 minutes. Add chopped garlic; whisk until fragrant, 10 to 20 seconds.\n",
            "▪︎ Whisk 1 cup cold milk into flour mixture; cook until thickened. Whisk in remaining 1 cup milk and lemon zest. Bring white sauce to a gentle simmer, whisking constantly; season with salt. Turn heat to very low and keep sauce warm.\n",
            "▪︎ Preheat oven to 375 degrees F (190 degrees C). Grease an 8x12-inch casserole dish with 1 tablespoon butter.\n",
            "▪︎ Season buttered pan with salt, black pepper, and cayenne pepper. Lay boneless cod fillets into the pan in a single layer. Season tops of fillets with more salt, black pepper, and cayenne pepper. Spread spinach evenly over fish and drizzle with lemon juice. Spoon white sauce over spinach; give casserole dish several taps and shakes to eliminate bubbles.\n",
            "▪︎ Drop mashed potatoes by heaping spoonfuls over the casserole and spread smoothly to cover. Place dish onto a rimmed baking sheet to catch spills.\n",
            "▪︎ Bake in the preheated oven until bubbling, about 40 minutes. Turn on oven's broiler and broil until potato crust has a golden brown top, about 2 minutes. Fish should flake easily. Let stand 10 minutes before serving. Garnish with a sprinkle of chives.\n",
            "\n",
            "\n",
            "\n",
            "Recipe #8\n",
            "---------\n",
            "📗 Mom's Zucchini Bread\n",
            "\n",
            "🥕\n",
            "\n",
            "• 3 cups all-purpose flour \n",
            "• 1 teaspoon salt \n",
            "• 1 teaspoon baking soda \n",
            "• 1 teaspoon baking powder \n",
            "• 1 tablespoon ground cinnamon \n",
            "• 3 eggs \n",
            "• 1 cup vegetable oil \n",
            "• 2 1/4 cups white sugar \n",
            "• 3 teaspoons vanilla extract \n",
            "• 2 cups grated zucchini \n",
            "• 1 cup chopped walnuts \n",
            "\n",
            "📝\n",
            "\n",
            "▪︎ Grease and flour two 8 x 4 inch pans. Preheat oven to 325 degrees F (165 degrees C).\n",
            "▪︎ Sift flour, salt, baking powder, soda, and cinnamon together in a bowl.\n",
            "▪︎ Beat eggs, oil, vanilla, and sugar together in a large bowl. Add sifted ingredients to the creamed mixture, and beat well. Stir in zucchini and nuts until well combined. Pour batter into prepared pans.\n",
            "▪︎ Bake for 40 to 60 minutes, or until tester inserted in the center comes out clean. Cool in pan on rack for 20 minutes. Remove bread from pan, and completely cool.\n",
            "\n",
            "\n",
            "\n",
            "Recipe #9\n",
            "---------\n",
            "📗 The Best Rolled Sugar Cookies\n",
            "\n",
            "🥕\n",
            "\n",
            "• 1 1/2 cups butter, softened \n",
            "• 2 cups white sugar \n",
            "• 4 eggs \n",
            "• 1 teaspoon vanilla extract \n",
            "• 5 cups all-purpose flour \n",
            "• 2 teaspoons baking powder \n",
            "• 1 teaspoon salt \n",
            "\n",
            "📝\n",
            "\n",
            "▪︎ In a large bowl, cream together butter and sugar until smooth. Beat in eggs and vanilla. Stir in the flour, baking powder, and salt. Cover, and chill dough for at least one hour (or overnight).\n",
            "▪︎ Preheat oven to 400 degrees F (200 degrees C). Roll out dough on floured surface 1/4 to 1/2 inch thick. Cut into shapes with any cookie cutter. Place cookies 1 inch apart on ungreased cookie sheets.\n",
            "▪︎ Bake 6 to 8 minutes in preheated oven. Cool completely.\n",
            "\n",
            "\n",
            "\n",
            "Recipe #10\n",
            "---------\n",
            "📗 Singapore Chili Crabs\n",
            "\n",
            "🥕\n",
            "\n",
            "• Sauce: \n",
            "• 1/2 cup ketchup \n",
            "• 1/2 cup chicken broth \n",
            "• 1 large egg \n",
            "• 2 tablespoons soy sauce \n",
            "• 2 tablespoons chile-garlic sauce (such as sambal oelek) \n",
            "• 1 tablespoon oyster sauce \n",
            "• 1 tablespoon tamarind paste \n",
            "• 2 teaspoons fish sauce \n",
            "• 2 teaspoons palm sugar \n",
            "• 1/4 cup minced shallot \n",
            "• 6 cloves garlic, minced \n",
            "• 2 tablespoons vegetable oil, or more as needed \n",
            "• 2 tablespoons minced fresh ginger root \n",
            "• 1 tablespoon minced serrano pepper \n",
            "• 2 cooked Dungeness crabs, cleaned and cracked \n",
            "• 2 tablespoons chopped fresh cilantro \n",
            "• 2 tablespoons sliced green onion (green part only) \n",
            "\n",
            "📝\n",
            "\n",
            "▪︎ Whisk ketchup, chicken broth, egg, soy sauce, chile-garlic sauce, oyster sauce, tamarind paste, fish sauce, and palm sugar together in a bowl.\n",
            "▪︎ Stir shallots, garlic, oil, ginger, and serrano pepper together in a pot over medium-high heat. Saute until sizzling, about 2 minutes. Add crab to pot, cover the pot with a lid, and shake until crab is completely coated in shallot mixture. Remove lid and cook and stir until heated through, about 3 minutes.\n",
            "▪︎ Pour ketchup mixture into pot, reduce heat to medium, and cook and stir until sauce thickens and crab is hot about 5 minutes. Remove from heat; stir in cilantro and green onions.\n",
            "\n",
            "\n",
            "\n"
          ]
        }
      ],
      "source": [
        "for recipe_index, recipe_string in enumerate(dataset_stringified[:10]):\n",
        "    print('Recipe #{}\\n---------'.format(recipe_index + 1))\n",
        "    print(recipe_string)\n",
        "    print('\\n')"
      ]
    },
    {
      "cell_type": "code",
      "execution_count": 15,
      "metadata": {
        "colab": {
          "base_uri": "https://localhost:8080/"
        },
        "id": "mUr4F-HU8PLx",
        "outputId": "1171699f-1518-449a-d9f1-f62c7a796905"
      },
      "outputs": [
        {
          "name": "stdout",
          "output_type": "stream",
          "text": [
            "📗 Herbed Bean Ragoût \n",
            "\n",
            "🥕\n",
            "\n",
            "• 6 ounces haricots verts (French thin green beans), trimmed and halved crosswise\n",
            "• 1 (1-pound) bag frozen edamame (soybeans in the pod) or 1 1/4 cups frozen shelled edamame, not thawed\n",
            "• 2/3 cup finely chopped onion\n",
            "• 2 garlic cloves, minced\n",
            "• 1 Turkish bay leaf or 1/2 California bay leaf\n",
            "• 2 (3-inch) fresh rosemary sprigs\n",
            "• 1/2 teaspoon salt\n",
            "• 1/4 teaspoon black pepper\n",
            "• 1 tablespoon olive oil\n",
            "• 1 medium carrot, cut into 1/8-inch dice\n",
            "• 1 medium celery rib, cut into 1/8-inch dice\n",
            "• 1 (15- to 16-ounces) can small white beans, rinsed and drained\n",
            "• 1 1/2 cups chicken stock or low-sodium broth\n",
            "• 2 tablespoons unsalted butter\n",
            "• 2 tablespoons finely chopped fresh flat-leaf parsley\n",
            "• 1 tablespoon finely chopped fresh chervil (optional)\n",
            "• Garnish: fresh chervil sprigs\n",
            "\n",
            "📝\n",
            "\n",
            "▪︎ Cook haricots verts in a large pot of boiling salted water until just tender, 3 to 4 minutes. Transfer with a slotted spoon to a bowl of ice and cold water, then drain. Add edamame to boiling water and cook 4 minutes. Drain in a colander, then rinse under cold water. If using edamame in pods, shell them and discard pods. Cook onion, garlic, bay leaf, rosemary, salt, and pepper in oil in a 2- to 4-quart heavy saucepan over moderately low heat, stirring, until softened, about 3 minutes. Add carrot and celery and cook, stirring, until softened, about 3 minutes. Add white beans and stock and simmer, covered, stirring occasionally, 10 minutes. Add haricots verts and edamame and simmer, uncovered, until heated through, 2 to 3 minutes. Add butter, parsley, and chervil (if using) and stir gently until butter is melted. Discard bay leaf and rosemary sprigs.\n",
            "▪︎ Cook haricots verts in a large pot of boiling salted water until just tender, 3 to 4 minutes. Transfer with a slotted spoon to a bowl of ice and cold water, then drain.\n",
            "▪︎ Add edamame to boiling water and cook 4 minutes. Drain in a colander, then rinse under cold water. If using edamame in pods, shell them and discard pods.\n",
            "▪︎ Cook onion, garlic, bay leaf, rosemary, salt, and pepper in oil in a 2- to 4-quart heavy saucepan over moderately low heat, stirring, until softened, about 3 minutes. Add carrot and celery and cook, stirring, until softened, about 3 minutes.\n",
            "▪︎ Add white beans and stock and simmer, covered, stirring occasionally, 10 minutes. Add haricots verts and edamame and simmer, uncovered, until heated through, 2 to 3 minutes. Add butter, parsley, and chervil (if using) and stir gently until butter is melted. Discard bay leaf and rosemary sprigs.\n",
            "\n"
          ]
        }
      ],
      "source": [
        "print(dataset_stringified[50000])"
      ]
    },
    {
      "cell_type": "markdown",
      "metadata": {
        "id": "5n7eyJwx444E"
      },
      "source": [
        "### Filtering out large receipts"
      ]
    },
    {
      "cell_type": "markdown",
      "metadata": {
        "id": "XY0DCPVkNkwV"
      },
      "source": [
        "Recipes have different lengths. We need to have one hard-coded sequence length limit before feeding recipes sequences to RNN. We need to find out what recipe length will cover most of recipe use-cases and at the same time we want to keep it as small as possible for training performance."
      ]
    },
    {
      "cell_type": "code",
      "execution_count": 16,
      "metadata": {
        "id": "7V7tjWoi3IT6"
      },
      "outputs": [],
      "source": [
        "recipes_lengths = []\n",
        "for recipe_text in dataset_stringified:\n",
        "    recipes_lengths.append(len(recipe_text))"
      ]
    },
    {
      "cell_type": "code",
      "execution_count": 17,
      "metadata": {
        "colab": {
          "base_uri": "https://localhost:8080/",
          "height": 265
        },
        "id": "rx-dWuzP3XTJ",
        "outputId": "880e186b-1452-4c24-9d16-5cb82f326f17"
      },
      "outputs": [
        {
          "data": {
            "image/png": "[encoded data removed]",
            "text/plain": [
              "<Figure size 432x288 with 1 Axes>"
            ]
          },
          "metadata": {
            "needs_background": "light"
          },
          "output_type": "display_data"
        }
      ],
      "source": [
        "plt.hist(recipes_lengths, bins=50)\n",
        "plt.show()"
      ]
    },
    {
      "cell_type": "code",
      "execution_count": 18,
      "metadata": {
        "colab": {
          "base_uri": "https://localhost:8080/",
          "height": 268
        },
        "id": "G390Tk9P3b_g",
        "outputId": "4a5fb712-53d3-46ec-88aa-f8a2c50d8929"
      },
      "outputs": [
        {
          "data": {
            "image/png": "[encoded data removed]",
            "text/plain": [
              "<Figure size 432x288 with 1 Axes>"
            ]
          },
          "metadata": {
            "needs_background": "light"
          },
          "output_type": "display_data"
        }
      ],
      "source": [
        "plt.hist(recipes_lengths, range=(0, 8000), bins=50)\n",
        "plt.show()"
      ]
    },
    {
      "cell_type": "code",
      "execution_count": 19,
      "metadata": {
        "id": "AEawkkFU3wt9"
      },
      "outputs": [],
      "source": [
        "# Looks like a limit of 2000 characters for the recipes will cover 80+% cases.\n",
        "# We may try to train RNN with this maximum recipe length limit.\n",
        "MAX_RECIPE_LENGTH = 2000\n",
        "\n",
        "if DEBUG:\n",
        "    MAX_RECIPE_LENGTH = 500"
      ]
    },
    {
      "cell_type": "code",
      "execution_count": 20,
      "metadata": {
        "id": "w5Zc0daK5Ljf"
      },
      "outputs": [],
      "source": [
        "def filter_recipes_by_length(recipe_test):\n",
        "    return len(recipe_test) <= MAX_RECIPE_LENGTH "
      ]
    },
    {
      "cell_type": "code",
      "execution_count": 21,
      "metadata": {
        "colab": {
          "base_uri": "https://localhost:8080/"
        },
        "id": "rATzmrAs5U6J",
        "outputId": "3d87ac15-b12e-4ca5-986b-c404d3e1a538"
      },
      "outputs": [
        {
          "name": "stdout",
          "output_type": "stream",
          "text": [
            "Dataset size BEFORE filtering:  122938\n",
            "Dataset size AFTER filtering:  100212\n",
            "Number of etiminated recipes:  22726\n"
          ]
        }
      ],
      "source": [
        "dataset_filtered = [recipe_text for recipe_text in dataset_stringified if filter_recipes_by_length(recipe_text)]\n",
        "\n",
        "print('Dataset size BEFORE filtering: ', len(dataset_stringified))\n",
        "print('Dataset size AFTER filtering: ', len(dataset_filtered))\n",
        "print('Number of etiminated recipes: ', len(dataset_stringified) - len(dataset_filtered))"
      ]
    },
    {
      "cell_type": "code",
      "execution_count": 22,
      "metadata": {
        "id": "9nllzMwYLYu9"
      },
      "outputs": [],
      "source": [
        "if DEBUG:\n",
        "    dataset_filtered = dataset_filtered[:DEBUG_EXAMPLES]\n",
        "    print('dataset_filtered.shape, ', len(dataset_filtered))"
      ]
    },
    {
      "cell_type": "markdown",
      "metadata": {
        "id": "Kg1i-epD5Civ"
      },
      "source": [
        "### Summarizing dataset parameters"
      ]
    },
    {
      "cell_type": "code",
      "execution_count": 23,
      "metadata": {
        "colab": {
          "base_uri": "https://localhost:8080/"
        },
        "id": "Isb8xx8hzoAR",
        "outputId": "00807111-ad38-4c4b-a474-023900466114"
      },
      "outputs": [
        {
          "name": "stdout",
          "output_type": "stream",
          "text": [
            "MAX_RECIPE_LENGTH:  2000\n",
            "TOTAL_RECIPES_NUM:  100212\n"
          ]
        }
      ],
      "source": [
        "TOTAL_RECIPES_NUM = len(dataset_filtered)\n",
        "\n",
        "print('MAX_RECIPE_LENGTH: ', MAX_RECIPE_LENGTH)\n",
        "print('TOTAL_RECIPES_NUM: ', TOTAL_RECIPES_NUM)"
      ]
    },
    {
      "cell_type": "markdown",
      "metadata": {
        "id": "KBDPcd9rzoAZ"
      },
      "source": [
        "## Creating vocabulary"
      ]
    },
    {
      "cell_type": "markdown",
      "metadata": {
        "id": "-KFgdysMNkwY"
      },
      "source": [
        "To create a vocabulary out of recipes texts we will use [tf.keras.preprocessing.text.Tokenizer](https://www.tensorflow.org/api_docs/python/tf/keras/preprocessing/text/Tokenizer)"
      ]
    },
    {
      "cell_type": "code",
      "execution_count": 24,
      "metadata": {
        "id": "yKM3S1zi4U--"
      },
      "outputs": [],
      "source": [
        "# Indicator of the end of the recipe.\n",
        "STOP_SIGN = '␣'"
      ]
    },
    {
      "cell_type": "code",
      "execution_count": 25,
      "metadata": {
        "id": "PKLG9DzRzoAZ"
      },
      "outputs": [],
      "source": [
        "tokenizer = tf.keras.preprocessing.text.Tokenizer(\n",
        "    char_level=True,\n",
        "    filters='',\n",
        "    lower=False,\n",
        "    split=''\n",
        ")"
      ]
    },
    {
      "cell_type": "code",
      "execution_count": 26,
      "metadata": {
        "id": "9tX6k-Z6BteV"
      },
      "outputs": [],
      "source": [
        "# Stop word is not a part of recipes, but tokenizer must know about it as well.\n",
        "tokenizer.fit_on_texts([STOP_SIGN])"
      ]
    },
    {
      "cell_type": "code",
      "execution_count": 27,
      "metadata": {
        "id": "XAK-qwg0zoAb"
      },
      "outputs": [],
      "source": [
        "tokenizer.fit_on_texts(dataset_filtered)"
      ]
    },
    {
      "cell_type": "code",
      "execution_count": 28,
      "metadata": {
        "colab": {
          "base_uri": "https://localhost:8080/"
        },
        "id": "aiy2DspqzoAg",
        "outputId": "35723fc0-b26c-4f5d-90d5-17c6c75ec32a"
      },
      "outputs": [
        {
          "data": {
            "text/plain": [
              "{'num_words': None,\n",
              " 'filters': '',\n",
              " 'lower': False,\n",
              " 'split': '',\n",
              " 'char_level': True,\n",
              " 'oov_token': None,\n",
              " 'document_count': 100213,\n",
              " 'word_counts': '{\"\\\\u2423\": 1, \"\\\\ud83d\\\\udcd7\": 100212, \" \": 17527888, \"S\": 270259, \"l\": 3815150, \"o\": 5987496, \"w\": 964459, \"C\": 222831, \"k\": 890982, \"e\": 9296022, \"r\": 4760887, \"h\": 2922100, \"i\": 4911812, \"c\": 2883507, \"n\": 5304396, \"a\": 6067157, \"d\": 3099679, \"D\": 63999, \"u\": 2717050, \"m\": 1794411, \"p\": 2679164, \"g\": 1698670, \"s\": 4704222, \"\\\\n\": 1955281, \"\\\\ud83e\\\\udd55\": 100212, \"\\\\u2022\": 922813, \"4\": 232607, \",\": 1130487, \"b\": 1394803, \"t\": 5997722, \"v\": 746785, \"2\": 493933, \"(\": 144985, \"1\": 853931, \"0\": 145119, \".\": 1052548, \"7\": 31098, \"5\": 154071, \")\": 144977, \"f\": 1042981, \"y\": 666553, \"\\\\ud83d\\\\udcdd\": 100212, \"\\\\u25aa\": 331058, \"\\\\ufe0e\": 331058, \"P\": 200597, \"6\": 51398, \"H\": 43936, \"A\": 134274, \"3\": 213519, \"R\": 101253, \"x\": 201286, \"/\": 345257, \"I\": 81591, \"L\": 46138, \"8\": 55352, \"9\": 17697, \"B\": 123813, \"M\": 78684, \"F\": 104359, \"j\": 110008, \"-\": 219160, \"W\": 61616, \"\\\\u00ae\": 10159, \"N\": 12808, \"q\": 69654, \"T\": 101371, \";\": 72045, \"\\'\": 26831, \"Z\": 2428, \"z\": 115883, \"G\": 52043, \":\": 31318, \"E\": 18582, \"K\": 18421, \"X\": 385, \"\\\\\"\": 6445, \"O\": 28971, \"Y\": 6064, \"\\\\u2122\": 538, \"Q\": 3904, \"J\": 10269, \"!\": 3014, \"U\": 14132, \"V\": 12172, \"&\": 1039, \"+\": 87, \"=\": 113, \"%\": 993, \"*\": 3243, \"\\\\u00a9\": 99, \"[\": 30, \"]\": 31, \"\\\\u00e9\": 6727, \"<\": 76, \">\": 86, \"\\\\u00bd\": 166, \"#\": 168, \"\\\\u00f1\": 891, \"?\": 327, \"\\\\u2019\": 111, \"\\\\u00b0\": 6808, \"\\\\u201d\": 6, \"$\": 84, \"@\": 5, \"{\": 8, \"}\": 9, \"\\\\u2013\": 1228, \"\\\\u0096\": 7, \"\\\\u00e0\": 26, \"\\\\u00e2\": 106, \"\\\\u00e8\": 846, \"\\\\u00e1\": 74, \"\\\\u2014\": 215, \"\\\\u2044\": 16, \"\\\\u00ee\": 415, \"\\\\u00e7\": 171, \"_\": 26, \"\\\\u00fa\": 48, \"\\\\u00ef\": 43, \"\\\\u201a\": 20, \"\\\\u00fb\": 36, \"\\\\u00f3\": 74, \"\\\\u00ed\": 130, \"\\\\u25ca\": 4, \"\\\\u00f9\": 12, \"\\\\u00d7\": 6, \"\\\\u00ec\": 8, \"\\\\u00fc\": 29, \"\\\\u2031\": 4, \"\\\\u00ba\": 19, \"\\\\u201c\": 4, \"\\\\u00ad\": 25, \"\\\\u00ea\": 27, \"\\\\u00f6\": 9, \"\\\\u0301\": 11, \"\\\\u00f4\": 8, \"\\\\u00c1\": 2, \"\\\\u00be\": 23, \"\\\\u00bc\": 95, \"\\\\u00eb\": 2, \"\\\\u0097\": 2, \"\\\\u215b\": 3, \"\\\\u2027\": 4, \"\\\\u00e4\": 15, \"\\\\u001a\": 2, \"\\\\u00f8\": 2, \"\\\\ufffd\": 20, \"\\\\u02da\": 6, \"\\\\u00bf\": 264, \"\\\\u2153\": 2, \"|\": 2, \"\\\\u00e5\": 3, \"\\\\u00a4\": 1, \"\\\\u201f\": 1, \"\\\\u00a7\": 5, \"\\\\ufb02\": 3, \"\\\\u00a0\": 1, \"\\\\u01b0\": 2, \"\\\\u01a1\": 1, \"\\\\u0103\": 1, \"\\\\u0300\": 1, \"\\\\u00bb\": 6, \"`\": 3, \"\\\\u0092\": 2, \"\\\\u215e\": 1, \"\\\\u202d\": 4, \"\\\\u00b4\": 2, \"\\\\u2012\": 2, \"\\\\u00c9\": 40, \"\\\\u00da\": 14, \"\\\\u20ac\": 1, \"\\\\\\\\\": 5, \"~\": 1, \"\\\\u0095\": 1, \"\\\\u00c2\": 2}',\n",
              " 'word_docs': '{\"\\\\u2423\": 1, \"4\": 82453, \"l\": 100206, \" \": 100212, \"w\": 99227, \"f\": 98331, \"\\\\u25aa\": 100212, \"k\": 97316, \"t\": 100202, \"g\": 99975, \"i\": 100207, \"c\": 100190, \"P\": 79364, \".\": 100163, \"y\": 96387, \"\\\\u2022\": 100212, \"e\": 100212, \"a\": 100205, \"2\": 96743, \"H\": 31908, \"h\": 100161, \"\\\\ufe0e\": 100212, \"\\\\n\": 100212, \"7\": 24377, \"(\": 67627, \"\\\\ud83d\\\\udcdd\": 100212, \"0\": 61954, \"D\": 40870, \"u\": 100161, \"s\": 100204, \"\\\\ud83e\\\\udd55\": 100212, \")\": 67614, \"\\\\ud83d\\\\udcd7\": 100212, \"n\": 100198, \"A\": 60900, \"r\": 100207, \",\": 98524, \"m\": 99988, \"b\": 99702, \"p\": 100046, \"3\": 79135, \"v\": 97848, \"5\": 65486, \"S\": 89250, \"o\": 100205, \"d\": 100194, \"6\": 35206, \"C\": 83328, \"1\": 99320, \"L\": 32101, \"8\": 37000, \"R\": 54040, \"x\": 72133, \"9\": 14114, \"/\": 89051, \"I\": 46675, \"B\": 64278, \"F\": 57940, \"j\": 47438, \"M\": 48332, \"-\": 74711, \"\\\\u00ae\": 5819, \"W\": 38981, \"T\": 53758, \"q\": 36538, \"N\": 9981, \";\": 33863, \"Z\": 2184, \"z\": 42430, \"\\'\": 18120, \"G\": 35355, \":\": 18214, \"E\": 12161, \"K\": 14834, \"X\": 321, \"\\\\\"\": 2617, \"O\": 20103, \"Y\": 5148, \"\\\\u2122\": 448, \"Q\": 3142, \"J\": 8225, \"!\": 2428, \"U\": 10621, \"V\": 9710, \"&\": 749, \"=\": 48, \"+\": 32, \"%\": 717, \"*\": 1780, \"\\\\u00a9\": 91, \"]\": 26, \"[\": 25, \"\\\\u00e9\": 2462, \">\": 33, \"<\": 27, \"\\\\u00bd\": 81, \"#\": 139, \"\\\\u00f1\": 423, \"?\": 207, \"\\\\u2019\": 64, \"\\\\u00b0\": 3062, \"\\\\u201d\": 3, \"@\": 4, \"$\": 49, \"}\": 8, \"{\": 7, \"\\\\u2013\": 491, \"\\\\u0096\": 7, \"\\\\u00e0\": 22, \"\\\\u00e2\": 45, \"\\\\u00e8\": 335, \"\\\\u00e1\": 38, \"\\\\u2014\": 95, \"\\\\u2044\": 9, \"\\\\u00ee\": 122, \"_\": 8, \"\\\\u00e7\": 120, \"\\\\u00fa\": 25, \"\\\\u00ef\": 24, \"\\\\u201a\": 10, \"\\\\u00fb\": 29, \"\\\\u00f3\": 40, \"\\\\u00ed\": 52, \"\\\\u25ca\": 2, \"\\\\u00f9\": 6, \"\\\\u00d7\": 4, \"\\\\u00ec\": 4, \"\\\\u00fc\": 19, \"\\\\u2031\": 2, \"\\\\u00ba\": 9, \"\\\\u201c\": 2, \"\\\\u00ad\": 11, \"\\\\u00ea\": 4, \"\\\\u00f6\": 4, \"\\\\u0301\": 6, \"\\\\u00f4\": 5, \"\\\\u00c1\": 2, \"\\\\u00bc\": 55, \"\\\\u00be\": 18, \"\\\\u00eb\": 2, \"\\\\u0097\": 1, \"\\\\u215b\": 2, \"\\\\u2027\": 3, \"\\\\u00e4\": 8, \"\\\\u001a\": 1, \"\\\\u00f8\": 1, \"\\\\ufffd\": 4, \"\\\\u02da\": 3, \"\\\\u00bf\": 191, \"\\\\u2153\": 1, \"|\": 2, \"\\\\u00e5\": 1, \"\\\\u00a4\": 1, \"\\\\u201f\": 1, \"\\\\u00a7\": 3, \"\\\\ufb02\": 1, \"\\\\u0300\": 1, \"\\\\u01a1\": 1, \"\\\\u00a0\": 1, \"\\\\u0103\": 1, \"\\\\u01b0\": 1, \"\\\\u00bb\": 2, \"`\": 3, \"\\\\u0092\": 2, \"\\\\u215e\": 1, \"\\\\u202d\": 1, \"\\\\u00b4\": 1, \"\\\\u2012\": 1, \"\\\\u00c9\": 15, \"\\\\u00da\": 5, \"\\\\u20ac\": 1, \"\\\\\\\\\": 5, \"~\": 1, \"\\\\u0095\": 1, \"\\\\u00c2\": 1}',\n",
              " 'index_docs': '{\"1\": 100212, \"165\": 1, \"34\": 82453, \"10\": 100206, \"23\": 99227, \"22\": 98331, \"31\": 100212, \"25\": 97316, \"4\": 100202, \"18\": 99975, \"7\": 100207, \"13\": 100190, \"39\": 79364, \"21\": 100163, \"28\": 96387, \"24\": 100212, \"2\": 100212, \"3\": 100205, \"29\": 96743, \"64\": 31908, \"12\": 100161, \"32\": 100212, \"16\": 100212, \"66\": 24377, \"42\": 67627, \"53\": 100212, \"41\": 61954, \"58\": 40870, \"14\": 100161, \"9\": 100204, \"52\": 100212, \"43\": 67614, \"51\": 100212, \"6\": 100198, \"44\": 60900, \"8\": 100207, \"20\": 98524, \"17\": 99988, \"19\": 99702, \"15\": 100046, \"37\": 79135, \"27\": 97848, \"40\": 65486, \"33\": 89250, \"5\": 100205, \"11\": 100194, \"62\": 35206, \"35\": 83328, \"26\": 99320, \"63\": 32101, \"60\": 37000, \"50\": 54040, \"38\": 72133, \"71\": 14114, \"30\": 89051, \"54\": 46675, \"45\": 64278, \"48\": 57940, \"47\": 47438, \"55\": 48332, \"36\": 74711, \"76\": 5819, \"59\": 38981, \"49\": 53758, \"57\": 36538, \"73\": 9981, \"56\": 33863, \"84\": 2184, \"46\": 42430, \"68\": 18120, \"61\": 35355, \"65\": 18214, \"69\": 12161, \"70\": 14834, \"92\": 321, \"79\": 2617, \"67\": 20103, \"80\": 5148, \"90\": 448, \"81\": 3142, \"75\": 8225, \"83\": 2428, \"72\": 10621, \"74\": 9710, \"86\": 749, \"100\": 48, \"105\": 32, \"87\": 717, \"82\": 1780, \"103\": 91, \"115\": 26, \"116\": 25, \"78\": 2462, \"106\": 33, \"108\": 27, \"98\": 81, \"97\": 139, \"88\": 423, \"93\": 207, \"101\": 64, \"77\": 3062, \"137\": 3, \"141\": 4, \"107\": 49, \"131\": 8, \"133\": 7, \"85\": 491, \"136\": 7, \"119\": 22, \"102\": 45, \"89\": 335, \"109\": 38, \"95\": 95, \"126\": 9, \"91\": 122, \"120\": 8, \"96\": 120, \"111\": 25, \"112\": 24, \"123\": 10, \"114\": 29, \"110\": 40, \"99\": 52, \"144\": 2, \"129\": 6, \"138\": 4, \"134\": 4, \"117\": 19, \"145\": 2, \"125\": 9, \"146\": 2, \"121\": 11, \"118\": 4, \"132\": 4, \"130\": 6, \"135\": 5, \"153\": 2, \"104\": 55, \"122\": 18, \"154\": 2, \"155\": 1, \"149\": 2, \"147\": 3, \"127\": 8, \"156\": 1, \"157\": 1, \"124\": 4, \"139\": 3, \"94\": 191, \"158\": 1, \"159\": 2, \"150\": 1, \"166\": 1, \"167\": 1, \"142\": 3, \"151\": 1, \"171\": 1, \"169\": 1, \"168\": 1, \"170\": 1, \"160\": 1, \"140\": 2, \"152\": 3, \"161\": 2, \"172\": 1, \"148\": 1, \"162\": 1, \"163\": 1, \"113\": 15, \"128\": 5, \"173\": 1, \"143\": 5, \"174\": 1, \"175\": 1, \"164\": 1}',\n",
              " 'index_word': '{\"1\": \" \", \"2\": \"e\", \"3\": \"a\", \"4\": \"t\", \"5\": \"o\", \"6\": \"n\", \"7\": \"i\", \"8\": \"r\", \"9\": \"s\", \"10\": \"l\", \"11\": \"d\", \"12\": \"h\", \"13\": \"c\", \"14\": \"u\", \"15\": \"p\", \"16\": \"\\\\n\", \"17\": \"m\", \"18\": \"g\", \"19\": \"b\", \"20\": \",\", \"21\": \".\", \"22\": \"f\", \"23\": \"w\", \"24\": \"\\\\u2022\", \"25\": \"k\", \"26\": \"1\", \"27\": \"v\", \"28\": \"y\", \"29\": \"2\", \"30\": \"/\", \"31\": \"\\\\u25aa\", \"32\": \"\\\\ufe0e\", \"33\": \"S\", \"34\": \"4\", \"35\": \"C\", \"36\": \"-\", \"37\": \"3\", \"38\": \"x\", \"39\": \"P\", \"40\": \"5\", \"41\": \"0\", \"42\": \"(\", \"43\": \")\", \"44\": \"A\", \"45\": \"B\", \"46\": \"z\", \"47\": \"j\", \"48\": \"F\", \"49\": \"T\", \"50\": \"R\", \"51\": \"\\\\ud83d\\\\udcd7\", \"52\": \"\\\\ud83e\\\\udd55\", \"53\": \"\\\\ud83d\\\\udcdd\", \"54\": \"I\", \"55\": \"M\", \"56\": \";\", \"57\": \"q\", \"58\": \"D\", \"59\": \"W\", \"60\": \"8\", \"61\": \"G\", \"62\": \"6\", \"63\": \"L\", \"64\": \"H\", \"65\": \":\", \"66\": \"7\", \"67\": \"O\", \"68\": \"\\'\", \"69\": \"E\", \"70\": \"K\", \"71\": \"9\", \"72\": \"U\", \"73\": \"N\", \"74\": \"V\", \"75\": \"J\", \"76\": \"\\\\u00ae\", \"77\": \"\\\\u00b0\", \"78\": \"\\\\u00e9\", \"79\": \"\\\\\"\", \"80\": \"Y\", \"81\": \"Q\", \"82\": \"*\", \"83\": \"!\", \"84\": \"Z\", \"85\": \"\\\\u2013\", \"86\": \"&\", \"87\": \"%\", \"88\": \"\\\\u00f1\", \"89\": \"\\\\u00e8\", \"90\": \"\\\\u2122\", \"91\": \"\\\\u00ee\", \"92\": \"X\", \"93\": \"?\", \"94\": \"\\\\u00bf\", \"95\": \"\\\\u2014\", \"96\": \"\\\\u00e7\", \"97\": \"#\", \"98\": \"\\\\u00bd\", \"99\": \"\\\\u00ed\", \"100\": \"=\", \"101\": \"\\\\u2019\", \"102\": \"\\\\u00e2\", \"103\": \"\\\\u00a9\", \"104\": \"\\\\u00bc\", \"105\": \"+\", \"106\": \">\", \"107\": \"$\", \"108\": \"<\", \"109\": \"\\\\u00e1\", \"110\": \"\\\\u00f3\", \"111\": \"\\\\u00fa\", \"112\": \"\\\\u00ef\", \"113\": \"\\\\u00c9\", \"114\": \"\\\\u00fb\", \"115\": \"]\", \"116\": \"[\", \"117\": \"\\\\u00fc\", \"118\": \"\\\\u00ea\", \"119\": \"\\\\u00e0\", \"120\": \"_\", \"121\": \"\\\\u00ad\", \"122\": \"\\\\u00be\", \"123\": \"\\\\u201a\", \"124\": \"\\\\ufffd\", \"125\": \"\\\\u00ba\", \"126\": \"\\\\u2044\", \"127\": \"\\\\u00e4\", \"128\": \"\\\\u00da\", \"129\": \"\\\\u00f9\", \"130\": \"\\\\u0301\", \"131\": \"}\", \"132\": \"\\\\u00f6\", \"133\": \"{\", \"134\": \"\\\\u00ec\", \"135\": \"\\\\u00f4\", \"136\": \"\\\\u0096\", \"137\": \"\\\\u201d\", \"138\": \"\\\\u00d7\", \"139\": \"\\\\u02da\", \"140\": \"\\\\u00bb\", \"141\": \"@\", \"142\": \"\\\\u00a7\", \"143\": \"\\\\\\\\\", \"144\": \"\\\\u25ca\", \"145\": \"\\\\u2031\", \"146\": \"\\\\u201c\", \"147\": \"\\\\u2027\", \"148\": \"\\\\u202d\", \"149\": \"\\\\u215b\", \"150\": \"\\\\u00e5\", \"151\": \"\\\\ufb02\", \"152\": \"`\", \"153\": \"\\\\u00c1\", \"154\": \"\\\\u00eb\", \"155\": \"\\\\u0097\", \"156\": \"\\\\u001a\", \"157\": \"\\\\u00f8\", \"158\": \"\\\\u2153\", \"159\": \"|\", \"160\": \"\\\\u01b0\", \"161\": \"\\\\u0092\", \"162\": \"\\\\u00b4\", \"163\": \"\\\\u2012\", \"164\": \"\\\\u00c2\", \"165\": \"\\\\u2423\", \"166\": \"\\\\u00a4\", \"167\": \"\\\\u201f\", \"168\": \"\\\\u00a0\", \"169\": \"\\\\u01a1\", \"170\": \"\\\\u0103\", \"171\": \"\\\\u0300\", \"172\": \"\\\\u215e\", \"173\": \"\\\\u20ac\", \"174\": \"~\", \"175\": \"\\\\u0095\"}',\n",
              " 'word_index': '{\" \": 1, \"e\": 2, \"a\": 3, \"t\": 4, \"o\": 5, \"n\": 6, \"i\": 7, \"r\": 8, \"s\": 9, \"l\": 10, \"d\": 11, \"h\": 12, \"c\": 13, \"u\": 14, \"p\": 15, \"\\\\n\": 16, \"m\": 17, \"g\": 18, \"b\": 19, \",\": 20, \".\": 21, \"f\": 22, \"w\": 23, \"\\\\u2022\": 24, \"k\": 25, \"1\": 26, \"v\": 27, \"y\": 28, \"2\": 29, \"/\": 30, \"\\\\u25aa\": 31, \"\\\\ufe0e\": 32, \"S\": 33, \"4\": 34, \"C\": 35, \"-\": 36, \"3\": 37, \"x\": 38, \"P\": 39, \"5\": 40, \"0\": 41, \"(\": 42, \")\": 43, \"A\": 44, \"B\": 45, \"z\": 46, \"j\": 47, \"F\": 48, \"T\": 49, \"R\": 50, \"\\\\ud83d\\\\udcd7\": 51, \"\\\\ud83e\\\\udd55\": 52, \"\\\\ud83d\\\\udcdd\": 53, \"I\": 54, \"M\": 55, \";\": 56, \"q\": 57, \"D\": 58, \"W\": 59, \"8\": 60, \"G\": 61, \"6\": 62, \"L\": 63, \"H\": 64, \":\": 65, \"7\": 66, \"O\": 67, \"\\'\": 68, \"E\": 69, \"K\": 70, \"9\": 71, \"U\": 72, \"N\": 73, \"V\": 74, \"J\": 75, \"\\\\u00ae\": 76, \"\\\\u00b0\": 77, \"\\\\u00e9\": 78, \"\\\\\"\": 79, \"Y\": 80, \"Q\": 81, \"*\": 82, \"!\": 83, \"Z\": 84, \"\\\\u2013\": 85, \"&\": 86, \"%\": 87, \"\\\\u00f1\": 88, \"\\\\u00e8\": 89, \"\\\\u2122\": 90, \"\\\\u00ee\": 91, \"X\": 92, \"?\": 93, \"\\\\u00bf\": 94, \"\\\\u2014\": 95, \"\\\\u00e7\": 96, \"#\": 97, \"\\\\u00bd\": 98, \"\\\\u00ed\": 99, \"=\": 100, \"\\\\u2019\": 101, \"\\\\u00e2\": 102, \"\\\\u00a9\": 103, \"\\\\u00bc\": 104, \"+\": 105, \">\": 106, \"$\": 107, \"<\": 108, \"\\\\u00e1\": 109, \"\\\\u00f3\": 110, \"\\\\u00fa\": 111, \"\\\\u00ef\": 112, \"\\\\u00c9\": 113, \"\\\\u00fb\": 114, \"]\": 115, \"[\": 116, \"\\\\u00fc\": 117, \"\\\\u00ea\": 118, \"\\\\u00e0\": 119, \"_\": 120, \"\\\\u00ad\": 121, \"\\\\u00be\": 122, \"\\\\u201a\": 123, \"\\\\ufffd\": 124, \"\\\\u00ba\": 125, \"\\\\u2044\": 126, \"\\\\u00e4\": 127, \"\\\\u00da\": 128, \"\\\\u00f9\": 129, \"\\\\u0301\": 130, \"}\": 131, \"\\\\u00f6\": 132, \"{\": 133, \"\\\\u00ec\": 134, \"\\\\u00f4\": 135, \"\\\\u0096\": 136, \"\\\\u201d\": 137, \"\\\\u00d7\": 138, \"\\\\u02da\": 139, \"\\\\u00bb\": 140, \"@\": 141, \"\\\\u00a7\": 142, \"\\\\\\\\\": 143, \"\\\\u25ca\": 144, \"\\\\u2031\": 145, \"\\\\u201c\": 146, \"\\\\u2027\": 147, \"\\\\u202d\": 148, \"\\\\u215b\": 149, \"\\\\u00e5\": 150, \"\\\\ufb02\": 151, \"`\": 152, \"\\\\u00c1\": 153, \"\\\\u00eb\": 154, \"\\\\u0097\": 155, \"\\\\u001a\": 156, \"\\\\u00f8\": 157, \"\\\\u2153\": 158, \"|\": 159, \"\\\\u01b0\": 160, \"\\\\u0092\": 161, \"\\\\u00b4\": 162, \"\\\\u2012\": 163, \"\\\\u00c2\": 164, \"\\\\u2423\": 165, \"\\\\u00a4\": 166, \"\\\\u201f\": 167, \"\\\\u00a0\": 168, \"\\\\u01a1\": 169, \"\\\\u0103\": 170, \"\\\\u0300\": 171, \"\\\\u215e\": 172, \"\\\\u20ac\": 173, \"~\": 174, \"\\\\u0095\": 175}'}"
            ]
          },
          "execution_count": 28,
          "metadata": {},
          "output_type": "execute_result"
        }
      ],
      "source": [
        "tokenizer.get_config()"
      ]
    },
    {
      "cell_type": "code",
      "execution_count": 29,
      "metadata": {
        "colab": {
          "base_uri": "https://localhost:8080/"
        },
        "id": "W0SJy42MzoAe",
        "outputId": "146f0a29-302d-4b44-97ed-bb4ed251a192"
      },
      "outputs": [
        {
          "name": "stdout",
          "output_type": "stream",
          "text": [
            "VOCABULARY_SIZE:  176\n"
          ]
        }
      ],
      "source": [
        "# Adding +1 to take into account a special unassigned 0 index.\n",
        "# @see: https://www.tensorflow.org/api_docs/python/tf/keras/preprocessing/text/Tokenizer\n",
        "VOCABULARY_SIZE = len(tokenizer.word_counts) + 1\n",
        "\n",
        "print('VOCABULARY_SIZE: ', VOCABULARY_SIZE)"
      ]
    },
    {
      "cell_type": "code",
      "execution_count": 30,
      "metadata": {
        "colab": {
          "base_uri": "https://localhost:8080/"
        },
        "id": "U9njDnXczoAl",
        "outputId": "e2a91c6f-8221-4a90-84ca-91c52941e856"
      },
      "outputs": [
        {
          "name": "stdout",
          "output_type": "stream",
          "text": [
            "o\n",
            ",\n"
          ]
        }
      ],
      "source": [
        "print(tokenizer.index_word[5])\n",
        "print(tokenizer.index_word[20])"
      ]
    },
    {
      "cell_type": "code",
      "execution_count": 31,
      "metadata": {
        "colab": {
          "base_uri": "https://localhost:8080/"
        },
        "id": "gMQeZbdd75ZJ",
        "outputId": "fc149580-68f3-451a-a8df-fcdf9f525502"
      },
      "outputs": [
        {
          "data": {
            "text/plain": [
              "8"
            ]
          },
          "execution_count": 31,
          "metadata": {},
          "output_type": "execute_result"
        }
      ],
      "source": [
        "tokenizer.word_index['r']"
      ]
    },
    {
      "cell_type": "code",
      "execution_count": 32,
      "metadata": {
        "colab": {
          "base_uri": "https://localhost:8080/"
        },
        "id": "wcb2A0DbNkwa",
        "outputId": "f007a29b-3861-40b5-806c-60887696a8eb"
      },
      "outputs": [
        {
          "name": "stdout",
          "output_type": "stream",
          "text": [
            "['', ' ', 'e', 'a', 't', 'o', 'n', 'i', 'r', 's', 'l', 'd', 'h', 'c', 'u', 'p', '\\n', 'm', 'g', 'b', ',', '.', 'f', 'w', '•', 'k', '1', 'v', 'y', '2', '/', '▪', '︎', 'S', '4', 'C', '-', '3', 'x', 'P', '5', '0', '(', ')', 'A', 'B', 'z', 'j', 'F', 'T', 'R', '📗', '🥕', '📝', 'I', 'M', ';', 'q', 'D', 'W', '8', 'G', '6', 'L', 'H', ':', '7', 'O', \"'\", 'E', 'K', '9', 'U', 'N', 'V', 'J', '®', '°', 'é', '\"', 'Y', 'Q', '*', '!', 'Z', '–', '&', '%', 'ñ', 'è', '™', 'î', 'X', '?', '¿', '—', 'ç', '#', '½', 'í', '=', '’', 'â', '©', '¼', '+', '>', '$', '<', 'á', 'ó', 'ú', 'ï', 'É', 'û', ']', '[', 'ü', 'ê', 'à', '_', '\\xad', '¾', '‚', '�', 'º', '⁄', 'ä', 'Ú', 'ù', '́', '}', 'ö', '{', 'ì', 'ô', '\\x96', '”', '×', '˚', '»', '@', '§', '\\\\', '◊', '‱', '“', '‧', '\\u202d', '⅛', 'å', 'ﬂ', '`', 'Á', 'ë', '\\x97', '\\x1a', 'ø', '⅓', '|', 'ư', '\\x92', '´', '‒', 'Â', '␣', '¤', '‟', '\\xa0', 'ơ', 'ă', '̀', '⅞', '€', '~', '\\x95']\n"
          ]
        }
      ],
      "source": [
        "# For demo application we need to have an array of characters as vocabulary.\n",
        "js_vocabulary = tokenizer.sequences_to_texts([[word_index] for word_index in range(VOCABULARY_SIZE)])\n",
        "print([char for char in js_vocabulary])"
      ]
    },
    {
      "cell_type": "code",
      "execution_count": 33,
      "metadata": {
        "colab": {
          "base_uri": "https://localhost:8080/"
        },
        "id": "JqfKRBqDNkwb",
        "outputId": "058af8a7-3223-46b5-a53f-5a795944f53b"
      },
      "outputs": [
        {
          "data": {
            "text/plain": [
              "[[51, 1, 28, 2, 9]]"
            ]
          },
          "execution_count": 33,
          "metadata": {},
          "output_type": "execute_result"
        }
      ],
      "source": [
        "# Test proper conversion from text to indices.\n",
        "# This is needed for debugging a demo app.\n",
        "tokenizer.texts_to_sequences(['📗 yes'])"
      ]
    },
    {
      "cell_type": "markdown",
      "metadata": {
        "id": "DctJLdjMzoAn"
      },
      "source": [
        "## Vectorizing the dataset"
      ]
    },
    {
      "cell_type": "markdown",
      "metadata": {
        "id": "2Vk-rfKENkwc"
      },
      "source": [
        "Now, once we have a vocabulary (`character --> code` and `code --> character` relations) we may convert the set of recipes from text to numbers (RNN works with numbers as an input and not with the texts)."
      ]
    },
    {
      "cell_type": "code",
      "execution_count": 34,
      "metadata": {
        "id": "Dai0OfBjzoAn"
      },
      "outputs": [],
      "source": [
        "def recipe_sequence_to_string(recipe_sequence):\n",
        "    recipe_stringified = tokenizer.sequences_to_texts([recipe_sequence])[0]\n",
        "    recipe_stringified = recipe_stringified.replace('   ', '_').replace(' ', '').replace('_', ' ')\n",
        "    print(recipe_stringified)"
      ]
    },
    {
      "cell_type": "code",
      "execution_count": 35,
      "metadata": {
        "id": "P1efPWArzoAp"
      },
      "outputs": [],
      "source": [
        "dataset_vectorized = tokenizer.texts_to_sequences(dataset_filtered)"
      ]
    },
    {
      "cell_type": "code",
      "execution_count": 36,
      "metadata": {
        "colab": {
          "base_uri": "https://localhost:8080/"
        },
        "id": "VUaKUrefzoAr",
        "outputId": "3c7f9eb6-4a24-493a-ca8a-6704e9c0f91f"
      },
      "outputs": [
        {
          "name": "stdout",
          "output_type": "stream",
          "text": [
            "Vectorized dataset size 100212\n"
          ]
        }
      ],
      "source": [
        "print('Vectorized dataset size', len(dataset_vectorized))"
      ]
    },
    {
      "cell_type": "code",
      "execution_count": 37,
      "metadata": {
        "colab": {
          "base_uri": "https://localhost:8080/"
        },
        "id": "WexryHNUzoAu",
        "outputId": "971276e2-5ea9-4916-a816-a8d51b0c1728"
      },
      "outputs": [
        {
          "name": "stdout",
          "output_type": "stream",
          "text": [
            "[51, 1, 33, 10, 5, 23, 1, 35, 5, 5] ...\n"
          ]
        }
      ],
      "source": [
        "print(dataset_vectorized[0][:10], '...')"
      ]
    },
    {
      "cell_type": "code",
      "execution_count": 38,
      "metadata": {
        "colab": {
          "base_uri": "https://localhost:8080/"
        },
        "id": "0kBu8keNUHp-",
        "outputId": "233d0996-093a-494d-8118-f79d0a4a03d0"
      },
      "outputs": [
        {
          "name": "stdout",
          "output_type": "stream",
          "text": [
            "max_index_example:  [51, 1, 97, 26, 1, 39, 2, 3, 1, 33, 3, 10, 3, 11, 1, 55, 5, 9, 4, 1, 50, 2, 57, 14, 2, 9, 4, 2, 11, 83, 16, 16, 52, 16, 16, 24, 1, 29, 1, 42, 26, 62, 1, 5, 14, 6, 13, 2, 43, 1, 15, 3, 13, 25, 3, 18, 2, 9, 1, 22, 8, 5, 46, 2, 6, 1, 15, 2, 4, 7, 4, 2, 1, 15, 2, 3, 9, 1, 16, 24, 1, 62, 1, 5, 14, 6, 13, 2, 9, 1, 9, 17, 5, 25, 2, 36, 22, 10, 3, 27, 5, 8, 2, 11, 1, 3, 10, 17, 5, 6, 11, 9, 20, 1, 22, 7, 6, 2, 10, 28, 1, 13, 12, 5, 15, 15, 2, 11, 1, 16, 24, 1, 26, 1, 5, 6, 7, 5, 6, 20, 1, 22, 7, 6, 2, 10, 28, 1, 13, 12, 5, 15, 15, 2, 11, 1, 16, 24, 1, 26, 1, 13, 14, 15, 1, 17, 3, 28, 5, 6, 6, 3, 7, 9, 2, 20, 1, 5, 8, 1, 17, 5, 8, 2, 1, 4, 5, 1, 4, 3, 9, 4, 2, 1, 16, 24, 1, 18, 8, 5, 14, 6, 11, 1, 19, 10, 3, 13, 25, 1, 15, 2, 15, 15, 2, 8, 1, 4, 5, 1, 4, 3, 9, 4, 2, 1, 16, 16, 53, 16, 16, 31, 32, 1, 39, 10, 3, 13, 2, 1, 22, 8, 5, 46, 2, 6, 1, 15, 2, 3, 9, 1, 7, 6, 1, 3, 1, 13, 5, 10, 3, 6, 11, 2, 8, 56, 1, 8, 7, 6, 9, 2, 1, 14, 6, 11, 2, 8, 1, 13, 5, 10, 11, 1, 23, 3, 4, 2, 8, 1, 14, 6, 4, 7, 10, 1, 4, 12, 3, 23, 2, 11, 21, 1, 58, 8, 3, 7, 6, 1, 3, 6, 11, 1, 4, 8, 3, 6, 9, 22, 2, 8, 1, 4, 5, 1, 3, 1, 10, 3, 8, 18, 2, 1, 19, 5, 23, 10, 21, 1, 44, 11, 11, 1, 3, 10, 17, 5, 6, 11, 9, 1, 3, 6, 11, 1, 5, 6, 7, 5, 6, 9, 56, 1, 17, 7, 38, 1, 23, 2, 10, 10, 21, 1, 48, 5, 10, 11, 1, 17, 3, 28, 5, 6, 6, 3, 7, 9, 2, 1, 3, 6, 11, 1, 19, 10, 3, 13, 25, 1, 15, 2, 15, 15, 2, 8, 1, 7, 6, 4, 5, 1, 15, 2, 3, 1, 17, 7, 38, 4, 14, 8, 2, 1, 14, 6, 4, 7, 10, 1, 2, 27, 2, 6, 10, 28, 1, 13, 5, 3, 4, 2, 11, 21, 1, 35, 5, 27, 2, 8, 1, 3, 6, 11, 1, 8, 2, 22, 8, 7, 18, 2, 8, 3, 4, 2, 1, 14, 6, 4, 7, 10, 1, 9, 2, 8, 27, 7, 6, 18, 21, 16]\n"
          ]
        }
      ],
      "source": [
        "max_index_example = np.max(dataset_vectorized)\n",
        "\n",
        "print('max_index_example: ', max_index_example)"
      ]
    },
    {
      "cell_type": "code",
      "execution_count": 39,
      "metadata": {
        "colab": {
          "base_uri": "https://localhost:8080/"
        },
        "id": "RL1zM3GGzoAy",
        "outputId": "ee3ea38d-1430-49ca-b2d3-c6ec9463947a"
      },
      "outputs": [
        {
          "name": "stdout",
          "output_type": "stream",
          "text": [
            "📗 Slow Cooker Chicken and Dumplings\n",
            "\n",
            "🥕\n",
            "\n",
            "• 4 skinless, boneless chicken breast halves \n",
            "• 2 tablespoons butter \n",
            "• 2 (10.75 ounce) cans condensed cream of chicken soup \n",
            "• 1 onion, finely diced \n",
            "• 2 (10 ounce) packages refrigerated biscuit dough, torn into pieces \n",
            "\n",
            "📝\n",
            "\n",
            "▪︎ Place the chicken, butter, soup, and onion in a slow cooker, and fill with enough water to cover.\n",
            "▪︎ Cover, and cook for 5 to 6 hours on High. About 30 minutes before serving, place the torn biscuit dough in the slow cooker. Cook until the dough is no longer raw in the center.\n",
            "\n"
          ]
        }
      ],
      "source": [
        "recipe_sequence_to_string(dataset_vectorized[0])"
      ]
    },
    {
      "cell_type": "markdown",
      "metadata": {
        "id": "-Jka4jyNzoA0"
      },
      "source": [
        "### Add padding to sequences"
      ]
    },
    {
      "cell_type": "markdown",
      "metadata": {
        "id": "HrZ383EiNkwe"
      },
      "source": [
        "We need all recipes to have the same length for training. To do that we'll use [tf.keras.preprocessing.sequence.pad_sequences](https://www.tensorflow.org/api_docs/python/tf/keras/preprocessing/sequence/pad_sequences) utility to add a stop word to the end of each recipe and to make them have the same length."
      ]
    },
    {
      "cell_type": "code",
      "execution_count": 40,
      "metadata": {
        "colab": {
          "base_uri": "https://localhost:8080/"
        },
        "id": "m6tq1NQczoA9",
        "outputId": "3a6b15e8-5827-4a51-e100-a3809c50e84f"
      },
      "outputs": [
        {
          "name": "stdout",
          "output_type": "stream",
          "text": [
            "Recipe #1 length: 546\n",
            "Recipe #2 length: 401\n",
            "Recipe #3 length: 671\n",
            "Recipe #4 length: 736\n",
            "Recipe #5 length: 1518\n",
            "Recipe #6 length: 740\n",
            "Recipe #7 length: 839\n",
            "Recipe #8 length: 667\n",
            "Recipe #9 length: 1264\n",
            "Recipe #10 length: 854\n"
          ]
        }
      ],
      "source": [
        "for recipe_index, recipe in enumerate(dataset_vectorized[:10]):\n",
        "    print('Recipe #{} length: {}'.format(recipe_index + 1, len(recipe)))"
      ]
    },
    {
      "cell_type": "code",
      "execution_count": 41,
      "metadata": {
        "id": "tnIt-X1zzoA_"
      },
      "outputs": [],
      "source": [
        "dataset_vectorized_padded_without_stops = tf.keras.preprocessing.sequence.pad_sequences(\n",
        "    dataset_vectorized,\n",
        "    padding='post',\n",
        "    truncating='post',\n",
        "    # We use -1 here and +1 in the next step to make sure that all recipes will have at least 1 stops\n",
        "    # sign at the end, since each sequence will be shifted and truncated afterwards (to generate X and Y sequences).\n",
        "    maxlen=MAX_RECIPE_LENGTH-1,\n",
        "    value=tokenizer.texts_to_sequences([STOP_SIGN])[0]\n",
        ")"
      ]
    },
    {
      "cell_type": "code",
      "execution_count": 42,
      "metadata": {
        "id": "8y5KbZcezoBB"
      },
      "outputs": [],
      "source": [
        "dataset_vectorized_padded = tf.keras.preprocessing.sequence.pad_sequences(\n",
        "    dataset_vectorized_padded_without_stops,\n",
        "    padding='post',\n",
        "    truncating='post',\n",
        "    maxlen=MAX_RECIPE_LENGTH+1,\n",
        "    value=tokenizer.texts_to_sequences([STOP_SIGN])[0]\n",
        ")"
      ]
    },
    {
      "cell_type": "code",
      "execution_count": 43,
      "metadata": {
        "colab": {
          "base_uri": "https://localhost:8080/"
        },
        "id": "FNfalISfzoBD",
        "outputId": "8a250eb3-8cae-4342-a414-f6d6e4121228"
      },
      "outputs": [
        {
          "name": "stdout",
          "output_type": "stream",
          "text": [
            "Recipe #0 length: 2001\n",
            "Recipe #1 length: 2001\n",
            "Recipe #2 length: 2001\n",
            "Recipe #3 length: 2001\n",
            "Recipe #4 length: 2001\n",
            "Recipe #5 length: 2001\n",
            "Recipe #6 length: 2001\n",
            "Recipe #7 length: 2001\n",
            "Recipe #8 length: 2001\n",
            "Recipe #9 length: 2001\n"
          ]
        }
      ],
      "source": [
        "for recipe_index, recipe in enumerate(dataset_vectorized_padded[:10]):\n",
        "    print('Recipe #{} length: {}'.format(recipe_index, len(recipe)))"
      ]
    },
    {
      "cell_type": "code",
      "execution_count": 44,
      "metadata": {
        "colab": {
          "base_uri": "https://localhost:8080/"
        },
        "id": "QTA-Dy1bzoBF",
        "outputId": "a47757d7-eb3a-4849-d807-2216aaa09088"
      },
      "outputs": [
        {
          "name": "stdout",
          "output_type": "stream",
          "text": [
            "📗 Slow Cooker Chicken and Dumplings\n",
            "\n",
            "🥕\n",
            "\n",
            "• 4 skinless, boneless chicken breast halves \n",
            "• 2 tablespoons butter \n",
            "• 2 (10.75 ounce) cans condensed cream of chicken soup \n",
            "• 1 onion, finely diced \n",
            "• 2 (10 ounce) packages refrigerated biscuit dough, torn into pieces \n",
            "\n",
            "📝\n",
            "\n",
            "▪︎ Place the chicken, butter, soup, and onion in a slow cooker, and fill with enough water to cover.\n",
            "▪︎ Cover, and cook for 5 to 6 hours on High. About 30 minutes before serving, place the torn biscuit dough in the slow cooker. Cook until the dough is no longer raw in the center.\n",
            "␣␣␣␣␣␣␣␣␣␣␣␣␣␣␣␣␣␣␣␣␣␣␣␣␣␣␣␣␣␣␣␣␣␣␣␣␣␣␣␣␣␣␣␣␣␣␣␣␣␣␣␣␣␣␣␣␣␣␣␣␣␣␣␣␣␣␣␣␣␣␣␣␣␣␣␣␣␣␣␣␣␣␣␣␣␣␣␣␣␣␣␣␣␣␣␣␣␣␣␣␣␣␣␣␣␣␣␣␣␣␣␣␣␣␣␣␣␣␣␣␣␣␣␣␣␣␣␣␣␣␣␣␣␣␣␣␣␣␣␣␣␣␣␣␣␣␣␣␣␣␣␣␣␣␣␣␣␣␣␣␣␣␣␣␣␣␣␣␣␣␣␣␣␣␣␣␣␣␣␣␣␣␣␣␣␣␣␣␣␣␣␣␣␣␣␣␣␣␣␣␣␣␣␣␣␣␣␣␣␣␣␣␣␣␣␣␣␣␣␣␣␣␣␣␣␣␣␣␣␣␣␣␣␣␣␣␣␣␣␣␣␣␣␣␣␣␣␣␣␣␣␣␣␣␣␣␣␣␣␣␣␣␣␣␣␣␣␣␣␣␣␣␣␣␣␣␣␣␣␣␣␣␣␣␣␣␣␣␣␣␣␣␣␣␣␣␣␣␣␣␣␣␣␣␣␣␣␣␣␣␣␣␣␣␣␣␣␣␣␣␣␣␣␣␣␣␣␣␣␣␣␣␣␣␣␣␣␣␣␣␣␣␣␣␣␣␣␣␣␣␣␣␣␣␣␣␣␣␣␣␣␣␣␣␣␣␣␣␣␣␣␣␣␣␣␣␣␣␣␣␣␣␣␣␣␣␣␣␣␣␣␣␣␣␣␣␣␣␣␣␣␣␣␣␣␣␣␣␣␣␣␣␣␣␣␣␣␣␣␣␣␣␣␣␣␣␣␣␣␣␣␣␣␣␣␣␣␣␣␣␣␣␣␣␣␣␣␣␣␣␣␣␣␣␣␣␣␣␣␣␣␣␣␣␣␣␣␣␣␣␣␣␣␣␣␣␣␣␣␣␣␣␣␣␣␣␣␣␣␣␣␣␣␣␣␣␣␣␣␣␣␣␣␣␣␣␣␣␣␣␣␣␣␣␣␣␣␣␣␣␣␣␣␣␣␣␣␣␣␣␣␣␣␣␣␣␣␣␣␣␣␣␣␣␣␣␣␣␣␣␣␣␣␣␣␣␣␣␣␣␣␣␣␣␣␣␣␣␣␣␣␣␣␣␣␣␣␣␣␣␣␣␣␣␣␣␣␣␣␣␣␣␣␣␣␣␣␣␣␣␣␣␣␣␣␣␣␣␣␣␣␣␣␣␣␣␣␣␣␣␣␣␣␣␣␣␣␣␣␣␣␣␣␣␣␣␣␣␣␣␣␣␣␣␣␣␣␣␣␣␣␣␣␣␣␣␣␣␣␣␣␣␣␣␣␣␣␣␣␣␣␣␣␣␣␣␣␣␣␣␣␣␣␣␣␣␣␣␣␣␣␣␣␣␣␣␣␣␣␣␣␣␣␣␣␣␣␣␣␣␣␣␣␣␣␣␣␣␣␣␣␣␣␣␣␣␣␣␣␣␣␣␣␣␣␣␣␣␣␣␣␣␣␣␣␣␣␣␣␣␣␣␣␣␣␣␣␣␣␣␣␣␣␣␣␣␣␣␣␣␣␣␣␣␣␣␣␣␣␣␣␣␣␣␣␣␣␣␣␣␣␣␣␣␣␣␣␣␣␣␣␣␣␣␣␣␣␣␣␣␣␣␣␣␣␣␣␣␣␣␣␣␣␣␣␣␣␣␣␣␣␣␣␣␣␣␣␣␣␣␣␣␣␣␣␣␣␣␣␣␣␣␣␣␣␣␣␣␣␣␣␣␣␣␣␣␣␣␣␣␣␣␣␣␣␣␣␣␣␣␣␣␣␣␣␣␣␣␣␣␣␣␣␣␣␣␣␣␣␣␣␣␣␣␣␣␣␣␣␣␣␣␣␣␣␣␣␣␣␣␣␣␣␣␣␣␣␣␣␣␣␣␣␣␣␣␣␣␣␣␣␣␣␣␣␣␣␣␣␣␣␣␣␣␣␣␣␣␣␣␣␣␣␣␣␣␣␣␣␣␣␣␣␣␣␣␣␣␣␣␣␣␣␣␣␣␣␣␣␣␣␣␣␣␣␣␣␣␣␣␣␣␣␣␣␣␣␣␣␣␣␣␣␣␣␣␣␣␣␣␣␣␣␣␣␣␣␣␣␣␣␣␣␣␣␣␣␣␣␣␣␣␣␣␣␣␣␣␣␣␣␣␣␣␣␣␣␣␣␣␣␣␣␣␣␣␣␣␣␣␣␣␣␣␣␣␣␣␣␣␣␣␣␣␣␣␣␣␣␣␣␣␣␣␣␣␣␣␣␣␣␣␣␣␣␣␣␣␣␣␣␣␣␣␣␣␣␣␣␣␣␣␣␣␣␣␣␣␣␣␣␣␣␣␣␣␣␣␣␣␣␣␣␣␣␣␣␣␣␣␣␣␣␣␣␣␣␣␣␣␣␣␣␣␣␣␣␣␣␣␣␣␣␣␣␣␣␣␣␣␣␣␣␣␣␣␣␣␣␣␣␣␣␣␣␣␣␣␣␣␣␣␣␣␣␣␣␣␣␣␣␣␣␣␣␣␣␣␣␣␣␣␣␣␣␣␣␣␣␣␣␣␣␣␣␣␣␣␣␣␣␣␣␣␣␣␣␣␣␣␣␣␣␣␣␣␣␣␣␣␣␣␣␣␣␣␣␣␣␣␣␣␣␣␣␣␣␣␣␣␣␣␣␣␣␣␣␣␣␣␣␣␣␣␣␣␣␣␣␣␣␣␣␣␣␣␣␣␣␣␣␣␣␣␣␣␣␣␣␣␣␣␣␣␣␣␣␣␣␣␣␣␣␣␣␣␣␣␣␣␣␣␣␣␣␣␣␣␣␣␣␣␣␣␣␣␣␣␣␣␣␣␣␣␣␣␣␣␣␣␣␣␣␣␣␣␣␣␣␣␣␣␣␣␣␣␣␣␣␣␣␣␣␣␣␣␣␣␣␣␣␣␣␣␣␣␣␣␣␣␣␣␣␣␣␣␣␣␣␣␣␣␣␣␣␣␣␣␣␣␣␣␣␣␣␣␣␣␣␣␣␣␣␣␣␣␣␣␣␣␣␣␣␣␣\n"
          ]
        }
      ],
      "source": [
        "recipe_sequence_to_string(dataset_vectorized_padded[0])"
      ]
    },
    {
      "cell_type": "code",
      "execution_count": 45,
      "metadata": {
        "colab": {
          "base_uri": "https://localhost:8080/"
        },
        "id": "H51-PGMMUguv",
        "outputId": "b5eb4f7e-99aa-4e70-97c8-cbde39ee152b"
      },
      "outputs": [
        {
          "name": "stdout",
          "output_type": "stream",
          "text": [
            "max_index_example:  175\n"
          ]
        }
      ],
      "source": [
        "max_index_example = np.max(dataset_vectorized_padded)\n",
        "\n",
        "print('max_index_example: ', max_index_example)"
      ]
    },
    {
      "cell_type": "markdown",
      "metadata": {
        "id": "ZoZqCOjRzoBH"
      },
      "source": [
        "### Create TensorFlow dataset "
      ]
    },
    {
      "cell_type": "code",
      "execution_count": 46,
      "metadata": {
        "colab": {
          "base_uri": "https://localhost:8080/"
        },
        "id": "yVznKnhVzoBI",
        "outputId": "20c29871-3264-4f72-9baa-1e5737f9b82f"
      },
      "outputs": [
        {
          "name": "stdout",
          "output_type": "stream",
          "text": [
            "<TensorSliceDataset shapes: (2001,), types: tf.int32>\n"
          ]
        },
        {
          "name": "stderr",
          "output_type": "stream",
          "text": [
            "2021-12-07 12:22:12.674395: I tensorflow/core/platform/cpu_feature_guard.cc:142] This TensorFlow binary is optimized with oneAPI Deep Neural Network Library (oneDNN)to use the following CPU instructions in performance-critical operations:  AVX2 FMA\n",
            "To enable them in other operations, rebuild TensorFlow with the appropriate compiler flags.\n",
            "2021-12-07 12:22:12.719795: I tensorflow/compiler/xla/service/service.cc:168] XLA service 0x7f923cec1b30 initialized for platform Host (this does not guarantee that XLA will be used). Devices:\n",
            "2021-12-07 12:22:12.719821: I tensorflow/compiler/xla/service/service.cc:176]   StreamExecutor device (0): Host, Default Version\n"
          ]
        }
      ],
      "source": [
        "dataset = tf.data.Dataset.from_tensor_slices(dataset_vectorized_padded)\n",
        "\n",
        "print(dataset)"
      ]
    },
    {
      "cell_type": "code",
      "execution_count": 47,
      "metadata": {
        "colab": {
          "base_uri": "https://localhost:8080/"
        },
        "id": "vXotghNqzoBL",
        "outputId": "e48eb164-ea87-4b2a-b407-88e613ec8358"
      },
      "outputs": [
        {
          "name": "stdout",
          "output_type": "stream",
          "text": [
            "Raw recipe:\n",
            " [ 51   1  33 ... 165 165 165] \n",
            "\n",
            "\n",
            "\n",
            "Stringified recipe:\n",
            "\n",
            "📗 Slow Cooker Chicken and Dumplings\n",
            "\n",
            "🥕\n",
            "\n",
            "• 4 skinless, boneless chicken breast halves \n",
            "• 2 tablespoons butter \n",
            "• 2 (10.75 ounce) cans condensed cream of chicken soup \n",
            "• 1 onion, finely diced \n",
            "• 2 (10 ounce) packages refrigerated biscuit dough, torn into pieces \n",
            "\n",
            "📝\n",
            "\n",
            "▪︎ Place the chicken, butter, soup, and onion in a slow cooker, and fill with enough water to cover.\n",
            "▪︎ Cover, and cook for 5 to 6 hours on High. About 30 minutes before serving, place the torn biscuit dough in the slow cooker. Cook until the dough is no longer raw in the center.\n",
            "␣␣␣␣␣␣␣␣␣␣␣␣␣␣␣␣␣␣␣␣␣␣␣␣␣␣␣␣␣␣␣␣␣␣␣␣␣␣␣␣␣␣␣␣␣␣␣␣␣␣␣␣␣␣␣␣␣␣␣␣␣␣␣␣␣␣␣␣␣␣␣␣␣␣␣␣␣␣␣␣␣␣␣␣␣␣␣␣␣␣␣␣␣␣␣␣␣␣␣␣␣␣␣␣␣␣␣␣␣␣␣␣␣␣␣␣␣␣␣␣␣␣␣␣␣␣␣␣␣␣␣␣␣␣␣␣␣␣␣␣␣␣␣␣␣␣␣␣␣␣␣␣␣␣␣␣␣␣␣␣␣␣␣␣␣␣␣␣␣␣␣␣␣␣␣␣␣␣␣␣␣␣␣␣␣␣␣␣␣␣␣␣␣␣␣␣␣␣␣␣␣␣␣␣␣␣␣␣␣␣␣␣␣␣␣␣␣␣␣␣␣␣␣␣␣␣␣␣␣␣␣␣␣␣␣␣␣␣␣␣␣␣␣␣␣␣␣␣␣␣␣␣␣␣␣␣␣␣␣␣␣␣␣␣␣␣␣␣␣␣␣␣␣␣␣␣␣␣␣␣␣␣␣␣␣␣␣␣␣␣␣␣␣␣␣␣␣␣␣␣␣␣␣␣␣␣␣␣␣␣␣␣␣␣␣␣␣␣␣␣␣␣␣␣␣␣␣␣␣␣␣␣␣␣␣␣␣␣␣␣␣␣␣␣␣␣␣␣␣␣␣␣␣␣␣␣␣␣␣␣␣␣␣␣␣␣␣␣␣␣␣␣␣␣␣␣␣␣␣␣␣␣␣␣␣␣␣␣␣␣␣␣␣␣␣␣␣␣␣␣␣␣␣␣␣␣␣␣␣␣␣␣␣␣␣␣␣␣␣␣␣␣␣␣␣␣␣␣␣␣␣␣␣␣␣␣␣␣␣␣␣␣␣␣␣␣␣␣␣␣␣␣␣␣␣␣␣␣␣␣␣␣␣␣␣␣␣␣␣␣␣␣␣␣␣␣␣␣␣␣␣␣␣␣␣␣␣␣␣␣␣␣␣␣␣␣␣␣␣␣␣␣␣␣␣␣␣␣␣␣␣␣␣␣␣␣␣␣␣␣␣␣␣␣␣␣␣␣␣␣␣␣␣␣␣␣␣␣␣␣␣␣␣␣␣␣␣␣␣␣␣␣␣␣␣␣␣␣␣␣␣␣␣␣␣␣␣␣␣␣␣␣␣␣␣␣␣␣␣␣␣␣␣␣␣␣␣␣␣␣␣␣␣␣␣␣␣␣␣␣␣␣␣␣␣␣␣␣␣␣␣␣␣␣␣␣␣␣␣␣␣␣␣␣␣␣␣␣␣␣␣␣␣␣␣␣␣␣␣␣␣␣␣␣␣␣␣␣␣␣␣␣␣␣␣␣␣␣␣␣␣␣␣␣␣␣␣␣␣␣␣␣␣␣␣␣␣␣␣␣␣␣␣␣␣␣␣␣␣␣␣␣␣␣␣␣␣␣␣␣␣␣␣␣␣␣␣␣␣␣␣␣␣␣␣␣␣␣␣␣␣␣␣␣␣␣␣␣␣␣␣␣␣␣␣␣␣␣␣␣␣␣␣␣␣␣␣␣␣␣␣␣␣␣␣␣␣␣␣␣␣␣␣␣␣␣␣␣␣␣␣␣␣␣␣␣␣␣␣␣␣␣␣␣␣␣␣␣␣␣␣␣␣␣␣␣␣␣␣␣␣␣␣␣␣␣␣␣␣␣␣␣␣␣␣␣␣␣␣␣␣␣␣␣␣␣␣␣␣␣␣␣␣␣␣␣␣␣␣␣␣␣␣␣␣␣␣␣␣␣␣␣␣␣␣␣␣␣␣␣␣␣␣␣␣␣␣␣␣␣␣␣␣␣␣␣␣␣␣␣␣␣␣␣␣␣␣␣␣␣␣␣␣␣␣␣␣␣␣␣␣␣␣␣␣␣␣␣␣␣␣␣␣␣␣␣␣␣␣␣␣␣␣␣␣␣␣␣␣␣␣␣␣␣␣␣␣␣␣␣␣␣␣␣␣␣␣␣␣␣␣␣␣␣␣␣␣␣␣␣␣␣␣␣␣␣␣␣␣␣␣␣␣␣␣␣␣␣␣␣␣␣␣␣␣␣␣␣␣␣␣␣␣␣␣␣␣␣␣␣␣␣␣␣␣␣␣␣␣␣␣␣␣␣␣␣␣␣␣␣␣␣␣␣␣␣␣␣␣␣␣␣␣␣␣␣␣␣␣␣␣␣␣␣␣␣␣␣␣␣␣␣␣␣␣␣␣␣␣␣␣␣␣␣␣␣␣␣␣␣␣␣␣␣␣␣␣␣␣␣␣␣␣␣␣␣␣␣␣␣␣␣␣␣␣␣␣␣␣␣␣␣␣␣␣␣␣␣␣␣␣␣␣␣␣␣␣␣␣␣␣␣␣␣␣␣␣␣␣␣␣␣␣␣␣␣␣␣␣␣␣␣␣␣␣␣␣␣␣␣␣␣␣␣␣␣␣␣␣␣␣␣␣␣␣␣␣␣␣␣␣␣␣␣␣␣␣␣␣␣␣␣␣␣␣␣␣␣␣␣␣␣␣␣␣␣␣␣␣␣␣␣␣␣␣␣␣␣␣␣␣␣␣␣␣␣␣␣␣␣␣␣␣␣␣␣␣␣␣␣␣␣␣␣␣␣␣␣␣␣␣␣␣␣␣␣␣␣␣␣␣␣␣␣␣␣␣␣␣␣␣␣␣␣␣␣␣␣␣␣␣␣␣␣␣␣␣␣␣␣␣␣␣␣␣␣␣␣␣␣␣␣␣␣␣␣␣␣␣␣␣␣␣␣␣␣␣␣␣␣␣␣␣␣␣␣␣␣␣␣␣␣␣␣␣␣␣␣␣␣␣␣␣␣␣␣␣␣␣␣␣␣␣␣␣␣␣␣␣␣␣␣␣␣␣␣␣␣␣␣␣␣␣␣␣␣␣␣␣␣␣␣␣␣␣␣␣␣␣␣␣␣␣␣␣␣␣␣␣␣␣␣␣␣␣␣␣␣␣␣␣␣␣␣␣␣␣␣␣␣␣␣␣␣␣␣␣␣␣␣␣␣␣␣␣␣␣␣␣␣␣␣␣␣␣␣␣␣␣␣␣␣␣␣␣␣␣␣␣␣␣␣␣␣␣\n"
          ]
        }
      ],
      "source": [
        "for recipe in dataset.take(1):\n",
        "    print('Raw recipe:\\n', recipe.numpy(), '\\n\\n\\n')\n",
        "    print('Stringified recipe:\\n')\n",
        "    recipe_sequence_to_string(recipe.numpy())"
      ]
    },
    {
      "cell_type": "code",
      "execution_count": 50,
      "metadata": {},
      "outputs": [],
      "source": [
        "def split_input_target(recipe):\n",
        "    input_text = recipe[:-1]\n",
        "    target_text = recipe[1:]\n",
        "    \n",
        "    return input_text, target_text"
      ]
    },
    {
      "cell_type": "code",
      "execution_count": 51,
      "metadata": {},
      "outputs": [
        {
          "name": "stdout",
          "output_type": "stream",
          "text": [
            "<MapDataset shapes: ((2000,), (2000,)), types: (tf.int32, tf.int32)>\n"
          ]
        }
      ],
      "source": [
        "dataset_targeted = dataset.map(split_input_target)\n",
        "\n",
        "print(dataset_targeted)"
      ]
    },
    {
      "cell_type": "code",
      "execution_count": 53,
      "metadata": {
        "colab": {
          "base_uri": "https://localhost:8080/"
        },
        "id": "LlYun70NzoBc",
        "outputId": "b3e3f37b-9b22-4118-de6f-410f63fab760"
      },
      "outputs": [
        {
          "name": "stdout",
          "output_type": "stream",
          "text": [
            "Input sequence size: 2000\n",
            "Target sequence size: 2000\n",
            "\n",
            "Input:   '📗   S l o w   C o o k e r   C h i c k e n   a n d   D u m p l i n g s \\n \\n 🥕 \\n \\n •   4   s k i n l e'\n",
            "Target:  '  S l o w   C o o k e r   C h i c k e n   a n d   D u m p l i n g s \\n \\n 🥕 \\n \\n •   4   s k i n l e s'\n"
          ]
        }
      ],
      "source": [
        "for input_example, target_example in dataset_targeted.take(1):\n",
        "    print('Input sequence size:', repr(len(input_example.numpy())))\n",
        "    print('Target sequence size:', repr(len(target_example.numpy())))\n",
        "    print()\n",
        "    \n",
        "    input_stringified = tokenizer.sequences_to_texts([input_example.numpy()[:50]])[0]\n",
        "    target_stringified = tokenizer.sequences_to_texts([target_example.numpy()[:50]])[0]\n",
        "    \n",
        "    print('Input:  ', repr(''.join(input_stringified)))\n",
        "    print('Target: ', repr(''.join(target_stringified)))"
      ]
    },
    {
      "cell_type": "markdown",
      "metadata": {
        "id": "citnIqmDzoBe"
      },
      "source": [
        "Each index of these vectors are processed as one time step. For the input at time step 0, the model receives the index for `[` and tries to predict the index for `T` as the next character. At the next time-step, it does the same thing but the RNN considers the previous step context in addition to the current input character."
      ]
    },
    {
      "cell_type": "code",
      "execution_count": 54,
      "metadata": {
        "colab": {
          "base_uri": "https://localhost:8080/"
        },
        "id": "MEjjnxFZzoBe",
        "outputId": "b16b3b16-c22a-4474-f87a-7834813d6e9c"
      },
      "outputs": [
        {
          "name": "stdout",
          "output_type": "stream",
          "text": [
            "Step  1\n",
            "  input: 51 ('📗')\n",
            "  expected output: 1 (' ')\n",
            "Step  2\n",
            "  input: 1 (' ')\n",
            "  expected output: 33 ('S')\n",
            "Step  3\n",
            "  input: 33 ('S')\n",
            "  expected output: 10 ('l')\n",
            "Step  4\n",
            "  input: 10 ('l')\n",
            "  expected output: 5 ('o')\n",
            "Step  5\n",
            "  input: 5 ('o')\n",
            "  expected output: 23 ('w')\n",
            "Step  6\n",
            "  input: 23 ('w')\n",
            "  expected output: 1 (' ')\n",
            "Step  7\n",
            "  input: 1 (' ')\n",
            "  expected output: 35 ('C')\n",
            "Step  8\n",
            "  input: 35 ('C')\n",
            "  expected output: 5 ('o')\n",
            "Step  9\n",
            "  input: 5 ('o')\n",
            "  expected output: 5 ('o')\n",
            "Step 10\n",
            "  input: 5 ('o')\n",
            "  expected output: 25 ('k')\n"
          ]
        }
      ],
      "source": [
        "for i, (input_idx, target_idx) in enumerate(zip(input_example[:10], target_example[:10])):\n",
        "    print('Step {:2d}'.format(i + 1))\n",
        "    print('  input: {} ({:s})'.format(input_idx, repr(tokenizer.sequences_to_texts([[input_idx.numpy()]])[0])))\n",
        "    print('  expected output: {} ({:s})'.format(target_idx, repr(tokenizer.sequences_to_texts([[target_idx.numpy()]])[0])))"
      ]
    },
    {
      "cell_type": "markdown",
      "metadata": {
        "id": "JRe4AIFczoBi"
      },
      "source": [
        "### Split up the dataset into batches"
      ]
    },
    {
      "cell_type": "code",
      "execution_count": 55,
      "metadata": {
        "colab": {
          "base_uri": "https://localhost:8080/"
        },
        "id": "Q6ivTD7PzoBk",
        "outputId": "89417079-9884-44b1-a4e9-231e78beb460"
      },
      "outputs": [
        {
          "name": "stdout",
          "output_type": "stream",
          "text": [
            "<MapDataset shapes: ((2000,), (2000,)), types: (tf.int32, tf.int32)>\n"
          ]
        }
      ],
      "source": [
        "dataset_targeted = dataset.map(split_input_target)\n",
        "\n",
        "print(dataset_targeted)"
      ]
    },
    {
      "cell_type": "code",
      "execution_count": 56,
      "metadata": {
        "colab": {
          "base_uri": "https://localhost:8080/"
        },
        "id": "S0C0eb5jzoBi",
        "outputId": "df3e1731-eeb7-477a-a488-af74d10bc1be"
      },
      "outputs": [
        {
          "name": "stdout",
          "output_type": "stream",
          "text": [
            "TOTAL_RECIPES_NUM:  100212\n",
            "MAX_RECIPE_LENGTH:  2000\n",
            "VOCABULARY_SIZE:  176\n"
          ]
        }
      ],
      "source": [
        "print('TOTAL_RECIPES_NUM: ', TOTAL_RECIPES_NUM)\n",
        "print('MAX_RECIPE_LENGTH: ', MAX_RECIPE_LENGTH)\n",
        "print('VOCABULARY_SIZE: ', VOCABULARY_SIZE)"
      ]
    },
    {
      "cell_type": "code",
      "execution_count": 57,
      "metadata": {
        "id": "KM6sImcezoBp"
      },
      "outputs": [],
      "source": [
        "# Batch size.\n",
        "BATCH_SIZE = 64\n",
        "\n",
        "if DEBUG:\n",
        "    BATCH_SIZE = DEBUG_EXAMPLES\n",
        "\n",
        "# Buffer size to shuffle the dataset (TF data is designed to work\n",
        "# with possibly infinite sequences, so it doesn't attempt to shuffle\n",
        "# the entire sequence in memory. Instead, it maintains a buffer in\n",
        "# which it shuffles elements).\n",
        "SHUFFLE_BUFFER_SIZE = 1000\n",
        "\n",
        "if DEBUG:\n",
        "    SHUFFLE_BUFFER_SIZE = 1"
      ]
    },
    {
      "cell_type": "code",
      "execution_count": 58,
      "metadata": {
        "colab": {
          "base_uri": "https://localhost:8080/"
        },
        "id": "Crhdr5gwzoBs",
        "outputId": "4800f889-d266-47a8-8a5c-870c6453893c"
      },
      "outputs": [
        {
          "name": "stdout",
          "output_type": "stream",
          "text": [
            "<RepeatDataset shapes: ((64, 2000), (64, 2000)), types: (tf.int32, tf.int32)>\n"
          ]
        }
      ],
      "source": [
        "if DEBUG:\n",
        "    dataset_train = dataset_targeted \\\n",
        "        .repeat() \\\n",
        "        .batch(BATCH_SIZE, drop_remainder=True)\n",
        "else:\n",
        "    dataset_train = dataset_targeted \\\n",
        "      .shuffle(SHUFFLE_BUFFER_SIZE) \\\n",
        "      .batch(BATCH_SIZE, drop_remainder=True) \\\n",
        "      .repeat()\n",
        "\n",
        "print(dataset_train)"
      ]
    },
    {
      "cell_type": "code",
      "execution_count": 59,
      "metadata": {
        "colab": {
          "base_uri": "https://localhost:8080/"
        },
        "id": "eQvSzn_QzoBu",
        "outputId": "7eb23005-5c79-441d-9952-e31689777155"
      },
      "outputs": [
        {
          "name": "stdout",
          "output_type": "stream",
          "text": [
            "1st batch: input_text: tf.Tensor(\n",
            "[[ 51   1  64 ... 165 165 165]\n",
            " [ 51   1  35 ... 165 165 165]\n",
            " [ 51   1  33 ... 165 165 165]\n",
            " ...\n",
            " [ 51   1  44 ... 165 165 165]\n",
            " [ 51   1  33 ... 165 165 165]\n",
            " [ 51   1  44 ... 165 165 165]], shape=(64, 2000), dtype=int32)\n",
            "\n",
            "1st batch: target_text: tf.Tensor(\n",
            "[[  1  64   3 ... 165 165 165]\n",
            " [  1  35  12 ... 165 165 165]\n",
            " [  1  33   3 ... 165 165 165]\n",
            " ...\n",
            " [  1  44  27 ... 165 165 165]\n",
            " [  1  33   5 ... 165 165 165]\n",
            " [  1  44   8 ... 165 165 165]], shape=(64, 2000), dtype=int32)\n"
          ]
        }
      ],
      "source": [
        "for input_text, target_text in dataset_train.take(1):\n",
        "    print('1st batch: input_text:', input_text)\n",
        "    print()\n",
        "    print('1st batch: target_text:', target_text)"
      ]
    },
    {
      "cell_type": "code",
      "execution_count": 67,
      "metadata": {},
      "outputs": [
        {
          "ename": "InternalError",
          "evalue": "Tensorflow type 21 not convertible to numpy dtype.",
          "output_type": "error",
          "traceback": [
            "\u001b[0;31m---------------------------------------------------------------------------\u001b[0m",
            "\u001b[0;31mInternalError\u001b[0m                             Traceback (most recent call last)",
            "\u001b[0;32m/var/folders/bs/4lkb549n2k16lgl0jmf7ywjm0000gn/T/ipykernel_43036/249734621.py\u001b[0m in \u001b[0;36m<module>\u001b[0;34m\u001b[0m\n\u001b[1;32m      5\u001b[0m     \u001b[0mos\u001b[0m\u001b[0;34m.\u001b[0m\u001b[0mmakedirs\u001b[0m\u001b[0;34m(\u001b[0m\u001b[0mDIR\u001b[0m\u001b[0;34m)\u001b[0m\u001b[0;34m\u001b[0m\u001b[0;34m\u001b[0m\u001b[0m\n\u001b[1;32m      6\u001b[0m \u001b[0;32mwith\u001b[0m \u001b[0mopen\u001b[0m\u001b[0;34m(\u001b[0m\u001b[0;34m'./saved_data/preprocess/tf_dataset_train.pickle'\u001b[0m\u001b[0;34m,\u001b[0m \u001b[0;34m'wb+'\u001b[0m\u001b[0;34m)\u001b[0m \u001b[0;32mas\u001b[0m \u001b[0mhandle\u001b[0m\u001b[0;34m:\u001b[0m\u001b[0;34m\u001b[0m\u001b[0;34m\u001b[0m\u001b[0m\n\u001b[0;32m----> 7\u001b[0;31m     \u001b[0mpickle\u001b[0m\u001b[0;34m.\u001b[0m\u001b[0mdump\u001b[0m\u001b[0;34m(\u001b[0m\u001b[0mdataset_train\u001b[0m\u001b[0;34m,\u001b[0m \u001b[0mhandle\u001b[0m\u001b[0;34m,\u001b[0m \u001b[0mprotocol\u001b[0m\u001b[0;34m=\u001b[0m\u001b[0mpickle\u001b[0m\u001b[0;34m.\u001b[0m\u001b[0mHIGHEST_PROTOCOL\u001b[0m\u001b[0;34m)\u001b[0m\u001b[0;34m\u001b[0m\u001b[0;34m\u001b[0m\u001b[0m\n\u001b[0m",
            "\u001b[0;32m~/cshome/cs1470/ml-recipe-generator/env/lib/python3.7/site-packages/tensorflow/python/framework/ops.py\u001b[0m in \u001b[0;36m__reduce__\u001b[0;34m(self)\u001b[0m\n\u001b[1;32m    990\u001b[0m \u001b[0;34m\u001b[0m\u001b[0m\n\u001b[1;32m    991\u001b[0m   \u001b[0;32mdef\u001b[0m \u001b[0m__reduce__\u001b[0m\u001b[0;34m(\u001b[0m\u001b[0mself\u001b[0m\u001b[0;34m)\u001b[0m\u001b[0;34m:\u001b[0m\u001b[0;34m\u001b[0m\u001b[0;34m\u001b[0m\u001b[0m\n\u001b[0;32m--> 992\u001b[0;31m     \u001b[0;32mreturn\u001b[0m \u001b[0mconvert_to_tensor\u001b[0m\u001b[0;34m,\u001b[0m \u001b[0;34m(\u001b[0m\u001b[0mself\u001b[0m\u001b[0;34m.\u001b[0m\u001b[0m_numpy\u001b[0m\u001b[0;34m(\u001b[0m\u001b[0;34m)\u001b[0m\u001b[0;34m,\u001b[0m\u001b[0;34m)\u001b[0m\u001b[0;34m\u001b[0m\u001b[0;34m\u001b[0m\u001b[0m\n\u001b[0m\u001b[1;32m    993\u001b[0m \u001b[0;34m\u001b[0m\u001b[0m\n\u001b[1;32m    994\u001b[0m   \u001b[0;32mdef\u001b[0m \u001b[0m__copy__\u001b[0m\u001b[0;34m(\u001b[0m\u001b[0mself\u001b[0m\u001b[0;34m)\u001b[0m\u001b[0;34m:\u001b[0m\u001b[0;34m\u001b[0m\u001b[0;34m\u001b[0m\u001b[0m\n",
            "\u001b[0;32m~/cshome/cs1470/ml-recipe-generator/env/lib/python3.7/site-packages/tensorflow/python/framework/ops.py\u001b[0m in \u001b[0;36m_numpy\u001b[0;34m(self)\u001b[0m\n\u001b[1;32m   1029\u001b[0m       \u001b[0;32mreturn\u001b[0m \u001b[0mself\u001b[0m\u001b[0;34m.\u001b[0m\u001b[0m_numpy_internal\u001b[0m\u001b[0;34m(\u001b[0m\u001b[0;34m)\u001b[0m\u001b[0;34m\u001b[0m\u001b[0;34m\u001b[0m\u001b[0m\n\u001b[1;32m   1030\u001b[0m     \u001b[0;32mexcept\u001b[0m \u001b[0mcore\u001b[0m\u001b[0;34m.\u001b[0m\u001b[0m_NotOkStatusException\u001b[0m \u001b[0;32mas\u001b[0m \u001b[0me\u001b[0m\u001b[0;34m:\u001b[0m  \u001b[0;31m# pylint: disable=protected-access\u001b[0m\u001b[0;34m\u001b[0m\u001b[0;34m\u001b[0m\u001b[0m\n\u001b[0;32m-> 1031\u001b[0;31m       \u001b[0msix\u001b[0m\u001b[0;34m.\u001b[0m\u001b[0mraise_from\u001b[0m\u001b[0;34m(\u001b[0m\u001b[0mcore\u001b[0m\u001b[0;34m.\u001b[0m\u001b[0m_status_to_exception\u001b[0m\u001b[0;34m(\u001b[0m\u001b[0me\u001b[0m\u001b[0;34m.\u001b[0m\u001b[0mcode\u001b[0m\u001b[0;34m,\u001b[0m \u001b[0me\u001b[0m\u001b[0;34m.\u001b[0m\u001b[0mmessage\u001b[0m\u001b[0;34m)\u001b[0m\u001b[0;34m,\u001b[0m \u001b[0;32mNone\u001b[0m\u001b[0;34m)\u001b[0m  \u001b[0;31m# pylint: disable=protected-access\u001b[0m\u001b[0;34m\u001b[0m\u001b[0;34m\u001b[0m\u001b[0m\n\u001b[0m\u001b[1;32m   1032\u001b[0m \u001b[0;34m\u001b[0m\u001b[0m\n\u001b[1;32m   1033\u001b[0m   \u001b[0;34m@\u001b[0m\u001b[0mproperty\u001b[0m\u001b[0;34m\u001b[0m\u001b[0;34m\u001b[0m\u001b[0m\n",
            "\u001b[0;32m~/cshome/cs1470/ml-recipe-generator/env/lib/python3.7/site-packages/six.py\u001b[0m in \u001b[0;36mraise_from\u001b[0;34m(value, from_value)\u001b[0m\n",
            "\u001b[0;31mInternalError\u001b[0m: Tensorflow type 21 not convertible to numpy dtype."
          ]
        }
      ],
      "source": [
        "import pickle\n",
        "DIR = './saved_data/preprocess/'\n",
        "\n",
        "if not os.path.isdir(DIR):\n",
        "    os.makedirs(DIR)\n",
        "with open('./saved_data/preprocess/tf_dataset_train.pickle', 'wb+') as handle:\n",
        "    pickle.dump(dataset_train, handle, protocol=pickle.HIGHEST_PROTOCOL)"
      ]
    },
    {
      "cell_type": "markdown",
      "metadata": {
        "id": "I1Cb5DwhzoB0"
      },
      "source": [
        "## Build the model"
      ]
    },
    {
      "cell_type": "markdown",
      "metadata": {
        "id": "il6FFdWGzoB0"
      },
      "source": [
        "Use [tf.keras.Sequential](https://www.tensorflow.org/api_docs/python/tf/keras/Sequential) to define the model. For this experiment we will use the following layer types:\n",
        "\n",
        "- [tf.keras.layers.Embedding](https://www.tensorflow.org/api_docs/python/tf/keras/layers/Embedding): The input layer. A trainable lookup table that will map the numbers of each character to a vector with `embedding_dim` dimensions;\n",
        "- [tf.keras.layers.LSTM](https://www.tensorflow.org/api_docs/python/tf/keras/layers/LSTM): A type of RNN with size units=rnn_units (You can also use a GRU layer here.)\n",
        "- [tf.keras.layers.Dense](https://www.tensorflow.org/api_docs/python/tf/keras/layers/Dense): The output layer, with vocab_size outputs."
      ]
    },
    {
      "cell_type": "code",
      "execution_count": 57,
      "metadata": {
        "colab": {
          "base_uri": "https://localhost:8080/"
        },
        "id": "WI7drW1azoB0",
        "outputId": "94c4d0fe-cc7d-4808-c253-c6edcab66634"
      },
      "outputs": [
        {
          "name": "stdout",
          "output_type": "stream",
          "text": [
            "tmp_input_array shape: (2, 8)\n",
            "tmp_input_array:\n",
            "[[7 5 0 6 5 7 8 9]\n",
            " [8 3 9 8 4 1 9 2]]\n",
            "\n",
            "tmp_output_array shape: (2, 8, 5)\n",
            "tmp_output_array:\n",
            "[[[-3.2382190e-02  4.7272447e-02  6.4714178e-03 -4.7182571e-02\n",
            "    4.8785534e-02]\n",
            "  [-3.1190142e-03  3.6506388e-02  4.7826502e-02 -1.1027232e-03\n",
            "    4.0232111e-02]\n",
            "  [-4.3155670e-02  1.0528125e-02 -1.1346925e-02 -3.7194025e-02\n",
            "    3.1945113e-02]\n",
            "  [ 3.1670872e-02  1.3493981e-02  4.6697568e-02 -1.9061817e-02\n",
            "   -3.1462669e-02]\n",
            "  [-3.1190142e-03  3.6506388e-02  4.7826502e-02 -1.1027232e-03\n",
            "    4.0232111e-02]\n",
            "  [-3.2382190e-02  4.7272447e-02  6.4714178e-03 -4.7182571e-02\n",
            "    4.8785534e-02]\n",
            "  [ 3.6831822e-02  3.7457753e-02 -4.6410691e-02  4.0284507e-03\n",
            "    3.1056050e-02]\n",
            "  [ 3.3109497e-02  1.8017877e-02  3.4200501e-02  1.7742030e-03\n",
            "   -2.5958642e-03]]\n",
            "\n",
            " [[ 3.6831822e-02  3.7457753e-02 -4.6410691e-02  4.0284507e-03\n",
            "    3.1056050e-02]\n",
            "  [-4.3945707e-02  4.8544440e-02  4.9445853e-03 -6.2428415e-05\n",
            "    1.9483279e-02]\n",
            "  [ 3.3109497e-02  1.8017877e-02  3.4200501e-02  1.7742030e-03\n",
            "   -2.5958642e-03]\n",
            "  [ 3.6831822e-02  3.7457753e-02 -4.6410691e-02  4.0284507e-03\n",
            "    3.1056050e-02]\n",
            "  [-1.3945021e-02  3.4705769e-02  2.3450229e-02  2.2238899e-02\n",
            "   -3.7288345e-02]\n",
            "  [ 4.2316113e-02  2.3459557e-02  2.2624884e-02  4.5724336e-02\n",
            "   -4.6694722e-02]\n",
            "  [ 3.3109497e-02  1.8017877e-02  3.4200501e-02  1.7742030e-03\n",
            "   -2.5958642e-03]\n",
            "  [-4.9885489e-02 -3.6274720e-02 -2.0244528e-02 -3.7587509e-03\n",
            "    1.8803228e-02]]]\n"
          ]
        }
      ],
      "source": [
        "# Let's do a quick detour and see how Embeding layer works.\n",
        "# It takes several char indices sequences (batch) as an input.\n",
        "# It encodes every character of every sequence to a vector of tmp_embeding_size length.\n",
        "tmp_vocab_size = 10\n",
        "tmp_embeding_size = 5\n",
        "tmp_input_length = 8\n",
        "tmp_batch_size = 2\n",
        "\n",
        "tmp_model = tf.keras.models.Sequential()\n",
        "tmp_model.add(tf.keras.layers.Embedding(\n",
        "  input_dim=tmp_vocab_size,\n",
        "  output_dim=tmp_embeding_size,\n",
        "  input_length=tmp_input_length\n",
        "))\n",
        "# The model will take as input an integer matrix of size (batch, input_length).\n",
        "# The largest integer (i.e. word index) in the input should be no larger than 9 (tmp_vocab_size).\n",
        "# Now model.output_shape == (None, 10, 64), where None is the batch dimension.\n",
        "tmp_input_array = np.random.randint(\n",
        "  low=0,\n",
        "  high=tmp_vocab_size,\n",
        "  size=(tmp_batch_size, tmp_input_length)\n",
        ")\n",
        "tmp_model.compile('rmsprop', 'mse')\n",
        "tmp_output_array = tmp_model.predict(tmp_input_array)\n",
        "\n",
        "print('tmp_input_array shape:', tmp_input_array.shape)\n",
        "print('tmp_input_array:')\n",
        "print(tmp_input_array)\n",
        "print()\n",
        "print('tmp_output_array shape:', tmp_output_array.shape)\n",
        "print('tmp_output_array:')\n",
        "print(tmp_output_array)"
      ]
    },
    {
      "cell_type": "markdown",
      "metadata": {
        "id": "21tT2UDbzoB2"
      },
      "source": [
        "### Model 1"
      ]
    },
    {
      "cell_type": "code",
      "execution_count": 58,
      "metadata": {
        "id": "TFcbI5ZpzoB2"
      },
      "outputs": [],
      "source": [
        "# Length of the vocabulary in chars.\n",
        "vocab_size = VOCABULARY_SIZE\n",
        "\n",
        "# The embedding dimension.\n",
        "embedding_dim = 256\n",
        "\n",
        "# Number of RNN units.\n",
        "rnn_units = 1024"
      ]
    },
    {
      "cell_type": "code",
      "execution_count": 59,
      "metadata": {
        "id": "4TFPtjbGzoB4"
      },
      "outputs": [],
      "source": [
        "def build_model_1(vocab_size, embedding_dim, rnn_units, batch_size):\n",
        "    model = tf.keras.models.Sequential()\n",
        "\n",
        "    model.add(tf.keras.layers.Embedding(\n",
        "        input_dim=vocab_size,\n",
        "        output_dim=embedding_dim,\n",
        "        batch_input_shape=[batch_size, None]\n",
        "    ))\n",
        "\n",
        "    model.add(tf.keras.layers.LSTM(\n",
        "        units=rnn_units,\n",
        "        return_sequences=True,\n",
        "        stateful=True,\n",
        "        recurrent_initializer=tf.keras.initializers.GlorotNormal()\n",
        "    ))\n",
        "\n",
        "    model.add(tf.keras.layers.Dense(vocab_size))\n",
        "    \n",
        "    return model"
      ]
    },
    {
      "cell_type": "code",
      "execution_count": 60,
      "metadata": {
        "colab": {
          "base_uri": "https://localhost:8080/"
        },
        "id": "bj3gdYjvzoB6",
        "outputId": "4ee9a042-ee14-4bad-e6fc-c56316daef0b"
      },
      "outputs": [
        {
          "name": "stdout",
          "output_type": "stream",
          "text": [
            "Model: \"sequential_1\"\n",
            "_________________________________________________________________\n",
            "Layer (type)                 Output Shape              Param #   \n",
            "=================================================================\n",
            "embedding_1 (Embedding)      (64, None, 256)           45056     \n",
            "_________________________________________________________________\n",
            "lstm (LSTM)                  (64, None, 1024)          5246976   \n",
            "_________________________________________________________________\n",
            "dense (Dense)                (64, None, 176)           180400    \n",
            "=================================================================\n",
            "Total params: 5,472,432\n",
            "Trainable params: 5,472,432\n",
            "Non-trainable params: 0\n",
            "_________________________________________________________________\n"
          ]
        }
      ],
      "source": [
        "model_1 = build_model_1(vocab_size, embedding_dim, rnn_units, BATCH_SIZE)\n",
        "\n",
        "model_1.summary()"
      ]
    },
    {
      "cell_type": "code",
      "execution_count": 61,
      "metadata": {
        "colab": {
          "base_uri": "https://localhost:8080/",
          "height": 422
        },
        "id": "p3Nl1EbAzoB_",
        "outputId": "763d35b1-351d-41dc-d959-efaec70036c7"
      },
      "outputs": [
        {
          "name": "stdout",
          "output_type": "stream",
          "text": [
            "('Failed to import pydot. You must `pip install pydot` and install graphviz (https://graphviz.gitlab.io/download/), ', 'for `pydotprint` to work.')\n"
          ]
        }
      ],
      "source": [
        "tf.keras.utils.plot_model(\n",
        "    model_1,\n",
        "    show_shapes=True,\n",
        "    show_layer_names=True,\n",
        "    to_file='model_1.png'\n",
        ")"
      ]
    },
    {
      "cell_type": "markdown",
      "metadata": {
        "id": "7wxf1BwOzoCE"
      },
      "source": [
        "For each character the model looks up the embedding, runs the LSTM one time-step with the embedding as input, and applies the dense layer to generate logits predicting the log-likelihood of the next character:\n",
        "\n",
        "![Model architecture](https://www.tensorflow.org/tutorials/text/images/text_generation_training.png)\n",
        "\n",
        "Image source: [Text generation with an RNN](https://www.tensorflow.org/tutorials/text/text_generation) notebook."
      ]
    },
    {
      "cell_type": "markdown",
      "metadata": {
        "id": "wsDx0bOwzoCE"
      },
      "source": [
        "## Trying the model"
      ]
    },
    {
      "cell_type": "code",
      "execution_count": 62,
      "metadata": {
        "colab": {
          "base_uri": "https://localhost:8080/"
        },
        "id": "T8zTYoupzoCF",
        "outputId": "d71d13e1-410a-4441-d37d-00517b42267f"
      },
      "outputs": [
        {
          "name": "stdout",
          "output_type": "stream",
          "text": [
            "(64, 2000, 176) # (batch_size, sequence_length, vocab_size)\n"
          ]
        }
      ],
      "source": [
        "for input_example_batch, target_example_batch in dataset_train.take(1):\n",
        "    example_batch_predictions = model_1(input_example_batch)\n",
        "    print(example_batch_predictions.shape, \"# (batch_size, sequence_length, vocab_size)\")"
      ]
    },
    {
      "cell_type": "markdown",
      "metadata": {
        "id": "N6A-n8AczoCH"
      },
      "source": [
        "To get actual predictions from the model we need to sample from the output distribution, to get actual character indices. This distribution is defined by the logits over the character vocabulary."
      ]
    },
    {
      "cell_type": "code",
      "execution_count": 63,
      "metadata": {
        "colab": {
          "base_uri": "https://localhost:8080/"
        },
        "id": "dkxYzEeBzoCH",
        "outputId": "dbe85ee9-03ee-4187-ed32-209b08087810"
      },
      "outputs": [
        {
          "name": "stdout",
          "output_type": "stream",
          "text": [
            "Prediction for the 1st letter of the batch 1st sequense:\n",
            "tf.Tensor(\n",
            "[-1.0140616e-03  3.1841742e-03 -6.3242679e-03  1.9866549e-03\n",
            " -1.3429660e-03 -1.5123262e-03  1.2792393e-03  5.4553966e-05\n",
            " -4.8421160e-03  1.7243871e-03 -1.1462562e-03 -5.0005375e-04\n",
            " -2.0114980e-03  1.7937457e-03  6.1021131e-03 -6.8630823e-03\n",
            " -4.3034665e-03 -7.8621479e-03 -2.9497605e-03 -3.3966233e-03\n",
            " -4.6933638e-03 -2.9460178e-03  4.8684268e-03  1.0941996e-03\n",
            " -1.8130234e-03  4.2212097e-04  7.4728916e-05 -6.0526966e-03\n",
            "  3.6606132e-03  2.5229802e-04 -2.2892028e-03 -8.6378912e-04\n",
            "  5.3594531e-03 -3.4052965e-03 -2.2404920e-04 -1.3362529e-03\n",
            "  4.5940438e-03  2.0044597e-03 -3.4059591e-03  4.8973588e-03\n",
            " -1.6756549e-03  1.2206157e-03 -3.9598015e-03  2.9223543e-03\n",
            " -3.8569863e-03  4.0656142e-03 -9.3927974e-04  1.6698298e-03\n",
            " -6.7284713e-03 -1.9338140e-03  1.3191053e-03  6.8605179e-04\n",
            " -5.3615831e-03  4.4235773e-03  9.8991895e-04  1.2534977e-03\n",
            "  1.6481588e-03 -5.4662407e-04  2.5345667e-03 -1.8202347e-03\n",
            " -5.7267360e-03 -2.1391069e-03 -4.6363394e-03 -2.4756219e-03\n",
            " -1.9895025e-03 -3.3361046e-04 -4.1782693e-03 -2.4203130e-03\n",
            " -5.1633283e-03  2.7840342e-03 -1.7896076e-03  4.7113337e-03\n",
            " -3.4319649e-03 -2.4807863e-03  6.3456371e-03 -4.7381478e-03\n",
            "  1.1302584e-03 -1.0346081e-03  2.1707530e-03  1.9297062e-03\n",
            " -4.2865430e-03  3.3293886e-04 -2.5816920e-04 -4.2583207e-03\n",
            " -3.1562224e-03  4.5851050e-03 -5.7983072e-04 -1.0750333e-03\n",
            " -9.7558775e-04  4.3432845e-04 -3.6498890e-03 -3.2415928e-04\n",
            " -1.4353310e-03  4.5627663e-03 -2.7176263e-03 -3.4063747e-03\n",
            "  1.5929667e-04 -1.1585068e-03 -4.0710946e-03 -3.5164871e-03\n",
            "  1.0076121e-03 -9.5892732e-04  5.7733618e-03  1.4395824e-03\n",
            " -3.4871616e-03  1.3092912e-03 -1.1426599e-03  3.9727252e-04\n",
            " -4.1765026e-03 -8.0891550e-03 -1.6950824e-03  5.7317787e-03\n",
            "  2.2255750e-03 -2.0600518e-03 -1.1508020e-03 -3.7642333e-04\n",
            " -2.4161958e-03 -3.7467736e-03 -1.0786164e-03 -1.9572708e-03\n",
            " -6.3056666e-03 -1.0848760e-03 -2.9400347e-03 -7.1921665e-03\n",
            " -3.6784192e-04  9.6618780e-05  2.9185149e-03 -1.4539098e-04\n",
            " -1.5907353e-03  3.0421913e-03 -5.4809982e-03 -5.2457685e-03\n",
            "  2.5798990e-03 -8.4471609e-04 -3.3579757e-03 -2.9037863e-03\n",
            " -5.1856344e-04  5.1578451e-03  1.5333488e-03  1.4320734e-03\n",
            "  6.7845429e-04  5.0519640e-04  4.1305823e-03 -8.0441014e-04\n",
            " -4.4246372e-03 -8.9236640e-04  5.6706811e-04  2.2582291e-04\n",
            "  1.5608128e-04  5.6477007e-03 -2.6724867e-03  4.7160680e-03\n",
            "  7.7982317e-04  1.6193843e-03  1.7059708e-03  1.9388112e-03\n",
            " -6.1051464e-03  2.0738486e-03 -2.4614970e-03 -3.4378706e-03\n",
            " -1.2771519e-03  2.6675053e-03 -5.6839115e-03 -1.5835115e-04\n",
            "  1.0839346e-03  2.5209060e-03  3.3186194e-03  6.6405465e-03\n",
            "  4.2070445e-05  1.1839445e-03 -1.4025654e-03  1.1004969e-03\n",
            "  4.2264094e-04 -6.8529975e-05  1.3273067e-03  2.6726807e-03], shape=(176,), dtype=float32)\n"
          ]
        }
      ],
      "source": [
        "print('Prediction for the 1st letter of the batch 1st sequense:')\n",
        "print(example_batch_predictions[0, 0])"
      ]
    },
    {
      "cell_type": "code",
      "execution_count": 64,
      "metadata": {
        "colab": {
          "base_uri": "https://localhost:8080/"
        },
        "id": "eAzyA7N6zoCL",
        "outputId": "5dd371d4-6449-466b-97c3-a35e711e2afb"
      },
      "outputs": [
        {
          "name": "stdout",
          "output_type": "stream",
          "text": [
            "tf.Tensor([[1 1 2 2 2]], shape=(1, 5), dtype=int64)\n"
          ]
        }
      ],
      "source": [
        "# Quick overview of how tf.random.categorical() works.\n",
        "\n",
        "# logits is 2-D Tensor with shape [batch_size, num_classes].\n",
        "# Each slice [i, :] represents the unnormalized log-probabilities for all classes.\n",
        "# In the example below we say that the probability for class \"0\" is low but the\n",
        "# probability for class \"2\" is much higher.\n",
        "tmp_logits = [\n",
        "  [-0.95, 0, 0.95],\n",
        "];\n",
        "\n",
        "# Let's generate 5 samples. Each sample is a class index. Class probabilities \n",
        "# are being taken into account (we expect to see more samples of class \"2\").\n",
        "tmp_samples = tf.random.categorical(\n",
        "    logits=tmp_logits,\n",
        "    num_samples=5\n",
        ")\n",
        "\n",
        "print(tmp_samples)"
      ]
    },
    {
      "cell_type": "code",
      "execution_count": 65,
      "metadata": {
        "colab": {
          "base_uri": "https://localhost:8080/"
        },
        "id": "iY463opZzoCQ",
        "outputId": "71ed856e-6158-4c23-eafe-6f7928492e5a"
      },
      "outputs": [
        {
          "data": {
            "text/plain": [
              "TensorShape([2000, 1])"
            ]
          },
          "execution_count": 65,
          "metadata": {},
          "output_type": "execute_result"
        }
      ],
      "source": [
        "sampled_indices = tf.random.categorical(\n",
        "    logits=example_batch_predictions[0],\n",
        "    num_samples=1\n",
        ")\n",
        "\n",
        "sampled_indices.shape"
      ]
    },
    {
      "cell_type": "code",
      "execution_count": 66,
      "metadata": {
        "colab": {
          "base_uri": "https://localhost:8080/"
        },
        "id": "wW7SdhmpzoCR",
        "outputId": "69dc4330-b662-491b-9dc8-a1f675a6c54a"
      },
      "outputs": [
        {
          "data": {
            "text/plain": [
              "(2000,)"
            ]
          },
          "execution_count": 66,
          "metadata": {},
          "output_type": "execute_result"
        }
      ],
      "source": [
        "sampled_indices = tf.squeeze(\n",
        "    input=sampled_indices,\n",
        "    axis=-1\n",
        ").numpy()\n",
        "\n",
        "sampled_indices.shape"
      ]
    },
    {
      "cell_type": "code",
      "execution_count": 67,
      "metadata": {
        "colab": {
          "base_uri": "https://localhost:8080/"
        },
        "id": "GNCb0mCVzoCV",
        "outputId": "e87f7f58-f11b-4efd-a537-4ef04be90678"
      },
      "outputs": [
        {
          "data": {
            "text/plain": [
              "array([171,  89,  69,  65,  66, 158,  23,  69,  42,  89,  99,  70,  68,\n",
              "       171, 106,  25, 122,  66,  46, 158, 157, 133, 123,  26, 125,  98,\n",
              "        66,  95,  99,  46,  33,  78,  82, 167,  51, 117,  53, 141,  57,\n",
              "        80,  63, 107,  70,  50, 172, 159, 119, 156, 164, 101,  80, 152,\n",
              "        89,  99, 153,  51,  10,  63, 128, 139, 112, 100,   7, 122,  33,\n",
              "       125, 141,  67,  65,  12,  94,  63, 120,  38, 131, 143, 117,  96,\n",
              "        50,  69,  55,   8,  44, 174, 111, 164, 139,  39,   2, 105,  29,\n",
              "       152, 102,  95, 136, 169,   8, 105,  70, 106])"
            ]
          },
          "execution_count": 67,
          "metadata": {},
          "output_type": "execute_result"
        }
      ],
      "source": [
        "sampled_indices[:100]"
      ]
    },
    {
      "cell_type": "code",
      "execution_count": 68,
      "metadata": {
        "colab": {
          "base_uri": "https://localhost:8080/"
        },
        "id": "H9rPAT0yzoCX",
        "outputId": "4ba42346-e9a9-419d-f896-fb3fd9cfe99a"
      },
      "outputs": [
        {
          "name": "stdout",
          "output_type": "stream",
          "text": [
            "Input:\n",
            " '📗   C h o c o l a t e   C h i p   B a n a n a   B r e a d   I I \\n \\n 🥕 \\n \\n •   1   c u p   s h o r t'\n",
            "\n",
            "Next char prediction:\n",
            " \"̀ è E : 7 ⅓ w E ( è í K ' ̀ > k ¾ 7 z ⅓ ø { ‚ 1 º ½ 7 — í z S é * ‟ 📗 ü 📝 @ q Y L $ K R ⅞ | à \\x1a Â ’\"\n"
          ]
        }
      ],
      "source": [
        "print('Input:\\n', repr(''.join(tokenizer.sequences_to_texts([input_example_batch[0].numpy()[:50]]))))\n",
        "print()\n",
        "print('Next char prediction:\\n', repr(''.join(tokenizer.sequences_to_texts([sampled_indices[:50]]))))"
      ]
    },
    {
      "cell_type": "markdown",
      "metadata": {
        "id": "POP-yeyfzoCb"
      },
      "source": [
        "### Trying the model with variable input"
      ]
    },
    {
      "cell_type": "code",
      "execution_count": 69,
      "metadata": {
        "colab": {
          "base_uri": "https://localhost:8080/"
        },
        "id": "k4IpQpepzoCc",
        "outputId": "f15e370d-5b7e-499b-dbbd-a7d785cbaa52"
      },
      "outputs": [
        {
          "name": "stdout",
          "output_type": "stream",
          "text": [
            "Prediction shape:  (64, 10, 176) # (batch_size, sequence_length, vocab_size)\n",
            "\n",
            "Custom length input: \n",
            "[[0. 0. 0. 0. 0. 0. 0. 0. 0. 0.]\n",
            " [0. 0. 0. 0. 0. 0. 0. 0. 0. 0.]\n",
            " [0. 0. 0. 0. 0. 0. 0. 0. 0. 0.]\n",
            " [0. 0. 0. 0. 0. 0. 0. 0. 0. 0.]\n",
            " [0. 0. 0. 0. 0. 0. 0. 0. 0. 0.]\n",
            " [0. 0. 0. 0. 0. 0. 0. 0. 0. 0.]\n",
            " [0. 0. 0. 0. 0. 0. 0. 0. 0. 0.]\n",
            " [0. 0. 0. 0. 0. 0. 0. 0. 0. 0.]\n",
            " [0. 0. 0. 0. 0. 0. 0. 0. 0. 0.]\n",
            " [0. 0. 0. 0. 0. 0. 0. 0. 0. 0.]\n",
            " [0. 0. 0. 0. 0. 0. 0. 0. 0. 0.]\n",
            " [0. 0. 0. 0. 0. 0. 0. 0. 0. 0.]\n",
            " [0. 0. 0. 0. 0. 0. 0. 0. 0. 0.]\n",
            " [0. 0. 0. 0. 0. 0. 0. 0. 0. 0.]\n",
            " [0. 0. 0. 0. 0. 0. 0. 0. 0. 0.]\n",
            " [0. 0. 0. 0. 0. 0. 0. 0. 0. 0.]\n",
            " [0. 0. 0. 0. 0. 0. 0. 0. 0. 0.]\n",
            " [0. 0. 0. 0. 0. 0. 0. 0. 0. 0.]\n",
            " [0. 0. 0. 0. 0. 0. 0. 0. 0. 0.]\n",
            " [0. 0. 0. 0. 0. 0. 0. 0. 0. 0.]\n",
            " [0. 0. 0. 0. 0. 0. 0. 0. 0. 0.]\n",
            " [0. 0. 0. 0. 0. 0. 0. 0. 0. 0.]\n",
            " [0. 0. 0. 0. 0. 0. 0. 0. 0. 0.]\n",
            " [0. 0. 0. 0. 0. 0. 0. 0. 0. 0.]\n",
            " [0. 0. 0. 0. 0. 0. 0. 0. 0. 0.]\n",
            " [0. 0. 0. 0. 0. 0. 0. 0. 0. 0.]\n",
            " [0. 0. 0. 0. 0. 0. 0. 0. 0. 0.]\n",
            " [0. 0. 0. 0. 0. 0. 0. 0. 0. 0.]\n",
            " [0. 0. 0. 0. 0. 0. 0. 0. 0. 0.]\n",
            " [0. 0. 0. 0. 0. 0. 0. 0. 0. 0.]\n",
            " [0. 0. 0. 0. 0. 0. 0. 0. 0. 0.]\n",
            " [0. 0. 0. 0. 0. 0. 0. 0. 0. 0.]\n",
            " [0. 0. 0. 0. 0. 0. 0. 0. 0. 0.]\n",
            " [0. 0. 0. 0. 0. 0. 0. 0. 0. 0.]\n",
            " [0. 0. 0. 0. 0. 0. 0. 0. 0. 0.]\n",
            " [0. 0. 0. 0. 0. 0. 0. 0. 0. 0.]\n",
            " [0. 0. 0. 0. 0. 0. 0. 0. 0. 0.]\n",
            " [0. 0. 0. 0. 0. 0. 0. 0. 0. 0.]\n",
            " [0. 0. 0. 0. 0. 0. 0. 0. 0. 0.]\n",
            " [0. 0. 0. 0. 0. 0. 0. 0. 0. 0.]\n",
            " [0. 0. 0. 0. 0. 0. 0. 0. 0. 0.]\n",
            " [0. 0. 0. 0. 0. 0. 0. 0. 0. 0.]\n",
            " [0. 0. 0. 0. 0. 0. 0. 0. 0. 0.]\n",
            " [0. 0. 0. 0. 0. 0. 0. 0. 0. 0.]\n",
            " [0. 0. 0. 0. 0. 0. 0. 0. 0. 0.]\n",
            " [0. 0. 0. 0. 0. 0. 0. 0. 0. 0.]\n",
            " [0. 0. 0. 0. 0. 0. 0. 0. 0. 0.]\n",
            " [0. 0. 0. 0. 0. 0. 0. 0. 0. 0.]\n",
            " [0. 0. 0. 0. 0. 0. 0. 0. 0. 0.]\n",
            " [0. 0. 0. 0. 0. 0. 0. 0. 0. 0.]\n",
            " [0. 0. 0. 0. 0. 0. 0. 0. 0. 0.]\n",
            " [0. 0. 0. 0. 0. 0. 0. 0. 0. 0.]\n",
            " [0. 0. 0. 0. 0. 0. 0. 0. 0. 0.]\n",
            " [0. 0. 0. 0. 0. 0. 0. 0. 0. 0.]\n",
            " [0. 0. 0. 0. 0. 0. 0. 0. 0. 0.]\n",
            " [0. 0. 0. 0. 0. 0. 0. 0. 0. 0.]\n",
            " [0. 0. 0. 0. 0. 0. 0. 0. 0. 0.]\n",
            " [0. 0. 0. 0. 0. 0. 0. 0. 0. 0.]\n",
            " [0. 0. 0. 0. 0. 0. 0. 0. 0. 0.]\n",
            " [0. 0. 0. 0. 0. 0. 0. 0. 0. 0.]\n",
            " [0. 0. 0. 0. 0. 0. 0. 0. 0. 0.]\n",
            " [0. 0. 0. 0. 0. 0. 0. 0. 0. 0.]\n",
            " [0. 0. 0. 0. 0. 0. 0. 0. 0. 0.]\n",
            " [0. 0. 0. 0. 0. 0. 0. 0. 0. 0.]]\n"
          ]
        }
      ],
      "source": [
        "for input_example_batch_custom, target_example_batch_custom in dataset_train.take(1):\n",
        "    random_input = np.zeros(shape=(BATCH_SIZE, 10))\n",
        "    example_batch_predictions_custom = model_1(random_input)\n",
        "    print('Prediction shape: ', example_batch_predictions_custom.shape, \"# (batch_size, sequence_length, vocab_size)\\n\")\n",
        "    print('Custom length input: ')\n",
        "    print(random_input)"
      ]
    },
    {
      "cell_type": "markdown",
      "metadata": {
        "id": "CY1eRp0hzoCe"
      },
      "source": [
        "## Training the model"
      ]
    },
    {
      "cell_type": "markdown",
      "metadata": {
        "id": "djfrr46QzoCe"
      },
      "source": [
        "### Attach an optimizer, and a loss function"
      ]
    },
    {
      "cell_type": "code",
      "execution_count": 70,
      "metadata": {
        "colab": {
          "base_uri": "https://localhost:8080/"
        },
        "id": "Hf6GcydqzoCe",
        "outputId": "64d219fe-0cee-4d0f-835f-28b82c115f31"
      },
      "outputs": [
        {
          "name": "stdout",
          "output_type": "stream",
          "text": [
            "Prediction shape:  (64, 2000, 176)  # (batch_size, sequence_length, vocab_size)\n",
            "scalar_loss.shape:       (64, 2000)\n",
            "scalar_loss:       5.1742883\n"
          ]
        }
      ],
      "source": [
        "# An objective function.\n",
        "# The function is any callable with the signature scalar_loss = fn(y_true, y_pred).\n",
        "def loss(labels, logits):\n",
        "    entropy = tf.keras.losses.sparse_categorical_crossentropy(\n",
        "      y_true=labels,\n",
        "      y_pred=logits,\n",
        "      from_logits=True\n",
        "    )\n",
        "    \n",
        "    return entropy\n",
        "\n",
        "example_batch_loss = loss(target_example_batch, example_batch_predictions)\n",
        "\n",
        "print(\"Prediction shape: \", example_batch_predictions.shape, \" # (batch_size, sequence_length, vocab_size)\")\n",
        "print(\"scalar_loss.shape:      \", example_batch_loss.shape)\n",
        "print(\"scalar_loss:      \", example_batch_loss.numpy().mean())"
      ]
    },
    {
      "cell_type": "code",
      "execution_count": 71,
      "metadata": {
        "id": "SkE4pzI2zoCg"
      },
      "outputs": [],
      "source": [
        "adam_optimizer = tf.keras.optimizers.Adam(learning_rate=0.001)\n",
        "\n",
        "model_1.compile(\n",
        "    optimizer=adam_optimizer,\n",
        "    loss=loss\n",
        ")"
      ]
    },
    {
      "cell_type": "markdown",
      "metadata": {
        "id": "b1a4WFZ6zoCh"
      },
      "source": [
        "### Configuring checkpoints"
      ]
    },
    {
      "cell_type": "code",
      "execution_count": 72,
      "metadata": {
        "id": "VFO07RWmXjHt"
      },
      "outputs": [],
      "source": [
        "# !rm -rf './tmp/checkpoints'"
      ]
    },
    {
      "cell_type": "code",
      "execution_count": 73,
      "metadata": {
        "id": "WrZQWe6jupqr"
      },
      "outputs": [],
      "source": [
        "# Directory where the checkpoints will be saved.\n",
        "checkpoint_dir = 'tmp/checkpoints'\n",
        "os.makedirs(checkpoint_dir, exist_ok=True)"
      ]
    },
    {
      "cell_type": "code",
      "execution_count": 74,
      "metadata": {
        "id": "nndQcZd1m6Gw"
      },
      "outputs": [],
      "source": [
        "def download_latest_checkpoint(zip_only=True):\n",
        "    latest_checkpoint_path = tf.train.latest_checkpoint(checkpoint_dir)\n",
        "    latest_checkpoint_name = os.path.split(latest_checkpoint_path)[-1]\n",
        "    latest_checkpoint_zip_name = latest_checkpoint_name + '.zip'\n",
        "    \n",
        "    print('latest_checkpoint_path: ', latest_checkpoint_path)\n",
        "    print('latest_checkpoint_name: ', latest_checkpoint_name)\n",
        "    print('---\\n')\n",
        "\n",
        "    print('Checkpoint files:')\n",
        "    with zipfile.ZipFile(latest_checkpoint_zip_name, mode='w') as zip_obj:\n",
        "        for folder_name, subfolders, filenames in os.walk(checkpoint_dir):\n",
        "            for filename in filenames:\n",
        "                if filename.startswith(latest_checkpoint_name):\n",
        "                        print('  - ' + filename)\n",
        "                        file_path = os.path.join(folder_name, filename)\n",
        "                        zip_obj.write(file_path, os.path.basename(file_path))\n",
        "    print('---\\n')\n",
        "    print('Zipped to: ', latest_checkpoint_zip_name)\n",
        "\n",
        "    if not zip_only:\n",
        "        files.download(latest_checkpoint_zip_name)"
      ]
    },
    {
      "cell_type": "code",
      "execution_count": 75,
      "metadata": {
        "id": "XydjzBW4w5W1"
      },
      "outputs": [],
      "source": [
        "def model_weights_from_latest_checkpoint(model):\n",
        "    latest_checkpoint_path = tf.train.latest_checkpoint(checkpoint_dir)\n",
        "\n",
        "    if not latest_checkpoint_path:\n",
        "        print('Latest checkpoint was not found. Using model as is.')\n",
        "        return model\n",
        "\n",
        "    print('latest_checkpoint_path: ', latest_checkpoint_path)\n",
        "\n",
        "    model.load_weights(latest_checkpoint_path)\n",
        "\n",
        "    return model"
      ]
    },
    {
      "cell_type": "code",
      "execution_count": 76,
      "metadata": {
        "id": "HZ2y09eUxfbx"
      },
      "outputs": [],
      "source": [
        "def initial_epoch_from_latest_checkpoint():\n",
        "    latest_checkpoint_path = tf.train.latest_checkpoint(checkpoint_dir)\n",
        "\n",
        "    if not latest_checkpoint_path:\n",
        "        print('Latest checkpoint was not found. Starting from epoch #0')\n",
        "        return 0\n",
        "\n",
        "    print('latest_checkpoint_path: ', latest_checkpoint_path)\n",
        "\n",
        "    latest_checkpoint_name = os.path.split(latest_checkpoint_path)[-1]\n",
        "    print('latest_checkpoint_name: ', latest_checkpoint_name)\n",
        "\n",
        "    latest_checkpoint_num = latest_checkpoint_name.split('_')[-1]\n",
        "    print('latest_checkpoint_num: ', latest_checkpoint_num)\n",
        "\n",
        "    return int(latest_checkpoint_num)"
      ]
    },
    {
      "cell_type": "code",
      "execution_count": 77,
      "metadata": {
        "id": "IqA68b4kWvrf"
      },
      "outputs": [],
      "source": [
        "def unzip_checkpoint(checkpoint_zip_path):\n",
        "    if not os.path.exists(checkpoint_zip_path):\n",
        "        print('Cannot find a specified file')\n",
        "        return\n",
        "\n",
        "    os.makedirs(checkpoint_dir, exist_ok=True)\n",
        "    with zipfile.ZipFile(checkpoint_zip_path, 'r') as zip_obj:\n",
        "        zip_obj.extractall(checkpoint_dir)\n",
        "\n",
        "    %ls -la ./tmp/checkpoints"
      ]
    },
    {
      "cell_type": "code",
      "execution_count": 78,
      "metadata": {
        "id": "Jr9c0LIJYSHw"
      },
      "outputs": [],
      "source": [
        "# Unzip uploaded checkpoint to checkpoints folder if needed\n",
        "# unzip_checkpoint('ckpt_10.zip')"
      ]
    },
    {
      "cell_type": "code",
      "execution_count": 79,
      "metadata": {
        "id": "FKKgN7WDxMHa"
      },
      "outputs": [],
      "source": [
        "# Loading the latest training data from checkpoints if needed.\n",
        "# model_1 = model_weights_from_latest_checkpoint(model_1)"
      ]
    },
    {
      "cell_type": "code",
      "execution_count": 80,
      "metadata": {
        "id": "qwA_TrCNqswX"
      },
      "outputs": [],
      "source": [
        "# Loading weights from H5 file if needed.\n",
        "# model_1.load_weights('recipe_generation_rnn_batch_64.h5')"
      ]
    },
    {
      "cell_type": "markdown",
      "metadata": {
        "id": "oXxa7dv-ueNk"
      },
      "source": [
        "### Configuring callbacks"
      ]
    },
    {
      "cell_type": "code",
      "execution_count": 81,
      "metadata": {
        "id": "bKN1feQCzoCh"
      },
      "outputs": [],
      "source": [
        "early_stopping_callback = tf.keras.callbacks.EarlyStopping(\n",
        "    patience=5,\n",
        "    monitor='loss',\n",
        "    restore_best_weights=True,\n",
        "    verbose=1\n",
        ")"
      ]
    },
    {
      "cell_type": "code",
      "execution_count": 82,
      "metadata": {
        "id": "4Dq9jH75zoCj"
      },
      "outputs": [],
      "source": [
        "checkpoint_prefix = os.path.join(checkpoint_dir, 'ckpt_{epoch}')\n",
        "checkpoint_callback=tf.keras.callbacks.ModelCheckpoint(\n",
        "    filepath=checkpoint_prefix,\n",
        "    save_weights_only=True\n",
        ")"
      ]
    },
    {
      "cell_type": "markdown",
      "metadata": {
        "id": "0nr_ODbxzoCk"
      },
      "source": [
        "### Execute the training"
      ]
    },
    {
      "cell_type": "code",
      "execution_count": 83,
      "metadata": {
        "colab": {
          "base_uri": "https://localhost:8080/"
        },
        "id": "8h-tnhwTxr0H",
        "outputId": "0eb2bf3f-cc41-4f54-f2b8-37e157a43f21"
      },
      "outputs": [
        {
          "name": "stdout",
          "output_type": "stream",
          "text": [
            "Latest checkpoint was not found. Starting from epoch #0\n",
            "\n",
            "\n",
            "INITIAL_EPOCH:    0\n",
            "EPOCHS_DELTA:     1\n",
            "EPOCHS:           1\n",
            "STEPS_PER_EPOCH:  1500\n"
          ]
        }
      ],
      "source": [
        "INITIAL_EPOCH  = initial_epoch_from_latest_checkpoint()\n",
        "EPOCHS_DELTA = 1\n",
        "EPOCHS = INITIAL_EPOCH + EPOCHS_DELTA\n",
        "STEPS_PER_EPOCH = 1500\n",
        "\n",
        "print('\\n')\n",
        "print('INITIAL_EPOCH:   ', INITIAL_EPOCH)\n",
        "print('EPOCHS_DELTA:    ', EPOCHS_DELTA)\n",
        "print('EPOCHS:          ', EPOCHS)\n",
        "print('STEPS_PER_EPOCH: ', STEPS_PER_EPOCH)"
      ]
    },
    {
      "cell_type": "code",
      "execution_count": 84,
      "metadata": {
        "colab": {
          "base_uri": "https://localhost:8080/"
        },
        "id": "j7nJW1z-VpAo",
        "outputId": "3b1d8ca7-aa35-4756-8970-619246577422"
      },
      "outputs": [
        {
          "name": "stdout",
          "output_type": "stream",
          "text": [
            "{}\n"
          ]
        }
      ],
      "source": [
        "history_1 = {}\n",
        "# history_1 = {} if not history_1 else history_1\n",
        "print(history_1)"
      ]
    },
    {
      "cell_type": "code",
      "execution_count": 85,
      "metadata": {
        "colab": {
          "base_uri": "https://localhost:8080/"
        },
        "id": "KelDEXJozoCk",
        "outputId": "33d53eb4-e50c-43ec-80bb-6b0318638aa4"
      },
      "outputs": [
        {
          "name": "stdout",
          "output_type": "stream",
          "text": [
            " 160/1500 [==>...........................] - ETA: 34:18:07 - loss: 1.3353"
          ]
        }
      ],
      "source": [
        "history_1[INITIAL_EPOCH] = model_1.fit(\n",
        "    x=dataset_train,\n",
        "    epochs=EPOCHS,\n",
        "    steps_per_epoch=STEPS_PER_EPOCH,\n",
        "    initial_epoch=INITIAL_EPOCH,\n",
        "    callbacks=[\n",
        "        checkpoint_callback,\n",
        "        early_stopping_callback\n",
        "    ]\n",
        ")\n",
        "\n",
        "model_name = 'recipe_generation_rnn_raw_' + str(INITIAL_EPOCH) + '.h5'\n",
        "model_1.save(model_name, save_format='h5')\n",
        "\n",
        "download_latest_checkpoint(zip_only=True)"
      ]
    },
    {
      "cell_type": "code",
      "execution_count": null,
      "metadata": {
        "colab": {
          "base_uri": "https://localhost:8080/"
        },
        "id": "XA2dH-ZzRPV0",
        "outputId": "44057b34-6163-4d24-8123-b30bde66960c"
      },
      "outputs": [
        {
          "name": "stdout",
          "output_type": "stream",
          "text": [
            "{0: <keras.callbacks.History object at 0x7f5c0e1aa610>}\n"
          ]
        }
      ],
      "source": [
        "print(history_1)"
      ]
    },
    {
      "cell_type": "markdown",
      "metadata": {
        "id": "sPuqfDFEwl4t"
      },
      "source": [
        "### Downloading latest checkpoint"
      ]
    },
    {
      "cell_type": "code",
      "execution_count": null,
      "metadata": {
        "id": "_YXA7kufvOfm"
      },
      "outputs": [],
      "source": [
        "# Download zipped latest checkpoint to local drive.\n",
        "# download_latest_checkpoint(zip_only=True)"
      ]
    },
    {
      "cell_type": "code",
      "execution_count": null,
      "metadata": {
        "id": "ghoH6MRWuY_h"
      },
      "outputs": [],
      "source": [
        "# model_name = 'recipe_generation_rnn_raw_' + INITIAL_EPOCH + '.h5'\n",
        "# model_1.save(model_name, save_format='h5')"
      ]
    },
    {
      "cell_type": "markdown",
      "metadata": {
        "id": "VMlmeuJuwqMo"
      },
      "source": [
        "### Visualizing training progress"
      ]
    },
    {
      "cell_type": "code",
      "execution_count": null,
      "metadata": {
        "id": "SquldfXSzoCm"
      },
      "outputs": [],
      "source": [
        "def render_training_history(training_history):\n",
        "    if 'history' in training_history:\n",
        "        loss = training_history.history['loss']\n",
        "    else:\n",
        "        loss = []\n",
        "        for initial_epoch in training_history:\n",
        "            loss += training_history[initial_epoch].history['loss']\n",
        "\n",
        "    plt.title('Loss')\n",
        "    plt.xlabel('Epoch')\n",
        "    plt.ylabel('Loss')\n",
        "    plt.plot(loss, label='Training set')\n",
        "    plt.legend()\n",
        "    plt.grid(linestyle='--', linewidth=1, alpha=0.5)\n",
        "    plt.show()"
      ]
    },
    {
      "cell_type": "code",
      "execution_count": null,
      "metadata": {
        "colab": {
          "base_uri": "https://localhost:8080/",
          "height": 295
        },
        "id": "SmLoIbZdzoCn",
        "outputId": "8f84a7ac-f7a0-473a-ca12-931d5965afa7"
      },
      "outputs": [
        {
          "data": {
            "image/png": "[encoded data removed]",
            "text/plain": [
              "<Figure size 432x288 with 1 Axes>"
            ]
          },
          "metadata": {
            "needs_background": "light"
          },
          "output_type": "display_data"
        }
      ],
      "source": [
        "render_training_history(history_1)"
      ]
    },
    {
      "cell_type": "markdown",
      "metadata": {
        "id": "p4lRBe9NzoCp"
      },
      "source": [
        "## Generating text"
      ]
    },
    {
      "cell_type": "markdown",
      "metadata": {
        "id": "UcuZH0YizoCr"
      },
      "source": [
        "### Restore the latest checkpoint\n",
        "\n",
        "To keep this prediction step simple, use a batch size of 1.\n",
        "\n",
        "Because of the way the RNN state is passed from timestep to timestep, the model only accepts a fixed batch size once built.\n",
        "\n",
        "To run the model with a different `batch_size`, we need to rebuild the model and restore the weights from the checkpoint."
      ]
    },
    {
      "cell_type": "code",
      "execution_count": null,
      "metadata": {
        "colab": {
          "base_uri": "https://localhost:8080/",
          "height": 35
        },
        "id": "1WGna7G0zoCs",
        "outputId": "22bfdcb8-6b94-4fee-beee-af5273af2e4e"
      },
      "outputs": [
        {
          "data": {
            "application/vnd.google.colaboratory.intrinsic+json": {
              "type": "string"
            },
            "text/plain": [
              "'tmp/checkpoints/ckpt_1'"
            ]
          },
          "execution_count": 92,
          "metadata": {},
          "output_type": "execute_result"
        }
      ],
      "source": [
        "tf.train.latest_checkpoint(checkpoint_dir)"
      ]
    },
    {
      "cell_type": "code",
      "execution_count": null,
      "metadata": {
        "id": "9jfbd-NLNkww"
      },
      "outputs": [],
      "source": [
        "# simplified_batch_size = 1\n",
        "# model_1_simplified = build_model_1(vocab_size, embedding_dim, rnn_units, simplified_batch_size)\n",
        "# model_1_simplified.load_weights('recipe_generation_rnn.h5')"
      ]
    },
    {
      "cell_type": "code",
      "execution_count": null,
      "metadata": {
        "id": "jHiuE22gzoCt"
      },
      "outputs": [],
      "source": [
        "simplified_batch_size = 1\n",
        "\n",
        "model_1_simplified = build_model_1(vocab_size, embedding_dim, rnn_units, simplified_batch_size)\n",
        "\n",
        "model_1_simplified.load_weights(tf.train.latest_checkpoint(checkpoint_dir))\n",
        "\n",
        "model_1_simplified.build(tf.TensorShape([simplified_batch_size, None]))"
      ]
    },
    {
      "cell_type": "code",
      "execution_count": null,
      "metadata": {
        "colab": {
          "base_uri": "https://localhost:8080/"
        },
        "id": "0jUFeh0vzoCv",
        "outputId": "166f9660-3178-4b71-81d2-065a3096e8df"
      },
      "outputs": [
        {
          "name": "stdout",
          "output_type": "stream",
          "text": [
            "Model: \"sequential_2\"\n",
            "_________________________________________________________________\n",
            " Layer (type)                Output Shape              Param #   \n",
            "=================================================================\n",
            " embedding_2 (Embedding)     (1, None, 256)            45056     \n",
            "                                                                 \n",
            " lstm_1 (LSTM)               (1, None, 1024)           5246976   \n",
            "                                                                 \n",
            " dense_1 (Dense)             (1, None, 176)            180400    \n",
            "                                                                 \n",
            "=================================================================\n",
            "Total params: 5,472,432\n",
            "Trainable params: 5,472,432\n",
            "Non-trainable params: 0\n",
            "_________________________________________________________________\n"
          ]
        }
      ],
      "source": [
        "model_1_simplified.summary()"
      ]
    },
    {
      "cell_type": "code",
      "execution_count": null,
      "metadata": {
        "colab": {
          "base_uri": "https://localhost:8080/"
        },
        "id": "3-B16rkSzoCx",
        "outputId": "66982139-53bc-438d-e186-d86d7e3d2f3d"
      },
      "outputs": [
        {
          "data": {
            "text/plain": [
              "(1, None)"
            ]
          },
          "execution_count": 96,
          "metadata": {},
          "output_type": "execute_result"
        }
      ],
      "source": [
        "model_1_simplified.input_shape"
      ]
    },
    {
      "cell_type": "markdown",
      "metadata": {
        "id": "i6EYC8fBzoC0"
      },
      "source": [
        "### The prediction loop\n",
        "\n",
        "The following code block generates the text:\n",
        "\n",
        "- It Starts by choosing a start string, initializing the RNN state and setting the number of characters to generate.\n",
        "\n",
        "- Get the prediction distribution of the next character using the start string and the RNN state.\n",
        "\n",
        "- Then, use a categorical distribution to calculate the index of the predicted character. Use this predicted character as our next input to the model.\n",
        "\n",
        "- The RNN state returned by the model is fed back into the model so that it now has more context, instead than only one character. After predicting the next character, the modified RNN states are again fed back into the model, which is how it learns as it gets more context from the previously predicted characters.\n",
        "\n",
        "![Prediction loop](https://www.tensorflow.org/tutorials/text/images/text_generation_sampling.png)\n",
        "\n",
        "Image source: [Text generation with an RNN](https://www.tensorflow.org/tutorials/text/text_generation) notebook."
      ]
    },
    {
      "cell_type": "code",
      "execution_count": null,
      "metadata": {
        "id": "Ea9GKIaqzoC0"
      },
      "outputs": [],
      "source": [
        "# num_generate\n",
        "# - number of characters to generate.\n",
        "#\n",
        "# temperature\n",
        "# - Low temperatures results in more predictable text.\n",
        "# - Higher temperatures results in more surprising text.\n",
        "# - Experiment to find the best setting.\n",
        "def generate_text(model, start_string, num_generate = 1000, temperature=1.0):\n",
        "    # Evaluation step (generating text using the learned model)\n",
        "    \n",
        "    padded_start_string = STOP_WORD_TITLE + start_string\n",
        "\n",
        "    # Converting our start string to numbers (vectorizing).\n",
        "    input_indices = np.array(tokenizer.texts_to_sequences([padded_start_string]))\n",
        "\n",
        "    # Empty string to store our results.\n",
        "    text_generated = []\n",
        "\n",
        "    # Here batch size == 1.\n",
        "    model.reset_states()\n",
        "    for char_index in range(num_generate):\n",
        "        predictions = model(input_indices)\n",
        "        # remove the batch dimension\n",
        "        predictions = tf.squeeze(predictions, 0)\n",
        "\n",
        "        # Using a categorical distribution to predict the character returned by the model.\n",
        "        predictions = predictions / temperature\n",
        "        predicted_id = tf.random.categorical(\n",
        "            predictions,\n",
        "            num_samples=1\n",
        "        )[-1,0].numpy()\n",
        "\n",
        "        # We pass the predicted character as the next input to the model\n",
        "        # along with the previous hidden state.\n",
        "        input_indices = tf.expand_dims([predicted_id], 0)\n",
        "        \n",
        "        next_character = tokenizer.sequences_to_texts(input_indices.numpy())[0]\n",
        "\n",
        "        text_generated.append(next_character)\n",
        "\n",
        "    return (padded_start_string + ''.join(text_generated))"
      ]
    },
    {
      "cell_type": "code",
      "execution_count": null,
      "metadata": {
        "id": "gVIIt8hnxs-5"
      },
      "outputs": [],
      "source": [
        "def generate_combinations(model):\n",
        "    recipe_length = 1000\n",
        "    try_letters = ['', '\\n', 'A', 'B', 'C', 'O', 'L', 'Mushroom', 'Apple', 'Slow', 'Christmass', 'The', 'Banana', 'Homemade']\n",
        "    try_temperature = [1.0, 0.8, 0.4, 0.2]\n",
        "\n",
        "    for letter in try_letters:\n",
        "        for temperature in try_temperature:\n",
        "            generated_text = generate_text(\n",
        "                model,\n",
        "                start_string=letter,\n",
        "                num_generate = recipe_length,\n",
        "                temperature=temperature\n",
        "            )\n",
        "            print(f'Attempt: \"{letter}\" + {temperature}')\n",
        "            print('-----------------------------------')\n",
        "            print(generated_text)\n",
        "            print('\\n\\n')\n"
      ]
    },
    {
      "cell_type": "code",
      "execution_count": null,
      "metadata": {
        "colab": {
          "base_uri": "https://localhost:8080/"
        },
        "id": "xp7Q59iJzA5k",
        "outputId": "d9a76ab8-aade-4721-ec15-eb14c6809676"
      },
      "outputs": [
        {
          "name": "stdout",
          "output_type": "stream",
          "text": [
            "Attempt: \"\" + 1.0\n",
            "-----------------------------------\n",
            "📗 ujd$’2_%T5’8DAøs|Q‭unded strawberries\n",
            "• 1/4 cup blad puree, vinegar\n",
            "• Salt and pepper to taste\n",
            "\n",
            "📝\n",
            "\n",
            "▪︎ Preheat oven to 400 degrees F0 to 10 minutes or until inoprediated and cooked through, are a little about 1 atchotuth. Let stand ubte-remove excest foil. Then slice the should mixer until frag and hust as neel yenuper. Add the onions, garlic, and cool. Add the pecoass and vanilla ex cool off thyme begins to simmering craacher.\n",
            "▪︎ Put the paumation in a packs in a bowl, combine the pastry for 1 minute. Scatting freeze rush of the sausage on top of the filling up simonid. Between the spoon mixture in the eggplant spreading it half with a lit (roaster Salt.) Turn ail inut sandwich and surranach with the same meal.;\n",
            "␣␣␣␣␣␣␣␣␣␣␣␣␣␣␣␣␣␣␣␣␣␣␣␣␣␣␣␣␣␣␣␣␣␣␣␣␣␣␣␣␣␣␣␣␣␣␣␣␣␣␣␣␣␣␣␣␣␣␣␣␣␣␣␣␣␣␣␣␣␣␣␣␣␣␣␣␣␣␣␣␣␣␣␣␣␣␣␣␣␣␣␣␣␣␣␣␣␣␣␣␣␣␣␣␣␣␣␣␣␣␣␣␣␣␣␣␣␣␣␣␣␣␣␣␣␣␣␣␣␣␣␣␣␣␣␣␣␣␣␣␣␣␣␣␣␣␣␣␣␣␣␣␣␣␣␣␣␣␣␣␣␣␣␣␣␣␣␣␣␣␣␣␣␣␣␣␣␣␣␣␣␣␣␣␣␣␣␣␣␣␣␣␣␣␣␣␣␣␣␣␣␣␣␣␣␣␣␣␣␣␣␣␣␣␣␣␣␣␣␣␣␣␣␣␣␣␣␣␣␣␣␣␣␣␣␣␣␣␣␣␣␣␣␣␣␣␣␣␣␣␣␣␣␣␣␣␣␣␣␣␣␣␣␣␣␣␣␣␣␣␣␣␣␣␣␣␣␣\n",
            "\n",
            "\n",
            "\n",
            "Attempt: \"\" + 0.8\n",
            "-----------------------------------\n",
            "📗 vwQi°‱üè🥕#/Á2‚2; Yungers with Butter leaves\n",
            "• 1/2 cup corn chiste\n",
            "• 1 cup sugar\n",
            "• 1 cup butter leaves\n",
            "• 1 cup lemon white parsley\n",
            "\n",
            "📝\n",
            "\n",
            "▪︎ In a small saucepan combine cream and a food processor and pour in a tangl heavy bowl of sheet when you lok's up spinach into the chicken boats. Add the onian and mushrooms fillett with a platter and grivide the steak into the chocolate covered, stir in 1/2 celery in the refrigerator for about 20 minutes, to simmer and chewar and set aside.\n",
            "␣␣␣␣␣␣␣␣␣␣␣␣␣␣␣␣␣␣␣␣␣␣␣␣␣␣␣␣␣␣␣␣␣␣␣␣␣␣␣␣␣␣␣␣␣␣␣␣␣␣␣␣␣␣␣␣␣␣␣␣␣␣␣␣␣␣␣␣␣␣␣␣␣␣␣␣␣␣␣␣␣␣␣␣␣␣␣␣␣␣␣␣␣␣␣␣␣␣␣␣␣␣␣␣␣␣␣␣␣␣␣␣␣␣␣␣␣␣␣␣␣␣␣␣␣␣␣␣␣␣␣␣␣␣␣␣␣␣␣␣␣␣␣␣␣␣␣␣␣␣␣␣␣␣␣␣␣␣␣␣␣␣␣␣␣␣␣␣␣␣␣␣␣␣␣␣␣␣␣␣␣␣␣␣␣␣␣␣␣␣␣␣␣␣␣␣␣␣␣␣␣␣␣␣␣␣␣␣␣␣␣␣␣␣␣␣␣␣␣␣␣␣␣␣␣␣␣␣␣␣␣␣␣␣␣␣␣␣␣␣␣␣␣␣␣␣␣␣␣␣␣␣␣␣␣␣␣␣␣␣␣␣␣␣␣␣␣␣␣␣␣␣␣␣␣␣␣␣␣␣␣␣␣␣␣␣␣␣␣␣␣␣␣␣␣␣␣␣␣␣␣␣␣␣␣␣␣␣␣␣␣␣␣␣␣␣␣␣␣␣␣␣␣␣␣␣␣␣␣␣␣␣␣␣␣␣␣␣␣␣␣␣␣␣␣␣␣␣␣␣␣␣␣␣␣␣␣␣␣␣␣␣␣␣␣␣␣␣␣␣␣␣␣␣␣␣␣␣␣␣␣␣␣␣␣␣␣␣␣␣␣␣␣␣␣␣␣␣␣␣␣␣␣␣␣␣␣␣␣␣␣␣␣␣␣␣␣␣␣␣␣␣␣␣␣␣␣␣␣␣␣␣␣␣␣␣␣␣␣␣␣␣␣␣␣␣␣␣␣␣␣␣␣␣␣␣␣␣␣␣␣␣␣␣␣␣␣␣␣␣␣␣␣␣␣␣␣␣␣␣␣␣␣␣␣␣␣␣␣␣␣␣␣␣␣␣␣␣␣␣␣␣␣␣␣␣␣␣␣␣␣␣␣␣␣␣␣␣␣␣\n",
            "\n",
            "\n",
            "\n",
            "Attempt: \"\" + 0.4\n",
            "-----------------------------------\n",
            "📗 vijQ~°é7•Q•Q•d5y-'ppplyoky\n",
            "• Season with salt and freshly ground black pepper\n",
            "• 1 tablespoon fresh cilantro leaves\n",
            "• 1 tablespoon dried chopped fresh mint\n",
            "• 2 tablespoons chopped fresh basil\n",
            "• 1 tablespoon finely chopped fresh flat-leaf parsley\n",
            "• 1 teaspoon ground cumin\n",
            "• 1 teaspoon salt\n",
            "• 1/4 cup water\n",
            "• 3 tablespoons sugar\n",
            "• 2 tablespoons finely chopped seasoning\n",
            "• 1/4 cup softened butter\n",
            "• 1 teaspoon salt\n",
            "• 1/2 teaspoon freshly ground black pepper\n",
            "• 1 teaspoon salt\n",
            "• 1/2 teaspoon freshly ground black pepper\n",
            "• 1/4 cup extra-virgin olive oil\n",
            "• 1 teaspoon salt\n",
            "• 1 teaspoon ground cinnamon\n",
            "• 1/4 teaspoon chopped fresh parsley\n",
            "• 1 teaspoon salt\n",
            "• 1 teaspoon salt\n",
            "• 1 teaspoon salt\n",
            "• 1 teaspoon salt\n",
            "• 1 teaspoon freshly ground black pepper\n",
            "• 1 teaspoon salt\n",
            "• 1 teaspoon salt\n",
            "• 1 teaspoon salt\n",
            "• 1 teaspoon salt\n",
            "• 1 teaspoon freshly ground black pepper\n",
            "• 1 tablespoon butter\n",
            "• 1 cup orange juice\n",
            "• 1 tablespoon fresh lemon juice\n",
            "• 1/2 teaspoon salt\n",
            "• 1/2 teaspoon salt\n",
            "• 1/2 teaspoon salt\n",
            "• 1/2\n",
            "\n",
            "\n",
            "\n",
            "Attempt: \"\" + 0.2\n",
            "-----------------------------------\n",
            "📗 nokQ📝°é🥕épppplyplyooslok°••••••••••␣␣␣␣␣␣␣␣␣␣␣␣␣␣␣␣␣␣␣␣␣␣␣␣␣␣␣␣␣␣␣␣␣␣␣␣␣␣␣␣␣␣␣␣␣␣␣␣␣␣␣␣␣␣␣␣␣␣␣␣␣␣␣␣␣␣␣␣␣␣␣␣␣␣␣␣␣␣␣␣␣␣␣␣␣␣␣␣␣␣␣␣␣␣␣␣␣␣␣␣␣␣␣␣␣␣␣␣␣␣␣␣␣␣␣␣␣␣␣␣␣␣␣␣␣␣␣␣␣␣␣␣␣␣␣␣␣␣␣␣␣␣␣␣␣␣␣␣␣␣␣␣␣␣␣␣␣␣␣␣␣␣␣␣␣␣␣␣␣␣␣␣␣␣␣␣␣␣␣␣␣␣␣␣␣␣␣␣␣␣␣␣␣␣␣␣␣␣␣␣␣␣␣␣␣␣␣␣␣␣␣␣␣␣␣␣␣␣␣␣␣␣␣␣␣␣␣␣␣␣␣␣␣␣␣␣␣␣␣␣␣␣␣␣␣␣␣␣␣␣␣␣␣␣␣␣␣␣␣␣␣␣␣␣␣␣␣␣␣␣␣␣␣␣␣␣␣␣␣␣␣␣␣␣␣␣␣␣␣␣␣␣␣␣␣␣␣␣␣␣␣␣␣␣␣␣␣␣␣␣␣␣␣␣␣␣␣␣␣␣␣␣␣␣␣␣␣␣␣␣␣␣␣␣␣␣␣␣␣␣␣␣␣␣␣␣␣␣␣␣␣␣␣␣␣␣␣␣␣␣␣␣␣␣␣␣␣␣␣␣␣␣␣␣␣␣␣␣␣␣␣␣␣␣␣␣␣␣␣␣␣␣␣␣␣␣␣␣␣␣␣␣␣␣␣␣␣␣␣␣␣␣␣␣␣␣␣␣␣␣␣␣␣␣␣␣␣␣␣␣␣␣␣␣␣␣␣␣␣␣␣␣␣␣␣␣␣␣␣␣␣␣␣␣␣␣␣␣␣␣␣␣␣␣␣␣␣␣␣␣␣␣␣␣␣␣␣␣␣␣␣␣␣␣␣␣␣␣␣␣␣␣␣␣␣␣␣␣␣␣␣␣␣␣␣␣␣␣␣␣␣␣␣␣␣␣␣␣␣␣␣␣␣␣␣␣␣␣␣␣␣␣␣␣␣␣␣␣␣␣␣␣␣␣␣␣␣␣␣␣␣␣␣␣␣␣␣␣␣␣␣␣␣␣␣␣␣␣␣␣␣␣␣␣␣␣␣␣␣␣␣␣␣␣␣␣␣␣␣␣␣␣␣␣␣␣␣␣␣␣␣␣␣␣␣␣␣␣␣␣␣␣␣␣␣␣␣␣␣␣␣␣␣␣␣␣␣␣␣␣␣␣␣␣␣␣␣␣␣␣␣␣␣␣␣␣␣␣␣␣␣␣␣␣␣␣␣␣␣␣␣␣␣␣␣␣␣␣␣␣␣␣␣␣␣␣␣␣␣␣␣␣␣␣␣␣␣␣␣␣␣␣␣␣␣␣␣␣␣␣␣␣␣␣␣␣␣␣␣␣␣␣␣␣␣␣␣␣␣␣␣␣␣␣␣␣␣␣␣␣␣␣␣␣␣␣␣␣␣␣␣␣␣␣␣␣␣␣␣␣␣␣␣␣␣␣␣␣␣␣␣␣␣␣␣␣␣␣␣␣␣␣␣␣␣␣␣␣␣␣␣␣␣␣␣␣␣␣␣␣␣␣␣␣␣␣␣␣␣␣␣␣␣␣␣␣␣␣␣␣␣␣␣␣␣␣␣␣␣␣␣␣␣␣␣␣␣␣␣␣␣␣␣␣␣␣␣␣␣␣␣␣␣␣␣␣␣␣␣␣␣␣␣␣␣␣␣␣␣␣␣␣␣␣␣␣␣␣␣␣␣␣␣␣␣␣␣␣␣␣␣␣␣␣␣␣␣␣␣␣␣␣␣␣␣␣␣␣␣␣␣␣␣␣␣␣␣␣␣␣␣␣␣␣␣␣␣␣␣␣␣␣␣␣␣␣␣␣␣␣␣␣␣␣␣␣␣␣␣␣␣␣␣␣␣␣␣␣␣␣␣␣␣␣␣␣␣␣␣␣␣␣␣␣␣\n",
            "\n",
            "\n",
            "\n",
            "Attempt: \"\n",
            "\" + 1.0\n",
            "-----------------------------------\n",
            "📗 \n",
            "956ﬂ§3ïà<~ä‭_‱\n",
            "␣␣␣␣␣␣␣␣␣␣␣␣␣␣␣␣␣␣␣␣␣␣␣␣␣␣␣␣␣␣␣␣␣␣␣␣␣␣␣␣␣␣␣␣␣␣␣␣␣␣␣␣␣␣␣␣␣␣␣␣␣␣␣␣␣␣␣␣␣␣␣␣␣␣␣␣␣␣␣␣␣␣␣␣␣␣␣␣␣␣␣␣␣␣␣␣␣␣␣␣␣␣␣␣␣␣␣␣␣␣␣␣␣␣␣␣␣␣␣␣␣␣␣␣␣␣␣␣␣␣␣␣␣␣␣␣␣␣␣␣␣␣␣␣␣␣␣␣␣␣␣␣␣␣␣␣␣␣␣␣␣␣␣␣␣␣␣␣␣␣␣␣␣␣␣␣␣␣␣␣␣␣␣␣␣␣␣␣␣␣␣␣␣␣␣␣␣␣␣␣␣␣␣␣␣␣␣␣␣␣␣␣␣␣␣␣␣␣␣␣␣␣␣␣␣␣␣␣␣␣␣␣␣␣␣␣␣␣␣␣␣␣␣␣␣␣␣␣␣␣␣␣␣␣␣␣␣␣␣␣␣␣␣␣␣␣␣␣␣␣␣␣␣␣␣␣␣␣␣␣␣␣␣␣␣␣␣␣␣␣␣␣␣␣␣␣␣␣␣␣␣␣␣␣␣␣␣␣␣␣␣␣␣␣␣␣␣␣␣␣␣␣␣␣␣␣␣␣␣␣␣␣␣␣␣␣␣␣␣␣␣␣␣␣␣␣␣␣␣␣␣␣␣␣␣␣␣␣␣␣␣␣␣␣␣␣␣␣␣␣␣␣␣␣␣␣␣␣␣␣␣␣␣␣␣␣␣␣␣␣␣␣␣␣␣␣␣␣␣␣␣␣␣␣␣␣␣␣␣␣␣␣␣␣␣␣␣␣␣␣␣␣␣␣␣␣␣␣␣␣␣␣␣␣␣␣␣␣␣␣␣␣␣␣␣␣␣␣␣␣␣␣␣␣␣␣␣␣␣␣␣␣␣␣␣␣␣␣␣␣␣␣␣␣␣␣␣␣␣␣␣␣␣␣␣␣␣␣␣␣␣␣␣␣␣␣␣␣␣␣␣␣␣␣␣␣␣␣␣␣␣␣␣␣␣␣␣␣␣␣␣␣␣␣␣␣␣␣␣␣␣␣␣␣␣␣␣␣␣␣␣␣␣␣␣␣␣␣␣␣␣␣␣␣␣␣␣␣␣␣␣␣␣␣␣␣␣␣␣␣␣␣␣␣␣␣␣␣␣␣␣␣␣␣␣␣␣␣␣␣␣␣␣␣␣␣␣␣␣␣␣␣␣␣␣␣␣␣␣␣␣␣␣␣␣␣␣␣␣␣␣␣␣␣␣␣␣␣␣␣␣␣␣␣␣␣␣␣␣␣␣␣␣␣␣␣␣␣␣␣␣␣␣␣␣␣␣␣␣␣␣␣␣␣␣␣␣␣␣␣␣␣␣␣␣␣␣␣␣␣␣␣␣␣␣␣␣␣␣␣␣␣␣␣␣␣␣␣␣␣␣␣␣␣␣␣␣␣␣␣␣␣␣␣␣␣␣␣␣␣␣␣␣␣␣␣␣␣␣␣␣␣␣␣␣␣␣␣␣␣␣␣␣␣␣␣␣␣␣␣␣␣␣␣␣␣␣␣␣␣␣␣␣␣␣␣␣␣␣␣␣␣␣␣␣␣␣␣␣␣␣␣␣␣␣␣␣␣␣␣␣␣␣␣␣␣␣␣␣␣␣␣␣␣␣␣␣␣␣␣␣␣␣␣␣␣␣␣␣␣␣␣␣␣␣␣␣␣␣␣␣␣␣␣␣␣␣␣␣␣␣␣␣␣␣␣␣␣␣␣␣␣␣␣␣␣␣␣␣␣␣␣␣␣␣␣␣␣␣␣␣␣␣␣␣␣␣␣␣␣␣␣␣␣␣␣␣␣␣␣␣␣␣␣␣␣␣␣␣␣␣␣␣␣␣␣␣␣␣␣␣␣␣␣␣␣␣␣␣␣␣␣␣␣␣␣␣␣␣␣␣␣␣␣␣␣␣␣␣␣␣␣␣␣␣␣␣␣␣␣␣␣␣␣␣␣␣␣␣␣␣␣␣␣␣␣␣␣␣␣␣␣␣␣␣␣␣␣␣␣␣␣␣␣␣\n",
            "\n",
            "\n",
            "\n",
            "Attempt: \"\n",
            "\" + 0.8\n",
            "-----------------------------------\n",
            "📗 \n",
            "▪\n",
            "• Soften with water\n",
            "\n",
            "📝\n",
            "\n",
            "▪︎ Combine ramberries with a little but of the remaining batter and add to the day of the bowl and cooked through. Serve with salt and pepper to a boil. Stir together until nutmong is just beginning to full. Grind on one side for another 35 to 40 minutes or until no methimed enside at a time, and garnish the dough before simmering grill for 15 minutes. Remove from the heat and put the broth of dough in the milk and lemon slices water and cholling spray and mix together then remove the remaining place on the side of a fine mest mixhing with the oil is a rack and add the cheese. Add the panko be not to a small bowls and stirring well, transfer to strip tones of the can be side. Remove and grill the basil leave on a platter.;\n",
            "␣␣␣␣␣␣␣␣␣␣␣␣␣␣␣␣␣␣␣␣␣␣␣␣␣␣␣␣␣␣␣␣␣␣␣␣␣␣␣␣␣␣␣␣␣␣␣␣␣␣␣␣␣␣␣␣␣␣␣␣␣␣␣␣␣␣␣␣␣␣␣␣␣␣␣␣␣␣␣␣␣␣␣␣␣␣␣␣␣␣␣␣␣␣␣␣␣␣␣␣␣␣␣␣␣␣␣␣␣␣␣␣␣␣␣␣␣␣␣␣␣␣␣␣␣␣␣␣␣␣␣␣␣␣␣␣␣␣␣␣␣␣␣␣␣␣␣␣␣␣␣␣␣␣␣␣␣␣␣␣␣␣␣␣␣␣␣␣␣␣␣␣␣␣␣␣␣␣␣␣␣␣␣␣␣␣␣␣␣␣␣␣␣␣␣␣␣␣␣␣␣␣␣␣␣␣␣␣␣␣␣␣␣␣␣␣␣␣␣␣␣␣␣␣␣␣␣␣␣␣␣␣␣␣␣␣␣␣␣␣␣\n",
            "\n",
            "\n",
            "\n",
            "Attempt: \"\n",
            "\" + 0.4\n",
            "-----------------------------------\n",
            "📗 \n",
            "📝🥕HOCAKR:B▪:•D▪:d␣␣␣␣␣␣␣␣␣␣␣␣␣␣␣␣␣␣␣␣␣␣␣␣␣␣␣␣␣␣␣␣␣␣␣␣␣␣␣␣␣␣␣␣␣␣␣␣␣␣␣␣␣␣␣␣␣␣␣␣␣␣␣␣␣␣␣␣␣␣␣␣␣␣␣␣␣␣␣␣␣␣␣␣␣␣␣␣␣␣␣␣␣␣␣␣␣␣␣␣␣␣␣␣␣␣␣␣␣␣␣␣␣␣␣␣␣␣␣␣␣␣␣␣␣␣␣␣␣␣␣␣␣␣␣␣␣␣␣␣␣␣␣␣␣␣␣␣␣␣␣␣␣␣␣␣␣␣␣␣␣␣␣␣␣␣␣␣␣␣␣␣␣␣␣␣␣␣␣␣␣␣␣␣␣␣␣␣␣␣␣␣␣␣␣␣␣␣␣␣␣␣␣␣␣␣␣␣␣␣␣␣␣␣␣␣␣␣␣␣␣␣␣␣␣␣␣␣␣␣␣␣␣␣␣␣␣␣␣␣␣␣␣␣␣␣␣␣␣␣␣␣␣␣␣␣␣␣␣␣␣␣␣␣␣␣␣␣␣␣␣␣␣␣␣␣␣␣␣␣␣␣␣␣␣␣␣␣␣␣␣␣␣␣␣␣␣␣␣␣␣␣␣␣␣␣␣␣␣␣␣␣␣␣␣␣␣␣␣␣␣␣␣␣␣␣␣␣␣␣␣␣␣␣␣␣␣␣␣␣␣␣␣␣␣␣␣␣␣␣␣␣␣␣␣␣␣␣␣␣␣␣␣␣␣␣␣␣␣␣␣␣␣␣␣␣␣␣␣␣␣␣␣␣␣␣␣␣␣␣␣␣␣␣␣␣␣␣␣␣␣␣␣␣␣␣␣␣␣␣␣␣␣␣␣␣␣␣␣␣␣␣␣␣␣␣␣␣␣␣␣␣␣␣␣␣␣␣␣␣␣␣␣␣␣␣␣␣␣␣␣␣␣␣␣␣␣␣␣␣␣␣␣␣␣␣␣␣␣␣␣␣␣␣␣␣␣␣␣␣␣␣␣␣␣␣␣␣␣␣␣␣␣␣␣␣␣␣␣␣␣␣␣␣␣␣␣␣␣␣␣␣␣␣␣␣␣␣␣␣␣␣␣␣␣␣␣␣␣␣␣␣␣␣␣␣␣␣␣␣␣␣␣␣␣␣␣␣␣␣␣␣␣␣␣␣␣␣␣␣␣␣␣␣␣␣␣␣␣␣␣␣␣␣␣␣␣␣␣␣␣␣␣␣␣␣␣␣␣␣␣␣␣␣␣␣␣␣␣␣␣␣␣␣␣␣␣␣␣␣␣␣␣␣␣␣␣␣␣␣␣␣␣␣␣␣␣␣␣␣␣␣␣␣␣␣␣␣␣␣␣␣␣␣␣␣␣␣␣␣␣␣␣␣␣␣␣␣␣␣␣␣␣␣␣␣␣␣␣␣␣␣␣␣␣␣␣␣␣␣␣␣␣␣␣␣␣␣␣␣␣␣␣␣␣␣␣␣␣␣␣␣␣␣␣␣␣␣␣␣␣␣␣␣␣␣␣␣␣␣␣␣␣␣␣␣␣␣␣␣␣␣␣␣␣␣␣␣␣␣␣␣␣␣␣␣␣␣␣␣␣␣␣␣␣␣␣␣␣␣␣␣␣␣␣␣␣␣␣␣␣␣␣␣␣␣␣␣␣␣␣␣␣␣␣␣␣␣␣␣␣␣␣␣␣␣␣␣␣␣␣␣␣␣␣␣␣␣␣␣␣␣␣␣␣␣␣␣␣␣␣␣␣␣␣␣␣␣␣␣␣␣␣␣␣␣␣␣␣␣␣␣␣␣␣␣␣␣␣␣␣␣␣␣␣␣␣␣␣␣␣␣␣␣␣␣␣␣␣␣␣␣␣␣␣␣␣␣␣␣␣␣␣␣␣␣␣␣␣␣␣␣␣␣␣␣␣␣␣␣␣␣␣␣␣␣␣␣␣␣␣␣␣␣␣␣␣␣␣␣␣␣␣␣␣␣␣␣␣␣␣␣␣␣␣␣␣␣␣␣␣␣␣␣␣␣␣␣␣␣␣␣␣␣␣␣␣␣␣␣␣␣␣␣␣␣␣␣␣␣␣␣␣␣␣␣␣␣␣␣␣␣␣\n",
            "\n",
            "\n",
            "\n",
            "Attempt: \"\n",
            "\" + 0.2\n",
            "-----------------------------------\n",
            "📗 \n",
            "📝\n",
            "␣␣␣␣␣␣␣␣␣␣␣␣␣␣␣␣␣␣␣␣␣␣␣␣␣␣␣␣␣␣␣␣␣␣␣␣␣␣␣␣␣␣␣␣␣␣␣␣␣␣␣␣␣␣␣␣␣␣␣␣␣␣␣␣␣␣␣␣␣␣␣␣␣␣␣␣␣␣␣␣␣␣␣␣␣␣␣␣␣␣␣␣␣␣␣␣␣␣␣␣␣␣␣␣␣␣␣␣␣␣␣␣␣␣␣␣␣␣␣␣␣␣␣␣␣␣␣␣␣␣␣␣␣␣␣␣␣␣␣␣␣␣␣␣␣␣␣␣␣␣␣␣␣␣␣␣␣␣␣␣␣␣␣␣␣␣␣␣␣␣␣␣␣␣␣␣␣␣␣␣␣␣␣␣␣␣␣␣␣␣␣␣␣␣␣␣␣␣␣␣␣␣␣␣␣␣␣␣␣␣␣␣␣␣␣␣␣␣␣␣␣␣␣␣␣␣␣␣␣␣␣␣␣␣␣␣␣␣␣␣␣␣␣␣␣␣␣␣␣␣␣␣␣␣␣␣␣␣␣␣␣␣␣␣␣␣␣␣␣␣␣␣␣␣␣␣␣␣␣␣␣␣␣␣␣␣␣␣␣␣␣␣␣␣␣␣␣␣␣␣␣␣␣␣␣␣␣␣␣␣␣␣␣␣␣␣␣␣␣␣␣␣␣␣␣␣␣␣␣␣␣␣␣␣␣␣␣␣␣␣␣␣␣␣␣␣␣␣␣␣␣␣␣␣␣␣␣␣␣␣␣␣␣␣␣␣␣␣␣␣␣␣␣␣␣␣␣␣␣␣␣␣␣␣␣␣␣␣␣␣␣␣␣␣␣␣␣␣␣␣␣␣␣␣␣␣␣␣␣␣␣␣␣␣␣␣␣␣␣␣␣␣␣␣␣␣␣␣␣␣␣␣␣␣␣␣␣␣␣␣␣␣␣␣␣␣␣␣␣␣␣␣␣␣␣␣␣␣␣␣␣␣␣␣␣␣␣␣␣␣␣␣␣␣␣␣␣␣␣␣␣␣␣␣␣␣␣␣␣␣␣␣␣␣␣␣␣␣␣␣␣␣␣␣␣␣␣␣␣␣␣␣␣␣␣␣␣␣␣␣␣␣␣␣␣␣␣␣␣␣␣␣␣␣␣␣␣␣␣␣␣␣␣␣␣␣␣␣␣␣␣␣␣␣␣␣␣␣␣␣␣␣␣␣␣␣␣␣␣␣␣␣␣␣␣␣␣␣␣␣␣␣␣␣␣␣␣␣␣␣␣␣␣␣␣␣␣␣␣␣␣␣␣␣␣␣␣␣␣␣␣␣␣␣␣␣␣␣␣␣␣␣␣␣␣␣␣␣␣␣␣␣␣␣␣␣␣␣␣␣␣␣␣␣␣␣␣␣␣␣␣␣␣␣␣␣␣␣␣␣␣␣␣␣␣␣␣␣␣␣␣␣␣␣␣␣␣␣␣␣␣␣␣␣␣␣␣␣␣␣␣␣␣␣␣␣␣␣␣␣␣␣␣␣␣␣␣␣␣␣␣␣␣␣␣␣␣␣␣␣␣␣␣␣␣␣␣␣␣␣␣␣␣␣␣␣␣␣␣␣␣␣␣␣␣␣␣␣␣␣␣␣␣␣␣␣␣␣␣␣␣␣␣␣␣␣␣␣␣␣␣␣␣␣␣␣␣␣␣␣␣␣␣␣␣␣␣␣␣␣␣␣␣␣␣␣␣␣␣␣␣␣␣␣␣␣␣␣␣␣␣␣␣␣␣␣␣␣␣␣␣␣␣␣␣␣␣␣␣␣␣␣␣␣␣␣␣␣␣␣␣␣␣␣␣␣␣␣␣␣␣␣␣␣␣␣␣␣␣␣␣␣␣␣␣␣␣␣␣␣␣␣␣␣␣␣␣␣␣␣␣␣␣␣␣␣␣␣␣␣␣␣␣␣␣␣␣␣␣␣␣␣␣␣␣␣␣␣␣␣␣␣␣␣␣␣␣␣␣␣␣␣␣␣␣␣␣␣␣␣␣␣␣␣␣␣␣␣␣␣␣␣␣␣␣␣␣␣␣␣␣␣␣␣␣␣␣␣␣␣␣␣␣␣␣␣␣␣␣␣␣␣␣␣␣␣␣␣␣␣␣␣␣␣␣␣␣␣␣␣␣␣␣␣␣␣␣␣\n",
            "\n",
            "\n",
            "\n",
            "Attempt: \"A\" + 1.0\n",
            "-----------------------------------\n",
            "📗 AG\u001aYÁQO‚€%{$ETZ Shremba and SpOney asparatue Vanilla Scallions Salad Tauberige Shredded white recommendetalle (doO' Sauce Spinach, approximately coariele!\n",
            "• 1 tablespoon chilled ginger\n",
            "• 1 lample, seeded and colenable\n",
            "• 1/2 cup white wine\n",
            "• 1 tablespoon sugar\n",
            "• 1 teaspoon bittersieddies\n",
            "• 1/4 cup pasiny cransedberries\n",
            "• 1 cup thai (a drizzling Tasses YNDit) will vanilla ice Bread, completed shredded Pattin\n",
            "• 1/4 cup dry side\n",
            "• 1 tablespoon pouf\n",
            "• Canola oil\n",
            "\n",
            "📝\n",
            "\n",
            "▪︎ Bake for 45 minutes or until vegetables brown and absorbed and consered cutney, about 1 minute. Add freezer until firm, ano this slightly brush is form a 2-quart handful. Add onions, filling botcols will good cheese, stirring occasionally, 5 minutes until browd.\n",
            "␣␣␣␣␣␣␣␣␣␣␣␣␣␣␣␣␣␣␣␣␣␣␣␣␣␣␣␣␣␣␣␣␣␣␣␣␣␣␣␣␣␣␣␣␣␣␣␣␣␣␣␣␣␣␣␣␣␣␣␣␣␣␣␣␣␣␣␣␣␣␣␣␣␣␣␣␣␣␣␣␣␣␣␣␣␣␣␣␣␣␣␣␣␣␣␣␣␣␣␣␣␣␣␣␣␣␣␣␣␣␣␣␣␣␣␣␣␣␣␣␣␣␣␣␣␣␣␣␣␣␣␣␣␣␣␣␣␣␣␣␣␣␣␣␣␣␣␣␣␣␣␣␣␣␣␣␣␣␣␣␣␣␣␣␣␣␣␣␣␣␣␣␣␣␣␣␣␣␣␣␣␣␣␣␣␣␣␣␣␣␣␣␣␣␣␣␣␣␣␣␣␣␣␣␣␣␣␣␣␣␣␣␣␣␣␣␣␣␣␣␣␣␣␣␣␣␣␣␣␣␣␣␣␣␣␣␣␣␣␣␣␣␣␣␣␣␣␣␣␣␣␣␣␣␣␣␣␣␣␣␣␣␣␣␣␣␣␣\n",
            "\n",
            "\n",
            "\n",
            "Attempt: \"A\" + 0.8\n",
            "-----------------------------------\n",
            "📗 AjdQ|?H$e87Â‒Bul, than the Chicken (apples)\n",
            "• 4 tablespoons all-purpose flour\n",
            "• 2 teaspoons vanilla extract\n",
            "\n",
            "📝\n",
            "\n",
            "▪︎ Brush one lum sauce with a small shallow on jar fruit, grill for 2 to 3 minutes on each side.\n",
            "▪︎ Spread the flour and puree, beat the liquid in a food processor and stir with the whisk to the pan. Repeat any let rest for 30 minutes before serving.\n",
            "␣␣␣␣␣␣␣␣␣␣␣␣␣␣␣␣␣␣␣␣␣␣␣␣␣␣␣␣␣␣␣␣␣␣␣␣␣␣␣␣␣␣␣␣␣␣␣␣␣␣␣␣␣␣␣␣␣␣␣␣␣␣␣␣␣␣␣␣␣␣␣␣␣␣␣␣␣␣␣␣␣␣␣␣␣␣␣␣␣␣␣␣␣␣␣␣␣␣␣␣␣␣␣␣␣␣␣␣␣␣␣␣␣␣␣␣␣␣␣␣␣␣␣␣␣␣␣␣␣␣␣␣␣␣␣␣␣␣␣␣␣␣␣␣␣␣␣␣␣␣␣␣␣␣␣␣␣␣␣␣␣␣␣␣␣␣␣␣␣␣␣␣␣␣␣␣␣␣␣␣␣␣␣␣␣␣␣␣␣␣␣␣␣␣␣␣␣␣␣␣␣␣␣␣␣␣␣␣␣␣␣␣␣␣␣␣␣␣␣␣␣␣␣␣␣␣␣␣␣␣␣␣␣␣␣␣␣␣␣␣␣␣␣␣␣␣␣␣␣␣␣␣␣␣␣␣␣␣␣␣␣␣␣␣␣␣␣␣␣␣␣␣␣␣␣␣␣␣␣␣␣␣␣␣␣␣␣␣␣␣␣␣␣␣␣␣␣␣␣␣␣␣␣␣␣␣␣␣␣␣␣␣␣␣␣␣␣␣␣␣␣␣␣␣␣␣␣␣␣␣␣␣␣␣␣␣␣␣␣␣␣␣␣␣␣␣␣␣␣␣␣␣␣␣␣␣␣␣␣␣␣␣␣␣␣␣␣␣␣␣␣␣␣␣␣␣␣␣␣␣␣␣␣␣␣␣␣␣␣␣␣␣␣␣␣␣␣␣␣␣␣␣␣␣␣␣␣␣␣␣␣␣␣␣␣␣␣␣␣␣␣␣␣␣␣␣␣␣␣␣␣␣␣␣␣␣␣␣␣␣␣␣␣␣␣␣␣␣␣␣␣␣␣␣␣␣␣␣␣␣␣␣␣␣␣␣␣␣␣␣␣␣␣␣␣␣␣␣␣␣␣␣␣␣␣␣␣␣␣␣␣␣␣␣␣␣␣␣␣␣␣␣␣␣␣␣␣␣␣␣␣␣␣␣␣␣␣␣␣␣␣␣␣␣␣␣␣␣␣␣␣␣␣␣␣␣␣␣␣␣␣␣␣␣␣␣␣␣␣␣␣␣␣␣␣␣␣␣␣␣␣␣␣␣␣␣␣␣␣␣␣␣␣␣␣␣␣␣␣␣␣␣␣␣␣␣␣␣␣␣␣␣␣␣␣␣␣␣␣␣␣␣␣␣␣␣␣␣␣␣␣␣␣␣␣␣␣␣␣␣␣␣␣␣␣␣␣␣␣␣␣␣␣␣␣␣␣\n",
            "\n",
            "\n",
            "\n",
            "Attempt: \"A\" + 0.4\n",
            "-----------------------------------\n",
            "📗 Ajj°°°2•qd▪•\u001a´u🥕longe and freshly grated Parmesan on the bottom of the bread on a plate on the pan and place on a baking sheet and place the chicken breast in a bowl and add the stock and the remaining cheese and the granulated sugar and mix well. Cook the batter into the freezer for at least 1 hour.\n",
            "▪︎ Serve the salad with salt and pepper. Serve with the salt and pepper. Place the chicken in the refrigerator for 1 minute on a piece of the dough and add the chicken to the pan. Set aside to cool completely.\n",
            "▪︎ Meanwhile, make the salad to a bowl of the oven and serve with the salmon and a little with salt and pepper. Serve in an airtight container and puree until flavor and golden brown. Remove the chicken in the bottom of the bottom of the pan and set aside. Place the potatoes and set aside to cool.\n",
            "▪︎ Bake for about 2 minutes on each side for another 10 minutes or until the cheese is ready to serve.\n",
            "▪︎ For the cookies: Preheat the oven to 350 degrees F. Line a baking sheet with the sal\n",
            "\n",
            "\n",
            "\n",
            "Attempt: \"A\" + 0.2\n",
            "-----------------------------------\n",
            "📗 Ajy%3📝î🥕••qpppllypook\n",
            "• Spickled with a large white wine vinegar\n",
            "• 1 tablespoon finely chopped fresh basil leaves\n",
            "• 1 teaspoon salt\n",
            "• 1/2 teaspoon freshly ground black pepper\n",
            "• 1 teaspoon salt\n",
            "• 1/2 teaspoon freshly ground black pepper\n",
            "• 1 tablespoon fresh lemon juice\n",
            "• 1 tablespoon fresh lemon juice\n",
            "• 1 tablespoon fresh lemon juice\n",
            "• 1 tablespoon fresh lemon juice\n",
            "• 1 teaspoon salt\n",
            "• 1/2 teaspoon salt\n",
            "• 1 teaspoon salt\n",
            "• 1 teaspoon salt\n",
            "• 1 teaspoon salt\n",
            "• 1/2 teaspoon salt\n",
            "• 1/2 teaspoon salt\n",
            "• 1 teaspoon salt\n",
            "• 1 teaspoon freshly ground black pepper\n",
            "• 1 teaspoon salt\n",
            "• 1/4 teaspoon salt\n",
            "• 1 teaspoon salt\n",
            "• 1 teaspoon salt\n",
            "• 1 teaspoon freshly ground black pepper\n",
            "• 1 tablespoon finely chopped fresh chives\n",
            "• 1 tablespoon fresh lemon juice\n",
            "• 1 teaspoon salt\n",
            "• 1/4 teaspoon ground cinnamon\n",
            "• 1 teaspoon salt\n",
            "• 1 teaspoon salt\n",
            "• 1 teaspoon salt\n",
            "• 1 teaspoon cayenne pepper\n",
            "• 1 teaspoon salt\n",
            "• 1/2 teaspoon salt\n",
            "• 1/2 teaspoon freshly ground black pepper\n",
            "• 1 teaspoon salt\n",
            "• 1 teaspoon salt\n",
            "• 1\n",
            "\n",
            "\n",
            "\n",
            "Attempt: \"B\" + 1.0\n",
            "-----------------------------------\n",
            "📗 BéQ½ă‚7‱•‧î-ébp& nood and drain off the gried Proceds, and onion walnuts, cherries, cloves, and chunky, racipa, carrott and vegetable potatoes, placeded\n",
            "• 3 cups vegetable oil\n",
            "• 2 tablespoons releach\n",
            "• 1/4 cup sliced red chips\n",
            "• 1/2 cup clove mint\n",
            "• Salt and freshly ground black pepper\n",
            "• Salt, and freshly groung black bean\n",
            "• 8 ounces butter, to taste\n",
            "• Salt and freshly ground pepper\n",
            "\n",
            "📝\n",
            "\n",
            "▪︎ When gould cake is al desing, 3 to 3 minutes. Transfer to and large pitches, then nuts over the dough jar rind, 3 to 4 hours.\n",
            "▪︎ For softuen the rest the mixture is tho one out for the froth over and making itoove cake, then a well butter greaks. Add the onions, potatoes, raple salsa, and chill and cool for 20 minutes.\n",
            "▪︎ Add the red onion and mussel the sit and cook until thunky frout thermomine theys and sauce soft. Toss with the Malted glazes until the sauce toss elching, about 6 minutes. Place the cake and return the boar dushing the edgesan mood brownie, sprinkle with salt and pepper and mill in\n",
            "\n",
            "\n",
            "\n",
            "Attempt: \"B\" + 0.8\n",
            "-----------------------------------\n",
            "📗 BQy◊\u001a7•&4📝‭\u001a½yd'pT␣renl's All Splasple Sauce\n",
            "\n",
            "🥕\n",
            "\n",
            "• Preheat a right with 1 teaspoon salt and pepper\n",
            "\n",
            "📝\n",
            "\n",
            "▪︎ Scrape the ingredients for them that on the garlic and enconding make such as you have will well. Whisk the cream on a blender on the dough with a rack it about 3 inches of donnuc now down in flain greases. Refrigerate for a tightly flavor the sides of the piece of stuffy and garnish with chocolate and repeat to brownie the rolls in the center of the sauce.\n",
            "▪︎ Put the bananaisin, sliced lamb ingredients in a bowl and glussels with the remaining it will pank to dry if marshmallow container and mix on the dish. Put the mixture into the bowl of oven until an in the boiling man back into the stores of the pan up bowl and the mayonnaice to remove any xets al oned, slice the paste pan with the seaf and thremaroman in the meature and the sides of the pork in a spallut pan. Place the cavery vinaigrette to a butter and sprinkle with salt and pepper. Place the chicken with nonstick cooking. T\n",
            "\n",
            "\n",
            "\n",
            "Attempt: \"B\" + 0.4\n",
            "-----------------------------------\n",
            "📗 BQQA»°°:âUèﬂîäpppplesanut and cheese into small diced in the pan and cook the pan and refrigerate for at least 10 minutes to 1 hour or until fruit soft peaks for serving\n",
            "\n",
            "📝\n",
            "\n",
            "▪︎ Put the cream in a small bowl, whisk together the flour and sugar in a medium bowl. Cover with a saute pan over medium-high heat. Add the red wine and cook until the chicken is completely combined and slightly cooked through, about 30 minutes. Stir in the crushed cooking water. Serve immediately. Place the fried tomatoes into bowls and top with the remaining batter. Cook until the mixture is smooth and cooked through, about 10 minutes. Add the sugar and bring to a boil. Remove from the heat and add the slices and shape the mixture until the sugar has shortening and the top and but still for about 10 minutes. Remove from the heat and stir in the remaining 1 tablespoon of the chicken stock and bring to a boil. Add the remaining butter and simmer for 10 minutes, until the mixture is from the flour is cooked through,\n",
            "\n",
            "\n",
            "\n",
            "Attempt: \"B\" + 0.2\n",
            "-----------------------------------\n",
            "📗 BQQQyQpdpppppluuuuuuuungels and pepper and cook until smooth. Serve with salt and pepper. Serve with a spatula or strawberries and serve immediately.\n",
            "␣␣␣␣␣␣␣␣␣␣␣␣␣␣␣␣␣␣␣␣␣␣␣␣␣␣␣␣␣␣␣␣␣␣␣␣␣␣␣␣␣␣␣␣␣␣␣␣␣␣␣␣␣␣␣␣␣␣␣␣␣␣␣␣␣␣␣␣␣␣␣␣␣␣␣␣␣␣␣␣␣␣␣␣␣␣␣␣␣␣␣␣␣␣␣␣␣␣␣␣␣␣␣␣␣␣␣␣␣␣␣␣␣␣␣␣␣␣␣␣␣␣␣␣␣␣␣␣␣␣␣␣␣␣␣␣␣␣␣␣␣␣␣␣␣␣␣␣␣␣␣␣␣␣␣␣␣␣␣␣␣␣␣␣␣␣␣␣␣␣␣␣␣␣␣␣␣␣␣␣␣␣␣␣␣␣␣␣␣␣␣␣␣␣␣␣␣␣␣␣␣␣␣␣␣␣␣␣␣␣␣␣␣␣␣␣␣␣␣␣␣␣␣␣␣␣␣␣␣␣␣␣␣␣␣␣␣␣␣␣␣␣␣␣␣␣␣␣␣␣␣␣␣␣␣␣␣␣␣␣␣␣␣␣␣␣␣␣␣␣␣␣␣␣␣␣␣␣␣␣␣␣␣␣␣␣␣␣␣␣␣␣␣␣␣␣␣␣␣␣␣␣␣␣␣␣␣␣␣␣␣␣␣␣␣␣␣␣␣␣␣␣␣␣␣␣␣␣␣␣␣␣␣␣␣␣␣␣␣␣␣␣␣␣␣␣␣␣␣␣␣␣␣␣␣␣␣␣␣␣␣␣␣␣␣␣␣␣␣␣␣␣␣␣␣␣␣␣␣␣␣␣␣␣␣␣␣␣␣␣␣␣␣␣␣␣␣␣␣␣␣␣␣␣␣␣␣␣␣␣␣␣␣␣␣␣␣␣␣␣␣␣␣␣␣␣␣␣␣␣␣␣␣␣␣␣␣␣␣␣␣␣␣␣␣␣␣␣␣␣␣␣␣␣␣␣␣␣␣␣␣␣␣␣␣␣␣␣␣␣␣␣␣␣␣␣␣␣␣␣␣␣␣␣␣␣␣␣␣␣␣␣␣␣␣␣␣␣␣␣␣␣␣␣␣␣␣␣␣␣␣␣␣␣␣␣␣␣␣␣␣␣␣␣␣␣␣␣␣␣␣␣␣␣␣␣␣␣␣␣␣␣␣␣␣␣␣␣␣␣␣␣␣␣␣␣␣␣␣␣␣␣␣␣␣␣␣␣␣␣␣␣␣␣␣␣␣␣␣␣␣␣␣␣␣␣␣␣␣␣␣␣␣␣␣␣␣␣␣␣␣␣␣␣␣␣␣␣␣␣␣␣␣␣␣␣␣␣␣␣␣␣␣␣␣␣␣␣␣␣␣␣␣␣␣␣␣␣␣␣␣␣␣␣␣␣␣␣␣␣␣␣␣␣␣␣␣␣␣␣␣␣␣␣␣␣␣␣␣␣␣␣␣␣␣␣␣␣␣␣␣␣␣␣␣␣␣␣␣␣␣␣␣␣␣␣␣␣␣␣␣␣␣␣␣␣␣␣␣␣␣␣␣␣␣␣␣␣␣␣␣␣␣␣␣␣␣␣␣␣␣␣␣␣␣␣␣␣␣␣␣␣␣␣␣␣␣␣␣␣␣␣␣␣␣␣␣␣␣␣␣␣␣␣␣␣␣␣␣␣␣␣␣␣␣␣␣␣␣␣␣␣␣␣␣␣␣␣␣␣␣␣␣␣␣␣␣␣␣␣␣␣␣␣␣␣␣␣␣␣␣␣␣␣␣␣␣␣␣␣␣␣␣␣␣␣␣␣␣␣␣␣␣␣␣␣␣␣␣␣␣␣␣␣␣␣␣␣␣␣␣\n",
            "\n",
            "\n",
            "\n",
            "Attempt: \"C\" + 1.0\n",
            "-----------------------------------\n",
            "📗 CHaQG]📝-⁄”(⁄®␣␣␣␣␣␣␣␣␣␣␣␣␣␣␣␣␣␣␣␣␣␣␣␣␣␣␣␣␣␣␣␣␣␣␣␣␣␣␣␣␣␣␣␣␣␣␣␣␣␣␣␣␣␣␣␣␣␣␣␣␣␣␣␣␣␣␣␣␣␣␣␣␣␣␣␣␣␣␣␣␣␣␣␣␣␣␣␣␣␣␣␣␣␣␣␣␣␣␣␣␣␣␣␣␣␣␣␣␣␣␣␣␣␣␣␣␣␣␣␣␣␣␣␣␣␣␣␣␣␣␣␣␣␣␣␣␣␣␣␣␣␣␣␣␣␣␣␣␣␣␣␣␣␣␣␣␣␣␣␣␣␣␣␣␣␣␣␣␣␣␣␣␣␣␣␣␣␣␣␣␣␣␣␣␣␣␣␣␣␣␣␣␣␣␣␣␣␣␣␣␣␣␣␣␣␣␣␣␣␣␣␣␣␣␣␣␣␣␣␣␣␣␣␣␣␣␣␣␣␣␣␣␣␣␣␣␣␣␣␣␣␣␣␣␣␣␣␣␣␣␣␣␣␣␣␣␣␣␣␣␣␣␣␣␣␣␣␣␣␣␣␣␣␣␣␣␣␣␣␣␣␣␣␣␣␣␣␣␣␣␣␣␣␣␣␣␣␣␣␣␣␣␣␣␣␣␣␣␣␣␣␣␣␣␣␣␣␣␣␣␣␣␣␣␣␣␣␣␣␣␣␣␣␣␣␣␣␣␣␣␣␣␣␣␣␣␣␣␣␣␣␣␣␣␣␣␣␣␣␣␣␣␣␣␣␣␣␣␣␣␣␣␣␣␣␣␣␣␣␣␣␣␣␣␣␣␣␣␣␣␣␣␣␣␣␣␣␣␣␣␣␣␣␣␣␣␣␣␣␣␣␣␣␣␣␣␣␣␣␣␣␣␣␣␣␣␣␣␣␣␣␣␣␣␣␣␣␣␣␣␣␣␣␣␣␣␣␣␣␣␣␣␣␣␣␣␣␣␣␣␣␣␣␣␣␣␣␣␣␣␣␣␣␣␣␣␣␣␣␣␣␣␣␣␣␣␣␣␣␣␣␣␣␣␣␣␣␣␣␣␣␣␣␣␣␣␣␣␣␣␣␣␣␣␣␣␣␣␣␣␣␣␣␣␣␣␣␣␣␣␣␣␣␣␣␣␣␣␣␣␣␣␣␣␣␣␣␣␣␣␣␣␣␣␣␣␣␣␣␣␣␣␣␣␣␣␣␣␣␣␣␣␣␣␣␣␣␣␣␣␣␣␣␣␣␣␣␣␣␣␣␣␣␣␣␣␣␣␣␣␣␣␣␣␣␣␣␣␣␣␣␣␣␣␣␣␣␣␣␣␣␣␣␣␣␣␣␣␣␣␣␣␣␣␣␣␣␣␣␣␣␣␣␣␣␣␣␣␣␣␣␣␣␣␣␣␣␣␣␣␣␣␣␣␣␣␣␣␣␣␣␣␣␣␣␣␣␣␣␣␣␣␣␣␣␣␣␣␣␣␣␣␣␣␣␣␣␣␣␣␣␣␣␣␣␣␣␣␣␣␣␣␣␣␣␣␣␣␣␣␣␣␣␣␣␣␣␣␣␣␣␣␣␣␣␣␣␣␣␣␣␣␣␣␣␣␣␣␣␣␣␣␣␣␣␣␣␣␣␣␣␣␣␣␣␣␣␣␣␣␣␣␣␣␣␣␣␣␣␣␣␣␣␣␣␣␣␣␣␣␣␣␣␣␣␣␣␣␣␣␣␣␣␣␣␣␣␣␣␣␣␣␣␣␣␣␣␣␣␣␣␣␣␣␣␣␣␣␣␣␣␣␣␣␣␣␣␣␣␣␣␣␣␣␣␣␣␣␣␣␣␣␣␣␣␣␣␣␣␣␣␣␣␣␣␣␣␣␣␣␣␣␣␣␣␣␣␣␣␣␣␣␣␣␣␣␣␣␣␣␣␣␣␣␣␣␣␣␣␣␣␣␣␣␣␣␣␣␣␣␣␣␣␣␣␣␣␣␣␣␣␣␣␣␣␣␣␣␣␣␣␣␣␣␣␣␣␣␣␣␣␣␣␣␣␣␣␣␣␣␣␣␣␣␣␣␣␣␣␣␣␣␣␣␣␣␣␣␣␣␣␣␣␣␣␣␣␣␣␣␣␣␣␣␣␣␣\n",
            "\n",
            "\n",
            "\n",
            "Attempt: \"C\" + 0.8\n",
            "-----------------------------------\n",
            "📗 CoA°?¤2}🥕ö%m‭å0ød.␣␣␣␣␣␣␣␣␣␣␣␣␣␣␣␣␣␣␣␣␣␣␣␣␣␣␣␣␣␣␣␣␣␣␣␣␣␣␣␣␣␣␣␣␣␣␣␣␣␣␣␣␣␣␣␣␣␣␣␣␣␣␣␣␣␣␣␣␣␣␣␣␣␣␣␣␣␣␣␣␣␣␣␣␣␣␣␣␣␣␣␣␣␣␣␣␣␣␣␣␣␣␣␣␣␣␣␣␣␣␣␣␣␣␣␣␣␣␣␣␣␣␣␣␣␣␣␣␣␣␣␣␣␣␣␣␣␣␣␣␣␣␣␣␣␣␣␣␣␣␣␣␣␣␣␣␣␣␣␣␣␣␣␣␣␣␣␣␣␣␣␣␣␣␣␣␣␣␣␣␣␣␣␣␣␣␣␣␣␣␣␣␣␣␣␣␣␣␣␣␣␣␣␣␣␣␣␣␣␣␣␣␣␣␣␣␣␣␣␣␣␣␣␣␣␣␣␣␣␣␣␣␣␣␣␣␣␣␣␣␣␣␣␣␣␣␣␣␣␣␣␣␣␣␣␣␣␣␣␣␣␣␣␣␣␣␣␣␣␣␣␣␣␣␣␣␣␣␣␣␣␣␣␣␣␣␣␣␣␣␣␣␣␣␣␣␣␣␣␣␣␣␣␣␣␣␣␣␣␣␣␣␣␣␣␣␣␣␣␣␣␣␣␣␣␣␣␣␣␣␣␣␣␣␣␣␣␣␣␣␣␣␣␣␣␣␣␣␣␣␣␣␣␣␣␣␣␣␣␣␣␣␣␣␣␣␣␣␣␣␣␣␣␣␣␣␣␣␣␣␣␣␣␣␣␣␣␣␣␣␣␣␣␣␣␣␣␣␣␣␣␣␣␣␣␣␣␣␣␣␣␣␣␣␣␣␣␣␣␣␣␣␣␣␣␣␣␣␣␣␣␣␣␣␣␣␣␣␣␣␣␣␣␣␣␣␣␣␣␣␣␣␣␣␣␣␣␣␣␣␣␣␣␣␣␣␣␣␣␣␣␣␣␣␣␣␣␣␣␣␣␣␣␣␣␣␣␣␣␣␣␣␣␣␣␣␣␣␣␣␣␣␣␣␣␣␣␣␣␣␣␣␣␣␣␣␣␣␣␣␣␣␣␣␣␣␣␣␣␣␣␣␣␣␣␣␣␣␣␣␣␣␣␣␣␣␣␣␣␣␣␣␣␣␣␣␣␣␣␣␣␣␣␣␣␣␣␣␣␣␣␣␣␣␣␣␣␣␣␣␣␣␣␣␣␣␣␣␣␣␣␣␣␣␣␣␣␣␣␣␣␣␣␣␣␣␣␣␣␣␣␣␣␣␣␣␣␣␣␣␣␣␣␣␣␣␣␣␣␣␣␣␣␣␣␣␣␣␣␣␣␣␣␣␣␣␣␣␣␣␣␣␣␣␣␣␣␣␣␣␣␣␣␣␣␣␣␣␣␣␣␣␣␣␣␣␣␣␣␣␣␣␣␣␣␣␣␣␣␣␣␣␣␣␣␣␣␣␣␣␣␣␣␣␣␣␣␣␣␣␣␣␣␣␣␣␣␣␣␣␣␣␣␣␣␣␣␣␣␣␣␣␣␣␣␣␣␣␣␣␣␣␣␣␣␣␣␣␣␣␣␣␣␣␣␣␣␣␣␣␣␣␣␣␣␣␣␣␣␣␣␣␣␣␣␣␣␣␣␣␣␣␣␣␣␣␣␣␣␣␣␣␣␣␣␣␣␣␣␣␣␣␣␣␣␣␣␣␣␣␣␣␣␣␣␣␣␣␣␣␣␣␣␣␣␣␣␣␣␣␣␣␣␣␣␣␣␣␣␣␣␣␣␣␣␣␣␣␣␣␣␣␣␣␣␣␣␣␣␣␣␣␣␣␣␣␣␣␣␣␣␣␣␣␣␣␣␣␣␣␣␣␣␣␣␣␣␣␣␣␣␣␣␣␣␣␣␣␣␣␣␣␣␣␣␣␣␣␣␣␣␣␣␣␣␣␣␣␣␣␣␣␣␣␣␣␣␣␣␣␣␣␣␣␣␣␣␣␣␣␣␣␣␣␣␣␣␣␣␣␣␣␣␣␣␣␣␣␣␣␣␣␣␣␣␣␣␣␣␣␣␣␣␣␣␣␣␣␣␣␣␣\n",
            "\n",
            "\n",
            "\n",
            "Attempt: \"C\" + 0.4\n",
            "-----------------------------------\n",
            "📗 Cajèîèèp}í︎␣␣␣␣␣␣␣␣␣␣␣␣␣␣␣␣␣␣␣␣␣␣␣␣␣␣␣␣␣␣␣␣␣␣␣␣␣␣␣␣␣␣␣␣␣␣␣␣␣␣␣␣␣␣␣␣␣␣␣␣␣␣␣␣␣␣␣␣␣␣␣␣␣␣␣␣␣␣␣␣␣␣␣␣␣␣␣␣␣␣␣␣␣␣␣␣␣␣␣␣␣␣␣␣␣␣␣␣␣␣␣␣␣␣␣␣␣␣␣␣␣␣␣␣␣␣␣␣␣␣␣␣␣␣␣␣␣␣␣␣␣␣␣␣␣␣␣␣␣␣␣␣␣␣␣␣␣␣␣␣␣␣␣␣␣␣␣␣␣␣␣␣␣␣␣␣␣␣␣␣␣␣␣␣␣␣␣␣␣␣␣␣␣␣␣␣␣␣␣␣␣␣␣␣␣␣␣␣␣␣␣␣␣␣␣␣␣␣␣␣␣␣␣␣␣␣␣␣␣␣␣␣␣␣␣␣␣␣␣␣␣␣␣␣␣␣␣␣␣␣␣␣␣␣␣␣␣␣␣␣␣␣␣␣␣␣␣␣␣␣␣␣␣␣␣␣␣␣␣␣␣␣␣␣␣␣␣␣␣␣␣␣␣␣␣␣␣␣␣␣␣␣␣␣␣␣␣␣␣␣␣␣␣␣␣␣␣␣␣␣␣␣␣␣␣␣␣␣␣␣␣␣␣␣␣␣␣␣␣␣␣␣␣␣␣␣␣␣␣␣␣␣␣␣␣␣␣␣␣␣␣␣␣␣␣␣␣␣␣␣␣␣␣␣␣␣␣␣␣␣␣␣␣␣␣␣␣␣␣␣␣␣␣␣␣␣␣␣␣␣␣␣␣␣␣␣␣␣␣␣␣␣␣␣␣␣␣␣␣␣␣␣␣␣␣␣␣␣␣␣␣␣␣␣␣␣␣␣␣␣␣␣␣␣␣␣␣␣␣␣␣␣␣␣␣␣␣␣␣␣␣␣␣␣␣␣␣␣␣␣␣␣␣␣␣␣␣␣␣␣␣␣␣␣␣␣␣␣␣␣␣␣␣␣␣␣␣␣␣␣␣␣␣␣␣␣␣␣␣␣␣␣␣␣␣␣␣␣␣␣␣␣␣␣␣␣␣␣␣␣␣␣␣␣␣␣␣␣␣␣␣␣␣␣␣␣␣␣␣␣␣␣␣␣␣␣␣␣␣␣␣␣␣␣␣␣␣␣␣␣␣␣␣␣␣␣␣␣␣␣␣␣␣␣␣␣␣␣␣␣␣␣␣␣␣␣␣␣␣␣␣␣␣␣␣␣␣␣␣␣␣␣␣␣␣␣␣␣␣␣␣␣␣␣␣␣␣␣␣␣␣␣␣␣␣␣␣␣␣␣␣␣␣␣␣␣␣␣␣␣␣␣␣␣␣␣␣␣␣␣␣␣␣␣␣␣␣␣␣␣␣␣␣␣␣␣␣␣␣␣␣␣␣␣␣␣␣␣␣␣␣␣␣␣␣␣␣␣␣␣␣␣␣␣␣␣␣␣␣␣␣␣␣␣␣␣␣␣␣␣␣␣␣␣␣␣␣␣␣␣␣␣␣␣␣␣␣␣␣␣␣␣␣␣␣␣␣␣␣␣␣␣␣␣␣␣␣␣␣␣␣␣␣␣␣␣␣␣␣␣␣␣␣␣␣␣␣␣␣␣␣␣␣␣␣␣␣␣␣␣␣␣␣␣␣␣␣␣␣␣␣␣␣␣␣␣␣␣␣␣␣␣␣␣␣␣␣␣␣␣␣␣␣␣␣␣␣␣␣␣␣␣␣␣␣␣␣␣␣␣␣␣␣␣␣␣␣␣␣␣␣␣␣␣␣␣␣␣␣␣␣␣␣␣␣␣␣␣␣␣␣␣␣␣␣␣␣␣␣␣␣␣␣␣␣␣␣␣␣␣␣␣␣␣␣␣␣␣␣␣␣␣␣␣␣␣␣␣␣␣␣␣␣␣␣␣␣␣␣␣␣␣␣␣␣␣␣␣␣␣␣␣␣␣␣␣␣␣␣␣␣␣␣␣␣␣␣␣␣␣␣␣␣␣␣␣␣␣␣␣␣␣␣␣␣␣␣␣␣␣␣␣␣␣␣␣␣␣␣␣␣␣␣␣␣␣␣␣␣\n",
            "\n",
            "\n",
            "\n",
            "Attempt: \"C\" + 0.2\n",
            "-----------------------------------\n",
            "📗 Cajèèa•Qdpppplyplyply*•*•••)\n",
            "␣␣␣␣␣␣␣␣␣␣␣␣␣␣␣␣␣␣␣␣␣␣␣␣␣␣␣␣␣␣␣␣␣␣␣␣␣␣␣␣␣␣␣␣␣␣␣␣␣␣␣␣␣␣␣␣␣␣␣␣␣␣␣␣␣␣␣␣␣␣␣␣␣␣␣␣␣␣␣␣␣␣␣␣␣␣␣␣␣␣␣␣␣␣␣␣␣␣␣␣␣␣␣␣␣␣␣␣␣␣␣␣␣␣␣␣␣␣␣␣␣␣␣␣␣␣␣␣␣␣␣␣␣␣␣␣␣␣␣␣␣␣␣␣␣␣␣␣␣␣␣␣␣␣␣␣␣␣␣␣␣␣␣␣␣␣␣␣␣␣␣␣␣␣␣␣␣␣␣␣␣␣␣␣␣␣␣␣␣␣␣␣␣␣␣␣␣␣␣␣␣␣␣␣␣␣␣␣␣␣␣␣␣␣␣␣␣␣␣␣␣␣␣␣␣␣␣␣␣␣␣␣␣␣␣␣␣␣␣␣␣␣␣␣␣␣␣␣␣␣␣␣␣␣␣␣␣␣␣␣␣␣␣␣␣␣␣␣␣␣␣␣␣␣␣␣␣␣␣␣␣␣␣␣␣␣␣␣␣␣␣␣␣␣␣␣␣␣␣␣␣␣␣␣␣␣␣␣␣␣␣␣␣␣␣␣␣␣␣␣␣␣␣␣␣␣␣␣␣␣␣␣␣␣␣␣␣␣␣␣␣␣␣␣␣␣␣␣␣␣␣␣␣␣␣␣␣␣␣␣␣␣␣␣␣␣␣␣␣␣␣␣␣␣␣␣␣␣␣␣␣␣␣␣␣␣␣␣␣␣␣␣␣␣␣␣␣␣␣␣␣␣␣␣␣␣␣␣␣␣␣␣␣␣␣␣␣␣␣␣␣␣␣␣␣␣␣␣␣␣␣␣␣␣␣␣␣␣␣␣␣␣␣␣␣␣␣␣␣␣␣␣␣␣␣␣␣␣␣␣␣␣␣␣␣␣␣␣␣␣␣␣␣␣␣␣␣␣␣␣␣␣␣␣␣␣␣␣␣␣␣␣␣␣␣␣␣␣␣␣␣␣␣␣␣␣␣␣␣␣␣␣␣␣␣␣␣␣␣␣␣␣␣␣␣␣␣␣␣␣␣␣␣␣␣␣␣␣␣␣␣␣␣␣␣␣␣␣␣␣␣␣␣␣␣␣␣␣␣␣␣␣␣␣␣␣␣␣␣␣␣␣␣␣␣␣␣␣␣␣␣␣␣␣␣␣␣␣␣␣␣␣␣␣␣␣␣␣␣␣␣␣␣␣␣␣␣␣␣␣␣␣␣␣␣␣␣␣␣␣␣␣␣␣␣␣␣␣␣␣␣␣␣␣␣␣␣␣␣␣␣␣␣␣␣␣␣␣␣␣␣␣␣␣␣␣␣␣␣␣␣␣␣␣␣␣␣␣␣␣␣␣␣␣␣␣␣␣␣␣␣␣␣␣␣␣␣␣␣␣␣␣␣␣␣␣␣␣␣␣␣␣␣␣␣␣␣␣␣␣␣␣␣␣␣␣␣␣␣␣␣␣␣␣␣␣␣␣␣␣␣␣␣␣␣␣␣␣␣␣␣␣␣␣␣␣␣␣␣␣␣␣␣␣␣␣␣␣␣␣␣␣␣␣␣␣␣␣␣␣␣␣␣␣␣␣␣␣␣␣␣␣␣␣␣␣␣␣␣␣␣␣␣␣␣␣␣␣␣␣␣␣␣␣␣␣␣␣␣␣␣␣␣␣␣␣␣␣␣␣␣␣␣␣␣␣␣␣␣␣␣␣␣␣␣␣␣␣␣␣␣␣␣␣␣␣␣␣␣␣␣␣␣␣␣␣␣␣␣␣␣␣␣␣␣␣␣␣␣␣␣␣␣␣␣␣␣␣␣␣␣␣␣␣␣␣␣␣␣␣␣␣␣␣␣␣␣␣␣␣␣␣␣␣␣␣␣␣␣␣␣␣␣␣␣␣␣␣␣␣␣␣␣␣␣␣␣␣␣␣␣␣␣␣␣␣␣␣␣␣␣␣␣␣␣␣␣␣␣␣␣␣␣␣␣␣␣␣␣␣␣␣␣␣␣␣␣␣␣␣␣␣\n",
            "\n",
            "\n",
            "\n",
            "Attempt: \"O\" + 1.0\n",
            "-----------------------------------\n",
            "📗 O8p%a•–Q📝\n",
            "-]Ú␣␣␣␣␣␣␣␣␣␣␣␣␣␣␣␣␣␣␣␣␣␣␣␣␣␣␣␣␣␣␣␣␣␣␣␣␣␣␣␣␣␣␣␣␣␣␣␣␣␣␣␣␣␣␣␣␣␣␣␣␣␣␣␣␣␣␣␣␣␣␣␣␣␣␣␣␣␣␣␣␣␣␣␣␣␣␣␣␣␣␣␣␣␣␣␣␣␣␣␣␣␣␣␣␣␣␣␣␣␣␣␣␣␣␣␣␣␣␣␣␣␣␣␣␣␣␣␣␣␣␣␣␣␣␣␣␣␣␣␣␣␣␣␣␣␣␣␣␣␣␣␣␣␣␣␣␣␣␣␣␣␣␣␣␣␣␣␣␣␣␣␣␣␣␣␣␣␣␣␣␣␣␣␣␣␣␣␣␣␣␣␣␣␣␣␣␣␣␣␣␣␣␣␣␣␣␣␣␣␣␣␣␣␣␣␣␣␣␣␣␣␣␣␣␣␣␣␣␣␣␣␣␣␣␣␣␣␣␣␣␣␣␣␣␣␣␣␣␣␣␣␣␣␣␣␣␣␣␣␣␣␣␣␣␣␣␣␣␣␣␣␣␣␣␣␣␣␣␣␣␣␣␣␣␣␣␣␣␣␣␣␣␣␣␣␣␣␣␣␣␣␣␣␣␣␣␣␣␣␣␣␣␣␣␣␣␣␣␣␣␣␣␣␣␣␣␣␣␣␣␣␣␣␣␣␣␣␣␣␣␣␣␣␣␣␣␣␣␣␣␣␣␣␣␣␣␣␣␣␣␣␣␣␣␣␣␣␣␣␣␣␣␣␣␣␣␣␣␣␣␣␣␣␣␣␣␣␣␣␣␣␣␣␣␣␣␣␣␣␣␣␣␣␣␣␣␣␣␣␣␣␣␣␣␣␣␣␣␣␣␣␣␣␣␣␣␣␣␣␣␣␣␣␣␣␣␣␣␣␣␣␣␣␣␣␣␣␣␣␣␣␣␣␣␣␣␣␣␣␣␣␣␣␣␣␣␣␣␣␣␣␣␣␣␣␣␣␣␣␣␣␣␣␣␣␣␣␣␣␣␣␣␣␣␣␣␣␣␣␣␣␣␣␣␣␣␣␣␣␣␣␣␣␣␣␣␣␣␣␣␣␣␣␣␣␣␣␣␣␣␣␣␣␣␣␣␣␣␣␣␣␣␣␣␣␣␣␣␣␣␣␣␣␣␣␣␣␣␣␣␣␣␣␣␣␣␣␣␣␣␣␣␣␣␣␣␣␣␣␣␣␣␣␣␣␣␣␣␣␣␣␣␣␣␣␣␣␣␣␣␣␣␣␣␣␣␣␣␣␣␣␣␣␣␣␣␣␣␣␣␣␣␣␣␣␣␣␣␣␣␣␣␣␣␣␣␣␣␣␣␣␣␣␣␣␣␣␣␣␣␣␣␣␣␣␣␣␣␣␣␣␣␣␣␣␣␣␣␣␣␣␣␣␣␣␣␣␣␣␣␣␣␣␣␣␣␣␣␣␣␣␣␣␣␣␣␣␣␣␣␣␣␣␣␣␣␣␣␣␣␣␣␣␣␣␣␣␣␣␣␣␣␣␣␣␣␣␣␣␣␣␣␣␣␣␣␣␣␣␣␣␣␣␣␣␣␣␣␣␣␣␣␣␣␣␣␣␣␣␣␣␣␣␣␣␣␣␣␣␣␣␣␣␣␣␣␣␣␣␣␣␣␣␣␣␣␣␣␣␣␣␣␣␣␣␣␣␣␣␣␣␣␣␣␣␣␣␣␣␣␣␣␣␣␣␣␣␣␣␣␣␣␣␣␣␣␣␣␣␣␣␣␣␣␣␣␣␣␣␣␣␣␣␣␣␣␣␣␣␣␣␣␣␣␣␣␣␣␣␣␣␣␣␣␣␣␣␣␣␣␣␣␣␣␣␣␣␣␣␣␣␣␣␣␣␣␣␣␣␣␣␣␣␣␣␣␣␣␣␣␣␣␣␣␣␣␣␣␣␣␣␣␣␣␣␣␣␣␣␣␣␣␣␣␣␣␣␣␣␣␣␣␣␣␣␣␣␣␣␣␣␣␣␣␣␣␣␣␣␣␣␣␣␣␣␣␣␣␣␣␣␣␣␣␣␣␣␣␣␣␣␣␣␣␣␣␣␣␣␣␣␣␣␣␣␣␣␣\n",
            "\n",
            "\n",
            "\n",
            "Attempt: \"O\" + 0.8\n",
            "-----------------------------------\n",
            "📗 O9K93‒Vư1üA¿àj\n",
            "␣␣␣␣␣␣␣␣␣␣␣␣␣␣␣␣␣␣␣␣␣␣␣␣␣␣␣␣␣␣␣␣␣␣␣␣␣␣␣␣␣␣␣␣␣␣␣␣␣␣␣␣␣␣␣␣␣␣␣␣␣␣␣␣␣␣␣␣␣␣␣␣␣␣␣␣␣␣␣␣␣␣␣␣␣␣␣␣␣␣␣␣␣␣␣␣␣␣␣␣␣␣␣␣␣␣␣␣␣␣␣␣␣␣␣␣␣␣␣␣␣␣␣␣␣␣␣␣␣␣␣␣␣␣␣␣␣␣␣␣␣␣␣␣␣␣␣␣␣␣␣␣␣␣␣␣␣␣␣␣␣␣␣␣␣␣␣␣␣␣␣␣␣␣␣␣␣␣␣␣␣␣␣␣␣␣␣␣␣␣␣␣␣␣␣␣␣␣␣␣␣␣␣␣␣␣␣␣␣␣␣␣␣␣␣␣␣␣␣␣␣␣␣␣␣␣␣␣␣␣␣␣␣␣␣␣␣␣␣␣␣␣␣␣␣␣␣␣␣␣␣␣␣␣␣␣␣␣␣␣␣␣␣␣␣␣␣␣␣␣␣␣␣␣␣␣␣␣␣␣␣␣␣␣␣␣␣␣␣␣␣␣␣␣␣␣␣␣␣␣␣␣␣␣␣␣␣␣␣␣␣␣␣␣␣␣␣␣␣␣␣␣␣␣␣␣␣␣␣␣␣␣␣␣␣␣␣␣␣␣␣␣␣␣␣␣␣␣␣␣␣␣␣␣␣␣␣␣␣␣␣␣␣␣␣␣␣␣␣␣␣␣␣␣␣␣␣␣␣␣␣␣␣␣␣␣␣␣␣␣␣␣␣␣␣␣␣␣␣␣␣␣␣␣␣␣␣␣␣␣␣␣␣␣␣␣␣␣␣␣␣␣␣␣␣␣␣␣␣␣␣␣␣␣␣␣␣␣␣␣␣␣␣␣␣␣␣␣␣␣␣␣␣␣␣␣␣␣␣␣␣␣␣␣␣␣␣␣␣␣␣␣␣␣␣␣␣␣␣␣␣␣␣␣␣␣␣␣␣␣␣␣␣␣␣␣␣␣␣␣␣␣␣␣␣␣␣␣␣␣␣␣␣␣␣␣␣␣␣␣␣␣␣␣␣␣␣␣␣␣␣␣␣␣␣␣␣␣␣␣␣␣␣␣␣␣␣␣␣␣␣␣␣␣␣␣␣␣␣␣␣␣␣␣␣␣␣␣␣␣␣␣␣␣␣␣␣␣␣␣␣␣␣␣␣␣␣␣␣␣␣␣␣␣␣␣␣␣␣␣␣␣␣␣␣␣␣␣␣␣␣␣␣␣␣␣␣␣␣␣␣␣␣␣␣␣␣␣␣␣␣␣␣␣␣␣␣␣␣␣␣␣␣␣␣␣␣␣␣␣␣␣␣␣␣␣␣␣␣␣␣␣␣␣␣␣␣␣␣␣␣␣␣␣␣␣␣␣␣␣␣␣␣␣␣␣␣␣␣␣␣␣␣␣␣␣␣␣␣␣␣␣␣␣␣␣␣␣␣␣␣␣␣␣␣␣␣␣␣␣␣␣␣␣␣␣␣␣␣␣␣␣␣␣␣␣␣␣␣␣␣␣␣␣␣␣␣␣␣␣␣␣␣␣␣␣␣␣␣␣␣␣␣␣␣␣␣␣␣␣␣␣␣␣␣␣␣␣␣␣␣␣␣␣␣␣␣␣␣␣␣␣␣␣␣␣␣␣␣␣␣␣␣␣␣␣␣␣␣␣␣␣␣␣␣␣␣␣␣␣␣␣␣␣␣␣␣␣␣␣␣␣␣␣␣␣␣␣␣␣␣␣␣␣␣␣␣␣␣␣␣␣␣␣␣␣␣␣␣␣␣␣␣␣␣␣␣␣␣␣␣␣␣␣␣␣␣␣␣␣␣␣␣␣␣␣␣␣␣␣␣␣␣␣␣␣␣␣␣␣␣␣␣␣␣␣␣␣␣␣␣␣␣␣␣␣␣␣␣␣␣␣␣␣␣␣␣␣␣␣␣␣␣␣␣␣␣␣␣␣␣␣␣␣␣␣␣␣␣␣␣␣␣␣␣␣␣␣␣␣␣␣␣␣␣␣␣␣␣␣␣␣␣␣␣␣␣␣␣␣␣␣␣␣␣␣\n",
            "\n",
            "\n",
            "\n",
            "Attempt: \"O\" + 0.4\n",
            "-----------------------------------\n",
            "📗 OlUè0î°‱pDQà¼°-) calluigg;ñ”èç•å-/ppotlololl;s),*• drigetter and cut into 1/4-inch cubes\n",
            "• 1 tablespoon finely chopped fresh basil leaves\n",
            "• 1 tablespoon fresh lemon juice\n",
            "• 1 teaspoon salt\n",
            "• 1/2 teaspoon freshly ground black pepper\n",
            "\n",
            "📝\n",
            "\n",
            "▪︎ Watch how to make this recipe.\n",
            "▪︎ Preheat the oven to 350 degrees F.\n",
            "▪︎ Put the chicken in a medium saucepan over medium heat until the mixture is smooth. Add the shrimp and cook until the mixture is smooth. Transfer the shell from the heat and stir in the canola oil and cook until the onions are completely comened. Remove from the heat and cook for another 1 to 2 minutes, or until the soup is melted, about 20 minutes. Remove from the oven and let cool for 10 minutes. Remove the potatoes and then the chicken in the pan and cook on low heat until the mixture is softened, about 2 minutes. Add the chicken and cook for another 20 minutes.\n",
            "▪︎ Add the remaining 1 tablespoon olive oil and cook until the pasta is too to boil, then stir in the chocolate mixture\n",
            "\n",
            "\n",
            "\n",
            "Attempt: \"O\" + 0.2\n",
            "-----------------------------------\n",
            "📗 Ojj📝9📝°°dQdpñolpplyplypypùQ•Q••••••••, Qunded and cut into 1/2-inch dice\n",
            "• 1 tablespoon fresh lemon juice\n",
            "• 1 teaspoon ground cinnamon\n",
            "• 1 teaspoon salt\n",
            "• 1/4 teaspoon ground cinnamon\n",
            "• 1 teaspoon salt\n",
            "• 1 teaspoon salt\n",
            "• 1 teaspoon salt\n",
            "• 1 teaspoon salt\n",
            "• 1 teaspoon salt\n",
            "• 1/2 teaspoon ground cinnamon\n",
            "• 1 teaspoon salt\n",
            "• 1 teaspoon salt\n",
            "• 1/4 teaspoon salt\n",
            "• 1 teaspoon salt\n",
            "• 1 teaspoon salt\n",
            "• 1/2 teaspoon salt\n",
            "• 1 teaspoon salt\n",
            "• 1 teaspoon salt\n",
            "• 1 teaspoon salt\n",
            "• 1 teaspoon salt\n",
            "• 1/4 teaspoon freshly ground black pepper\n",
            "• 1 teaspoon ground cumin\n",
            "• 1 teaspoon salt\n",
            "• 1/4 teaspoon freshly ground black pepper\n",
            "• 1 teaspoon salt\n",
            "• 1 teaspoon freshly ground black pepper\n",
            "• 1 teaspoon salt\n",
            "• 1 teaspoon salt\n",
            "• 1 teaspoon salt\n",
            "• 1 teaspoon salt\n",
            "• 1 teaspoon salt\n",
            "• 1 teaspoon salt\n",
            "• 1 teaspoon salt\n",
            "• 1 teaspoon salt\n",
            "• 1/2 teaspoon salt\n",
            "• 1/4 teaspoon salt\n",
            "• 1/4 teaspoon freshly ground black pepper\n",
            "• 1 teaspoon salt\n",
            "• 1/2 teaspoon salt\n",
            "• 1 teaspoon freshly ground black pepper\n",
            "• 1 tablespoon fr\n",
            "\n",
            "\n",
            "\n",
            "Attempt: \"L\" + 1.0\n",
            "-----------------------------------\n",
            "📗 LY¤—61ư!◊` Fplle and green flaves\n",
            "• 3 tablespoons rejor mushal or soft sauce\n",
            "• 1/2 cup dry leaves drained all-pippara Dried\n",
            "• 1/4 cup julienned bise chewder, pourtad\n",
            "• Kosher salt or frozen chiles.\n",
            "␣␣ Fresh findle thicken beef smoked cooking for to preferably bown of Topato hill out\n",
            "␣␣␣␣␣␣␣␣␣␣␣␣␣␣␣␣␣␣␣␣␣␣␣␣␣␣␣␣␣␣␣␣␣␣␣␣␣␣␣␣␣␣␣␣␣␣␣␣␣␣␣␣␣␣␣␣␣␣␣␣␣␣␣␣␣␣␣␣␣␣␣␣␣␣␣␣␣␣␣␣␣␣␣␣␣␣␣␣␣␣␣␣␣␣␣␣␣␣␣␣␣␣␣␣␣␣␣␣␣␣␣␣␣␣␣␣␣␣␣␣␣␣␣␣␣␣␣␣␣␣␣␣␣␣␣␣␣␣␣␣␣␣␣␣␣␣␣␣␣␣␣␣␣␣␣␣␣␣␣␣␣␣␣␣␣␣␣␣␣␣␣␣␣␣␣␣␣␣␣␣␣␣␣␣␣␣␣␣␣␣␣␣␣␣␣␣␣␣␣␣␣␣␣␣␣␣␣␣␣␣␣␣␣␣␣␣␣␣␣␣␣␣␣␣␣␣␣␣␣␣␣␣␣␣␣␣␣␣␣␣␣␣␣␣␣␣␣␣␣␣␣␣␣␣␣␣␣␣␣␣␣␣␣␣␣␣␣␣␣␣␣␣␣␣␣␣␣␣␣␣␣␣␣␣␣␣␣␣␣␣␣␣␣␣␣␣␣␣␣␣␣␣␣␣␣␣␣␣␣␣␣␣␣␣␣␣␣␣␣␣␣␣␣␣␣␣␣␣␣␣␣␣␣␣␣␣␣␣␣␣␣␣␣␣␣␣␣␣␣␣␣␣␣␣␣␣␣␣␣␣␣␣␣␣␣␣␣␣␣␣␣␣␣␣␣␣␣␣␣␣␣␣␣␣␣␣␣␣␣␣␣␣␣␣␣␣␣␣␣␣␣␣␣␣␣␣␣␣␣␣␣␣␣␣␣␣␣␣␣␣␣␣␣␣␣␣␣␣␣␣␣␣␣␣␣␣␣␣␣␣␣␣␣␣␣␣␣␣␣␣␣␣␣␣␣␣␣␣␣␣␣␣␣␣␣␣␣␣␣␣␣␣␣␣␣␣␣␣␣␣␣␣␣␣␣␣␣␣␣␣␣␣␣␣␣␣␣␣␣␣␣␣␣␣␣␣␣␣␣␣␣␣␣␣␣␣␣␣␣␣␣␣␣␣␣␣␣␣␣␣␣␣␣␣␣␣␣␣␣␣␣␣␣␣␣␣␣␣␣␣␣␣␣␣␣␣␣␣␣␣␣␣␣␣␣␣␣␣␣␣␣␣␣␣␣␣␣␣␣␣␣␣␣␣␣␣␣␣␣␣␣␣␣␣␣␣␣␣␣␣␣␣␣␣␣␣␣␣␣␣␣␣␣␣␣␣␣␣␣␣␣␣␣␣␣␣␣␣␣␣␣␣␣␣␣␣␣␣␣␣␣␣␣␣␣␣␣␣␣␣␣␣␣␣␣␣␣␣␣␣␣␣␣␣␣␣␣␣␣␣␣␣␣␣␣␣␣␣␣␣␣␣␣␣␣␣␣␣␣␣␣␣␣␣␣␣␣␣␣␣␣␣␣␣␣␣␣␣␣␣␣␣␣␣␣␣\n",
            "\n",
            "\n",
            "\n",
            "Attempt: \"L\" + 0.8\n",
            "-----------------------------------\n",
            "📗 LE˚°óéø˚f•\u001à¤çîplerponed and thinly sliced in it if using sode and peppers and serve with nonstick chips and potatoes in plastic wrap, and conterting of until smooth. Turn in a large container and cook for 20 minutes.\n",
            "▪︎ Cool slightly on top off any excess, and serve.\n",
            "␣␣␣␣␣␣␣␣␣␣␣␣␣␣␣␣␣␣␣␣␣␣␣␣␣␣␣␣␣␣␣␣␣␣␣␣␣␣␣␣␣␣␣␣␣␣␣␣␣␣␣␣␣␣␣␣␣␣␣␣␣␣␣␣␣␣␣␣␣␣␣␣␣␣␣␣␣␣␣␣␣␣␣␣␣␣␣␣␣␣␣␣␣␣␣␣␣␣␣␣␣␣␣␣␣␣␣␣␣␣␣␣␣␣␣␣␣␣␣␣␣␣␣␣␣␣␣␣␣␣␣␣␣␣␣␣␣␣␣␣␣␣␣␣␣␣␣␣␣␣␣␣␣␣␣␣␣␣␣␣␣␣␣␣␣␣␣␣␣␣␣␣␣␣␣␣␣␣␣␣␣␣␣␣␣␣␣␣␣␣␣␣␣␣␣␣␣␣␣␣␣␣␣␣␣␣␣␣␣␣␣␣␣␣␣␣␣␣␣␣␣␣␣␣␣␣␣␣␣␣␣␣␣␣␣␣␣␣␣␣␣␣␣␣␣␣␣␣␣␣␣␣␣␣␣␣␣␣␣␣␣␣␣␣␣␣␣␣␣␣␣␣␣␣␣␣␣␣␣␣␣␣␣␣␣␣␣␣␣␣␣␣␣␣␣␣␣␣␣␣␣␣␣␣␣␣␣␣␣␣␣␣␣␣␣␣␣␣␣␣␣␣␣␣␣␣␣␣␣␣␣␣␣␣␣␣␣␣␣␣␣␣␣␣␣␣␣␣␣␣␣␣␣␣␣␣␣␣␣␣␣␣␣␣␣␣␣␣␣␣␣␣␣␣␣␣␣␣␣␣␣␣␣␣␣␣␣␣␣␣␣␣␣␣␣␣␣␣␣␣␣␣␣␣␣␣␣␣␣␣␣␣␣␣␣␣␣␣␣␣␣␣␣␣␣␣␣␣␣␣␣␣␣␣␣␣␣␣␣␣␣␣␣␣␣␣␣␣␣␣␣␣␣␣␣␣␣␣␣␣␣␣␣␣␣␣␣␣␣␣␣␣␣␣␣␣␣␣␣␣␣␣␣␣␣␣␣␣␣␣␣␣␣␣␣␣␣␣␣␣␣␣␣␣␣␣␣␣␣␣␣␣␣␣␣␣␣␣␣␣␣␣␣␣␣␣␣␣␣␣␣␣␣␣␣␣␣␣␣␣␣␣␣␣␣␣␣␣␣␣␣␣␣␣␣␣␣␣␣␣␣␣␣␣␣␣␣␣␣␣␣␣␣␣␣␣␣␣␣␣␣␣␣␣␣␣␣␣␣␣␣␣␣␣␣␣␣␣␣␣␣␣␣␣␣␣␣␣␣␣␣␣␣␣␣␣␣␣␣␣␣␣␣␣␣␣␣␣␣␣␣␣␣␣␣␣␣␣␣␣␣␣␣␣␣␣␣␣␣␣␣␣␣␣␣␣␣␣␣␣␣␣␣␣␣␣␣␣␣␣␣␣␣␣␣␣␣␣␣␣␣␣␣␣␣␣␣␣␣␣␣␣␣␣␣␣␣␣␣␣␣␣␣␣␣␣␣␣␣␣␣␣␣␣␣␣␣␣␣␣␣␣␣␣␣␣␣␣␣␣␣␣\n",
            "\n",
            "\n",
            "\n",
            "Attempt: \"L\" + 0.4\n",
            "-----------------------------------\n",
            "📗 LOj9•Q📝°€•Qd␣G␣␣␣␣␣␣␣␣␣␣␣␣␣␣␣␣␣␣␣␣␣␣␣␣␣␣␣␣␣␣␣␣␣␣␣␣␣␣␣␣␣␣␣␣␣␣␣␣␣␣␣␣␣␣␣␣␣␣␣␣␣␣␣␣␣␣␣␣␣␣␣␣␣␣␣␣␣␣␣␣␣␣␣␣␣␣␣␣␣␣␣␣␣␣␣␣␣␣␣␣␣␣␣␣␣␣␣␣␣␣␣␣␣␣␣␣␣␣␣␣␣␣␣␣␣␣␣␣␣␣␣␣␣␣␣␣␣␣␣␣␣␣␣␣␣␣␣␣␣␣␣␣␣␣␣␣␣␣␣␣␣␣␣␣␣␣␣␣␣␣␣␣␣␣␣␣␣␣␣␣␣␣␣␣␣␣␣␣␣␣␣␣␣␣␣␣␣␣␣␣␣␣␣␣␣␣␣␣␣␣␣␣␣␣␣␣␣␣␣␣␣␣␣␣␣␣␣␣␣␣␣␣␣␣␣␣␣␣␣␣␣␣␣␣␣␣␣␣␣␣␣␣␣␣␣␣␣␣␣␣␣␣␣␣␣␣␣␣␣␣␣␣␣␣␣␣␣␣␣␣␣␣␣␣␣␣␣␣␣␣␣␣␣␣␣␣␣␣␣␣␣␣␣␣␣␣␣␣␣␣␣␣␣␣␣␣␣␣␣␣␣␣␣␣␣␣␣␣␣␣␣␣␣␣␣␣␣␣␣␣␣␣␣␣␣␣␣␣␣␣␣␣␣␣␣␣␣␣␣␣␣␣␣␣␣␣␣␣␣␣␣␣␣␣␣␣␣␣␣␣␣␣␣␣␣␣␣␣␣␣␣␣␣␣␣␣␣␣␣␣␣␣␣␣␣␣␣␣␣␣␣␣␣␣␣␣␣␣␣␣␣␣␣␣␣␣␣␣␣␣␣␣␣␣␣␣␣␣␣␣␣␣␣␣␣␣␣␣␣␣␣␣␣␣␣␣␣␣␣␣␣␣␣␣␣␣␣␣␣␣␣␣␣␣␣␣␣␣␣␣␣␣␣␣␣␣␣␣␣␣␣␣␣␣␣␣␣␣␣␣␣␣␣␣␣␣␣␣␣␣␣␣␣␣␣␣␣␣␣␣␣␣␣␣␣␣␣␣␣␣␣␣␣␣␣␣␣␣␣␣␣␣␣␣␣␣␣␣␣␣␣␣␣␣␣␣␣␣␣␣␣␣␣␣␣␣␣␣␣␣␣␣␣␣␣␣␣␣␣␣␣␣␣␣␣␣␣␣␣␣␣␣␣␣␣␣␣␣␣␣␣␣␣␣␣␣␣␣␣␣␣␣␣␣␣␣␣␣␣␣␣␣␣␣␣␣␣␣␣␣␣␣␣␣␣␣␣␣␣␣␣␣␣␣␣␣␣␣␣␣␣␣␣␣␣␣␣␣␣␣␣␣␣␣␣␣␣␣␣␣␣␣␣␣␣␣␣␣␣␣␣␣␣␣␣␣␣␣␣␣␣␣␣␣␣␣␣␣␣␣␣␣␣␣␣␣␣␣␣␣␣␣␣␣␣␣␣␣␣␣␣␣␣␣␣␣␣␣␣␣␣␣␣␣␣␣␣␣␣␣␣␣␣␣␣␣␣␣␣␣␣␣␣␣␣␣␣␣␣␣␣␣␣␣␣␣␣␣␣␣␣␣␣␣␣␣␣␣␣␣␣␣␣␣␣␣␣␣␣␣␣␣␣␣␣␣␣␣␣␣␣␣␣␣␣␣␣␣␣␣␣␣␣␣␣␣␣␣␣␣␣␣␣␣␣␣␣␣␣␣␣␣␣␣␣␣␣␣␣␣␣␣␣␣␣␣␣␣␣␣␣␣␣␣␣␣␣␣␣␣␣␣␣␣␣␣␣␣␣␣␣␣␣␣␣␣␣␣␣␣␣␣␣␣␣␣␣␣␣␣␣␣␣␣␣␣␣␣␣␣␣␣␣␣␣␣␣␣␣␣␣␣␣␣␣␣␣␣␣␣␣␣␣␣␣␣␣␣␣␣␣␣␣␣␣␣␣␣␣␣␣␣␣␣␣␣␣␣␣␣␣␣␣␣␣␣␣␣␣␣␣␣␣␣␣␣␣␣␣␣␣␣␣␣␣␣␣␣␣␣␣␣␣␣␣␣␣\n",
            "\n",
            "\n",
            "\n",
            "Attempt: \"L\" + 0.2\n",
            "-----------------------------------\n",
            "📗 LAjíÂ📝:d3••••␣␣␣␣␣␣␣␣␣␣␣␣␣␣␣␣␣␣␣␣␣␣␣␣␣␣␣␣␣␣␣␣␣␣␣␣␣␣␣␣␣␣␣␣␣␣␣␣␣␣␣␣␣␣␣␣␣␣␣␣␣␣␣␣␣␣␣␣␣␣␣␣␣␣␣␣␣␣␣␣␣␣␣␣␣␣␣␣␣␣␣␣␣␣␣␣␣␣␣␣␣␣␣␣␣␣␣␣␣␣␣␣␣␣␣␣␣␣␣␣␣␣␣␣␣␣␣␣␣␣␣␣␣␣␣␣␣␣␣␣␣␣␣␣␣␣␣␣␣␣␣␣␣␣␣␣␣␣␣␣␣␣␣␣␣␣␣␣␣␣␣␣␣␣␣␣␣␣␣␣␣␣␣␣␣␣␣␣␣␣␣␣␣␣␣␣␣␣␣␣␣␣␣␣␣␣␣␣␣␣␣␣␣␣␣␣␣␣␣␣␣␣␣␣␣␣␣␣␣␣␣␣␣␣␣␣␣␣␣␣␣␣␣␣␣␣␣␣␣␣␣␣␣␣␣␣␣␣␣␣␣␣␣␣␣␣␣␣␣␣␣␣␣␣␣␣␣␣␣␣␣␣␣␣␣␣␣␣␣␣␣␣␣␣␣␣␣␣␣␣␣␣␣␣␣␣␣␣␣␣␣␣␣␣␣␣␣␣␣␣␣␣␣␣␣␣␣␣␣␣␣␣␣␣␣␣␣␣␣␣␣␣␣␣␣␣␣␣␣␣␣␣␣␣␣␣␣␣␣␣␣␣␣␣␣␣␣␣␣␣␣␣␣␣␣␣␣␣␣␣␣␣␣␣␣␣␣␣␣␣␣␣␣␣␣␣␣␣␣␣␣␣␣␣␣␣␣␣␣␣␣␣␣␣␣␣␣␣␣␣␣␣␣␣␣␣␣␣␣␣␣␣␣␣␣␣␣␣␣␣␣␣␣␣␣␣␣␣␣␣␣␣␣␣␣␣␣␣␣␣␣␣␣␣␣␣␣␣␣␣␣␣␣␣␣␣␣␣␣␣␣␣␣␣␣␣␣␣␣␣␣␣␣␣␣␣␣␣␣␣␣␣␣␣␣␣␣␣␣␣␣␣␣␣␣␣␣␣␣␣␣␣␣␣␣␣␣␣␣␣␣␣␣␣␣␣␣␣␣␣␣␣␣␣␣␣␣␣␣␣␣␣␣␣␣␣␣␣␣␣␣␣␣␣␣␣␣␣␣␣␣␣␣␣␣␣␣␣␣␣␣␣␣␣␣␣␣␣␣␣␣␣␣␣␣␣␣␣␣␣␣␣␣␣␣␣␣␣␣␣␣␣␣␣␣␣␣␣␣␣␣␣␣␣␣␣␣␣␣␣␣␣␣␣␣␣␣␣␣␣␣␣␣␣␣␣␣␣␣␣␣␣␣␣␣␣␣␣␣␣␣␣␣␣␣␣␣␣␣␣␣␣␣␣␣␣␣␣␣␣␣␣␣␣␣␣␣␣␣␣␣␣␣␣␣␣␣␣␣␣␣␣␣␣␣␣␣␣␣␣␣␣␣␣␣␣␣␣␣␣␣␣␣␣␣␣␣␣␣␣␣␣␣␣␣␣␣␣␣␣␣␣␣␣␣␣␣␣␣␣␣␣␣␣␣␣␣␣␣␣␣␣␣␣␣␣␣␣␣␣␣␣␣␣␣␣␣␣␣␣␣␣␣␣␣␣␣␣␣␣␣␣␣␣␣␣␣␣␣␣␣␣␣␣␣␣␣␣␣␣␣␣␣␣␣␣␣␣␣␣␣␣␣␣␣␣␣␣␣␣␣␣␣␣␣␣␣␣␣␣␣␣␣␣␣␣␣␣␣␣␣␣␣␣␣␣␣␣␣␣␣␣␣␣␣␣␣␣␣␣␣␣␣␣␣␣␣␣␣␣␣␣␣␣␣␣␣␣␣␣␣␣␣␣␣␣␣␣␣␣␣␣␣␣␣␣␣␣␣␣␣␣␣␣␣␣␣␣␣␣␣␣␣␣␣␣␣␣␣␣␣␣␣␣␣␣␣␣␣␣␣␣␣␣␣␣␣␣␣␣␣␣␣␣␣␣␣␣␣␣␣␣␣␣␣␣␣␣␣␣␣␣␣␣␣␣␣␣␣␣␣␣␣␣␣␣␣␣\n",
            "\n",
            "\n",
            "\n",
            "Attempt: \"Mushroom\" + 1.0\n",
            "-----------------------------------\n",
            "📗 Mushroom▪55tpp�a\"-n-n¼33⅓◊W5W´ó|)̀‱j’x5 rucipen-frot leaves\n",
            "• 1 pound chicken fresh ginger, for garnish\n",
            "• 1 tablespoon orange zest\n",
            "• 1 tablespoon butter\n",
            "• 1 cup rice wine vinegar\n",
            "• Finely chopped chicken into 1/4-inch thickness\n",
            "\n",
            "📝\n",
            "\n",
            "▪︎ In a 9-quart saucepan slice them on the fork stuff thise rice and spread for 5 to 1 inch of 5 Bluco-shell and serving on.\n",
            "␣␣␣␣␣␣␣␣␣␣␣␣␣␣␣␣␣␣␣␣␣␣␣␣␣␣␣␣␣␣␣␣␣␣␣␣␣␣␣␣␣␣␣␣␣␣␣␣␣␣␣␣␣␣␣␣␣␣␣␣␣␣␣␣␣␣␣␣␣␣␣␣␣␣␣␣␣␣␣␣␣␣␣␣␣␣␣␣␣␣␣␣␣␣␣␣␣␣␣␣␣␣␣␣␣␣␣␣␣␣␣␣␣␣␣␣␣␣␣␣␣␣␣␣␣␣␣␣␣␣␣␣␣␣␣␣␣␣␣␣␣␣␣␣␣␣␣␣␣␣␣␣␣␣␣␣␣␣␣␣␣␣␣␣␣␣␣␣␣␣␣␣␣␣␣␣␣␣␣␣␣␣␣␣␣␣␣␣␣␣␣␣␣␣␣␣␣␣␣␣␣␣␣␣␣␣␣␣␣␣␣␣␣␣␣␣␣␣␣␣␣␣␣␣␣␣␣␣␣␣␣␣␣␣␣␣␣␣␣␣␣␣␣␣␣␣␣␣␣␣␣␣␣␣␣␣␣␣␣␣␣␣␣␣␣␣␣␣␣␣␣␣␣␣␣␣␣␣␣␣␣␣␣␣␣␣␣␣␣␣␣␣␣␣␣␣␣␣␣␣␣␣␣␣␣␣␣␣␣␣␣␣␣␣␣␣␣␣␣␣␣␣␣␣␣␣␣␣␣␣␣␣␣␣␣␣␣␣␣␣␣␣␣␣␣␣␣␣␣␣␣␣␣␣␣␣␣␣␣␣␣␣␣␣␣␣␣␣␣␣␣␣␣␣␣␣␣␣␣␣␣␣␣␣␣␣␣␣␣␣␣␣␣␣␣␣␣␣␣␣␣␣␣␣␣␣␣␣␣␣␣␣␣␣␣␣␣␣␣␣␣␣␣␣␣␣␣␣␣␣␣␣␣␣␣␣␣␣␣␣␣␣␣␣␣␣␣␣␣␣␣␣␣␣␣␣␣␣␣␣␣␣␣␣␣␣␣␣␣␣␣␣␣␣␣␣␣␣␣␣␣␣␣␣␣␣␣␣␣␣␣␣␣␣␣␣␣␣␣␣␣␣␣␣␣␣␣␣␣␣␣␣␣␣␣␣␣␣␣␣␣␣␣␣␣␣␣␣␣␣␣␣␣␣␣␣␣␣␣␣␣␣␣␣␣␣␣␣␣␣␣␣␣␣␣␣␣␣␣␣␣␣␣␣␣␣␣␣␣␣␣␣␣␣␣␣␣␣␣␣␣␣␣␣␣␣␣␣␣␣␣␣␣␣␣␣␣␣␣␣␣␣␣␣␣␣␣␣␣␣␣␣␣␣␣␣␣␣␣␣␣␣␣␣␣␣␣␣␣␣␣␣␣␣␣␣␣␣␣␣␣␣␣␣␣␣␣␣␣␣\n",
            "\n",
            "\n",
            "\n",
            "Attempt: \"Mushroom\" + 0.8\n",
            "-----------------------------------\n",
            "📗 Mushroomj‭ú🥕vëfoflumon, whisking constantly strip into quarters dark to toasted confectioners and puree with green onions. Remove from heat.\n",
            "▪︎ Meanwhile, let the chile mixture in a large bowl, whisk coconut oil and toss with a tomato sauce. Sprinkle togester half of the crumbled bacon and toss with foil crosting and then cool for 10 minutes. Cool, and fold in plantin mixture. Place in a stick skillet over medium-high heat, add the oven to a rack and bake for 2 to 1 minutes before serving.\n",
            "␣␣␣␣␣␣␣␣␣␣␣␣␣␣␣␣␣␣␣␣␣␣␣␣␣␣␣␣␣␣␣␣␣␣␣␣␣␣␣␣␣␣␣␣␣␣␣␣␣␣␣␣␣␣␣␣␣␣␣␣␣␣␣␣␣␣␣␣␣␣␣␣␣␣␣␣␣␣␣␣␣␣␣␣␣␣␣␣␣␣␣␣␣␣␣␣␣␣␣␣␣␣␣␣␣␣␣␣␣␣␣␣␣␣␣␣␣␣␣␣␣␣␣␣␣␣␣␣␣␣␣␣␣␣␣␣␣␣␣␣␣␣␣␣␣␣␣␣␣␣␣␣␣␣␣␣␣␣␣␣␣␣␣␣␣␣␣␣␣␣␣␣␣␣␣␣␣␣␣␣␣␣␣␣␣␣␣␣␣␣␣␣␣␣␣␣␣␣␣␣␣␣␣␣␣␣␣␣␣␣␣␣␣␣␣␣␣␣␣␣␣␣␣␣␣␣␣␣␣␣␣␣␣␣␣␣␣␣␣␣␣␣␣␣␣␣␣␣␣␣␣␣␣␣␣␣␣␣␣␣␣␣␣␣␣␣␣␣␣␣␣␣␣␣␣␣␣␣␣␣␣␣␣␣␣␣␣␣␣␣␣␣␣␣␣␣␣␣␣␣␣␣␣␣␣␣␣␣␣␣␣␣␣␣␣␣␣␣␣␣␣␣␣␣␣␣␣␣␣␣␣␣␣␣␣␣␣␣␣␣␣␣␣␣␣␣␣␣␣␣␣␣␣␣␣␣␣␣␣␣␣␣␣␣␣␣␣␣␣␣␣␣␣␣␣␣␣␣␣␣␣␣␣␣␣␣␣␣␣␣␣␣␣␣␣␣␣␣␣␣␣␣␣␣␣␣␣␣␣␣␣␣␣␣␣␣␣␣␣␣␣␣␣␣␣␣␣␣␣␣␣␣␣␣␣␣␣␣␣␣␣␣␣␣␣␣␣␣␣␣␣␣␣␣␣␣␣␣␣␣␣␣␣␣␣␣␣␣␣␣␣␣␣␣␣␣␣␣␣␣␣␣␣␣␣␣␣␣␣␣␣␣␣␣␣␣␣␣␣␣␣␣␣␣␣␣␣␣␣␣␣␣␣\n",
            "\n",
            "\n",
            "\n",
            "Attempt: \"Mushroom\" + 0.4\n",
            "-----------------------------------\n",
            "📗 MushroomA📗ppppolouguldes and peanut oil in a medium bowl and serve with salt and pepper to taste\n",
            "• 1 (12-ounce) can chicken stock\n",
            "• 1 cup fresh salt\n",
            "• 1 teaspoon salt\n",
            "• 1 teaspoon of salt\n",
            "• 1 teaspoon salt\n",
            "• 1 teaspoon ground cinnamon\n",
            "• 1 teaspoon ground cinnamon\n",
            "• 1/4 teaspoon freshly ground black pepper\n",
            "• 1 teaspoon freshly ground black pepper\n",
            "• 1 teaspoon coarse salt\n",
            "• 1/4 teaspoon salt\n",
            "• 1/4 teaspoon ground ginger\n",
            "• 2 teaspoons salt\n",
            "• 1 teaspoon cinnamon\n",
            "• 1 teaspoon salt\n",
            "• 1/4 teaspoon freshly ground black pepper\n",
            "• 1 teaspoon chopped fresh parsley leaves\n",
            "• 1 cup chopped fresh parsley leaves\n",
            "• 1 cup chopped chives\n",
            "• 1 cup fresh lime juice\n",
            "• 1 teaspoon salt\n",
            "• 1/2 teaspoon salt\n",
            "• 1 teaspoon salt\n",
            "• 1 teaspoon salt\n",
            "• 1/4 teaspoon freshly ground black pepper\n",
            "• 1 tablespoon salt\n",
            "• 1 teaspoon salt\n",
            "• 1 teaspoon salt\n",
            "• 1 teaspoon ground cinnamon\n",
            "• 1 teaspoon salt\n",
            "• 1 teaspoon minced fresh basil\n",
            "• 1 tablespoon finely chopped fresh oregano\n",
            "• 1 teaspoon salt\n",
            "• 1 teaspoon salt\n",
            "• 1 teaspoon salt\n",
            "• 1 cup\n",
            "\n",
            "\n",
            "\n",
            "Attempt: \"Mushroom\" + 0.2\n",
            "-----------------------------------\n",
            "📗 Mushroom•••qpploolugulinges (about 1 1/2 pounds)\n",
            "• 1 cup chopped fresh parsley\n",
            "• 1 teaspoon ground cinnamon\n",
            "• 1 teaspoon ground cinnamon\n",
            "• 1 teaspoon salt\n",
            "• 1 teaspoon salt\n",
            "• 1 teaspoon freshly ground black pepper\n",
            "• 1 cup chopped fresh parsley\n",
            "• 1 tablespoon fresh lemon juice\n",
            "• 1 teaspoon salt\n",
            "• 1 teaspoon ground cinnamon\n",
            "• 1 teaspoon salt\n",
            "• 1 teaspoon salt\n",
            "• 1/4 teaspoon salt\n",
            "• 1/2 teaspoon salt\n",
            "• 1/2 teaspoon salt\n",
            "• 1/2 teaspoon salt\n",
            "• 1/2 teaspoon freshly ground black pepper\n",
            "• 1 teaspoon salt\n",
            "• 1 teaspoon salt\n",
            "• 1 teaspoon salt\n",
            "• 1 teaspoon salt\n",
            "• 1/4 teaspoon ground cinnamon\n",
            "• 1 teaspoon salt\n",
            "• 1 teaspoon salt\n",
            "• 1 teaspoon salt\n",
            "• 1 teaspoon freshly ground black pepper\n",
            "• 1 teaspoon salt\n",
            "• 1 teaspoon salt\n",
            "• 1 teaspoon salt\n",
            "• 1 teaspoon salt\n",
            "• 1/4 teaspoon salt\n",
            "• 1 teaspoon salt\n",
            "• 1 teaspoon salt\n",
            "• 1/4 teaspoon freshly ground black pepper\n",
            "• 1 tablespoon fresh lemon juice\n",
            "• 1 teaspoon salt\n",
            "• 1 teaspoon salt\n",
            "• 1/4 teaspoon salt\n",
            "• 1/4 teaspoon ground cinnamon\n",
            "• 1 teaspoon salt\n",
            "• 1 teaspoon salt\n",
            "\n",
            "\n",
            "\n",
            "\n",
            "Attempt: \"Apple\" + 1.0\n",
            "-----------------------------------\n",
            "📗 AppleLQú3\\j5̀ÚH/<D5 buncy portonnaise\n",
            "• 1 small red pepper, fresh like dio\n",
            "\n",
            "📝\n",
            "\n",
            "▪︎ Roan green on a baking pan and sprinkle bread 3 pourse is deeping to cover the chicken and then cook, stirring occasionally, until serving is offeet and fluffy, about 12 minutes more until very smooth. Add tomato pieces for medium, 1 to 3 minutes for unsalted 15 minutes. Stir in chicken stock, for al oil. MIP whisking canubul onces will pan over medium-high heat is medium-high and 4 minutes.\n",
            "▪︎ Remove from onion mixture and season with salt and pepper. Drizzle with mushroom by sides of lemon with roasted sugar.\n",
            "▪︎ Place a light bones until browned, cut side. Conn off each baking dings bar canner seasoning for the patties. Place 1/2 cup of 1 remon with milk and add black beans, and cook until frain are proserve.\n",
            "▪︎ Bake food 20 minutes, add bitters, until firm consistency. Add water and stir fry until light and flughty and dooden beginn the edg. Add all shortening thicks until stiffing; add texture on top. Stir\n",
            "\n",
            "\n",
            "\n",
            "Attempt: \"Apple\" + 0.8\n",
            "-----------------------------------\n",
            "📗 Appleû@í–u⅞,⁄︎•␣␣␣␣␣␣␣␣␣␣␣␣␣␣␣␣␣␣␣␣␣␣␣␣␣␣␣␣␣␣␣␣␣␣␣␣␣␣␣␣␣␣␣␣␣␣␣␣␣␣␣␣␣␣␣␣␣␣␣␣␣␣␣␣␣␣␣␣␣␣␣␣␣␣␣␣␣␣␣␣␣␣␣␣␣␣␣␣␣␣␣␣␣␣␣␣␣␣␣␣␣␣␣␣␣␣␣␣␣␣␣␣␣␣␣␣␣␣␣␣␣␣␣␣␣␣␣␣␣␣␣␣␣␣␣␣␣␣␣␣␣␣␣␣␣␣␣␣␣␣␣␣␣␣␣␣␣␣␣␣␣␣␣␣␣␣␣␣␣␣␣␣␣␣␣␣␣␣␣␣␣␣␣␣␣␣␣␣␣␣␣␣␣␣␣␣␣␣␣␣␣␣␣␣␣␣␣␣␣␣␣␣␣␣␣␣␣␣␣␣␣␣␣␣␣␣␣␣␣␣␣␣␣␣␣␣␣␣␣␣␣␣␣␣␣␣␣␣␣␣␣␣␣␣␣␣␣␣␣␣␣␣␣␣␣␣␣␣␣␣␣␣␣␣␣␣␣␣␣␣␣␣␣␣␣␣␣␣␣␣␣␣␣␣␣␣␣␣␣␣␣␣␣␣␣␣␣␣␣␣␣␣␣␣␣␣␣␣␣␣␣␣␣␣␣␣␣␣␣␣␣␣␣␣␣␣␣␣␣␣␣␣␣␣␣␣␣␣␣␣␣␣␣␣␣␣␣␣␣␣␣␣␣␣␣␣␣␣␣␣␣␣␣␣␣␣␣␣␣␣␣␣␣␣␣␣␣␣␣␣␣␣␣␣␣␣␣␣␣␣␣␣␣␣␣␣␣␣␣␣␣␣␣␣␣␣␣␣␣␣␣␣␣␣␣␣␣␣␣␣␣␣␣␣␣␣␣␣␣␣␣␣␣␣␣␣␣␣␣␣␣␣␣␣␣␣␣␣␣␣␣␣␣␣␣␣␣␣␣␣␣␣␣␣␣␣␣␣␣␣␣␣␣␣␣␣␣␣␣␣␣␣␣␣␣␣␣␣␣␣␣␣␣␣␣␣␣␣␣␣␣␣␣␣␣␣␣␣␣␣␣␣␣␣␣␣␣␣␣␣␣␣␣␣␣␣␣␣␣␣␣␣␣␣␣␣␣␣␣␣␣␣␣␣␣␣␣␣␣␣␣␣␣␣␣␣␣␣␣␣␣␣␣␣␣␣␣␣␣␣␣␣␣␣␣␣␣␣␣␣␣␣␣␣␣␣␣␣␣␣␣␣␣␣␣␣␣␣␣␣␣␣␣␣␣␣␣␣␣␣␣␣␣␣␣␣␣␣␣␣␣␣␣␣␣␣␣␣␣␣␣␣␣␣␣␣␣␣␣␣␣␣␣␣␣␣␣␣␣␣␣␣␣␣␣␣␣␣␣␣␣␣␣␣␣␣␣␣␣␣␣␣␣␣␣␣␣␣␣␣␣␣␣␣␣␣␣␣␣␣␣␣␣␣␣␣␣␣␣␣␣␣␣␣␣␣␣␣␣␣␣␣␣␣␣␣␣␣␣␣␣␣␣␣␣␣␣␣␣␣␣␣␣␣␣␣␣␣␣␣␣␣␣␣␣␣␣␣␣␣␣␣␣␣␣␣␣␣␣␣␣␣␣␣␣␣␣␣␣␣␣␣␣␣␣␣␣␣␣␣␣␣␣␣␣␣␣␣␣␣␣␣␣␣␣␣␣␣␣␣␣␣␣␣␣␣␣␣␣␣␣␣␣␣␣␣␣␣␣␣␣␣␣␣␣␣␣␣␣␣␣␣␣␣␣␣␣␣␣␣␣␣␣␣␣␣␣␣␣␣␣␣␣␣␣␣␣␣␣␣␣␣␣␣␣␣␣␣␣␣␣␣␣␣␣␣␣␣␣␣␣␣␣␣␣␣␣␣␣␣␣␣␣␣␣␣␣␣␣␣␣␣␣␣␣␣␣␣␣␣␣␣␣␣␣␣␣␣␣␣␣␣␣␣␣␣␣␣␣␣␣␣␣␣␣␣␣␣␣␣␣␣␣␣␣␣␣␣␣␣␣␣␣␣␣␣␣␣␣␣␣␣␣␣␣␣␣␣␣␣␣␣␣␣␣␣␣␣␣␣\n",
            "\n",
            "\n",
            "\n",
            "Attempt: \"Apple\" + 0.4\n",
            "-----------------------------------\n",
            "📗 AppleQ📗•p⅛l‒ë \u001áilong lightly browned with salt and pepper. Spoon into dough in a small bowl.\n",
            "▪︎ In a small bowl, mix together the lemon juice, salt, and pepper and cook until the sugar is incorporated and the eggs are tender, about 10 minutes. Add the stock and stir until the filling is softened. Add the onion and saute until the mixture softened, about 2 minutes and stir in the pan and cook until the browned and crisp and the liquid is combined. Stir in the remaining 1 tablespoon of the sugar and season with salt and pepper. Serve with the remaining cups with salt and pepper. Sprinkle the potatoes with the remaining 1 tablespoon of the salsa into the bowl and toss with the remaining 1 tablespoon of the sugar and serve.\n",
            "␣␣␣␣␣␣␣␣␣␣␣␣␣␣␣␣␣␣␣␣␣␣␣␣␣␣␣␣␣␣␣␣␣␣␣␣␣␣␣␣␣␣␣␣␣␣␣␣␣␣␣␣␣␣␣␣␣␣␣␣␣␣␣␣␣␣␣␣␣␣␣␣␣␣␣␣␣␣␣␣␣␣␣␣␣␣␣␣␣␣␣␣␣␣␣␣␣␣␣␣␣␣␣␣␣␣␣␣␣␣␣␣␣␣␣␣␣␣␣␣␣␣␣␣␣␣␣␣␣␣␣␣␣␣␣␣␣␣␣␣␣␣␣␣␣␣␣␣␣␣␣␣␣␣␣␣␣␣␣␣␣␣␣␣␣␣␣␣␣␣␣␣␣␣␣␣␣␣␣␣␣␣␣␣␣␣␣␣␣␣␣␣␣␣␣␣␣␣␣␣␣␣␣␣␣␣␣␣␣␣␣␣␣␣␣␣␣␣␣␣␣␣␣␣␣␣␣␣␣␣␣␣␣␣␣␣␣␣␣␣␣␣␣␣␣␣␣␣␣␣␣␣␣␣␣␣␣␣␣␣␣␣␣␣␣␣␣␣␣␣␣␣␣␣\n",
            "\n",
            "\n",
            "\n",
            "Attempt: \"Apple\" + 0.2\n",
            "-----------------------------------\n",
            "📗 AppleQ••Q••••••s, then almond flour\n",
            "• 1 teaspoon salt\n",
            "• 1 teaspoon salt\n",
            "• 1 teaspoon ground cinnamon\n",
            "• 1 teaspoon salt\n",
            "• 1 teaspoon salt\n",
            "• 1/2 teaspoon salt\n",
            "• 1/2 teaspoon salt\n",
            "• 1/2 teaspoon freshly ground black pepper\n",
            "• 1 tablespoon fresh lemon juice\n",
            "• 1 teaspoon salt\n",
            "• 1 teaspoon salt\n",
            "• 1 teaspoon salt\n",
            "• 1 teaspoon freshly ground black pepper\n",
            "• 1 teaspoon salt\n",
            "• 1/2 teaspoon ground cinnamon\n",
            "• 1 teaspoon salt\n",
            "• 1 teaspoon salt\n",
            "• 1/2 teaspoon ground cinnamon\n",
            "• 1/2 teaspoon salt\n",
            "• 1 teaspoon vanilla extract\n",
            "• 1 teaspoon salt\n",
            "• 1/4 teaspoon freshly ground black pepper\n",
            "• 1 teaspoon salt\n",
            "• 1 teaspoon salt\n",
            "• 1 teaspoon salt\n",
            "• 1 teaspoon ground cinnamon\n",
            "• 1 teaspoon salt\n",
            "• 1 teaspoon salt\n",
            "• 1 teaspoon ground cinnamon\n",
            "• 1/2 teaspoon salt\n",
            "• 1 teaspoon salt\n",
            "• 1 teaspoon chopped fresh thyme\n",
            "• 1 teaspoon vanilla extract\n",
            "• 1/2 teaspoon salt\n",
            "• 1/2 teaspoon freshly ground black pepper\n",
            "• 1 teaspoon salt\n",
            "• 1/4 teaspoon ground cinnamon\n",
            "• 1 teaspoon salt\n",
            "• 1 teaspoon salt\n",
            "• 1 teaspoon salt\n",
            "• 1 teaspoon salt\n",
            "\n",
            "\n",
            "\n",
            "Attempt: \"Slow\" + 1.0\n",
            "-----------------------------------\n",
            "📗 Slow”¾¼⁄⅓🥕§•␣=␣#6 (11-ounce) paccous 4/4 to 6 charies, finely grated\n",
            "• A canola oil, filled or yogurt\n",
            "• 2 cups separations, minced on tha juicl\n",
            "• 2 teaspoons chill powdered sugar\n",
            "• Garnish\n",
            "• 2 fresh garlic cloves, pine pepper\n",
            "• 1 medium onion, diced\n",
            "• 2 ounces stear, not-saute puffin spearo\n",
            "• Freshly chopped carrot and chopped garlic\n",
            "• 3 cups flour\n",
            "\n",
            "📝\n",
            "\n",
            "▪︎ Heat oven rook over medium heat and add the apples twe the ter the liquid over the grahams over the meat, stirring offee pulds.)\n",
            "▪︎ To assemble: Dip through shell it cool on a medtia plate.\n",
            "▪︎ Put have large out dressing or pasta when fat in boil. Mars mushrooms unit gneens to completely disined by 2 to a simmer of the flour. Remove from oven and lightly exter at a time, 42 to 6 minutes. Combine the follots and, scoopiec in the pan over graving the crisps, and season with salt and pepper, to taste with remaining ingredients, turning oce and 7 this randfic. Toss to grill racks to work stock, cut side over moderately let leat for 25 minutes\n",
            "\n",
            "\n",
            "\n",
            "Attempt: \"Slow\" + 0.8\n",
            "-----------------------------------\n",
            "📗 Slowûó\u001a9ü=–•)½órpless spiced deveined\n",
            "• 2 teaspoons granulated sugar\n",
            "• 1 teaspoon salt\n",
            "• 1 tablespoon minced fresh lime zuc\n",
            "• 1 cup shortening margh top water\n",
            "• 1 cup all-purpose flour\n",
            "• 1 cup of tranchure shells\n",
            "• 1 tablespoon half\n",
            "• 1 1/2 teaspoons sugar\n",
            "• 1 cup garlic powder\n",
            "• 1/4 teaspoon vanilla extract\n",
            "• 1/3 cup vegetable oil\n",
            "• 1 cup confectioners' sugar, rehiagely chopped\n",
            "• 1 medium sugar, chopped\n",
            "• 1 pound peckned clams\n",
            "• Ice white potatoes into 1/4-inch thick strips or about 3 to 5 rast\n",
            "• 1 teaspoon freshly surrace dice\n",
            "• 4 cups water\n",
            "• 2 tablespoons vegetable oil\n",
            "• 2 tablespoons balsamic vinegar\n",
            "• 1/4 cup sugar\n",
            "• 2 cup sugar\n",
            "• 1 cup fresh lime juice\n",
            "• 1 pinch fresh peas until golden brown sugar\n",
            "• 1 large cayenne purped fresh parsley, for gusting\n",
            "\n",
            "📝\n",
            "\n",
            "▪︎ Combine all air ingredients in a been floured sive and beat until fork, evenly add the pork and the chicken stards and garnish with fresh vinegar, then when it heat the bottomed shoous mixture of the each drippings. Udive the shrim\n",
            "\n",
            "\n",
            "\n",
            "Attempt: \"Slow\" + 0.4\n",
            "-----------------------------------\n",
            "📗 Sloww–ñp🥕üó.␣␣␣␣␣␣␣␣␣␣␣␣␣␣␣␣␣␣␣␣␣␣␣␣␣␣␣␣␣␣␣␣␣␣␣␣␣␣␣␣␣␣␣␣␣␣␣␣␣␣␣␣␣␣␣␣␣␣␣␣␣␣␣␣␣␣␣␣␣␣␣␣␣␣␣␣␣␣␣␣␣␣␣␣␣␣␣␣␣␣␣␣␣␣␣␣␣␣␣␣␣␣␣␣␣␣␣␣␣␣␣␣␣␣␣␣␣␣␣␣␣␣␣␣␣␣␣␣␣␣␣␣␣␣␣␣␣␣␣␣␣␣␣␣␣␣␣␣␣␣␣␣␣␣␣␣␣␣␣␣␣␣␣␣␣␣␣␣␣␣␣␣␣␣␣␣␣␣␣␣␣␣␣␣␣␣␣␣␣␣␣␣␣␣␣␣␣␣␣␣␣␣␣␣␣␣␣␣␣␣␣␣␣␣␣␣␣␣␣␣␣␣␣␣␣␣␣␣␣␣␣␣␣␣␣␣␣␣␣␣␣␣␣␣␣␣␣␣␣␣␣␣␣␣␣␣␣␣␣␣␣␣␣␣␣␣␣␣␣␣␣␣␣␣␣␣␣␣␣␣␣␣␣␣␣␣␣␣␣␣␣␣␣␣␣␣␣␣␣␣␣␣␣␣␣␣␣␣␣␣␣␣␣␣␣␣␣␣␣␣␣␣␣␣␣␣␣␣␣␣␣␣␣␣␣␣␣␣␣␣␣␣␣␣␣␣␣␣␣␣␣␣␣␣␣␣␣␣␣␣␣␣␣␣␣␣␣␣␣␣␣␣␣␣␣␣␣␣␣␣␣␣␣␣␣␣␣␣␣␣␣␣␣␣␣␣␣␣␣␣␣␣␣␣␣␣␣␣␣␣␣␣␣␣␣␣␣␣␣␣␣␣␣␣␣␣␣␣␣␣␣␣␣␣␣␣␣␣␣␣␣␣␣␣␣␣␣␣␣␣␣␣␣␣␣␣␣␣␣␣␣␣␣␣␣␣␣␣␣␣␣␣␣␣␣␣␣␣␣␣␣␣␣␣␣␣␣␣␣␣␣␣␣␣␣␣␣␣␣␣␣␣␣␣␣␣␣␣␣␣␣␣␣␣␣␣␣␣␣␣␣␣␣␣␣␣␣␣␣␣␣␣␣␣␣␣␣␣␣␣␣␣␣␣␣␣␣␣␣␣␣␣␣␣␣␣␣␣␣␣␣␣␣␣␣␣␣␣␣␣␣␣␣␣␣␣␣␣␣␣␣␣␣␣␣␣␣␣␣␣␣␣␣␣␣␣␣␣␣␣␣␣␣␣␣␣␣␣␣␣␣␣␣␣␣␣␣␣␣␣␣␣␣␣␣␣␣␣␣␣␣␣␣␣␣␣␣␣␣␣␣␣␣␣␣␣␣␣␣␣␣␣␣␣␣␣␣␣␣␣␣␣␣␣␣␣␣␣␣␣␣␣␣␣␣␣␣␣␣␣␣␣␣␣␣␣␣␣␣␣␣␣␣␣␣␣␣␣␣␣␣␣␣␣␣␣␣␣␣␣␣␣␣␣␣␣␣␣␣␣␣␣␣␣␣␣␣␣␣␣␣␣␣␣␣␣␣␣␣␣␣␣␣␣␣␣␣␣␣␣␣␣␣␣␣␣␣␣␣␣␣␣␣␣␣␣␣␣␣␣␣␣␣␣␣␣␣␣␣␣␣␣␣␣␣␣␣␣␣␣␣␣␣␣␣␣␣␣␣␣␣␣␣␣␣␣␣␣␣␣␣␣␣␣␣␣␣␣␣␣␣␣␣␣␣␣␣␣␣␣␣␣␣␣␣␣␣␣␣␣␣␣␣␣␣␣␣␣␣␣␣␣␣␣␣␣␣␣␣␣␣␣␣␣␣␣␣␣␣␣␣␣␣␣␣␣␣␣␣␣␣␣␣␣␣␣␣␣␣␣␣␣␣␣␣␣␣␣␣␣␣␣␣␣␣␣␣␣␣␣␣␣␣␣␣␣␣␣␣␣␣␣␣␣␣␣␣␣␣␣␣␣␣␣␣␣␣␣␣␣␣␣␣␣␣␣␣␣␣␣␣␣␣␣␣␣␣␣␣␣␣␣␣␣␣␣␣␣␣␣␣␣␣␣␣␣␣␣␣␣␣␣␣␣␣␣␣␣␣␣␣␣\n",
            "\n",
            "\n",
            "\n",
            "Attempt: \"Slow\" + 0.2\n",
            "-----------------------------------\n",
            "📗 Slow°°é5•••Q••ddy or dried tomatoes, and chopped pieces of salt and pepper to taste\n",
            "• 1 cup chopped fresh cilantro leaves\n",
            "• 1 cup chopped fresh thyme\n",
            "• 1 teaspoon salt\n",
            "• 1 teaspoon salt\n",
            "• 1 teaspoon chopped fresh parsley\n",
            "• 1 teaspoon salt\n",
            "• 1 teaspoon freshly ground black pepper\n",
            "• 1 teaspoon salt\n",
            "• 1/4 teaspoon salt\n",
            "• 1/4 teaspoon ground cinnamon\n",
            "• 1/4 teaspoon freshly ground black pepper\n",
            "• 1 teaspoon salt\n",
            "• 1 teaspoon salt\n",
            "• 1 teaspoon freshly ground black pepper\n",
            "• 1 teaspoon salt\n",
            "• 1 teaspoon ground cinnamon\n",
            "• 1 teaspoon salt\n",
            "• 1/2 teaspoon salt\n",
            "• 1/2 teaspoon salt\n",
            "• 1/2 teaspoon salt\n",
            "• 1/4 teaspoon salt\n",
            "• 1/4 teaspoon salt\n",
            "• 1/4 teaspoon salt\n",
            "• 1 teaspoon freshly ground black pepper\n",
            "• 1 teaspoon salt\n",
            "• 1 teaspoon salt\n",
            "• 1 teaspoon salt\n",
            "• 1/2 teaspoon salt\n",
            "• 1/4 teaspoon salt\n",
            "• 1 teaspoon salt\n",
            "• 1/2 teaspoon salt\n",
            "• 1 teaspoon freshly ground black pepper\n",
            "• 1 teaspoon salt\n",
            "• 1 teaspoon salt\n",
            "• 1 teaspoon freshly ground black pepper\n",
            "• 1 teaspoon salt\n",
            "• 1 teaspoon salt\n",
            "• 1/2 teaspoon freshly \n",
            "\n",
            "\n",
            "\n",
            "Attempt: \"Christmass\" + 1.0\n",
            "-----------------------------------\n",
            "📗 ChristmassqpöYgè´G␣• Chon Ite a fork\n",
            "• 4 ounces humis drisping\n",
            "\n",
            "📝\n",
            "\n",
            "▪︎ Pulse a pint of pasta in brown over cookie to keep fora. Stir in remaining venegar mixture on melon to refrigeraty for 8 minutes. Puls a pot if dry and rom into itroust mixture. Chill until curd slightly stillet re asly. Simmer for 5 minutes or until muss.\n",
            "▪︎ Remove from garlic and strain it water if desired, pineap. Sprinkle with tomato oil. Add onions and saute for 15 minutes, or until the before simmering about 5 minutes. Add holds timolave centen molts in an apable pastry scoop up in a small mixer and add tomatoes. Add the rigerarily together and 1/3 teaspoon butter and follow the dough; beat are until ally yough before trind, reduce to a foil and orcangle at room temperature until frightly forminade.\n",
            "▪︎ Add the pork chops to sauce for 10 minutes. Serve with the reserved beef into wines, place and bake to a bak for about 10 minutes.\n",
            "▪︎ Large racks in the mefress stop thend add dough until smooth. (If the causle layed downy\n",
            "\n",
            "\n",
            "\n",
            "Attempt: \"Christmass\" + 0.8\n",
            "-----------------------------------\n",
            "📗 Christmass🥕ad•́;s, tranmello slices on each honey\n",
            "• 2 tablespoons vegetable oil\n",
            "\n",
            "📝\n",
            "\n",
            "▪︎ In a medium skillet, cover warm with foil for about 3 minutes on each fillet over any mix warm preferably in a hot under a bowl and toss to coat. Remove from pan and stir in the remaining 1/3 cup chilled brown, sugar and 2 teaspoons of the mustard. Add the onions and brush with the remaining pasta water and set aside.\n",
            "▪︎ Pour a cuping soakes in a pan or antillight container up the skillet until the mixture is just size is to cover and refrigerated, 30 singe to flour. Spread the mixture into a serving plate. Drizzle the oil over the top of a work surface to melt the bread. Mix the butter, cover the sides until golden brown.\n",
            "▪︎ Set a rack in the freezer for 32 minutes heat to 100 degrees F. Add the garlic, onions, garlic, salt and baking powder. Brush the edges with onions, garlic, and the remaining curry to the shell of the steame. Slowly add the water and stir in the don on a spaght skillet and top with the st\n",
            "\n",
            "\n",
            "\n",
            "Attempt: \"Christmass\" + 0.4\n",
            "-----------------------------------\n",
            "📗 Christmass‭.␣␣␣␣␣␣␣␣␣␣␣␣␣␣␣␣␣␣␣␣␣␣␣␣␣␣␣␣␣␣␣␣␣␣␣␣␣␣␣␣␣␣␣␣␣␣␣␣␣␣␣␣␣␣␣␣␣␣␣␣␣␣␣␣␣␣␣␣␣␣␣␣␣␣␣␣␣␣␣␣␣␣␣␣␣␣␣␣␣␣␣␣␣␣␣␣␣␣␣␣␣␣␣␣␣␣␣␣␣␣␣␣␣␣␣␣␣␣␣␣␣␣␣␣␣␣␣␣␣␣␣␣␣␣␣␣␣␣␣␣␣␣␣␣␣␣␣␣␣␣␣␣␣␣␣␣␣␣␣␣␣␣␣␣␣␣␣␣␣␣␣␣␣␣␣␣␣␣␣␣␣␣␣␣␣␣␣␣␣␣␣␣␣␣␣␣␣␣␣␣␣␣␣␣␣␣␣␣␣␣␣␣␣␣␣␣␣␣␣␣␣␣␣␣␣␣␣␣␣␣␣␣␣␣␣␣␣␣␣␣␣␣␣␣␣␣␣␣␣␣␣␣␣␣␣␣␣␣␣␣␣␣␣␣␣␣␣␣␣␣␣␣␣␣␣␣␣␣␣␣␣␣␣␣␣␣␣␣␣␣␣␣␣␣␣␣␣␣␣␣␣␣␣␣␣␣␣␣␣␣␣␣␣␣␣␣␣␣␣␣␣␣␣␣␣␣␣␣␣␣␣␣␣␣␣␣␣␣␣␣␣␣␣␣␣␣␣␣␣␣␣␣␣␣␣␣␣␣␣␣␣␣␣␣␣␣␣␣␣␣␣␣␣␣␣␣␣␣␣␣␣␣␣␣␣␣␣␣␣␣␣␣␣␣␣␣␣␣␣␣␣␣␣␣␣␣␣␣␣␣␣␣␣␣␣␣␣␣␣␣␣␣␣␣␣␣␣␣␣␣␣␣␣␣␣␣␣␣␣␣␣␣␣␣␣␣␣␣␣␣␣␣␣␣␣␣␣␣␣␣␣␣␣␣␣␣␣␣␣␣␣␣␣␣␣␣␣␣␣␣␣␣␣␣␣␣␣␣␣␣␣␣␣␣␣␣␣␣␣␣␣␣␣␣␣␣␣␣␣␣␣␣␣␣␣␣␣␣␣␣␣␣␣␣␣␣␣␣␣␣␣␣␣␣␣␣␣␣␣␣␣␣␣␣␣␣␣␣␣␣␣␣␣␣␣␣␣␣␣␣␣␣␣␣␣␣␣␣␣␣␣␣␣␣␣␣␣␣␣␣␣␣␣␣␣␣␣␣␣␣␣␣␣␣␣␣␣␣␣␣␣␣␣␣␣␣␣␣␣␣␣␣␣␣␣␣␣␣␣␣␣␣␣␣␣␣␣␣␣␣␣␣␣␣␣␣␣␣␣␣␣␣␣␣␣␣␣␣␣␣␣␣␣␣␣␣␣␣␣␣␣␣␣␣␣␣␣␣␣␣␣␣␣␣␣␣␣␣␣␣␣␣␣␣␣␣␣␣␣␣␣␣␣␣␣␣␣␣␣␣␣␣␣␣␣␣␣␣␣␣␣␣␣␣␣␣␣␣␣␣␣␣␣␣␣␣␣␣␣␣␣␣␣␣␣␣␣␣␣␣␣␣␣␣␣␣␣␣␣␣␣␣␣␣␣␣␣␣␣␣␣␣␣␣␣␣␣␣␣␣␣␣␣␣␣␣␣␣␣␣␣␣␣␣␣␣␣␣␣␣␣␣␣␣␣␣␣␣␣␣␣␣␣␣␣␣␣␣␣␣␣␣␣␣␣␣␣␣␣␣␣␣␣␣␣␣␣␣␣␣␣␣␣␣␣␣␣␣␣␣␣␣␣␣␣␣␣␣␣␣␣␣␣␣␣␣␣␣␣␣␣␣␣␣␣␣␣␣␣␣␣␣␣␣␣␣␣␣␣␣␣␣␣␣␣␣␣␣␣␣␣␣␣␣␣␣␣␣␣␣␣␣␣␣␣␣␣␣␣␣␣␣␣␣␣␣␣␣␣␣␣␣␣␣␣␣␣␣␣␣␣␣␣␣␣␣␣␣␣␣␣␣␣␣␣␣␣␣␣␣␣␣␣␣␣␣␣␣␣␣␣␣␣␣␣␣␣␣␣␣␣␣␣␣␣␣␣␣␣␣␣␣␣␣␣␣␣␣␣␣␣␣␣␣␣␣␣␣\n",
            "\n",
            "\n",
            "\n",
            "Attempt: \"Christmass\" + 0.2\n",
            "-----------------------------------\n",
            "📗 Christmassñppplolololuf.•)\n",
            "␣␣␣␣␣␣␣␣␣␣␣␣␣␣␣␣␣␣␣␣␣␣␣␣␣␣␣␣␣␣␣␣␣␣␣␣␣␣␣␣␣␣␣␣␣␣␣␣␣␣␣␣␣␣␣␣␣␣␣␣␣␣␣␣␣␣␣␣␣␣␣␣␣␣␣␣␣␣␣␣␣␣␣␣␣␣␣␣␣␣␣␣␣␣␣␣␣␣␣␣␣␣␣␣␣␣␣␣␣␣␣␣␣␣␣␣␣␣␣␣␣␣␣␣␣␣␣␣␣␣␣␣␣␣␣␣␣␣␣␣␣␣␣␣␣␣␣␣␣␣␣␣␣␣␣␣␣␣␣␣␣␣␣␣␣␣␣␣␣␣␣␣␣␣␣␣␣␣␣␣␣␣␣␣␣␣␣␣␣␣␣␣␣␣␣␣␣␣␣␣␣␣␣␣␣␣␣␣␣␣␣␣␣␣␣␣␣␣␣␣␣␣␣␣␣␣␣␣␣␣␣␣␣␣␣␣␣␣␣␣␣␣␣␣␣␣␣␣␣␣␣␣␣␣␣␣␣␣␣␣␣␣␣␣␣␣␣␣␣␣␣␣␣␣␣␣␣␣␣␣␣␣␣␣␣␣␣␣␣␣␣␣␣␣␣␣␣␣␣␣␣␣␣␣␣␣␣␣␣␣␣␣␣␣␣␣␣␣␣␣␣␣␣␣␣␣␣␣␣␣␣␣␣␣␣␣␣␣␣␣␣␣␣␣␣␣␣␣␣␣␣␣␣␣␣␣␣␣␣␣␣␣␣␣␣␣␣␣␣␣␣␣␣␣␣␣␣␣␣␣␣␣␣␣␣␣␣␣␣␣␣␣␣␣␣␣␣␣␣␣␣␣␣␣␣␣␣␣␣␣␣␣␣␣␣␣␣␣␣␣␣␣␣␣␣␣␣␣␣␣␣␣␣␣␣␣␣␣␣␣␣␣␣␣␣␣␣␣␣␣␣␣␣␣␣␣␣␣␣␣␣␣␣␣␣␣␣␣␣␣␣␣␣␣␣␣␣␣␣␣␣␣␣␣␣␣␣␣␣␣␣␣␣␣␣␣␣␣␣␣␣␣␣␣␣␣␣␣␣␣␣␣␣␣␣␣␣␣␣␣␣␣␣␣␣␣␣␣␣␣␣␣␣␣␣␣␣␣␣␣␣␣␣␣␣␣␣␣␣␣␣␣␣␣␣␣␣␣␣␣␣␣␣␣␣␣␣␣␣␣␣␣␣␣␣␣␣␣␣␣␣␣␣␣␣␣␣␣␣␣␣␣␣␣␣␣␣␣␣␣␣␣␣␣␣␣␣␣␣␣␣␣␣␣␣␣␣␣␣␣␣␣␣␣␣␣␣␣␣␣␣␣␣␣␣␣␣␣␣␣␣␣␣␣␣␣␣␣␣␣␣␣␣␣␣␣␣␣␣␣␣␣␣␣␣␣␣␣␣␣␣␣␣␣␣␣␣␣␣␣␣␣␣␣␣␣␣␣␣␣␣␣␣␣␣␣␣␣␣␣␣␣␣␣␣␣␣␣␣␣␣␣␣␣␣␣␣␣␣␣␣␣␣␣␣␣␣␣␣␣␣␣␣␣␣␣␣␣␣␣␣␣␣␣␣␣␣␣␣␣␣␣␣␣␣␣␣␣␣␣␣␣␣␣␣␣␣␣␣␣␣␣␣␣␣␣␣␣␣␣␣␣␣␣␣␣␣␣␣␣␣␣␣␣␣␣␣␣␣␣␣␣␣␣␣␣␣␣␣␣␣␣␣␣␣␣␣␣␣␣␣␣␣␣␣␣␣␣␣␣␣␣␣␣␣␣␣␣␣␣␣␣␣␣␣␣␣␣␣␣␣␣␣␣␣␣␣␣␣␣␣␣␣␣␣␣␣␣␣␣␣␣␣␣␣␣␣␣␣␣␣␣␣␣␣␣␣␣␣␣␣␣␣␣␣␣␣␣␣␣␣␣␣␣␣␣␣␣␣␣␣␣␣␣␣␣␣␣␣␣␣␣␣␣␣␣␣␣␣␣␣␣␣␣␣␣␣␣␣␣␣␣␣␣␣␣␣␣␣␣␣␣␣␣␣␣␣␣␣␣␣␣␣␣␣␣␣␣␣␣␣␣␣␣␣␣␣␣␣␣␣␣␣\n",
            "\n",
            "\n",
            "\n",
            "Attempt: \"The\" + 1.0\n",
            "-----------------------------------\n",
            "📗 The‚ﬂM•🥕•ă€wW+Rroke and add watercrose (about 3 minutes) eviddiond to rice, 1 inch thick, plus Not/\n",
            "• 1/3 cup (you waft moint CubuSed Roll or Bluefry®)\n",
            "• 2 teaspoons baking dice\n",
            "• 3 medium egg yolks\n",
            "• 2 cups clove garac\n",
            "• 2/3 cup (1 to 1.5 ounces margarine or oriveipory malk\n",
            "• Two 2-inch lobster turkey rasking & juice\n",
            "• Tugn 4 Mints green bines\n",
            "• 2 cups (1 stick) extra-virgin olive oil\n",
            "• 6 salt and pepper to taste\n",
            "\n",
            "• Heavy cream\n",
            "\n",
            "📝\n",
            "\n",
            "▪︎ Preheat the burining salted water to a boil. Spoon the vegetable black eep: remove the ground chips in batches until thick another rightly loogher. Divide the chocolate sauce to a large pot of a time, until the hot milk, about 3 more hoys. Top the hot sauce in 3/4 tem-foil. Reduce generous to a large, heavy skillet over medium-high heat and add broccoli fliges at more and the baby grind with the cranfier and refrigerato until ready feaming the broiler. Kext flour, covered with lay freeze until mixture reduced soft, about 1 minute. Add the skin with the tor\n",
            "\n",
            "\n",
            "\n",
            "Attempt: \"The\" + 0.8\n",
            "-----------------------------------\n",
            "📗 TheO⅛ì×´7q␣0–»“@'limenting with the arpanch sy until and seared with as heavy cooking spray for deep frying\n",
            "• 1 teaspoon chopped cilantro\n",
            "• 1 1/2 teaspoons chopped fresh torato\n",
            "• 1 teaspoon chopped fresh black pepper\n",
            "\n",
            "📝\n",
            "\n",
            "▪︎ In a small saucepan, combine the flour and lemon juice and heat oil in a small saucepan and heat until ready to 10 minutes.\n",
            "␣␣␣␣␣␣␣␣␣␣␣␣␣␣␣␣␣␣␣␣␣␣␣␣␣␣␣␣␣␣␣␣␣␣␣␣␣␣␣␣␣␣␣␣␣␣␣␣␣␣␣␣␣␣␣␣␣␣␣␣␣␣␣␣␣␣␣␣␣␣␣␣␣␣␣␣␣␣␣␣␣␣␣␣␣␣␣␣␣␣␣␣␣␣␣␣␣␣␣␣␣␣␣␣␣␣␣␣␣␣␣␣␣␣␣␣␣␣␣␣␣␣␣␣␣␣␣␣␣␣␣␣␣␣␣␣␣␣␣␣␣␣␣␣␣␣␣␣␣␣␣␣␣␣␣␣␣␣␣␣␣␣␣␣␣␣␣␣␣␣␣␣␣␣␣␣␣␣␣␣␣␣␣␣␣␣␣␣␣␣␣␣␣␣␣␣␣␣␣␣␣␣␣␣␣␣␣␣␣␣␣␣␣␣␣␣␣␣␣␣␣␣␣␣␣␣␣␣␣␣␣␣␣␣␣␣␣␣␣␣␣␣␣␣␣␣␣␣␣␣␣␣␣␣␣␣␣␣␣␣␣␣␣␣␣␣␣␣␣␣␣␣␣␣␣␣␣␣␣␣␣␣␣␣␣␣␣␣␣␣␣␣␣␣␣␣␣␣␣␣␣␣␣␣␣␣␣␣␣␣␣␣␣␣␣␣␣␣␣␣␣␣␣␣␣␣␣␣␣␣␣␣␣␣␣␣␣␣␣␣␣␣␣␣␣␣␣␣␣␣␣␣␣␣␣␣␣␣␣␣␣␣␣␣␣␣␣␣␣␣␣␣␣␣␣␣␣␣␣␣␣␣␣␣␣␣␣␣␣␣␣␣␣␣␣␣␣␣␣␣␣␣␣␣␣␣␣␣␣␣␣␣␣␣␣␣␣␣␣␣␣␣␣␣␣␣␣␣␣␣␣␣␣␣␣␣␣␣␣␣␣␣␣␣␣␣␣␣␣␣␣␣␣␣␣␣␣␣␣␣␣␣␣␣␣␣␣␣␣␣␣␣␣␣␣␣␣␣␣␣␣␣␣␣␣␣␣␣␣␣␣␣␣␣␣␣␣␣␣␣␣␣␣␣␣␣␣␣␣␣␣␣␣␣␣␣␣␣␣␣␣␣␣␣␣␣␣␣␣␣␣␣␣␣␣␣␣␣␣␣␣␣␣␣␣␣␣␣␣␣␣␣␣␣␣␣␣␣␣␣␣␣␣␣␣␣␣␣␣␣␣␣␣␣␣␣␣␣␣␣␣␣␣␣␣␣␣␣␣␣␣␣␣␣␣␣␣␣␣␣␣␣␣␣␣␣␣␣␣␣␣␣␣␣␣␣␣␣␣␣␣␣␣␣␣␣␣␣␣␣␣␣␣␣␣␣␣␣␣␣␣␣␣␣␣␣␣␣␣␣␣␣␣␣␣\n",
            "\n",
            "\n",
            "\n",
            "Attempt: \"The\" + 0.4\n",
            "-----------------------------------\n",
            "📗 TheQ¤Qô°\u001aå•T3Qdpely hand and add the vinegar and peeled and minced water in the salted water to remove the steaks to the steaks for 1 hour and serve with for serving the salad rice with some of the batter into the salad with a fork to coat the pan with the chili paste and the salad and serve with salt and pepper. Serve in an airtight container and place in a small bowl and set aside.\n",
            "▪︎ In a separate bowl, combine the mayonnaise and salt and pepper and bring to a boil and cook for 5 minutes. Add the chicken and cook for another 3 minutes. Add the tomatoes and season with salt and pepper. Set aside to cool slightly. Place the salad and cook for 2 minutes on each side and add the sour cream, and stir until the mixture is soft and the chocolate is combined. Toss the coconut milk and toss with the chives. Season with salt and pepper. Sprinkle with the chicken stock. Bring the mixture to a boil and stir in the cinnamon. Place the sauce over the baking sheet and preheat the oven to 350 degrees \n",
            "\n",
            "\n",
            "\n",
            "Attempt: \"The\" + 0.2\n",
            "-----------------------------------\n",
            "📗 TheQ📝úñ•Q•Q▪1•••\n",
            "␣␣␣␣␣␣␣␣␣␣␣␣␣␣␣␣␣␣␣␣␣␣␣␣␣␣␣␣␣␣␣␣␣␣␣␣␣␣␣␣␣␣␣␣␣␣␣␣␣␣␣␣␣␣␣␣␣␣␣␣␣␣␣␣␣␣␣␣␣␣␣␣␣␣␣␣␣␣␣␣␣␣␣␣␣␣␣␣␣␣␣␣␣␣␣␣␣␣␣␣␣␣␣␣␣␣␣␣␣␣␣␣␣␣␣␣␣␣␣␣␣␣␣␣␣␣␣␣␣␣␣␣␣␣␣␣␣␣␣␣␣␣␣␣␣␣␣␣␣␣␣␣␣␣␣␣␣␣␣␣␣␣␣␣␣␣␣␣␣␣␣␣␣␣␣␣␣␣␣␣␣␣␣␣␣␣␣␣␣␣␣␣␣␣␣␣␣␣␣␣␣␣␣␣␣␣␣␣␣␣␣␣␣␣␣␣␣␣␣␣␣␣␣␣␣␣␣␣␣␣␣␣␣␣␣␣␣␣␣␣␣␣␣␣␣␣␣␣␣␣␣␣␣␣␣␣␣␣␣␣␣␣␣␣␣␣␣␣␣␣␣␣␣␣␣␣␣␣␣␣␣␣␣␣␣␣␣␣␣␣␣␣␣␣␣␣␣␣␣␣␣␣␣␣␣␣␣␣␣␣␣␣␣␣␣␣␣␣␣␣␣␣␣␣␣␣␣␣␣␣␣␣␣␣␣␣␣␣␣␣␣␣␣␣␣␣␣␣␣␣␣␣␣␣␣␣␣␣␣␣␣␣␣␣␣␣␣␣␣␣␣␣␣␣␣␣␣␣␣␣␣␣␣␣␣␣␣␣␣␣␣␣␣␣␣␣␣␣␣␣␣␣␣␣␣␣␣␣␣␣␣␣␣␣␣␣␣␣␣␣␣␣␣␣␣␣␣␣␣␣␣␣␣␣␣␣␣␣␣␣␣␣␣␣␣␣␣␣␣␣␣␣␣␣␣␣␣␣␣␣␣␣␣␣␣␣␣␣␣␣␣␣␣␣␣␣␣␣␣␣␣␣␣␣␣␣␣␣␣␣␣␣␣␣␣␣␣␣␣␣␣␣␣␣␣␣␣␣␣␣␣␣␣␣␣␣␣␣␣␣␣␣␣␣␣␣␣␣␣␣␣␣␣␣␣␣␣␣␣␣␣␣␣␣␣␣␣␣␣␣␣␣␣␣␣␣␣␣␣␣␣␣␣␣␣␣␣␣␣␣␣␣␣␣␣␣␣␣␣␣␣␣␣␣␣␣␣␣␣␣␣␣␣␣␣␣␣␣␣␣␣␣␣␣␣␣␣␣␣␣␣␣␣␣␣␣␣␣␣␣␣␣␣␣␣␣␣␣␣␣␣␣␣␣␣␣␣␣␣␣␣␣␣␣␣␣␣␣␣␣␣␣␣␣␣␣␣␣␣␣␣␣␣␣␣␣␣␣␣␣␣␣␣␣␣␣␣␣␣␣␣␣␣␣␣␣␣␣␣␣␣␣␣␣␣␣␣␣␣␣␣␣␣␣␣␣␣␣␣␣␣␣␣␣␣␣␣␣␣␣␣␣␣␣␣␣␣␣␣␣␣␣␣␣␣␣␣␣␣␣␣␣␣␣␣␣␣␣␣␣␣␣␣␣␣␣␣␣␣␣␣␣␣␣␣␣␣␣␣␣␣␣␣␣␣␣␣␣␣␣␣␣␣␣␣␣␣␣␣␣␣␣␣␣␣␣␣␣␣␣␣␣␣␣␣␣␣␣␣␣␣␣␣␣␣␣␣␣␣␣␣␣␣␣␣␣␣␣␣␣␣␣␣␣␣␣␣␣␣␣␣␣␣␣␣␣␣␣␣␣␣␣␣␣␣␣␣␣␣␣␣␣␣␣␣␣␣␣␣␣␣␣␣␣␣␣␣␣␣␣␣␣␣␣␣␣␣␣␣␣␣␣␣␣␣␣␣␣␣␣␣␣␣␣␣␣␣␣␣␣␣␣␣␣␣␣␣␣␣␣␣␣␣␣␣␣␣␣␣␣␣␣␣␣␣␣␣␣␣␣␣␣␣␣␣␣␣␣␣␣␣␣␣␣␣␣␣␣␣␣␣␣␣␣␣␣␣␣␣␣␣␣␣␣␣␣␣␣␣␣␣␣␣␣␣␣\n",
            "\n",
            "\n",
            "\n",
            "Attempt: \"Banana\" + 1.0\n",
            "-----------------------------------\n",
            "📗 Banana�‚”©qazpjy⅞¤Érudder\n",
            "\n",
            "📝\n",
            "▪︎ Brown the vanilla bean servings avocado in batcher and add the seasion with soy sauce, masharpo, and bay set of 2 to 3 minutes.\n",
            "▪︎ Mix gently shorting with the whisking warm with a rid wike anting with a salting dish. In the rowns shrembosko more flatten aclood of any excess bience done on the grill. Let simmer for 2 minutes. Reduce the heat, oven the warm water whink you can be asading stock and s for of is consistency. Serve immediately.\n",
            "␣␣␣␣␣␣␣␣␣␣␣␣␣␣␣␣␣␣␣␣␣␣␣␣␣␣␣␣␣␣␣␣␣␣␣␣␣␣␣␣␣␣␣␣␣␣␣␣␣␣␣␣␣␣␣␣␣␣␣␣␣␣␣␣␣␣␣␣␣␣␣␣␣␣␣␣␣␣␣␣␣␣␣␣␣␣␣␣␣␣␣␣␣␣␣␣␣␣␣␣␣␣␣␣␣␣␣␣␣␣␣␣␣␣␣␣␣␣␣␣␣␣␣␣␣␣␣␣␣␣␣␣␣␣␣␣␣␣␣␣␣␣␣␣␣␣␣␣␣␣␣␣␣␣␣␣␣␣␣␣␣␣␣␣␣␣␣␣␣␣␣␣␣␣␣␣␣␣␣␣␣␣␣␣␣␣␣␣␣␣␣␣␣␣␣␣␣␣␣␣␣␣␣␣␣␣␣␣␣␣␣␣␣␣␣␣␣␣␣␣␣␣␣␣␣␣␣␣␣␣␣␣␣␣␣␣␣␣␣␣␣␣␣␣␣␣␣␣␣␣␣␣␣␣␣␣␣␣␣␣␣␣␣␣␣␣␣␣␣␣␣␣␣␣␣␣␣␣␣␣␣␣␣␣␣␣␣␣␣␣␣␣␣␣␣␣␣␣␣␣␣␣␣␣␣␣␣␣␣␣␣␣␣␣␣␣␣␣␣␣␣␣␣␣␣␣␣␣␣␣␣␣␣␣␣␣␣␣␣␣␣␣␣␣␣␣␣␣␣␣␣␣␣␣␣␣␣␣␣␣␣␣␣␣␣␣␣␣␣␣␣␣␣␣␣␣␣␣␣␣␣␣␣␣␣␣␣␣␣␣␣␣␣␣␣␣␣␣␣␣␣␣␣␣␣␣␣␣␣␣␣␣␣␣␣␣␣␣␣␣␣␣␣␣␣␣␣␣␣␣␣␣␣␣␣␣␣␣␣␣␣␣␣␣␣␣␣␣␣␣␣␣␣␣␣␣␣␣␣␣␣␣␣␣␣␣␣␣␣␣␣␣␣␣␣␣␣␣␣␣␣␣␣␣␣␣␣␣␣␣␣␣␣␣␣␣␣␣␣␣␣␣␣␣␣␣␣␣␣␣␣␣␣␣␣␣␣␣␣␣␣␣␣␣␣␣␣␣␣\n",
            "\n",
            "\n",
            "\n",
            "Attempt: \"Banana\" + 0.8\n",
            "-----------------------------------\n",
            "📗 Banana⅛qa;'t) lightly syrup and cayenne pepper to taste or simmering to taste in a small bowl and stain thrimolate the eggs, soaked and diced into 2 1/2-inch dice\n",
            "• 1 teaspoon freshly grated nutmeg\n",
            "• Sajt if unsalted butter, dividing mixed, and sliced thinly sliced\n",
            "• 1 cup fresh basil leaves\n",
            "\n",
            "📝\n",
            "\n",
            "▪︎ Wrippent from baking sheet with foil and season with salt and pepper. Serve in a slaspor of water and add a piece of miconato. Put the catbrone chunks to a bowl with top of marinade in the bowl of bowl and mix not accomato place mix and lett from the blender. Roll over top and a down for a 9-pinch nonstick skillet to evenly strainer the mixture and grill for 20 minutes. Season the strawberries and water, stirring occasionally, until the greaty moist not to make a bowl shakey, about 2 minutes, turning the bananas to cool. Serve aluminum food processor and put on the skillet and fry the whites up the top. Shape into 1-inch dish, about 2 hours. Wrankful to the pan over medium-high heat, put the skinl\n",
            "\n",
            "\n",
            "\n",
            "Attempt: \"Banana\" + 0.4\n",
            "-----------------------------------\n",
            "📗 Bananañ.D 8ñëfplulhouudgQ•q•‭pépply`\n",
            "␣␣␣␣␣␣␣␣␣␣␣␣␣␣␣␣␣␣␣␣␣␣␣␣␣␣␣␣␣␣␣␣␣␣␣␣␣␣␣␣␣␣␣␣␣␣␣␣␣␣␣␣␣␣␣␣␣␣␣␣␣␣␣␣␣␣␣␣␣␣␣␣␣␣␣␣␣␣␣␣␣␣␣␣␣␣␣␣␣␣␣␣␣␣␣␣␣␣␣␣␣␣␣␣␣␣␣␣␣␣␣␣␣␣␣␣␣␣␣␣␣␣␣␣␣␣␣␣␣␣␣␣␣␣␣␣␣␣␣␣␣␣␣␣␣␣␣␣␣␣␣␣␣␣␣␣␣␣␣␣␣␣␣␣␣␣␣␣␣␣␣␣␣␣␣␣␣␣␣␣␣␣␣␣␣␣␣␣␣␣␣␣␣␣␣␣␣␣␣␣␣␣␣␣␣␣␣␣␣␣␣␣␣␣␣␣␣␣␣␣␣␣␣␣␣␣␣␣␣␣␣␣␣␣␣␣␣␣␣␣␣␣␣␣␣␣␣␣␣␣␣␣␣␣␣␣␣␣␣␣␣␣␣␣␣␣␣␣␣␣␣␣␣␣␣␣␣␣␣␣␣␣␣␣␣␣␣␣␣␣␣␣␣␣␣␣␣␣␣␣␣␣␣␣␣␣␣␣␣␣␣␣␣␣␣␣␣␣␣␣␣␣␣␣␣␣␣␣␣␣␣␣␣␣␣␣␣␣␣␣␣␣␣␣␣␣␣␣␣␣␣␣␣␣␣␣␣␣␣␣␣␣␣␣␣␣␣␣␣␣␣␣␣␣␣␣␣␣␣␣␣␣␣␣␣␣␣␣␣␣␣␣␣␣␣␣␣␣␣␣␣␣␣␣␣␣␣␣␣␣␣␣␣␣␣␣␣␣␣␣␣␣␣␣␣␣␣␣␣␣␣␣␣␣␣␣␣␣␣␣␣␣␣␣␣␣␣␣␣␣␣␣␣␣␣␣␣␣␣␣␣␣␣␣␣␣␣␣␣␣␣␣␣␣␣␣␣␣␣␣␣␣␣␣␣␣␣␣␣␣␣␣␣␣␣␣␣␣␣␣␣␣␣␣␣␣␣␣␣␣␣␣␣␣␣␣␣␣␣␣␣␣␣␣␣␣␣␣␣␣␣␣␣␣␣␣␣␣␣␣␣␣␣␣␣␣␣␣␣␣␣␣␣␣␣␣␣␣␣␣␣␣␣␣␣␣␣␣␣␣␣␣␣␣␣␣␣␣␣␣␣␣␣␣␣␣␣␣␣␣␣␣␣␣␣␣␣␣␣␣␣␣␣␣␣␣␣␣␣␣␣␣␣␣␣␣␣␣␣␣␣␣␣␣␣␣␣␣␣␣␣␣␣␣␣␣␣␣␣␣␣␣␣␣␣␣␣␣␣␣␣␣␣␣␣␣␣␣␣␣␣␣␣␣␣␣␣␣␣␣␣␣␣␣␣␣␣␣␣␣␣␣␣␣␣␣␣␣␣␣␣␣␣␣␣␣␣␣␣␣␣␣␣␣␣␣␣␣␣␣␣␣␣␣␣␣␣␣␣␣␣␣␣␣␣␣␣␣␣␣␣␣␣␣␣␣␣␣␣␣␣␣␣␣␣␣␣␣␣␣␣␣␣␣␣␣␣␣␣␣␣␣␣␣␣␣␣␣␣␣␣␣␣␣␣␣␣␣␣␣␣␣␣␣␣␣␣␣␣␣␣␣␣␣␣␣␣␣␣␣␣␣␣␣␣␣␣␣␣␣␣␣␣␣␣␣␣␣␣␣␣␣␣␣␣␣␣␣␣␣␣␣␣␣␣␣␣␣␣␣␣␣␣␣␣␣␣␣␣␣␣␣␣␣␣␣␣␣␣␣␣␣␣␣␣␣␣␣␣␣␣␣␣␣␣␣␣␣␣␣␣␣␣␣␣␣␣␣␣␣␣␣␣␣␣␣␣␣␣␣␣␣␣␣␣␣␣␣␣␣␣␣␣␣␣␣␣␣␣␣␣␣␣␣␣␣␣␣␣␣␣␣␣␣␣␣␣␣␣␣␣␣␣␣␣␣␣␣␣␣␣␣␣␣␣␣␣␣␣␣␣␣␣␣␣␣␣␣␣\n",
            "\n",
            "\n",
            "\n",
            "Attempt: \"Banana\" + 0.2\n",
            "-----------------------------------\n",
            "📗 BananañjdpñtQpplypplyook°••••••••qpqpplyoorou°îhî📝û5••••␣␣␣␣␣␣␣␣␣␣␣␣␣␣␣␣␣␣␣␣␣␣␣␣␣␣␣␣␣␣␣␣␣␣␣␣␣␣␣␣␣␣␣␣␣␣␣␣␣␣␣␣␣␣␣␣␣␣␣␣␣␣␣␣␣␣␣␣␣␣␣␣␣␣␣␣␣␣␣␣␣␣␣␣␣␣␣␣␣␣␣␣␣␣␣␣␣␣␣␣␣␣␣␣␣␣␣␣␣␣␣␣␣␣␣␣␣␣␣␣␣␣␣␣␣␣␣␣␣␣␣␣␣␣␣␣␣␣␣␣␣␣␣␣␣␣␣␣␣␣␣␣␣␣␣␣␣␣␣␣␣␣␣␣␣␣␣␣␣␣␣␣␣␣␣␣␣␣␣␣␣␣␣␣␣␣␣␣␣␣␣␣␣␣␣␣␣␣␣␣␣␣␣␣␣␣␣␣␣␣␣␣␣␣␣␣␣␣␣␣␣␣␣␣␣␣␣␣␣␣␣␣␣␣␣␣␣␣␣␣␣␣␣␣␣␣␣␣␣␣␣␣␣␣␣␣␣␣␣␣␣␣␣␣␣␣␣␣␣␣␣␣␣␣␣␣␣␣␣␣␣␣␣␣␣␣␣␣␣␣␣␣␣␣␣␣␣␣␣␣␣␣␣␣␣␣␣␣␣␣␣␣␣␣␣␣␣␣␣␣␣␣␣␣␣␣␣␣␣␣␣␣␣␣␣␣␣␣␣␣␣␣␣␣␣␣␣␣␣␣␣␣␣␣␣␣␣␣␣␣␣␣␣␣␣␣␣␣␣␣␣␣␣␣␣␣␣␣␣␣␣␣␣␣␣␣␣␣␣␣␣␣␣␣␣␣␣␣␣␣␣␣␣␣␣␣␣␣␣␣␣␣␣␣␣␣␣␣␣␣␣␣␣␣␣␣␣␣␣␣␣␣␣␣␣␣␣␣␣␣␣␣␣␣␣␣␣␣␣␣␣␣␣␣␣␣␣␣␣␣␣␣␣␣␣␣␣␣␣␣␣␣␣␣␣␣␣␣␣␣␣␣␣␣␣␣␣␣␣␣␣␣␣␣␣␣␣␣␣␣␣␣␣␣␣␣␣␣␣␣␣␣␣␣␣␣␣␣␣␣␣␣␣␣␣␣␣␣␣␣␣␣␣␣␣␣␣␣␣␣␣␣␣␣␣␣␣␣␣␣␣␣␣␣␣␣␣␣␣␣␣␣␣␣␣␣␣␣␣␣␣␣␣␣␣␣␣␣␣␣␣␣␣␣␣␣␣␣␣␣␣␣␣␣␣␣␣␣␣␣␣␣␣␣␣␣␣␣␣␣␣␣␣␣␣␣␣␣␣␣␣␣␣␣␣␣␣␣␣␣␣␣␣␣␣␣␣␣␣␣␣␣␣␣␣␣␣␣␣␣␣␣␣␣␣␣␣␣␣␣␣␣␣␣␣␣␣␣␣␣␣␣␣␣␣␣␣␣␣␣␣␣␣␣␣␣␣␣␣␣␣␣␣␣␣␣␣␣␣␣␣␣␣␣␣␣␣␣␣␣␣␣␣␣␣␣␣␣␣␣␣␣␣␣␣␣␣␣␣␣␣␣␣␣␣␣␣␣␣␣␣␣␣␣␣␣␣␣␣␣␣␣␣␣␣␣␣␣␣␣␣␣␣␣␣␣␣␣␣␣␣␣␣␣␣␣␣␣␣␣␣␣␣␣␣␣␣␣␣␣␣␣␣␣␣␣␣␣␣␣␣␣␣␣␣␣␣␣␣␣␣␣␣␣␣␣␣␣␣␣␣␣␣␣␣␣␣␣␣␣␣␣␣␣␣␣␣␣␣␣␣␣␣␣␣␣␣␣␣␣␣␣␣␣␣␣␣␣␣␣␣␣␣␣␣␣␣␣␣␣␣␣␣␣␣␣␣␣␣␣␣␣␣␣␣␣␣␣␣␣␣␣␣␣␣␣␣␣␣␣␣␣␣␣␣␣␣␣␣␣␣␣␣␣␣␣␣␣␣␣␣␣␣␣␣␣␣␣␣␣␣␣␣␣␣␣␣␣␣␣␣␣␣␣␣␣␣␣␣␣\n",
            "\n",
            "\n",
            "\n",
            "Attempt: \"Homemade\" + 1.0\n",
            "-----------------------------------\n",
            "📗 HomemadeQ~̀\n",
            "␣␣␣␣␣␣␣␣␣␣␣␣␣␣␣␣␣␣␣␣␣␣␣␣␣␣␣␣␣␣␣␣␣␣␣␣␣␣␣␣␣␣␣␣␣␣␣␣␣␣␣␣␣␣␣␣␣␣␣␣␣␣␣␣␣␣␣␣␣␣␣␣␣␣␣␣␣␣␣␣␣␣␣␣␣␣␣␣␣␣␣␣␣␣␣␣␣␣␣␣␣␣␣␣␣␣␣␣␣␣␣␣␣␣␣␣␣␣␣␣␣␣␣␣␣␣␣␣␣␣␣␣␣␣␣␣␣␣␣␣␣␣␣␣␣␣␣␣␣␣␣␣␣␣␣␣␣␣␣␣␣␣␣␣␣␣␣␣␣␣␣␣␣␣␣␣␣␣␣␣␣␣␣␣␣␣␣␣␣␣␣␣␣␣␣␣␣␣␣␣␣␣␣␣␣␣␣␣␣␣␣␣␣␣␣␣␣␣␣␣␣␣␣␣␣␣␣␣␣␣␣␣␣␣␣␣␣␣␣␣␣␣␣␣␣␣␣␣␣␣␣␣␣␣␣␣␣␣␣␣␣␣␣␣␣␣␣␣␣␣␣␣␣␣␣␣␣␣␣␣␣␣␣␣␣␣␣␣␣␣␣␣␣␣␣␣␣␣␣␣␣␣␣␣␣␣␣␣␣␣␣␣␣␣␣␣␣␣␣␣␣␣␣␣␣␣␣␣␣␣␣␣␣␣␣␣␣␣␣␣␣␣␣␣␣␣␣␣␣␣␣␣␣␣␣␣␣␣␣␣␣␣␣␣␣␣␣␣␣␣␣␣␣␣␣␣␣␣␣␣␣␣␣␣␣␣␣␣␣␣␣␣␣␣␣␣␣␣␣␣␣␣␣␣␣␣␣␣␣␣␣␣␣␣␣␣␣␣␣␣␣␣␣␣␣␣␣␣␣␣␣␣␣␣␣␣␣␣␣␣␣␣␣␣␣␣␣␣␣␣␣␣␣␣␣␣␣␣␣␣␣␣␣␣␣␣␣␣␣␣␣␣␣␣␣␣␣␣␣␣␣␣␣␣␣␣␣␣␣␣␣␣␣␣␣␣␣␣␣␣␣␣␣␣␣␣␣␣␣␣␣␣␣␣␣␣␣␣␣␣␣␣␣␣␣␣␣␣␣␣␣␣␣␣␣␣␣␣␣␣␣␣␣␣␣␣␣␣␣␣␣␣␣␣␣␣␣␣␣␣␣␣␣␣␣␣␣␣␣␣␣␣␣␣␣␣␣␣␣␣␣␣␣␣␣␣␣␣␣␣␣␣␣␣␣␣␣␣␣␣␣␣␣␣␣␣␣␣␣␣␣␣␣␣␣␣␣␣␣␣␣␣␣␣␣␣␣␣␣␣␣␣␣␣␣␣␣␣␣␣␣␣␣␣␣␣␣␣␣␣␣␣␣␣␣␣␣␣␣␣␣␣␣␣␣␣␣␣␣␣␣␣␣␣␣␣␣␣␣␣␣␣␣␣␣␣␣␣␣␣␣␣␣␣␣␣␣␣␣␣␣␣␣␣␣␣␣␣␣␣␣␣␣␣␣␣␣␣␣␣␣␣␣␣␣␣␣␣␣␣␣␣␣␣␣␣␣␣␣␣␣␣␣␣␣␣␣␣␣␣␣␣␣␣␣␣␣␣␣␣␣␣␣␣␣␣␣␣␣␣␣␣␣␣␣␣␣␣␣␣␣␣␣␣␣␣␣␣␣␣␣␣␣␣␣␣␣␣␣␣␣␣␣␣␣␣␣␣␣␣␣␣␣␣␣␣␣␣␣␣␣␣␣␣␣␣␣␣␣␣␣␣␣␣␣␣␣␣␣␣␣␣␣␣␣␣␣␣␣␣␣␣␣␣␣␣␣␣␣␣␣␣␣␣␣␣␣␣␣␣␣␣␣␣␣␣␣␣␣␣␣␣␣␣␣␣␣␣␣␣␣␣␣␣␣␣␣␣␣␣␣␣␣␣␣␣␣␣␣␣␣␣␣␣␣␣␣␣␣␣␣␣␣␣␣␣␣␣␣␣␣␣␣␣␣␣␣␣␣␣␣␣␣␣␣␣␣␣␣␣␣␣␣␣␣␣␣␣␣␣␣␣␣␣␣␣␣␣␣␣␣␣␣␣␣␣␣␣␣␣␣␣␣␣␣␣␣␣␣␣␣␣␣␣␣␣\n",
            "\n",
            "\n",
            "\n",
            "Attempt: \"Homemade\" + 0.8\n",
            "-----------------------------------\n",
            "📗 HomemadeQà7̀{¼▪.␣␣␣␣␣␣␣␣␣␣␣␣␣␣␣␣␣␣␣␣␣␣␣␣␣␣␣␣␣␣␣␣␣␣␣␣␣␣␣␣␣␣␣␣␣␣␣␣␣␣␣␣␣␣␣␣␣␣␣␣␣␣␣␣␣␣␣␣␣␣␣␣␣␣␣␣␣␣␣␣␣␣␣␣␣␣␣␣␣␣␣␣␣␣␣␣␣␣␣␣␣␣␣␣␣␣␣␣␣␣␣␣␣␣␣␣␣␣␣␣␣␣␣␣␣␣␣␣␣␣␣␣␣␣␣␣␣␣␣␣␣␣␣␣␣␣␣␣␣␣␣␣␣␣␣␣␣␣␣␣␣␣␣␣␣␣␣␣␣␣␣␣␣␣␣␣␣␣␣␣␣␣␣␣␣␣␣␣␣␣␣␣␣␣␣␣␣␣␣␣␣␣␣␣␣␣␣␣␣␣␣␣␣␣␣␣␣␣␣␣␣␣␣␣␣␣␣␣␣␣␣␣␣␣␣␣␣␣␣␣␣␣␣␣␣␣␣␣␣␣␣␣␣␣␣␣␣␣␣␣␣␣␣␣␣␣␣␣␣␣␣␣␣␣␣␣␣␣␣␣␣␣␣␣␣␣␣␣␣␣␣␣␣␣␣␣␣␣␣␣␣␣␣␣␣␣␣␣␣␣␣␣␣␣␣␣␣␣␣␣␣␣␣␣␣␣␣␣␣␣␣␣␣␣␣␣␣␣␣␣␣␣␣␣␣␣␣␣␣␣␣␣␣␣␣␣␣␣␣␣␣␣␣␣␣␣␣␣␣␣␣␣␣␣␣␣␣␣␣␣␣␣␣␣␣␣␣␣␣␣␣␣␣␣␣␣␣␣␣␣␣␣␣␣␣␣␣␣␣␣␣␣␣␣␣␣␣␣␣␣␣␣␣␣␣␣␣␣␣␣␣␣␣␣␣␣␣␣␣␣␣␣␣␣␣␣␣␣␣␣␣␣␣␣␣␣␣␣␣␣␣␣␣␣␣␣␣␣␣␣␣␣␣␣␣␣␣␣␣␣␣␣␣␣␣␣␣␣␣␣␣␣␣␣␣␣␣␣␣␣␣␣␣␣␣␣␣␣␣␣␣␣␣␣␣␣␣␣␣␣␣␣␣␣␣␣␣␣␣␣␣␣␣␣␣␣␣␣␣␣␣␣␣␣␣␣␣␣␣␣␣␣␣␣␣␣␣␣␣␣␣␣␣␣␣␣␣␣␣␣␣␣␣␣␣␣␣␣␣␣␣␣␣␣␣␣␣␣␣␣␣␣␣␣␣␣␣␣␣␣␣␣␣␣␣␣␣␣␣␣␣␣␣␣␣␣␣␣␣␣␣␣␣␣␣␣␣␣␣␣␣␣␣␣␣␣␣␣␣␣␣␣␣␣␣␣␣␣␣␣␣␣␣␣␣␣␣␣␣␣␣␣␣␣␣␣␣␣␣␣␣␣␣␣␣␣␣␣␣␣␣␣␣␣␣␣␣␣␣␣␣␣␣␣␣␣␣␣␣␣␣␣␣␣␣␣␣␣␣␣␣␣␣␣␣␣␣␣␣␣␣␣␣␣␣␣␣␣␣␣␣␣␣␣␣␣␣␣␣␣␣␣␣␣␣␣␣␣␣␣␣␣␣␣␣␣␣␣␣␣␣␣␣␣␣␣␣␣␣␣␣␣␣␣␣␣␣␣␣␣␣␣␣␣␣␣␣␣␣␣␣␣␣␣␣␣␣␣␣␣␣␣␣␣␣␣␣␣␣␣␣␣␣␣␣␣␣␣␣␣␣␣␣␣␣␣␣␣␣␣␣␣␣␣␣␣␣␣␣␣␣␣␣␣␣␣␣␣␣␣␣␣␣␣␣␣␣␣␣␣␣␣␣␣␣␣␣␣␣␣␣␣␣␣␣␣␣␣␣␣␣␣␣␣␣␣␣␣␣␣␣␣␣␣␣␣␣␣␣␣␣␣␣␣␣␣␣␣␣␣␣␣␣␣␣␣␣␣␣␣␣␣␣␣␣␣␣␣␣␣␣␣␣␣␣␣␣␣␣␣␣␣␣␣␣␣␣␣␣␣␣␣␣␣␣␣␣␣␣␣␣␣␣␣␣␣␣␣␣␣␣␣␣␣␣␣␣␣␣␣␣␣␣␣␣␣␣␣␣␣␣␣\n",
            "\n",
            "\n",
            "\n",
            "Attempt: \"Homemade\" + 0.4\n",
            "-----------------------------------\n",
            "📗 Homemade­ñ+␣␣pured and fresh flat-freezed onions (about 1/2 cup)\n",
            "• 1 teaspoon vanilla extract\n",
            "• 1/4 cup heavy cream\n",
            "• 1/2 cup olive oil\n",
            "• 1 cup chopped parsley\n",
            "• 1 tablespoon sugar\n",
            "• 1 tablespoon chopped fresh thyme\n",
            "• 1 teaspoon kosher salt\n",
            "• 1/2 teaspoon salt\n",
            "• 1 teaspoon salt\n",
            "• 1 teaspoon ground cinnamon\n",
            "• 1 teaspoon vanilla extract\n",
            "• 1 teaspoon salt\n",
            "• 1/2 teaspoon ground cinnamon\n",
            "• 1/4 teaspoon freshly ground black pepper\n",
            "• 1 teaspoon freshly ground black pepper\n",
            "• 1 cup sour cream\n",
            "• Salt and freshly ground black pepper\n",
            "\n",
            "📝\n",
            "\n",
            "▪︎ Watch how to make this recipe.\n",
            "▪︎ In a large bowl, combine the chicken stock, salt and pepper to taste. Serve immediately.\n",
            "▪︎ Preheat the oven to 350 degrees F. Sprinkle the chicken in the bottom of olive oil and bake until the skillet and chilled and cooked through. Serve with a spoon. Stir in the milk and cook until soft in small form. Serve with the sour cream and cook for another 3 to 2 minutes. Add the brown sugar and cook for a few minutes and set aside.\n",
            "▪︎ Add t\n",
            "\n",
            "\n",
            "\n",
            "Attempt: \"Homemade\" + 0.2\n",
            "-----------------------------------\n",
            "📗 Homemade1yppplyplyply*••••▪5••y••␣␣␣␣␣␣␣␣␣␣␣␣␣␣␣␣␣␣␣␣␣␣␣␣␣␣␣␣␣␣␣␣␣␣␣␣␣␣␣␣␣␣␣␣␣␣␣␣␣␣␣␣␣␣␣␣␣␣␣␣␣␣␣␣␣␣␣␣␣␣␣␣␣␣␣␣␣␣␣␣␣␣␣␣␣␣␣␣␣␣␣␣␣␣␣␣␣␣␣␣␣␣␣␣␣␣␣␣␣␣␣␣␣␣␣␣␣␣␣␣␣␣␣␣␣␣␣␣␣␣␣␣␣␣␣␣␣␣␣␣␣␣␣␣␣␣␣␣␣␣␣␣␣␣␣␣␣␣␣␣␣␣␣␣␣␣␣␣␣␣␣␣␣␣␣␣␣␣␣␣␣␣␣␣␣␣␣␣␣␣␣␣␣␣␣␣␣␣␣␣␣␣␣␣␣␣␣␣␣␣␣␣␣␣␣␣␣␣␣␣␣␣␣␣␣␣␣␣␣␣␣␣␣␣␣␣␣␣␣␣␣␣␣␣␣␣␣␣␣␣␣␣␣␣␣␣␣␣␣␣␣␣␣␣␣␣␣␣␣␣␣␣␣␣␣␣␣␣␣␣␣␣␣␣␣␣␣␣␣␣␣␣␣␣␣␣␣␣␣␣␣␣␣␣␣␣␣␣␣␣␣␣␣␣␣␣␣␣␣␣␣␣␣␣␣␣␣␣␣␣␣␣␣␣␣␣␣␣␣␣␣␣␣␣␣␣␣␣␣␣␣␣␣␣␣␣␣␣␣␣␣␣␣␣␣␣␣␣␣␣␣␣␣␣␣␣␣␣␣␣␣␣␣␣␣␣␣␣␣␣␣␣␣␣␣␣␣␣␣␣␣␣␣␣␣␣␣␣␣␣␣␣␣␣␣␣␣␣␣␣␣␣␣␣␣␣␣␣␣␣␣␣␣␣␣␣␣␣␣␣␣␣␣␣␣␣␣␣␣␣␣␣␣␣␣␣␣␣␣␣␣␣␣␣␣␣␣␣␣␣␣␣␣␣␣␣␣␣␣␣␣␣␣␣␣␣␣␣␣␣␣␣␣␣␣␣␣␣␣␣␣␣␣␣␣␣␣␣␣␣␣␣␣␣␣␣␣␣␣␣␣␣␣␣␣␣␣␣␣␣␣␣␣␣␣␣␣␣␣␣␣␣␣␣␣␣␣␣␣␣␣␣␣␣␣␣␣␣␣␣␣␣␣␣␣␣␣␣␣␣␣␣␣␣␣␣␣␣␣␣␣␣␣␣␣␣␣␣␣␣␣␣␣␣␣␣␣␣␣␣␣␣␣␣␣␣␣␣␣␣␣␣␣␣␣␣␣␣␣␣␣␣␣␣␣␣␣␣␣␣␣␣␣␣␣␣␣␣␣␣␣␣␣␣␣␣␣␣␣␣␣␣␣␣␣␣␣␣␣␣␣␣␣␣␣␣␣␣␣␣␣␣␣␣␣␣␣␣␣␣␣␣␣␣␣␣␣␣␣␣␣␣␣␣␣␣␣␣␣␣␣␣␣␣␣␣␣␣␣␣␣␣␣␣␣␣␣␣␣␣␣␣␣␣␣␣␣␣␣␣␣␣␣␣␣␣␣␣␣␣␣␣␣␣␣␣␣␣␣␣␣␣␣␣␣␣␣␣␣␣␣␣␣␣␣␣␣␣␣␣␣␣␣␣␣␣␣␣␣␣␣␣␣␣␣␣␣␣␣␣␣␣␣␣␣␣␣␣␣␣␣␣␣␣␣␣␣␣␣␣␣␣␣␣␣␣␣␣␣␣␣␣␣␣␣␣␣␣␣␣␣␣␣␣␣␣␣␣␣␣␣␣␣␣␣␣␣␣␣␣␣␣␣␣␣␣␣␣␣␣␣␣␣␣␣␣␣␣␣␣␣␣␣␣␣␣␣␣␣␣␣␣␣␣␣␣␣␣␣␣␣␣␣␣␣␣␣␣␣␣␣␣␣␣␣␣␣␣␣␣␣␣␣␣␣␣␣␣␣␣␣␣␣␣␣␣␣␣␣␣␣␣␣␣␣␣␣␣␣␣␣␣␣␣␣␣␣␣␣␣␣␣␣␣␣␣␣␣␣␣␣␣␣␣␣␣␣␣␣␣␣␣␣␣␣\n",
            "\n",
            "\n",
            "\n"
          ]
        }
      ],
      "source": [
        "generate_combinations(model_1_simplified)"
      ]
    },
    {
      "cell_type": "markdown",
      "metadata": {
        "id": "bzKG7hu6zoC3"
      },
      "source": [
        "## Save the model"
      ]
    },
    {
      "cell_type": "code",
      "execution_count": null,
      "metadata": {
        "colab": {
          "base_uri": "https://localhost:8080/"
        },
        "id": "5FUBBTv8zoC3",
        "outputId": "8a4a3d6d-7e2c-4e03-a145-be421801e104"
      },
      "outputs": [
        {
          "name": "stdout",
          "output_type": "stream",
          "text": [
            "WARNING:tensorflow:Compiled the loaded model, but the compiled metrics have yet to be built. `model.compile_metrics` will be empty until you train or evaluate the model.\n"
          ]
        }
      ],
      "source": [
        "model_name = 'recipe_generation_rnn.h5'\n",
        "model_1_simplified.save(model_name, save_format='h5')"
      ]
    },
    {
      "cell_type": "markdown",
      "metadata": {
        "id": "SwXRR8FJzoC5"
      },
      "source": [
        "## Converting the model to web-format\n",
        "\n",
        "To use this model on the web we need to convert it into the format that will be understandable by [tensorflowjs](https://www.tensorflow.org/js). To do so we may use [tfjs-converter](https://github.com/tensorflow/tfjs/tree/master/tfjs-converter) as following:\n",
        "\n",
        "```\n",
        "tensorflowjs_converter --input_format keras \\\n",
        "  ./experiments/recipe_generation_rnn/recipe_generation_rnn.h5 \\\n",
        "  ./demos/public/models/recipe_generation_rnn\n",
        "```\n",
        "\n",
        "You find this experiment in the [Demo app](https://trekhleb.github.io/machine-learning-experiments) and play around with it right in you browser to see how the model performs in real life."
      ]
    },
    {
      "cell_type": "code",
      "execution_count": null,
      "metadata": {
        "colab": {
          "base_uri": "https://localhost:8080/"
        },
        "id": "XaP0op2EVmGf",
        "outputId": "a06e3843-bf5f-4681-abe3-b6d683a5ef5f"
      },
      "outputs": [
        {
          "name": "stdout",
          "output_type": "stream",
          "text": [
            "Attempt: \"lamb potpie\" + 0.1\n",
            "-----------------------------------\n",
            "📗 lamb potpieîplplyplyoonnogundes (about 1 1/2 pounds)\n",
            "• 1 cup chopped fresh basil leaves\n",
            "• 1 tablespoon fresh lemon juice\n",
            "• 1/2 teaspoon salt\n",
            "• 1 teaspoon salt\n",
            "• 1 teaspoon salt\n",
            "• 1/2 teaspoon freshly ground black pepper\n",
            "• 1 teaspoon salt\n",
            "• 1 teaspoon salt\n",
            "• 1 teaspoon freshly ground black pepper\n",
            "• 1 teaspoon salt\n",
            "• 1 teaspoon salt\n",
            "• 1 teaspoon salt\n",
            "• 1 teaspoon salt\n",
            "• 1 teaspoon salt\n",
            "• 1/4 teaspoon salt\n",
            "• 1/4 teaspoon salt\n",
            "• 1/2 teaspoon salt\n",
            "• 1 teaspoon salt\n",
            "• 1/2 teaspoon salt\n",
            "• 1/4 teaspoon freshly ground black pepper\n",
            "• 1 teaspoon salt\n",
            "• 1 teaspoon salt\n",
            "• 1 teaspoon salt\n",
            "• 1 teaspoon salt\n",
            "• 1 teaspoon salt\n",
            "• 1 teaspoon salt\n",
            "• 1/4 teaspoon salt\n",
            "• 1/2 teaspoon freshly ground black pepper\n",
            "• 1 teaspoon salt\n",
            "• 1/2 teaspoon salt\n",
            "• 1 teaspoon salt\n",
            "• 1/4 teaspoon salt\n",
            "• 1 teaspoon salt\n",
            "• 1 teaspoon salt\n",
            "• 1 teaspoon salt\n",
            "• 1/4 teaspoon salt\n",
            "• 1/2 teaspoon salt\n",
            "• 1/4 teaspoon freshly ground black pepper\n",
            "• 1 teaspoon salt\n",
            "• 1 teaspoon salt\n",
            "• 1/4 teaspoon salt\n",
            "• 1/2 teaspoon salt\n",
            "• 1/4 teaspoon freshly \n",
            "\n",
            "\n",
            "\n"
          ]
        }
      ],
      "source": [
        "letter = 'lamb potpie'\n",
        "recipe_length = 1000\n",
        "temperature = 0.1\n",
        "\n",
        "generated_text = generate_text(\n",
        "    model_1_simplified,\n",
        "    start_string=letter,\n",
        "    num_generate = recipe_length,\n",
        "    temperature=temperature\n",
        ")\n",
        "\n",
        "print(f'Attempt: \"{letter}\" + {temperature}')\n",
        "print('-----------------------------------')\n",
        "print(generated_text)\n",
        "print('\\n\\n')"
      ]
    }
  ],
  "metadata": {
    "accelerator": "GPU",
    "colab": {
      "collapsed_sections": [],
      "name": "Copy of recipe_generation_rnn.ipynb",
      "provenance": [],
      "toc_visible": true
    },
    "kernelspec": {
      "display_name": "Python 3",
      "language": "python",
      "name": "python3"
    },
    "language_info": {
      "codemirror_mode": {
        "name": "ipython",
        "version": 3
      },
      "file_extension": ".py",
      "mimetype": "text/x-python",
      "name": "python",
      "nbconvert_exporter": "python",
      "pygments_lexer": "ipython3",
      "version": "3.7.4"
    }
  },
  "nbformat": 4,
  "nbformat_minor": 0
}
