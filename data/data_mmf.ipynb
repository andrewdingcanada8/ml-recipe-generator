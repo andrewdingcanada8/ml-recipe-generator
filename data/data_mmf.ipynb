{
 "cells": [
  {
   "cell_type": "code",
   "execution_count": 1,
   "metadata": {},
   "outputs": [],
   "source": [
    "import os\n",
    "import pickle\n",
    "import tensorflow as tf\n",
    "import importlib\n",
    "import numpy as np\n",
    "\n",
    "import matplotlib.mlab as mlab\n",
    "import matplotlib.pyplot as plt\n"
   ]
  },
  {
   "cell_type": "code",
   "execution_count": 2,
   "metadata": {},
   "outputs": [
    {
     "name": "stdout",
     "output_type": "stream",
     "text": [
      "122930\n"
     ]
    }
   ],
   "source": [
    "# chose to not include ingredients in the dataset\n",
    "database_dir = 'database_no_ingredients'\n",
    "\n",
    "\n",
    "# add the format back to the string\n",
    "def get_recipe_parse_ready(recipe, f):\n",
    "    return ((f + recipe).strip()).split(\"\\n\")\n",
    "\n",
    "\n",
    "# function to read file and get recipes ready for parsing\n",
    "def read_raw_file(filename: str):\n",
    "    with open(f'./{database_dir}/{filename}', 'r', encoding='cp437') as file:\n",
    "        file_read = file.read().strip().replace(\"ADVERTISEMENT\", '')\n",
    "\n",
    "        # get the separator\n",
    "        current_f = file_read.split(\"\\n\")[0]\n",
    "        split = file_read.split(current_f)[1:]\n",
    "\n",
    "        return [(get_recipe_parse_ready(recipe, current_f)) for recipe in split]\n",
    "\n",
    "\n",
    "# go over all the files in the database\n",
    "files = (os.listdir(f'./{database_dir}/'))\n",
    "data = []\n",
    "\n",
    "for filename in files:\n",
    "    parsed_file = read_raw_file(filename)\n",
    "    data.extend(parsed_file)\n",
    "\n",
    "print(len(data))\n"
   ]
  },
  {
   "cell_type": "code",
   "execution_count": 15,
   "metadata": {},
   "outputs": [
    {
     "name": "stdout",
     "output_type": "stream",
     "text": [
      "122930\n"
     ]
    }
   ],
   "source": [
    "\n",
    "import parse_recipe as RecipeParser\n",
    "\n",
    "# reload to reflect any changes we make (the original wasn't perfect)\n",
    "# * this is sourced from https://github.com/samjavner/recipeformats\n",
    "importlib.reload(RecipeParser)\n",
    "\n",
    "\n",
    "# parse the recipe using the parser\n",
    "def parse_recipe(recipe: str):\n",
    "    parsed = RecipeParser.parse_recipe(recipe)\n",
    "    return parsed\n",
    "\n",
    "\n",
    "recipes = [parse_recipe(x) for x in data]\n"
   ]
  },
  {
   "cell_type": "code",
   "execution_count": 94,
   "metadata": {},
   "outputs": [
    {
     "name": "stdout",
     "output_type": "stream",
     "text": [
      "122930\n"
     ]
    }
   ],
   "source": [
    "# * removed these words towards the end, weren't helping the LSTM in any way\n",
    "\n",
    "# TITLE_STOP_WORD = '🆃🅸🆃🅻🅴\\n'\n",
    "# INGREDIENTS_STOP_WORD = '🅸🅽🅶🆁🅴🅳🅸🅴🅽🆃🆂\\n'\n",
    "INSTRUCTIONS_STOP_WORD = '🅸🅽🆂🆃🆁🆄🅲🆃🅸🅾🅽🆂\\n'\n",
    "\n",
    "\n",
    "# converts the recipe to a string\n",
    "def recipe_to_string(recipe: RecipeParser.Recipe):\n",
    "\n",
    "    # still using title to filter out some weird recipes\n",
    "    title = recipe.title\n",
    "    instructions = recipe.directions\n",
    "\n",
    "    instructions_string = ''\n",
    "    for instruction in instructions:\n",
    "        if instruction:\n",
    "            instruction = instruction.strip()\n",
    "            instructions_string += f'▪︎ {instruction}\\n'\n",
    "\n",
    "    # remove weird characters from instructions and title\n",
    "    instructions_string = instructions_string.replace(\n",
    "        \";\", \"\").replace(\"▪︎\", \"\").replace(\"------\", \"\").strip()\n",
    "    title = title.replace(\".\", \"\").strip()\n",
    "\n",
    "    # some filtering on title and instructions\n",
    "    if (len(instructions_string) < 5):\n",
    "        return \"\"\n",
    "\n",
    "    if len(title) < 2:\n",
    "        return \"\"\n",
    "    elif title == \"qaV113\":\n",
    "        return \"\"\n",
    "    elif title == \"Title\" or instructions == \"Title\":\n",
    "        return \"\"\n",
    "\n",
    "    final_str = f'{instructions_string}'\n",
    "    return final_str\n",
    "\n",
    "\n",
    "string_recipes = [recipe_to_string(recipe) for recipe in recipes]\n"
   ]
  },
  {
   "cell_type": "code",
   "execution_count": 95,
   "metadata": {},
   "outputs": [],
   "source": [
    "# some more filtering\n",
    "def filter_weird_recipes(recipe):\n",
    "    exclude_words = [\".com\", '.net', 'org']\n",
    "\n",
    "    if not recipe:\n",
    "        return False\n",
    "    elif any([x in recipe for x in exclude_words]):\n",
    "        return False\n",
    "\n",
    "    return True\n",
    "\n",
    "\n",
    "filtered_string_recipes = list(filter(filter_weird_recipes, string_recipes))\n"
   ]
  },
  {
   "cell_type": "code",
   "execution_count": null,
   "metadata": {},
   "outputs": [
    {
     "data": {
      "image/png": "[encoded data removed]",
      "text/plain": [
       "<Figure size 432x288 with 1 Axes>"
      ]
     },
     "metadata": {},
     "output_type": "display_data"
    }
   ],
   "source": [
    "# draw plot to see how is the recipe length distribution\n",
    "# we can see that most are under 250 words in length\n",
    "\n",
    "recipe_lens = [len(x.split(\" \")) for x in string_recipes]\n",
    "recipe_lens.sort(reverse=True)\n",
    "plt.plot(recipe_lens, np.arange(len(string_recipes)))\n",
    "plt.xlim([0, 1000])\n",
    "plt.show()\n"
   ]
  },
  {
   "cell_type": "code",
   "execution_count": 96,
   "metadata": {},
   "outputs": [],
   "source": [
    "# max length we want to use for recipe\n",
    "MAX_NUM_WORDS = 250\n",
    "\n",
    "# remove recipes over the max len\n",
    "\n",
    "\n",
    "def filter_recipes_by_length(recipe_test):\n",
    "    return len((recipe_test.split(\" \"))) <= MAX_NUM_WORDS\n",
    "\n",
    "\n",
    "max_len_recipes = [\n",
    "    recipe_text for recipe_text in filtered_string_recipes if filter_recipes_by_length(recipe_text)]\n"
   ]
  },
  {
   "cell_type": "code",
   "execution_count": 98,
   "metadata": {},
   "outputs": [
    {
     "name": "stderr",
     "output_type": "stream",
     "text": [
      "[nltk_data] Downloading package punkt to\n",
      "[nltk_data]     C:\\Users\\inos1\\AppData\\Roaming\\nltk_data...\n",
      "[nltk_data]   Package punkt is already up-to-date!\n",
      "[nltk_data] Downloading package wordnet to\n",
      "[nltk_data]     C:\\Users\\inos1\\AppData\\Roaming\\nltk_data...\n",
      "[nltk_data]   Package wordnet is already up-to-date!\n"
     ]
    },
    {
     "data": {
      "text/plain": [
       "True"
      ]
     },
     "execution_count": 98,
     "metadata": {},
     "output_type": "execute_result"
    }
   ],
   "source": [
    "# * nltk processing\n",
    "# we use lemmatization on the words, but chose not to use stemming because it caused weird results\n",
    "\n",
    "from nltk.stem import WordNetLemmatizer, PorterStemmer\n",
    "import nltk\n",
    "nltk.download('punkt')\n",
    "nltk.download('wordnet')\n",
    "\n",
    "lm = WordNetLemmatizer()\n",
    "ps = PorterStemmer()\n",
    "\n",
    "for i in range(len(max_len_recipes)):\n",
    "    sentence = max_len_recipes[i]\n",
    "    sentence = lm.lemmatize(sentence)\n",
    "    tokens = nltk.word_tokenize(sentence)\n",
    "    nltk_data = \" \".join(tokens)\n",
    "    max_len_recipes[i] = nltk_data\n"
   ]
  },
  {
   "cell_type": "code",
   "execution_count": 122,
   "metadata": {},
   "outputs": [],
   "source": [
    "\n",
    "# our stop word and vocabulary cap\n",
    "STOP_SIGN = '<STOP>'\n",
    "CAP = 10000\n",
    "\n",
    "# tokenize the recipes on word_level, lowercase, and cap the number of words\n",
    "tokenizer = tf.keras.preprocessing.text.Tokenizer(\n",
    "    num_words=CAP,\n",
    "    char_level=False,\n",
    "    filters='▪︎()',\n",
    "    lower=True,\n",
    "    split=' '\n",
    ")\n",
    "\n",
    "# add more stop signs to the tokenizer so that its not cut out later\n",
    "tokenizer.fit_on_texts([STOP_SIGN]*3000)\n",
    "tokenizer.fit_on_texts(max_len_recipes)\n",
    "\n",
    "# tokenizer.get_config()\n"
   ]
  },
  {
   "cell_type": "code",
   "execution_count": 123,
   "metadata": {},
   "outputs": [
    {
     "name": "stderr",
     "output_type": "stream",
     "text": [
      "C:\\Users\\inos1\\AppData\\Local\\Temp/ipykernel_123844/3254073397.py:9: UserWarning: Attempted to set non-positive left xlim on a log-scaled axis.\n",
      "Invalid limit will be ignored.\n",
      "  plt.xlim([0, 30000])\n"
     ]
    },
    {
     "data": {
      "image/png": "[encoded data removed]",
      "text/plain": [
       "<Figure size 432x288 with 1 Axes>"
      ]
     },
     "metadata": {
      "needs_background": "light"
     },
     "output_type": "display_data"
    }
   ],
   "source": [
    "# plot word freq vs word indices\n",
    "# use this plot to choose CAP\n",
    "word_freq_sorted = sorted(\n",
    "    tokenizer.word_counts.items(), key=lambda item: item[1], reverse=True)\n",
    "\n",
    "word_ranks = [tokenizer.word_index[x[0]] for x in word_freq_sorted]\n",
    "\n",
    "plt.loglog(word_ranks, [x[1] for x in word_freq_sorted])\n",
    "plt.xlim([0, 30000])\n",
    "plt.show()\n"
   ]
  },
  {
   "cell_type": "code",
   "execution_count": 124,
   "metadata": {},
   "outputs": [
    {
     "name": "stdout",
     "output_type": "stream",
     "text": [
      "vocab before shortening 25882\n"
     ]
    }
   ],
   "source": [
    "# just to show how much we cut down because of this. our vocab size goes from 25k to 10k\n",
    "print(\"vocab before shortening\", len(tokenizer.word_index))\n"
   ]
  },
  {
   "cell_type": "code",
   "execution_count": 115,
   "metadata": {},
   "outputs": [],
   "source": [
    "# sort the words by their frequency and pick the top CAP number of words\n",
    "sorted_by_word_count = sorted(\n",
    "    tokenizer.word_counts.items(), key=lambda kv: kv[1], reverse=True)\n",
    "tokenizer.word_index = {}\n",
    "i = 0\n",
    "for word, count in sorted_by_word_count:\n",
    "    if i == CAP:\n",
    "        break\n",
    "    tokenizer.word_index[word] = i + 1    # <= because tokenizer is 1 indexed\n",
    "    i += 1\n"
   ]
  },
  {
   "cell_type": "code",
   "execution_count": 116,
   "metadata": {},
   "outputs": [
    {
     "name": "stdout",
     "output_type": "stream",
     "text": [
      "10001\n"
     ]
    }
   ],
   "source": [
    "# actual vocab size (10k)\n",
    "VOCABULARY_SIZE = len(tokenizer.word_index) + 1\n",
    "print(VOCABULARY_SIZE)\n"
   ]
  },
  {
   "cell_type": "code",
   "execution_count": 118,
   "metadata": {},
   "outputs": [],
   "source": [
    "# tokenize the data\n",
    "data_vectorized = tokenizer.texts_to_sequences(max_len_recipes)\n"
   ]
  },
  {
   "cell_type": "code",
   "execution_count": 119,
   "metadata": {},
   "outputs": [],
   "source": [
    "# pad and truncate the data with stop words\n",
    "data_padded = tf.keras.preprocessing.sequence.pad_sequences(\n",
    "    data_vectorized,\n",
    "    padding='post',\n",
    "    truncating='post',\n",
    "    maxlen=MAX_NUM_WORDS - 1,\n",
    "    value=tokenizer.texts_to_sequences([STOP_SIGN])[0]\n",
    ")\n",
    "\n",
    "data_padded = tf.keras.preprocessing.sequence.pad_sequences(\n",
    "    data_padded,\n",
    "    padding='post',\n",
    "    truncating='post',\n",
    "    maxlen=MAX_NUM_WORDS + 1,\n",
    "    value=tokenizer.texts_to_sequences([STOP_SIGN])[0]\n",
    ")\n"
   ]
  },
  {
   "cell_type": "code",
   "execution_count": 120,
   "metadata": {},
   "outputs": [],
   "source": [
    "# os.makedirs('./saved_data')\n",
    "\n",
    "# write the tokenizer and data into pickles\n",
    "with open('./saved_data/tokenizer.pickle', 'wb+') as handle:\n",
    "    pickle.dump(tokenizer, handle, protocol=pickle.HIGHEST_PROTOCOL)\n",
    "\n",
    "with open('./saved_data/data_padded.pickle', 'wb+') as handle:\n",
    "    pickle.dump(data_padded, handle, protocol=pickle.HIGHEST_PROTOCOL)\n"
   ]
  }
 ],
 "metadata": {
  "interpreter": {
   "hash": "ea1868dd16f57f5cf4d44af6d351875ff141e76bf25b2cc7dfa86cdea4eea2d6"
  },
  "kernelspec": {
   "display_name": "Python 3.9.7 64-bit ('base': conda)",
   "language": "python",
   "name": "python3"
  },
  "language_info": {
   "codemirror_mode": {
    "name": "ipython",
    "version": 3
   },
   "file_extension": ".py",
   "mimetype": "text/x-python",
   "name": "python",
   "nbconvert_exporter": "python",
   "pygments_lexer": "ipython3",
   "version": "3.8.1"
  },
  "orig_nbformat": 4
 },
 "nbformat": 4,
 "nbformat_minor": 2
}
