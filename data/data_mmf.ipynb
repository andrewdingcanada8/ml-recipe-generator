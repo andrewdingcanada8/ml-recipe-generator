{
 "cells": [
  {
   "cell_type": "code",
   "execution_count": 1,
   "metadata": {},
   "outputs": [],
   "source": [
    "import json\n",
    "import os\n",
    "import pathlib\n",
    "import pickle\n",
    "import tensorflow as tf\n",
    "import re\n",
    "import importlib\n",
    "import zipfile\n",
    "import numpy as np\n",
    "\n",
    "import matplotlib.mlab as mlab\n",
    "import matplotlib.pyplot as plt\n"
   ]
  },
  {
   "cell_type": "code",
   "execution_count": 2,
   "metadata": {},
   "outputs": [
    {
     "name": "stdout",
     "output_type": "stream",
     "text": [
      "122930\n"
     ]
    }
   ],
   "source": [
    "database_dir = 'database_no_ingredients'\n",
    "\n",
    "\n",
    "def get_recipe_parse_ready(recipe, f):\n",
    "    return ((f + recipe).strip()).split(\"\\n\")\n",
    "\n",
    "\n",
    "# function to read file and parse\n",
    "def read_raw_file(filename: str):\n",
    "    with open(f'./{database_dir}/{filename}', 'r', encoding='cp437') as file:\n",
    "        file_read = file.read().strip().replace(\"ADVERTISEMENT\", '')\n",
    "\n",
    "        # get the separator\n",
    "        current_f = file_read.split(\"\\n\")[0]\n",
    "        split = file_read.split(current_f)[1:]\n",
    "\n",
    "        return [(get_recipe_parse_ready(recipe, current_f)) for recipe in split]\n",
    "\n",
    "\n",
    "files = (os.listdir(f'./{database_dir}/'))\n",
    "data = []\n",
    "\n",
    "for filename in files:\n",
    "    parsed_file = read_raw_file(filename)\n",
    "    data.extend(parsed_file)\n",
    "\n",
    "print(len(data))\n"
   ]
  },
  {
   "cell_type": "code",
   "execution_count": 101,
   "metadata": {},
   "outputs": [
    {
     "name": "stdout",
     "output_type": "stream",
     "text": [
      "['---------- Recipe via Meal-Master (tm) v7.04', '', 'Title: The Best Rolled Sugar Cookies', '', 'In a large bowl, cream together butter and sugar until smooth. Beat in eggs and vanilla. Stir in the flour, baking powder, and salt. Cover, and chill dough for at least one hour (or overnight).', 'Preheat oven to 400 degrees F (200 degrees C). Roll out dough on floured surface 1/4 to 1/2 inch thick. Cut into shapes with any cookie cutter. Place cookies 1 inch apart on ungreased cookie sheets.', 'Bake 6 to 8 minutes in preheated oven. Cool completely.', '', '------']\n"
     ]
    }
   ],
   "source": [
    "print(data[8])\n"
   ]
  },
  {
   "cell_type": "code",
   "execution_count": 15,
   "metadata": {},
   "outputs": [
    {
     "name": "stdout",
     "output_type": "stream",
     "text": [
      "122930\n"
     ]
    }
   ],
   "source": [
    "\n",
    "import parse_recipe as RecipeParser\n",
    "importlib.reload(RecipeParser)\n",
    "\n",
    "\n",
    "def parse_recipe(recipe: str):\n",
    "    parsed = RecipeParser.parse_recipe(recipe)\n",
    "    # if (parsed.title == \"Beer-battered Asparagus with Garlic Aioli\"):\n",
    "    #     print(parsed.directions)\n",
    "    #     raise Exception(\"stop\")\n",
    "    return parsed\n",
    "\n",
    "\n",
    "recipes = [parse_recipe(x) for x in data]\n",
    "print(len(recipes))\n"
   ]
  },
  {
   "cell_type": "code",
   "execution_count": 102,
   "metadata": {},
   "outputs": [
    {
     "name": "stdout",
     "output_type": "stream",
     "text": [
      "['In a large bowl, cream together butter and sugar until smooth. Beat in eggs and vanilla. Stir in the flour, baking powder, and salt. Cover, and chill dough for at least one hour (or overnight). Preheat oven to 400 degrees F (200 degrees C). Roll out dough on floured surface 1/4 to 1/2 inch thick. Cut into shapes with any cookie cutter. Place cookies 1 inch apart on ungreased cookie sheets. Bake 6 to 8 minutes in preheated oven. Cool completely.', '------']\n"
     ]
    }
   ],
   "source": []
  },
  {
   "cell_type": "code",
   "execution_count": 65,
   "metadata": {},
   "outputs": [
    {
     "name": "stdout",
     "output_type": "stream",
     "text": [
      "122930\n"
     ]
    }
   ],
   "source": [
    "TITLE_STOP_WORD = '🆃🅸🆃🅻🅴\\n'\n",
    "# INGREDIENTS_STOP_WORD = '🅸🅽🅶🆁🅴🅳🅸🅴🅽🆃🆂\\n'\n",
    "INSTRUCTIONS_STOP_WORD = '🅸🅽🆂🆃🆁🆄🅲🆃🅸🅾🅽🆂\\n'\n",
    "\n",
    "\n",
    "def recipe_to_string(recipe: RecipeParser.Recipe):\n",
    "    # This string is presented as a part of recipes so we need to clean it up.\n",
    "\n",
    "    title = recipe.title\n",
    "    ingredients = recipe.ingredients\n",
    "    instructions = recipe.directions\n",
    "\n",
    "    ingredients_string = ''\n",
    "    for ingredient in ingredients:\n",
    "        if ingredient:\n",
    "            ingredients_string += f'• {ingredient}\\n'\n",
    "\n",
    "    instructions_string = ''\n",
    "    for instruction in instructions:\n",
    "        if instruction:\n",
    "            instruction = instruction.strip()\n",
    "            instructions_string += f'▪︎ {instruction}\\n'\n",
    "\n",
    "    # remove weird characters from instructions\n",
    "    instructions_string = instructions_string.replace(\n",
    "        \";\", \"\").replace(\"▪︎\", \"\").replace(\"------\", \"\").strip()\n",
    "    title = title.replace(\".\", \"\").strip()\n",
    "\n",
    "    # if isntructions has like some weird characters\n",
    "    if (len(instructions_string) < 5):\n",
    "        return \"\"\n",
    "\n",
    "    if len(title) < 2:\n",
    "        return \"\"\n",
    "    elif title == \"qaV113\":\n",
    "        return \"\"\n",
    "    elif title == \"Title\" or instructions == \"Title\":\n",
    "        return \"\"\n",
    "\n",
    "    final_str = f'{TITLE_STOP_WORD}{title}\\n\\n{INSTRUCTIONS_STOP_WORD}{instructions_string}'\n",
    "    # if (title == \"Beer-battered Asparagus with Garlic Aioli\"):\n",
    "    #     print(final_str)\n",
    "    #     raise Exception(\"stop\")\n",
    "    return final_str\n",
    "\n",
    "\n",
    "string_recipes = [recipe_to_string(recipe) for recipe in recipes]\n",
    "print(len(string_recipes))\n"
   ]
  },
  {
   "cell_type": "code",
   "execution_count": 66,
   "metadata": {},
   "outputs": [
    {
     "name": "stdout",
     "output_type": "stream",
     "text": [
      "🆃🅸🆃🅻🅴\n",
      "The Cape Codder\n",
      "\n",
      "🅸🅽🆂🆃🆁🆄🅲🆃🅸🅾🅽🆂\n",
      "Mix all ingredients together and serve.\n",
      "🆃🅸🆃🅻🅴\n",
      "Tartar Sauce\n",
      "\n",
      "🅸🅽🆂🆃🆁🆄🅲🆃🅸🅾🅽🆂\n",
      "Mix ingredients together, refrigerate, and serve as needed.\n",
      "🆃🅸🆃🅻🅴\n",
      "Peach Bellini\n",
      "\n",
      "🅸🅽🆂🆃🆁🆄🅲🆃🅸🅾🅽🆂\n",
      "Combine, stir, serve over ice.\n",
      "🆃🅸🆃🅻🅴\n",
      "Doug's Recipe\n",
      "\n",
      "🅸🅽🆂🆃🆁🆄🅲🆃🅸🅾🅽🆂\n",
      "Mix it all togeter (1). Start over again(1).\n",
      "🆃🅸🆃🅻🅴\n",
      "Marlowe's Black Magic\n",
      "\n",
      "🅸🅽🆂🆃🆁🆄🅲🆃🅸🅾🅽🆂\n",
      "Blend well, cover and store.\n",
      "🆃🅸🆃🅻🅴\n",
      "Michelada\n",
      "\n",
      "🅸🅽🆂🆃🆁🆄🅲🆃🅸🅾🅽🆂\n",
      "Roll into salted pint Blend until smooth.\n",
      "🆃🅸🆃🅻🅴\n",
      "Friendship Butterflies\n",
      "\n",
      "🅸🅽🆂🆃🆁🆄🅲🆃🅸🅾🅽🆂\n",
      "Friendship Butterflies\n",
      "🆃🅸🆃🅻🅴\n",
      "Kahlua Black Russian\n",
      "\n",
      "🅸🅽🆂🆃🆁🆄🅲🆃🅸🅾🅽🆂\n",
      "Pour over ice in a rocks glass.\n",
      "🆃🅸🆃🅻🅴\n",
      "Chocolatini\n",
      "\n",
      "🅸🅽🆂🆃🆁🆄🅲🆃🅸🅾🅽🆂\n",
      "Shake all ingredients with ice in a cocktail shaker.\n",
      "🆃🅸🆃🅻🅴\n",
      "Dill Mayonnaise\n",
      "\n",
      "🅸🅽🆂🆃🆁🆄🅲🆃🅸🅾🅽🆂\n",
      "Mix thoroughly in a bowl.\n",
      "🆃🅸🆃🅻🅴\n",
      "Rum Punch\n",
      "\n",
      "🅸🅽🆂🆃🆁🆄🅲🆃🅸🅾🅽🆂\n",
      "Combine all ingredients and serve over ice.\n",
      "🆃🅸🆃🅻🅴\n",
      "The Killer\n",
      "\n",
      "🅸🅽🆂🆃🆁🆄🅲🆃🅸🅾🅽🆂\n",
      "Process all ingredients in a juicer.\n",
      "🆃🅸🆃🅻🅴\n",
      "Chocolatini\n",
      "\n",
      "🅸🅽🆂🆃🆁🆄🅲🆃🅸🅾🅽🆂\n",
      "Shake all ingredients with ice in a cocktail shaker.\n",
      "🆃🅸🆃🅻🅴\n",
      "Sunset Cocktail\n",
      "\n",
      "🅸🅽🆂🆃🆁🆄🅲🆃🅸🅾🅽🆂\n",
      "Combine all ingredients and serve over ice.\n",
      "🆃🅸🆃🅻🅴\n",
      "no recipes available\n",
      "\n",
      "🅸🅽🆂🆃🆁🆄🅲🆃🅸🅾🅽🆂\n",
      "no recipes available\n",
      "🆃🅸🆃🅻🅴\n",
      "Potato Dumpling Sauce\n",
      "\n",
      "🅸🅽🆂🆃🆁🆄🅲🆃🅸🅾🅽🆂\n",
      "Combine all ingredients.\n",
      "🆃🅸🆃🅻🅴\n",
      "Tartar Sauce\n",
      "\n",
      "🅸🅽🆂🆃🆁🆄🅲🆃🅸🅾🅽🆂\n",
      "Mix ingredients together, refrigerate, and serve as needed.\n",
      "🆃🅸🆃🅻🅴\n",
      "Detoxifying Paradise Juice\n",
      "\n",
      "🅸🅽🆂🆃🆁🆄🅲🆃🅸🅾🅽🆂\n",
      "Mix all ingredients together and serve cold.\n",
      "🆃🅸🆃🅻🅴\n",
      "Seaweed Salad\n",
      "\n",
      "🅸🅽🆂🆃🆁🆄🅲🆃🅸🅾🅽🆂\n",
      "Combine vinegar and oil to marinate seaweed.\n",
      "🆃🅸🆃🅻🅴\n",
      "brussels sprouts\n",
      "\n",
      "🅸🅽🆂🆃🆁🆄🅲🆃🅸🅾🅽🆂\n",
      "eat brussels sprouts.\n",
      "🆃🅸🆃🅻🅴\n",
      "Wasabi Sour Cream\n",
      "\n",
      "🅸🅽🆂🆃🆁🆄🅲🆃🅸🅾🅽🆂\n",
      "Combine ingredients and mix until blended.\n",
      "🆃🅸🆃🅻🅴\n",
      "Antipasto\n",
      "\n",
      "🅸🅽🆂🆃🆁🆄🅲🆃🅸🅾🅽🆂\n",
      "Arrange attractively and serve with prosecco.\n",
      "🆃🅸🆃🅻🅴\n",
      "Coolio\n",
      "\n",
      "🅸🅽🆂🆃🆁🆄🅲🆃🅸🅾🅽🆂\n",
      "1 sdkfhiashfhSAFASFASFASS\n",
      "🆃🅸🆃🅻🅴\n",
      "Pasta Salad\n",
      "\n",
      "🅸🅽🆂🆃🆁🆄🅲🆃🅸🅾🅽🆂\n",
      "Mix all ingredients together and serve!\n",
      "🆃🅸🆃🅻🅴\n",
      "Colorful Flower Crafts\n",
      "\n",
      "🅸🅽🆂🆃🆁🆄🅲🆃🅸🅾🅽🆂\n",
      "Colorful Flower Crafts\n",
      "🆃🅸🆃🅻🅴\n",
      "EXPIRE ME\n",
      "\n",
      "🅸🅽🆂🆃🆁🆄🅲🆃🅸🅾🅽🆂\n",
      "apples\n",
      "🆃🅸🆃🅻🅴\n",
      "Thermos of Grok/Hot Toddy\n",
      "\n",
      "🅸🅽🆂🆃🆁🆄🅲🆃🅸🅾🅽🆂\n",
      "Combine ingredients in thermos and shake.\n",
      "🆃🅸🆃🅻🅴\n",
      "Rum Punch\n",
      "\n",
      "🅸🅽🆂🆃🆁🆄🅲🆃🅸🅾🅽🆂\n",
      "Combine all of the above.\n",
      "🆃🅸🆃🅻🅴\n",
      "Antipasto\n",
      "\n",
      "🅸🅽🆂🆃🆁🆄🅲🆃🅸🅾🅽🆂\n",
      "Arrange attractively and serve with prosecco.\n",
      "🆃🅸🆃🅻🅴\n",
      "Horseradish-Chive Sauce\n",
      "\n",
      "🅸🅽🆂🆃🆁🆄🅲🆃🅸🅾🅽🆂\n",
      "Fold all ingredients together in a mixing bowl.\n",
      "30\n"
     ]
    }
   ],
   "source": [
    "def filter_weird_recipes(recipe):\n",
    "    exclude_words = [\".com\", '.net', 'org']\n",
    "    \n",
    "    if not recipe:\n",
    "        return False\n",
    "    elif any([x in recipe for x in exclude_words]):\n",
    "        return False\n",
    "\n",
    "    return True\n",
    "\n",
    "filtered_string_recipes = list(filter(filter_weird_recipes, string_recipes))\n",
    "\n",
    "# count = 0\n",
    "# i = 0\n",
    "\n",
    "# for x in filtered_string_recipes:\n",
    "#     if not x:\n",
    "#         print(i)\n",
    "#         break\n",
    "#     if len(x.split(\" \")) == 0:\n",
    "#         count += 1\n",
    "#     elif x == \"\":\n",
    "#         count += 1\n",
    "#     elif len(x.split(\" \")) < 10:\n",
    "#         count += 1\n",
    "#         print(x)\n",
    "#         if count == 30:\n",
    "#             break\n",
    "\n",
    "#     i += 1\n",
    "\n",
    "# print(count)\n"
   ]
  },
  {
   "cell_type": "code",
   "execution_count": 73,
   "metadata": {},
   "outputs": [],
   "source": [
    "MAX_NUM_WORDS = 250\n",
    "\n",
    "\n",
    "def filter_recipes_by_length(recipe_test):\n",
    "    return len((recipe_test.split(\" \"))) <= MAX_NUM_WORDS\n",
    "\n",
    "\n",
    "max_len_recipes = [\n",
    "    recipe_text for recipe_text in filtered_string_recipes if filter_recipes_by_length(recipe_text)]\n"
   ]
  },
  {
   "cell_type": "code",
   "execution_count": 69,
   "metadata": {},
   "outputs": [
    {
     "data": {
      "image/png": "[encoded data removed]",
      "text/plain": [
       "<Figure size 432x288 with 1 Axes>"
      ]
     },
     "metadata": {
      "needs_background": "light"
     },
     "output_type": "display_data"
    }
   ],
   "source": [
    "recipe_lens = [len(x.split(\" \")) for x in string_recipes]\n",
    "recipe_lens.sort(reverse=True)\n",
    "plt.plot(recipe_lens, np.arange(len(string_recipes)))\n",
    "plt.xlim([0, 1000])\n",
    "plt.show()\n"
   ]
  },
  {
   "cell_type": "code",
   "execution_count": 74,
   "metadata": {},
   "outputs": [
    {
     "name": "stderr",
     "output_type": "stream",
     "text": [
      "[nltk_data] Downloading package punkt to\n",
      "[nltk_data]     C:\\Users\\inos1\\AppData\\Roaming\\nltk_data...\n",
      "[nltk_data]   Package punkt is already up-to-date!\n",
      "[nltk_data] Downloading package wordnet to\n",
      "[nltk_data]     C:\\Users\\inos1\\AppData\\Roaming\\nltk_data...\n",
      "[nltk_data]   Package wordnet is already up-to-date!\n"
     ]
    },
    {
     "data": {
      "text/plain": [
       "True"
      ]
     },
     "execution_count": 74,
     "metadata": {},
     "output_type": "execute_result"
    }
   ],
   "source": [
    "import nltk\n",
    "nltk.download('punkt')\n",
    "nltk.download('wordnet')\n"
   ]
  },
  {
   "cell_type": "code",
   "execution_count": 75,
   "metadata": {},
   "outputs": [],
   "source": [
    "from nltk.stem import WordNetLemmatizer, PorterStemmer\n",
    "lm = WordNetLemmatizer()\n",
    "ps = PorterStemmer()\n"
   ]
  },
  {
   "cell_type": "code",
   "execution_count": 76,
   "metadata": {},
   "outputs": [],
   "source": [
    "for i in range(len(max_len_recipes)):\n",
    "    sentence = max_len_recipes[i]\n",
    "    sentence = lm.lemmatize(sentence)\n",
    "    tokens = nltk.word_tokenize(sentence)\n",
    "    nltk_data = \" \".join(tokens)\n",
    "    max_len_recipes[i] = nltk_data\n"
   ]
  },
  {
   "cell_type": "code",
   "execution_count": 84,
   "metadata": {},
   "outputs": [],
   "source": [
    "STOP_SIGN = '<STOP>'\n",
    "CAP = 6000\n",
    "tokenizer = tf.keras.preprocessing.text.Tokenizer(\n",
    "    # char_level=True,\n",
    "    num_words=CAP,\n",
    "    char_level=False,\n",
    "    filters='▪︎()',\n",
    "    lower=True,\n",
    "    split=' '\n",
    ")\n",
    "\n",
    "# Stop word is not a part of recipes, but tokenizer must know about it as well.\n",
    "tokenizer.fit_on_texts([STOP_SIGN]*3000)\n",
    "tokenizer.fit_on_texts(max_len_recipes)\n",
    "\n",
    "# tokenizer.get_config()\n"
   ]
  },
  {
   "cell_type": "code",
   "execution_count": 86,
   "metadata": {},
   "outputs": [],
   "source": [
    "\n",
    "word_freq_sorted = sorted(\n",
    "    tokenizer.word_counts.items(), key=lambda item: item[1], reverse=True)\n",
    "\n",
    "# print(word_freq_sorted[10000][0])\n",
    "# print(tokenizer.word_index[word_freq_sorted[10000][0]], tokenizer.word_index['seattle'])\n",
    "word_ranks = [tokenizer.word_index[x[0]] for x in word_freq_sorted]\n",
    "# print(word_ranks)\n"
   ]
  },
  {
   "cell_type": "code",
   "execution_count": 87,
   "metadata": {},
   "outputs": [
    {
     "name": "stderr",
     "output_type": "stream",
     "text": [
      "C:\\Users\\inos1\\AppData\\Local\\Temp/ipykernel_123844/1919945428.py:3: UserWarning: Attempted to set non-positive left xlim on a log-scaled axis.\n",
      "Invalid limit will be ignored.\n",
      "  plt.xlim([0, 30000])\n"
     ]
    },
    {
     "data": {
      "image/png": "[encoded data removed]",
      "text/plain": [
       "<Figure size 432x288 with 1 Axes>"
      ]
     },
     "metadata": {
      "needs_background": "light"
     },
     "output_type": "display_data"
    }
   ],
   "source": [
    "plt.loglog(word_ranks, [x[1] for x in word_freq_sorted])\n",
    "# plt.scatter()\n",
    "plt.xlim([0, 30000])\n",
    "# plt.ylim([0, 50000])\n",
    "# plt.autoscale()\n",
    "plt.show()\n"
   ]
  },
  {
   "cell_type": "code",
   "execution_count": 85,
   "metadata": {},
   "outputs": [
    {
     "name": "stdout",
     "output_type": "stream",
     "text": [
      "vocab before shortening 38547\n"
     ]
    }
   ],
   "source": [
    "print(\"vocab before shortening\", len(tokenizer.word_index))\n"
   ]
  },
  {
   "cell_type": "code",
   "execution_count": 88,
   "metadata": {},
   "outputs": [],
   "source": [
    "sorted_by_word_count = sorted(\n",
    "    tokenizer.word_counts.items(), key=lambda kv: kv[1], reverse=True)\n",
    "tokenizer.word_index = {}\n",
    "i = 0\n",
    "for word, count in sorted_by_word_count:\n",
    "    if i == CAP:\n",
    "        break\n",
    "    tokenizer.word_index[word] = i + 1    # <= because tokenizer is 1 indexed\n",
    "    i += 1\n"
   ]
  },
  {
   "cell_type": "code",
   "execution_count": 89,
   "metadata": {},
   "outputs": [
    {
     "name": "stdout",
     "output_type": "stream",
     "text": [
      "6001\n"
     ]
    }
   ],
   "source": [
    "VOCABULARY_SIZE = len(tokenizer.word_index) + 1\n",
    "print(VOCABULARY_SIZE)\n"
   ]
  },
  {
   "cell_type": "code",
   "execution_count": 90,
   "metadata": {},
   "outputs": [
    {
     "name": "stdout",
     "output_type": "stream",
     "text": [
      "🆃🅸🆃🅻🅴 Banana Pudding IV 🅸🅽🆂🆃🆁🆄🅲🆃🅸🅾🅽🆂 In a large bowl , beat cream cheese until fluffy . Beat in condensed milk , pudding mix , cold milk and vanilla until smooth . Fold in 1/2 of the whipped topping . Line the bottom of a 9x13 inch dish with vanilla wafers . Arrange sliced bananas evenly over wafers . Spread with pudding mixture . Top with remaining whipped topping . Chill .\n",
      "['🆃🅸🆃🅻🅴 banana pudding iv 🅸🅽🆂🆃🆁🆄🅲🆃🅸🅾🅽🆂 in a large bowl , beat cream cheese until fluffy . beat in condensed milk , pudding mix , cold milk and vanilla until smooth . fold in 1/2 of the whipped topping . line the bottom of a 9x13 inch dish with vanilla wafers . arrange sliced bananas evenly over wafers . spread with pudding mixture . top with remaining whipped topping . chill .']\n"
     ]
    }
   ],
   "source": [
    "# data_vectorized = tokenizer.texts_to_sequences(max_len_recipes)\n",
    "# print(re.sub(' (?! )', '' , as_string))\n",
    "print(max_len_recipes[123])\n",
    "print(tokenizer.sequences_to_texts(\n",
    "    tokenizer.texts_to_sequences([max_len_recipes[123]])))\n"
   ]
  },
  {
   "cell_type": "code",
   "execution_count": 91,
   "metadata": {},
   "outputs": [],
   "source": [
    "data_vectorized = tokenizer.texts_to_sequences(max_len_recipes)\n",
    "# print(' '.join(tokenizer.sequences_to_texts(data_vectorized)))\n"
   ]
  },
  {
   "cell_type": "code",
   "execution_count": 92,
   "metadata": {},
   "outputs": [],
   "source": [
    "\n",
    "data_padded = tf.keras.preprocessing.sequence.pad_sequences(\n",
    "    data_vectorized,\n",
    "    padding='post',\n",
    "    truncating='post',\n",
    "    maxlen=MAX_NUM_WORDS - 1,\n",
    "    value=tokenizer.texts_to_sequences([STOP_SIGN])[0]\n",
    ")\n",
    "\n",
    "data_padded = tf.keras.preprocessing.sequence.pad_sequences(\n",
    "    data_padded,\n",
    "    padding='post',\n",
    "    truncating='post',\n",
    "    maxlen=MAX_NUM_WORDS + 1,\n",
    "    value=tokenizer.texts_to_sequences([STOP_SIGN])[0]\n",
    ")\n"
   ]
  },
  {
   "cell_type": "code",
   "execution_count": 38,
   "metadata": {},
   "outputs": [
    {
     "name": "stdout",
     "output_type": "stream",
     "text": [
      "▪︎ Preheat the oven to 350 degrees F (175 degrees C). In a medium bowl, stir together the whole wheat flour, all-purpose flour, and 3/4 teaspoon salt. Pour in the vegetable oil and water; mix until just blended. On a lightly floured surface, roll out the dough as thin as possible - no thicker than 1/8 inch. Place dough on an ungreased baking sheet, and mark squares out with a knife, but don't cut through. Prick each cracker with a fork a few times, and sprinkle with salt. Bake for 15 to 20 minutes in the preheated oven, or until crisp and light brown. Baking time may be different depending on how thin your crackers are. When cool, remove from baking sheet, and separate into individual crackers.\n",
      "\n"
     ]
    }
   ],
   "source": [
    "print(string_recipes[3596])\n"
   ]
  },
  {
   "cell_type": "code",
   "execution_count": 35,
   "metadata": {},
   "outputs": [
    {
     "name": "stdout",
     "output_type": "stream",
     "text": [
      "3596\n",
      "['<stop> <stop> <stop> <stop> <stop> <stop> <stop> <stop> <stop> <stop> <stop> <stop> <stop> <stop> <stop> <stop> <stop> <stop> <stop> <stop> <stop> <stop> <stop> <stop> <stop> <stop> <stop> <stop> <stop> <stop> <stop> <stop> <stop> <stop> <stop> <stop> <stop> <stop> <stop> <stop> <stop> <stop> <stop> <stop> <stop> <stop> <stop> <stop> <stop> <stop> <stop> <stop> <stop> <stop> <stop> <stop> <stop> <stop> <stop> <stop> <stop> <stop> <stop> <stop> <stop> <stop> <stop> <stop> <stop> <stop> <stop> <stop> <stop> <stop> <stop> <stop>']\n",
      "1\n"
     ]
    }
   ],
   "source": [
    "i = 0\n",
    "count = 0\n",
    "\n",
    "for recipe in data_padded:\n",
    "    if (np.all(recipe == 46)):\n",
    "        print(i)\n",
    "        print(tokenizer.sequences_to_texts([recipe]))\n",
    "        count += 1\n",
    "        break\n",
    "    i += 1\n",
    "\n",
    "print(count)\n"
   ]
  },
  {
   "cell_type": "code",
   "execution_count": 18,
   "metadata": {},
   "outputs": [
    {
     "name": "stdout",
     "output_type": "stream",
     "text": [
      "['preheat oven to 350 degrees f 175 degrees c . lightly grease a 5x9 inch loaf pan . press the brown sugar in the bottom of the prepared loaf pan and spread the ketchup over the sugar . in a mixing bowl , mix thoroughly all remaining ingredients and shape into a loaf . place on top of the ketchup . bake in preheated oven for 1 hour or until juices are clear . <stop> <stop>']\n"
     ]
    }
   ],
   "source": [
    "# print(data_padded[2])\n",
    "print(tokenizer.sequences_to_texts([data_padded[2]]))\n"
   ]
  },
  {
   "cell_type": "code",
   "execution_count": 93,
   "metadata": {},
   "outputs": [],
   "source": [
    "# os.makedirs('./saved_data')\n",
    "with open('./saved_data/tokenizer.pickle', 'wb+') as handle:\n",
    "    pickle.dump(tokenizer, handle, protocol=pickle.HIGHEST_PROTOCOL)\n",
    "\n",
    "with open('./saved_data/data_padded.pickle', 'wb+') as handle:\n",
    "    pickle.dump(data_padded, handle, protocol=pickle.HIGHEST_PROTOCOL)\n"
   ]
  },
  {
   "cell_type": "code",
   "execution_count": 28,
   "metadata": {},
   "outputs": [
    {
     "name": "stdout",
     "output_type": "stream",
     "text": [
      "[[False False False ... False False False]\n",
      " [False False False ... False False False]\n",
      " [False False False ... False False False]\n",
      " ...\n",
      " [False False False ... False False False]\n",
      " [False False False ... False False False]\n",
      " [False False False ... False False False]]\n"
     ]
    },
    {
     "data": {
      "text/plain": [
       "['<stop>']"
      ]
     },
     "execution_count": 28,
     "metadata": {},
     "output_type": "execute_result"
    }
   ],
   "source": [
    "with open(\"../error_file.pickle\", 'rb') as handle:\n",
    "    error_file = pickle.load(handle)\n",
    "\n",
    "print((error_file.numpy() != 46))\n",
    "tokenizer.sequences_to_texts([[46]])\n"
   ]
  }
 ],
 "metadata": {
  "interpreter": {
   "hash": "ea1868dd16f57f5cf4d44af6d351875ff141e76bf25b2cc7dfa86cdea4eea2d6"
  },
  "kernelspec": {
   "display_name": "Python 3.9.7 64-bit ('base': conda)",
   "language": "python",
   "name": "python3"
  },
  "language_info": {
   "codemirror_mode": {
    "name": "ipython",
    "version": 3
   },
   "file_extension": ".py",
   "mimetype": "text/x-python",
   "name": "python",
   "nbconvert_exporter": "python",
   "pygments_lexer": "ipython3",
   "version": "3.8.1"
  },
  "orig_nbformat": 4
 },
 "nbformat": 4,
 "nbformat_minor": 2
}
