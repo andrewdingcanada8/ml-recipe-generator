{
 "cells": [
  {
   "cell_type": "code",
   "execution_count": 13,
   "metadata": {},
   "outputs": [],
   "source": [
    "import json\n",
    "import os\n",
    "import pathlib\n",
    "import pickle\n",
    "import tensorflow as tf\n",
    "import re\n",
    "import importlib"
   ]
  },
  {
   "cell_type": "code",
   "execution_count": 28,
   "metadata": {},
   "outputs": [
    {
     "name": "stdout",
     "output_type": "stream",
     "text": [
      "515\n",
      "*    Bonless chuck should be cut into 1-inch cubes as with stew meat. **   Tomatoes should be whole peeled tomatoes, undrained and chopped. ***  Coose either Onion or Beefy Onion soup mix. **** Use 1 cn of sliced mushrooms or slice up 8 ozs of fresh mushrooms. ~-------------------------------------------------------------------------- Preheat Oven to 400 degrees F. In 2-quart casserole, toss beef with flour, then bake uncovered 20 minutes. Add carrots, tomatoes, and bay leaf, then add beefy onion recipe soup mix blended with wine.  Bake, covered, 1 1/2 hours or until beef is tender. Add mushrooms and bake covered an additional 10 minutes.  Remove bay leaf. Meanwhile, cook noodles according to package directions.  To serve, arrange bourguignonne over noodles. MICROWAVE DIRECTIONS: Toss beef with flour, set aside.  In 2-quart casserole, combine tomatoes, bay leaf, and beefy onion recipe soup mix blended with wine.  Heat, covered, at HIGH (Full Power) 7 minutes, stirring once.  Add beef and carrots.  Heat covered at DEFROST (30% FULL POWER), stirring occasionally, 1 1/4 hours.  Add mushrooms and heat covered at DEFROST (30% FULL POWER), 30 minutes or until beef is tender.  Remove bay leaf.  Let stand covered 5 minutes.  Cook Noodles and serve as above. FREEZING/REHEATING DIRECTIONS: Bourguignonne can be baked, then frozen.  Simply wrap covered casserole in heavy-duty Aluminum Foil; freeze.  To reheat, unwrap and bake covered at 400 degrees F. stirring occasionally to separate beef and vegetables, 1 hour.  OR, Microwave at HIGH (Full Power) stirring occasionally, 20 minutes or until heated through.  Let stand covered 5 minutes.\n"
     ]
    }
   ],
   "source": [
    "import parse_recipe as RecipeParser\n",
    "importlib.reload(RecipeParser)\n",
    "\n",
    "\n",
    "def get_recipe_parse_ready(recipe):\n",
    "    return ((\"-------- Recipe via Meal-Master (tm) v8.02\" + recipe).strip()).split(\"\\n\")\n",
    "\n",
    "\n",
    "with open(\"./recipes_raw/Noodles.mmf\", encoding=\"cp437\") as file:\n",
    "    data = file.read().strip().split(\"-------- Recipe via Meal-Master (tm) v8.02\")\n",
    "    data = [get_recipe_parse_ready(x) for x in data]\n",
    "    print(len(data))\n",
    "\n",
    "    # print(x)\n",
    "    recipes = [RecipeParser.parse_recipe(x) for x in data]\n"
   ]
  },
  {
   "cell_type": "code",
   "execution_count": 32,
   "metadata": {},
   "outputs": [
    {
     "name": "stdout",
     "output_type": "stream",
     "text": [
      "🆃🅸🆃🅻🅴\n",
      "CHOW MEIN CASSEROLE\n",
      "\n",
      "🅸🅽🅶🆁🅴🅳🅸🅴🅽🆃🆂\n",
      "• 1 lb Hamburger\n",
      "• 3/4 c Celery; chopped\n",
      "• 3/4 c Onion; chopped\n",
      "• 1 1/4 c Boiling water\n",
      "• 1/2 c Uncooked rice\n",
      "• 1/2 t Salt\n",
      "• 1 ea Can chicken and rice soup\n",
      "• 4 oz Mushrooms\n",
      "• 1 T Brown sugar\n",
      "• 2 t Soy sauce\n",
      "• 1 t Butter or margarine\n",
      "• 1 1/2 c Chow mein noodles\n",
      "\n",
      "🅸🅽🆂🆃🆁🆄🅲🆃🅸🅾🅽🆂\n",
      "▪︎ Cook and stir hamburger, celery and onion until hamburger is light brown, then drain. Pour water on rice and add salt in greased 2qt casserole. Stir in hamburger, soup, mushrooms, sugar, soy sauce and margarine. Cover and cook in 350f oven for 30 min; stir. Cook uncovered for 30 min longer. Stir in noodles, serve immediately.\n",
      "▪︎ Note: Water chestnuts or bamboo shoots may be added if desired.\n",
      "\n"
     ]
    }
   ],
   "source": [
    "TITLE_STOP_WORD = '🆃🅸🆃🅻🅴\\n'\n",
    "INGREDIENTS_STOP_WORD = '🅸🅽🅶🆁🅴🅳🅸🅴🅽🆃🆂\\n'\n",
    "INSTRUCTIONS_STOP_WORD = '🅸🅽🆂🆃🆁🆄🅲🆃🅸🅾🅽🆂\\n'\n",
    "\n",
    "\n",
    "def recipe_to_string(recipe: RecipeParser.Recipe):\n",
    "    # This string is presented as a part of recipes so we need to clean it up.\n",
    "\n",
    "    title = recipe.title\n",
    "    ingredients = recipe.ingredients\n",
    "    instructions = recipe.directions\n",
    "\n",
    "    ingredients_string = ''\n",
    "    for ingredient in ingredients:\n",
    "        if ingredient:\n",
    "            ingredients_string += f'• {ingredient}\\n'\n",
    "\n",
    "    instructions_string = ''\n",
    "    for instruction in instructions:\n",
    "        if instruction:\n",
    "            instructions_string += f'▪︎ {instruction}\\n'\n",
    "\n",
    "    return f'{TITLE_STOP_WORD}{title}\\n\\n{INGREDIENTS_STOP_WORD}{ingredients_string}\\n{INSTRUCTIONS_STOP_WORD}{instructions_string}'\n",
    "\n",
    "\n",
    "string_recipes = [recipe_to_string(recipe) for recipe in recipes]\n",
    "print(string_recipes[1])\n"
   ]
  },
  {
   "cell_type": "code",
   "execution_count": 34,
   "metadata": {},
   "outputs": [
    {
     "name": "stdout",
     "output_type": "stream",
     "text": [
      "436\n"
     ]
    }
   ],
   "source": [
    "def filter_out_weird_recipes(recipe: str):\n",
    "    return not (\"*\" in recipe or \"--------\" in recipe)\n",
    "\n",
    "\n",
    "string_recipes = list(filter(filter_out_weird_recipes, string_recipes))\n",
    "print(len(list(string_recipes)))\n"
   ]
  }
 ],
 "metadata": {
  "interpreter": {
   "hash": "ea1868dd16f57f5cf4d44af6d351875ff141e76bf25b2cc7dfa86cdea4eea2d6"
  },
  "kernelspec": {
   "display_name": "Python 3.9.7 64-bit ('base': conda)",
   "language": "python",
   "name": "python3"
  },
  "language_info": {
   "codemirror_mode": {
    "name": "ipython",
    "version": 3
   },
   "file_extension": ".py",
   "mimetype": "text/x-python",
   "name": "python",
   "nbconvert_exporter": "python",
   "pygments_lexer": "ipython3",
   "version": "3.9.7"
  },
  "orig_nbformat": 4
 },
 "nbformat": 4,
 "nbformat_minor": 2
}
