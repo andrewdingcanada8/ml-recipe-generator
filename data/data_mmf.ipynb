{
 "cells": [
  {
   "cell_type": "code",
   "execution_count": 1,
   "metadata": {},
   "outputs": [],
   "source": [
    "import json\n",
    "import os\n",
    "import pathlib\n",
    "import pickle\n",
    "import tensorflow as tf\n",
    "import re\n",
    "import importlib\n",
    "import zipfile\n",
    "from tabulate import tabulate as Tabulate"
   ]
  },
  {
   "cell_type": "code",
   "execution_count": 7,
   "metadata": {},
   "outputs": [
    {
     "name": "stdout",
     "output_type": "stream",
     "text": [
      "122930\n"
     ]
    }
   ],
   "source": [
    "database_dir = 'database_raw'\n",
    "\n",
    "\n",
    "def get_recipe_parse_ready(recipe, f):\n",
    "    return ((f + recipe).strip()).split(\"\\n\")\n",
    "\n",
    "\n",
    "# function to read file and parse\n",
    "def read_raw_file(filename: str):\n",
    "    with open(f'./{database_dir}/{filename}', 'r') as file:\n",
    "        file_read = file.read().strip().replace(\"ADVERTISEMENT\", '')\n",
    "\n",
    "        # get the separator\n",
    "        current_f = file_read.split(\"\\n\")[0]\n",
    "        split = file_read.split(current_f)[1:]\n",
    "\n",
    "        return [(get_recipe_parse_ready(recipe, current_f)) for recipe in split]\n",
    "\n",
    "\n",
    "files = (os.listdir(f'./{database_dir}/'))\n",
    "data = []\n",
    "\n",
    "for filename in files:\n",
    "    parsed_file = read_raw_file(filename)\n",
    "    data.extend(parsed_file)\n",
    "\n",
    "print(len(data))\n"
   ]
  },
  {
   "cell_type": "code",
   "execution_count": 8,
   "metadata": {},
   "outputs": [
    {
     "name": "stdout",
     "output_type": "stream",
     "text": [
      "['MMMMM----- Recipe via Meal-Master (tm) v8.05', '', 'Title: Blackend Medallions of Salmon Over Blue Home Fries and Blueberry and Citrus Vinaigrette', '', '1/4 cup kosher salt', '1/4 cup cayenne pepper', '1/4 cup paprika', '1/4 cup garlic powder', '1/4 cup ground black pepper', '2 tablespoons onion powder', '2 tablespoons dried oregano', '2 tablespoons dried thyme', '4 ( 6 ounce) pieces of salmon', '6 tablespoons Cajun spice mix', '1 tablespoon peanut oil or vegetable oil', '1 pint blueberries, juiced', '1 orange, zested and juiced', '1 lemon, zested and juiced', '1 large shallot, diced', '1 cup olive oil', 'Salt and fresh ground pepper, to taste', '1 pound Blue Peruvian potatoes, peeled and diced', '1 medium onion, diced', '2 jalapenos, seeded and diced', '1 red pepper, seeded and diced', '2 tablespoons fresh thyme, picked', '1 tablespoon garlic, chopped', '1 1/2 cups peanut or vegetable oil', 'Salt, to taste', 'Fresh ground pepper to taste', 'For the Cajun spice mix, combine ingredients and store in a jar until ready to use.', 'For the salmon, heat a nonstick skillet to almost smoking. Coat 2 sides of salmon in spice mix. Add oil to skillet and place salmon, on a spiced side down in skillet, turn salmon to the other side when spices start to blacken. If you like well done, transfer skillet to a 375 degree preheated oven for 3 minutes.', 'For the blueberry vinaigrette, In a small pan reduce the juices of the blueberries and orange by half. Let cool, add lemon juice and shallots, 1/2 teaspoon each, chopped zest of orange and lemon. Stir in olive oil and season with salt and pepper to taste. Bring vinaigrette to room temperature before using.;', 'For the potatoes, put diced potatoes on a dish or in a bowl and cover with plastic wrap. Place in microwave on and cook on full power for 4 minutes. Take out and stir, then put it back in for another 2 to 4 minutes until potatoes are tender. Heat oil in skillet to 350 degrees and fry off potatoes until crisp, about 11/2 minutes. Drain and reserve oil and put the potatoes aside. Put skillet back on stove top and add 3 tablespoons of reserved oil, add onions and saute until they start to turn golden. Then add jalapenos, red peppers, thyme and garlic. Saute 2 minutes, then add potatoes back to skillet. Cook 3 to 4 minutes more, tossing to combine ingredients. Salt and pepper to taste and keep warm in oven.;', '------']\n"
     ]
    }
   ],
   "source": [
    "print(data[1])"
   ]
  },
  {
   "cell_type": "code",
   "execution_count": 13,
   "metadata": {},
   "outputs": [
    {
     "name": "stdout",
     "output_type": "stream",
     "text": [
      "122930\n"
     ]
    }
   ],
   "source": [
    "\n",
    "import parse_recipe as RecipeParser\n",
    "importlib.reload(RecipeParser)\n",
    "\n",
    "recipes = [RecipeParser.parse_recipe(x) for x in data]\n",
    "print(len(recipes))"
   ]
  },
  {
   "cell_type": "code",
   "execution_count": 15,
   "metadata": {},
   "outputs": [
    {
     "name": "stdout",
     "output_type": "stream",
     "text": [
      "['Salt and fresh ground pepper, to taste 1 pound Blue Peruvian potatoes, peeled and diced 1 medium onion, diced 2 jalapenos, seeded and diced 1 red pepper, seeded and diced 2 tablespoons fresh thyme, picked 1 tablespoon garlic, chopped 1 1/2 cups peanut or vegetable oil Salt, to taste Fresh ground pepper to taste For the Cajun spice mix, combine ingredients and store in a jar until ready to use. For the salmon, heat a nonstick skillet to almost smoking. Coat 2 sides of salmon in spice mix. Add oil to skillet and place salmon, on a spiced side down in skillet, turn salmon to the other side when spices start to blacken. If you like well done, transfer skillet to a 375 degree preheated oven for 3 minutes. For the blueberry vinaigrette, In a small pan reduce the juices of the blueberries and orange by half. Let cool, add lemon juice and shallots, 1/2 teaspoon each, chopped zest of orange and lemon. Stir in olive oil and season with salt and pepper to taste. Bring vinaigrette to room temperature before using.; For the potatoes, put diced potatoes on a dish or in a bowl and cover with plastic wrap. Place in microwave on and cook on full power for 4 minutes. Take out and stir, then put it back in for another 2 to 4 minutes until potatoes are tender. Heat oil in skillet to 350 degrees and fry off potatoes until crisp, about 11/2 minutes. Drain and reserve oil and put the potatoes aside. Put skillet back on stove top and add 3 tablespoons of reserved oil, add onions and saute until they start to turn golden. Then add jalapenos, red peppers, thyme and garlic. Saute 2 minutes, then add potatoes back to skillet. Cook 3 to 4 minutes more, tossing to combine ingredients. Salt and pepper to taste and keep warm in oven.; ------']\n"
     ]
    }
   ],
   "source": [
    "print(recipes[1].directions)"
   ]
  },
  {
   "cell_type": "code",
   "execution_count": 16,
   "metadata": {},
   "outputs": [
    {
     "name": "stdout",
     "output_type": "stream",
     "text": [
      "122930\n"
     ]
    }
   ],
   "source": [
    "TITLE_STOP_WORD = '🆃🅸🆃🅻🅴\\n'\n",
    "INGREDIENTS_STOP_WORD = '🅸🅽🅶🆁🅴🅳🅸🅴🅽🆃🆂\\n'\n",
    "INSTRUCTIONS_STOP_WORD = '🅸🅽🆂🆃🆁🆄🅲🆃🅸🅾🅽🆂\\n'\n",
    "\n",
    "\n",
    "def recipe_to_string(recipe: RecipeParser.Recipe):\n",
    "    # This string is presented as a part of recipes so we need to clean it up.\n",
    "\n",
    "    title = recipe.title\n",
    "    ingredients = recipe.ingredients\n",
    "    instructions = recipe.directions\n",
    "\n",
    "    ingredients_string = ''\n",
    "    for ingredient in ingredients:\n",
    "        if ingredient:\n",
    "            ingredients_string += f'• {ingredient}\\n'\n",
    "\n",
    "    instructions_string = ''\n",
    "    for instruction in instructions:\n",
    "        if instruction:\n",
    "            instructions_string += f'▪︎ {instruction}\\n'\n",
    "\n",
    "    return f'{TITLE_STOP_WORD}{title}\\n\\n{INGREDIENTS_STOP_WORD}{ingredients_string}\\n{INSTRUCTIONS_STOP_WORD}{instructions_string}'\n",
    "\n",
    "\n",
    "string_recipes = [recipe_to_string(recipe) for recipe in recipes]\n",
    "print(len(string_recipes))\n"
   ]
  },
  {
   "cell_type": "code",
   "execution_count": 24,
   "metadata": {},
   "outputs": [
    {
     "name": "stdout",
     "output_type": "stream",
     "text": [
      "425\n"
     ]
    }
   ],
   "source": [
    "print(len(string_recipes[1].split(\" \")))\n"
   ]
  },
  {
   "cell_type": "code",
   "execution_count": 25,
   "metadata": {},
   "outputs": [
    {
     "name": "stdout",
     "output_type": "stream",
     "text": [
      "91545\n"
     ]
    }
   ],
   "source": [
    "MAX_WORD_LENGTH = 300\n",
    "\n",
    "\n",
    "def filter_recipes_by_length(recipe_test):\n",
    "    return len((recipe_test.split(\" \"))) <= MAX_WORD_LENGTH\n",
    "\n",
    "\n",
    "max_len_recipes = [\n",
    "    recipe_text for recipe_text in string_recipes if filter_recipes_by_length(recipe_text)]\n",
    "print(len(max_len_recipes))\n"
   ]
  },
  {
   "cell_type": "code",
   "execution_count": 26,
   "metadata": {},
   "outputs": [
    {
     "name": "stderr",
     "output_type": "stream",
     "text": [
      "[nltk_data] Downloading package punkt to\n",
      "[nltk_data]     /Users/isonlaxman/nltk_data...\n",
      "[nltk_data]   Package punkt is already up-to-date!\n"
     ]
    }
   ],
   "source": [
    "import nltk\n",
    "nltk.download('punkt')\n",
    "for i in range(len(max_len_recipes)):\n",
    "    sentence = max_len_recipes[i]\n",
    "    tokens = nltk.word_tokenize(sentence)\n",
    "    nltk_data = \" \".join(tokens)\n",
    "    max_len_recipes[i] = nltk_data\n"
   ]
  },
  {
   "cell_type": "code",
   "execution_count": 27,
   "metadata": {},
   "outputs": [],
   "source": [
    "STOP_SIGN = '<STOP>'\n",
    "tokenizer = tf.keras.preprocessing.text.Tokenizer(\n",
    "    filters='\\n.*',\n",
    "    lower=True,\n",
    "    split=' ',\n",
    "    oov_token=\"<OOV>\",\n",
    "    char_level=False\n",
    ")\n",
    "\n",
    "# Stop word is not a part of recipes, but tokenizer must know about it as well.\n",
    "tokenizer.fit_on_texts([STOP_SIGN])\n",
    "tokenizer.fit_on_texts(max_len_recipes)\n",
    "# tokenizer.get_config()\n"
   ]
  },
  {
   "cell_type": "code",
   "execution_count": 28,
   "metadata": {},
   "outputs": [
    {
     "name": "stdout",
     "output_type": "stream",
     "text": [
      "53573\n"
     ]
    }
   ],
   "source": [
    "VOCABULARY_SIZE = len(tokenizer.word_counts) + 1\n",
    "print(VOCABULARY_SIZE)\n"
   ]
  },
  {
   "cell_type": "code",
   "execution_count": 36,
   "metadata": {},
   "outputs": [
    {
     "name": "stdout",
     "output_type": "stream",
     "text": [
      "🆃🅸🆃🅻🅴 Peas and Pancetta 🅸🅽🅶🆁🅴🅳🅸🅴🅽🆃🆂 • 1/4 pou d ancetta , diced ( 1 cup ) • 1 shall t , sliced • 1 teasp on minced garlic 🅸🅽🆂🆃🆁🆄🅲🆃🅸🅾🅽🆂 ▪︎ Grated zest and juice of 1 orange 3 cups shelled fresh peas ( about 1 pound ) 1/4 cup chopped fresh parsley 1 tablespoon unsalted butter Kosher salt Cook the pancetta in a large skillet over medium-low heat until crispy , about 5 minutes . Add the shallot and garlic , cook 1 minute and then add the orange juice . Increase the heat to medium , add the peas and cook until tender , about 3 minutes . Remove the pan from the heat and fold in the orange zest , parsley and butter . Taste for seasoning and add salt if necessary , though you should n't need much , if any , because the pancetta adds a natural saltiness to the dish . Photograph by Yunhee Kim -- -- --\n"
     ]
    }
   ],
   "source": [
    "# data_vectorized = tokenizer.texts_to_sequences(max_len_recipes)\n",
    "# print(re.sub(' (?! )', '' , as_string))\n",
    "print(max_len_recipes[1])\n"
   ]
  },
  {
   "cell_type": "code",
   "execution_count": 35,
   "metadata": {},
   "outputs": [],
   "source": [
    "data_vectorized = tokenizer.texts_to_sequences(max_len_recipes)\n",
    "# print(' '.join(tokenizer.sequences_to_texts(data_vectorized)))"
   ]
  },
  {
   "cell_type": "code",
   "execution_count": 37,
   "metadata": {},
   "outputs": [],
   "source": [
    "\n",
    "data_padded = tf.keras.preprocessing.sequence.pad_sequences(\n",
    "    data_vectorized,\n",
    "    padding='post',\n",
    "    truncating='post',\n",
    "    maxlen=MAX_WORD_LENGTH - 1,\n",
    "    value=tokenizer.texts_to_sequences([STOP_SIGN])[0]\n",
    ")\n",
    "\n",
    "data_padded = tf.keras.preprocessing.sequence.pad_sequences(\n",
    "    data_padded,\n",
    "    padding='post',\n",
    "    truncating='post',\n",
    "    maxlen=MAX_WORD_LENGTH + 1,\n",
    "    value=tokenizer.texts_to_sequences([STOP_SIGN])[0]\n",
    ")\n"
   ]
  },
  {
   "cell_type": "code",
   "execution_count": 41,
   "metadata": {},
   "outputs": [
    {
     "name": "stdout",
     "output_type": "stream",
     "text": [
      "['🆃🅸🆃🅻🅴 roasted sarandeado-style whole snapper 🅸🅽🅶🆁🅴🅳🅸🅴🅽🆃🆂 • 8 table po ns ( 1 stick ) cold unsalted but • 1 1/2 t 2 pounds whole thai snapper , cle • ter , cu ed divided • aned , h ad and tail intact 🅸🅽🆂🆃🆁🆄🅲🆃🅸🅾🅽🆂 ▪︎ salt and freshly ground black pepper 1 tablespoon garlic powder 1 tablespoon tomato bouillon 1 teaspoon bottled hot sauce ( recommended : huichol ) 2 limes , halved , plus additional for serving 1 orange 6 ( 6-inch ) corn tortillas preheat the oven to 350 degrees f line a large baking sheet with foil and dot with 2 tablespoons butter butterfly the fish by cutting almost in half horizontally and opening like a book carefully cut and remove the spine place the fish , skin-side down , on the foil roll up the edges of the foil to come close to the edge of the fish to prevent the juices from spilling onto the baking sheet sprinkle the fish with salt and pepper sprinkle the fish with the garlic powder and then with the tomato bouillon drizzle the fish with the hot sauce and then squeeze the limes over cut and squeeze the orange juice all over the fish then , using the flesh side of the orange , brush the fish all over to form a wet paste on top of the fish dot the fish with the remaining butter bake the fish until just cooked through , about 15 minutes turn on the broiler and broil until browned , 8 to 10 minutes serve with warm tortillas to make tacos and lime wedges for squeezing over the fish -- -- -- <stop> <stop> <stop> <stop> <stop> <stop> <stop> <stop> <stop> <stop> <stop> <stop> <stop> <stop> <stop> <stop> <stop> <stop> <stop> <stop> <stop> <stop>']\n"
     ]
    }
   ],
   "source": [
    "# print(data_padded[2])\n",
    "print(tokenizer.sequences_to_texts([data_padded[2]]))\n"
   ]
  },
  {
   "cell_type": "code",
   "execution_count": 44,
   "metadata": {},
   "outputs": [],
   "source": [
    "# os.makedirs('./saved_data')\n",
    "with open('./saved_data/tokenizer.pickle', 'wb+') as handle:\n",
    "    pickle.dump(tokenizer, handle, protocol=pickle.HIGHEST_PROTOCOL)\n",
    "\n",
    "with open('./saved_data/data_padded.pickle', 'wb+') as handle:\n",
    "    pickle.dump(data_padded, handle, protocol=pickle.HIGHEST_PROTOCOL)"
   ]
  },
  {
   "cell_type": "code",
   "execution_count": null,
   "metadata": {},
   "outputs": [],
   "source": []
  }
 ],
 "metadata": {
  "interpreter": {
   "hash": "ea1868dd16f57f5cf4d44af6d351875ff141e76bf25b2cc7dfa86cdea4eea2d6"
  },
  "kernelspec": {
   "display_name": "Python 3.9.7 64-bit ('base': conda)",
   "language": "python",
   "name": "python3"
  },
  "language_info": {
   "codemirror_mode": {
    "name": "ipython",
    "version": 3
   },
   "file_extension": ".py",
   "mimetype": "text/x-python",
   "name": "python",
   "nbconvert_exporter": "python",
   "pygments_lexer": "ipython3",
   "version": "3.9.7"
  },
  "orig_nbformat": 4
 },
 "nbformat": 4,
 "nbformat_minor": 2
}
