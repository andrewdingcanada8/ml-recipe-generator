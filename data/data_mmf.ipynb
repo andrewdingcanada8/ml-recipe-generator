{
 "cells": [
  {
   "cell_type": "code",
   "execution_count": 1,
   "metadata": {},
   "outputs": [],
   "source": [
    "import json\n",
    "import os\n",
    "import pathlib\n",
    "import pickle\n",
    "import tensorflow as tf\n",
    "import re\n",
    "import importlib\n",
    "import zipfile\n",
    "from tabulate import tabulate as Tabulate"
   ]
  },
  {
   "cell_type": "code",
   "execution_count": 6,
   "metadata": {},
   "outputs": [
    {
     "name": "stdout",
     "output_type": "stream",
     "text": [
      "122930\n"
     ]
    }
   ],
   "source": [
    "database_dir = 'database_raw'\n",
    "\n",
    "\n",
    "def get_recipe_parse_ready(recipe, f):\n",
    "    return ((f + recipe).strip()).split(\"\\n\")\n",
    "\n",
    "\n",
    "# function to read file and parse\n",
    "def read_raw_file(filename: str):\n",
    "    with open(f'./{database_dir}/{filename}', 'r') as file:\n",
    "        file_read = file.read().strip()\n",
    "\n",
    "        # get the separator\n",
    "        current_f = file_read.split(\"\\n\")[0]\n",
    "        split = file_read.split(current_f)[1:]\n",
    "\n",
    "        return [(get_recipe_parse_ready(recipe, current_f)) for recipe in split]\n",
    "\n",
    "\n",
    "files = (os.listdir(f'./{database_dir}/'))\n",
    "data = []\n",
    "\n",
    "for filename in files:\n",
    "    parsed_file = read_raw_file(filename)\n",
    "    data.extend(parsed_file)\n",
    "\n",
    "print(len(data))\n"
   ]
  },
  {
   "cell_type": "code",
   "execution_count": 7,
   "metadata": {},
   "outputs": [
    {
     "name": "stdout",
     "output_type": "stream",
     "text": [
      "122930\n"
     ]
    }
   ],
   "source": [
    "\n",
    "import parse_recipe as RecipeParser\n",
    "importlib.reload(RecipeParser)\n",
    "\n",
    "recipes = [RecipeParser.parse_recipe(x) for x in data]\n",
    "print(len(recipes))"
   ]
  },
  {
   "cell_type": "code",
   "execution_count": 8,
   "metadata": {},
   "outputs": [
    {
     "name": "stdout",
     "output_type": "stream",
     "text": [
      "122930\n"
     ]
    }
   ],
   "source": [
    "TITLE_STOP_WORD = '🆃🅸🆃🅻🅴\\n'\n",
    "INGREDIENTS_STOP_WORD = '🅸🅽🅶🆁🅴🅳🅸🅴🅽🆃🆂\\n'\n",
    "INSTRUCTIONS_STOP_WORD = '🅸🅽🆂🆃🆁🆄🅲🆃🅸🅾🅽🆂\\n'\n",
    "\n",
    "\n",
    "def recipe_to_string(recipe: RecipeParser.Recipe):\n",
    "    # This string is presented as a part of recipes so we need to clean it up.\n",
    "\n",
    "    title = recipe.title\n",
    "    ingredients = recipe.ingredients\n",
    "    instructions = recipe.directions\n",
    "\n",
    "    ingredients_string = ''\n",
    "    for ingredient in ingredients:\n",
    "        if ingredient:\n",
    "            ingredients_string += f'• {ingredient}\\n'\n",
    "\n",
    "    instructions_string = ''\n",
    "    for instruction in instructions:\n",
    "        if instruction:\n",
    "            instructions_string += f'▪︎ {instruction}\\n'\n",
    "\n",
    "    return f'{TITLE_STOP_WORD}{title}\\n\\n{INGREDIENTS_STOP_WORD}{ingredients_string}\\n{INSTRUCTIONS_STOP_WORD}{instructions_string}'\n",
    "\n",
    "\n",
    "string_recipes = [recipe_to_string(recipe) for recipe in recipes]\n",
    "print(len(string_recipes))\n"
   ]
  },
  {
   "cell_type": "code",
   "execution_count": 9,
   "metadata": {},
   "outputs": [
    {
     "name": "stdout",
     "output_type": "stream",
     "text": [
      "99856\n"
     ]
    }
   ],
   "source": [
    "MAX_RECIPE_LENGTH = 2000\n",
    "\n",
    "def filter_recipes_by_length(recipe_test):\n",
    "    return len(recipe_test) <= MAX_RECIPE_LENGTH\n",
    "\n",
    "\n",
    "max_len_recipes = [recipe_text for recipe_text in string_recipes if filter_recipes_by_length(recipe_text)]\n",
    "print(len(max_len_recipes))"
   ]
  }
 ],
 "metadata": {
  "interpreter": {
   "hash": "ea1868dd16f57f5cf4d44af6d351875ff141e76bf25b2cc7dfa86cdea4eea2d6"
  },
  "kernelspec": {
   "display_name": "Python 3.9.7 64-bit ('base': conda)",
   "language": "python",
   "name": "python3"
  },
  "language_info": {
   "codemirror_mode": {
    "name": "ipython",
    "version": 3
   },
   "file_extension": ".py",
   "mimetype": "text/x-python",
   "name": "python",
   "nbconvert_exporter": "python",
   "pygments_lexer": "ipython3",
   "version": "3.9.7"
  },
  "orig_nbformat": 4
 },
 "nbformat": 4,
 "nbformat_minor": 2
}
